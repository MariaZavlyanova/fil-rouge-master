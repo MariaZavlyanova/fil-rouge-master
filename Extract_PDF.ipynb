{
 "cells": [
  {
   "cell_type": "code",
   "execution_count": 1,
   "id": "4b165279-5436-427f-b17a-39910d0385ff",
   "metadata": {},
   "outputs": [
    {
     "name": "stdout",
     "output_type": "stream",
     "text": [
      "Categories: ['cs.CL', 'cs.AI', 'cs.LG']\n",
      "PDF: http://arxiv.org/pdf/2202.01764v1\n",
      "Categories: ['cs.LG', 'cs.AI', 'cs.GT', 'stat.ML']\n",
      "PDF: http://arxiv.org/pdf/2202.01752v1\n",
      "Categories: ['cs.LG', 'cs.AI', 'cs.RO']\n",
      "PDF: http://arxiv.org/pdf/2202.01741v1\n",
      "Categories: ['cs.LG', 'cs.AI']\n",
      "PDF: http://arxiv.org/pdf/2202.01677v1\n",
      "Categories: ['cs.LG', 'cs.AI', 'math.OC', 'stat.ML']\n",
      "PDF: http://arxiv.org/pdf/2202.01666v1\n",
      "Categories: ['cs.CY', 'cs.AI', 'cs.LG', 'econ.TH', 'stat.ML']\n",
      "PDF: http://arxiv.org/pdf/2202.01661v1\n",
      "Categories: ['cs.GT', 'cs.AI']\n",
      "PDF: http://arxiv.org/pdf/2202.01660v1\n",
      "Categories: ['cs.AI', 'cs.SE', 'I.2.6']\n",
      "PDF: http://arxiv.org/pdf/2202.01651v1\n",
      "Categories: ['cs.AI', 'cs.HC']\n",
      "PDF: http://arxiv.org/pdf/2202.01645v1\n",
      "Categories: ['cs.LG', 'cond-mat.dis-nn', 'cs.AI', 'math.OC', 'quant-ph']\n",
      "PDF: http://arxiv.org/pdf/2202.01606v1\n"
     ]
    }
   ],
   "source": [
    "# Extract the PDF files\n",
    "import arxiv\n",
    "\n",
    "search = arxiv.Search(\n",
    "    # Seulement les sujets IA\n",
    "    query = \"cat:cs.AI\",\n",
    "    max_results = 10,\n",
    "    sort_by = arxiv.SortCriterion.SubmittedDate\n",
    ")\n",
    " \n",
    "for result in search.results():\n",
    "    print(\"Categories:\", result.categories)\n",
    "    print(\"PDF:\", result.pdf_url)"
   ]
  },
  {
   "cell_type": "code",
   "execution_count": null,
   "id": "ecaddd13-7661-49a5-9933-9f6a43b8f7b2",
   "metadata": {},
   "outputs": [],
   "source": []
  },
  {
   "cell_type": "code",
   "execution_count": null,
   "id": "67ee9a0f",
   "metadata": {},
   "outputs": [],
   "source": [
    "# 1605.08386v1"
   ]
  }
 ],
 "metadata": {
  "interpreter": {
   "hash": "f21731382a87e7217c69335d4612f3e19df9b758c98057a2e59c665d7481a489"
  },
  "kernelspec": {
   "display_name": "Python 3.8.12 64-bit ('filerougevenv': venv)",
   "language": "python",
   "name": "python3"
  },
  "language_info": {
   "codemirror_mode": {
    "name": "ipython",
    "version": 3
   },
   "file_extension": ".py",
   "mimetype": "text/x-python",
   "name": "python",
   "nbconvert_exporter": "python",
   "pygments_lexer": "ipython3",
   "version": "3.8.12"
  }
 },
 "nbformat": 4,
 "nbformat_minor": 5
}

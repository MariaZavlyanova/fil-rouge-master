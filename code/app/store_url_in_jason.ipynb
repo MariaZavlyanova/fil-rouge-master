{
 "cells": [
  {
   "cell_type": "code",
   "execution_count": null,
   "metadata": {},
   "outputs": [
    {
     "ename": "",
     "evalue": "",
     "output_type": "error",
     "traceback": [
      "\u001b[1;31mFailed to start the Kernel. \n",
      "Failed to start the Kernel '.venv (Python 3.8.10)'. \n",
      "View Jupyter <a href='command:jupyter.viewOutput'>log</a> for further details. Kernel has not been started"
     ]
    }
   ],
   "source": [
    "import arxiv\n",
    "from utilities import extract_authors_arxiv_list, extract_published_date, extract_list_categories\n",
    "from utilities import write_json\n",
    "\n",
    "pdf_id = '2201.11632v1'\n",
    "search = arxiv.Search(id_list=[pdf_id])\n",
    "result = next(search.results())\n",
    "\n",
    "pdf_metadata = {\n",
    "        \"id\" : pdf_id,\n",
    "        \"authors\" : extract_authors_arxiv_list(result.authors),\n",
    "        \"date\" : str(extract_published_date(result.published)),\n",
    "        \"title\" : result.title,\n",
    "        \"categories\" : extract_list_categories(result.categories),\n",
    "        \"journal\" : result.journal_ref,\n",
    "        \"doi\" : result.doi,\n",
    "        \"url\" : result.pdf_url,\n",
    "        \"references\" :[]\n",
    "}\n",
    "\n",
    "pdf_metadata\n",
    "write_json(pdf_metadata)"
   ]
  },
  {
   "cell_type": "code",
   "execution_count": null,
   "metadata": {},
   "outputs": [],
   "source": []
  }
 ],
 "metadata": {
  "interpreter": {
   "hash": "7c57e1d0951c9c1eba57ce93cd9e614fbe9eb94852f3e2e320fbb23d0aae9593"
  },
  "kernelspec": {
   "display_name": "Python 3.8.10 ('.venv': venv)",
   "language": "python",
   "name": "python3"
  },
  "language_info": {
   "codemirror_mode": {
    "name": "ipython",
    "version": 3
   },
   "file_extension": ".py",
   "mimetype": "text/x-python",
   "name": "python",
   "nbconvert_exporter": "python",
   "pygments_lexer": "ipython3",
   "version": "3.8.10"
  },
  "orig_nbformat": 4
 },
 "nbformat": 4,
 "nbformat_minor": 2
}

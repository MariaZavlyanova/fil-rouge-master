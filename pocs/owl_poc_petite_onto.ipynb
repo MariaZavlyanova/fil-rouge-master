{
 "cells": [
  {
   "cell_type": "markdown",
   "metadata": {},
   "source": [
    "Create Ontology"
   ]
  },
  {
   "cell_type": "code",
   "execution_count": 1,
   "metadata": {},
   "outputs": [
    {
     "name": "stderr",
     "output_type": "stream",
     "text": [
      "* Owlready2 * Warning: optimized Cython parser module 'owlready2_optimized' is not available, defaulting to slower Python implementation\n"
     ]
    }
   ],
   "source": [
    "from owlready2 import *"
   ]
  },
  {
   "cell_type": "code",
   "execution_count": 2,
   "metadata": {},
   "outputs": [],
   "source": [
    "from  common.cleaner import clean_char\n",
    "\n",
    "def _escape_value(text: str) -> str:\n",
    "    \"\"\"Escape the illegal characters for an ontology property\"\"\"\n",
    "    if text is None:\n",
    "        return None\n",
    "    # function to escape XML character data\n",
    "    text = escape(text)\n",
    "    text = text.replace('\\n', '')\n",
    "    text = text.replace('\\r', '')\n",
    "    text = text.replace('\\f', '')\n",
    "    text = text.replace('\\b', '')\n",
    "    text = text.replace('\"', '')\n",
    "    text = text.replace('[', '')\n",
    "    text = text.replace(']', '')\n",
    "    text = text.replace('{', '')\n",
    "    text = text.replace('}', '')\n",
    "    text = text.replace('#', '')\n",
    "    text = text.replace('|', '')\n",
    "    text = clean_char(text)\n",
    "    return text\n",
    "\n",
    "def _escape_iri(text: str) -> str:\n",
    "    \"\"\"For IRI, we replace space character by _\"\"\"\n",
    "    if text is None:\n",
    "        return None\n",
    "    text = _escape_value(text)\n",
    "    text = text.replace(' ', '_')\n",
    "    text = text.replace('.', '_')\n",
    "    return text\n"
   ]
  },
  {
   "cell_type": "code",
   "execution_count": 3,
   "metadata": {},
   "outputs": [],
   "source": [
    "onto = get_ontology(\"http://test_fil_rouge.org/onto.owl\")"
   ]
  },
  {
   "cell_type": "code",
   "execution_count": 4,
   "metadata": {},
   "outputs": [],
   "source": [
    "# Create classes\n",
    "\n",
    "with onto :\n",
    "    class Author(Thing):\n",
    "        pass\n",
    "    class ConnectedAuthor(Author):\n",
    "        pass\n",
    "\n",
    "    class Article(Thing):\n",
    "        # name of an article is the pdf_id in arxiv\n",
    "        pass\n",
    "    class InterestingAuthor(ConnectedAuthor):\n",
    "        pass\n"
   ]
  },
  {
   "cell_type": "code",
   "execution_count": 5,
   "metadata": {},
   "outputs": [],
   "source": [
    "# Data property\n",
    "\n",
    "with onto :\n",
    "    class has_number_citations(DataProperty):\n",
    "        range = [int]"
   ]
  },
  {
   "cell_type": "code",
   "execution_count": 6,
   "metadata": {},
   "outputs": [],
   "source": [
    "# Create new properties to create relations\n",
    "with onto:\n",
    "    class wrote_Article(Author >> Article):\n",
    "        pass\n",
    "\n",
    "    class quoted_Auteur(ObjectProperty):\n",
    "        domain = [Author]\n",
    "        range = [ConnectedAuthor, Author]\n",
    "\n",
    "    class quoted_by(ConnectedAuthor >> Author):\n",
    "        inverse_property = quoted_Auteur\n",
    "\n",
    "    class wrote_by(Article >> Author):\n",
    "        inverse_property = wrote_Article\n",
    "\n",
    "    class quoted_in(ObjectProperty):\n",
    "        domain = [ConnectedAuthor, Author]\n",
    "        range = [Article]\n",
    "\n",
    "        \n",
    "    "
   ]
  },
  {
   "cell_type": "markdown",
   "metadata": {},
   "source": [
    "Créer les instances"
   ]
  },
  {
   "cell_type": "code",
   "execution_count": 7,
   "metadata": {},
   "outputs": [],
   "source": [
    "# Créer les auteurs et les articles d'abord\n",
    "for i in range(20):\n",
    "\n",
    "    Article(\"Article{}\".format(i))\n",
    "\n",
    "\n",
    "Bob = Author(\"Bob\")\n",
    "Bob.wrote_Article=[onto.Article.instances()[0]]\n",
    "Arthur = Author(\"Arthur\")\n",
    "Arthur.wrote_Article=[onto.Article.instances()[0]]\n",
    "David = Author(\"David\")\n",
    "David.wrote_Article=[onto.Article.instances()[1]]\n",
    "Nassim = Author(\"Nassim\")\n",
    "Nassim.wrote_Article=[onto.Article.instances()[2]]\n",
    "Safia = Author(\"Safia\")\n",
    "Safia.wrote_Article=[onto.Article.instances()[3]]\n",
    "\n"
   ]
  },
  {
   "cell_type": "code",
   "execution_count": 8,
   "metadata": {},
   "outputs": [],
   "source": [
    "# References\n",
    "\n",
    "Cécile = ConnectedAuthor('Cécile')\n",
    "Cécile.quoted_in.append(Article.instances()[3])\n",
    "Cécile.quoted_in.append(Article.instances()[0])\n",
    "Nathalie= ConnectedAuthor('Nathalie')\n",
    "for i in range(7):\n",
    "\n",
    "    Nathalie.quoted_in.append(Article.instances()[i])\n",
    "Julie =  ConnectedAuthor('Julie')\n",
    "for i in range(3,6):\n",
    "\n",
    "    Julie.quoted_in.append(Article.instances()[i])\n"
   ]
  },
  {
   "cell_type": "code",
   "execution_count": 9,
   "metadata": {},
   "outputs": [
    {
     "name": "stderr",
     "output_type": "stream",
     "text": [
      "* Owlready2 * Running HermiT...\n",
      "    java -Xmx2000M -cp c:\\Users\\Maria\\Documents\\00-projets\\fil-rouge-master\\fil-rouge-master\\.venv\\lib\\site-packages\\owlready2\\hermit;c:\\Users\\Maria\\Documents\\00-projets\\fil-rouge-master\\fil-rouge-master\\.venv\\lib\\site-packages\\owlready2\\hermit\\HermiT.jar org.semanticweb.HermiT.cli.CommandLine -c -O -D -I file:///C:/Users/Maria/AppData/Local/Temp/tmpld529nxk\n",
      "* Owlready2 * HermiT took 0.9635756015777588 seconds\n",
      "* Owlready * (NB: only changes on entities loaded in Python are shown, other changes are done but not listed)\n"
     ]
    }
   ],
   "source": [
    "sync_reasoner()"
   ]
  },
  {
   "cell_type": "code",
   "execution_count": 10,
   "metadata": {},
   "outputs": [],
   "source": [
    "onto.save(file = \"test_fil_rouge.owl\")"
   ]
  },
  {
   "cell_type": "markdown",
   "metadata": {},
   "source": [
    "Créer les règles"
   ]
  },
  {
   "cell_type": "code",
   "execution_count": 11,
   "metadata": {},
   "outputs": [],
   "source": [
    "# Première règle : si un auteur a écrit un article et qu’un auteur cité est cité dans cet article, alors l’auteur cite l’auteur cité\n",
    "with onto :\n",
    "    rule = Imp()\n",
    "    rule.set_as_rule(\"\"\"wrote_Article(?r,?a), quoted_in(?c, ?r) -> quoted_Auteur(?a, ?c) \"\"\")"
   ]
  },
  {
   "cell_type": "code",
   "execution_count": 12,
   "metadata": {},
   "outputs": [],
   "source": [
    "# Calcul nombre d'auteurs qui cites\n",
    "\n",
    "for MonAuteur in Author.instances():\n",
    "    nombre_de_citations = 0\n",
    "\n",
    "    for citation in MonAuteur.quoted_in:\n",
    "\n",
    "        nombre_de_citations +=1\n",
    "\n",
    "    MonAuteur.has_number_citations=[nombre_de_citations]\n"
   ]
  },
  {
   "cell_type": "code",
   "execution_count": 13,
   "metadata": {},
   "outputs": [],
   "source": [
    "# Calcul nombre d'auteurs qui cites\n",
    "\n",
    "for Connected in ConnectedAuthor.instances():\n",
    "    nombre_de_citations = 0\n",
    "\n",
    "    for citation in Connected.quoted_in:\n",
    "\n",
    "        nombre_de_citations +=1\n",
    "\n",
    "    Connected.has_number_citations=[nombre_de_citations]\n",
    "\n",
    "\n",
    "        \n",
    "    "
   ]
  },
  {
   "cell_type": "code",
   "execution_count": 14,
   "metadata": {},
   "outputs": [],
   "source": [
    "# un auteur qui a une relation quoted_in est un ConnectedAuthor\n",
    "\n",
    "with onto :\n",
    "    rule = Imp()\n",
    "    rule.set_as_rule(\"\"\"Author(?a) , quoted_in(?a, ?r) -> ConnectedAuthor(?a)\"\"\")"
   ]
  },
  {
   "cell_type": "code",
   "execution_count": 15,
   "metadata": {},
   "outputs": [],
   "source": [
    "# Règle 2 : Connected Author qui est cité plus de 50 fois \n",
    "# (comptage de relations quoted_in pour ConnectedAuthor) \n",
    "# est un InterestingAuthor\n",
    "with onto :\n",
    "    rule = Imp()\n",
    "    rule.set_as_rule(\"\"\"ConnectedAuthor(?c) , has_number_citations(?c, ?x) , greaterThan(?x, 5) -> InterestingAuthor(?c)\"\"\")\n",
    "\n"
   ]
  },
  {
   "cell_type": "code",
   "execution_count": 16,
   "metadata": {},
   "outputs": [],
   "source": [
    "onto.save(file = \"test_fil_rouge.owl\")"
   ]
  },
  {
   "cell_type": "markdown",
   "metadata": {},
   "source": [
    "Réinitialisation de l'ontologie"
   ]
  },
  {
   "cell_type": "code",
   "execution_count": 33,
   "metadata": {},
   "outputs": [],
   "source": [
    "# Case permet de réinitialiser les instances enregistrées\n",
    "for individual in Author.instances(): \n",
    "    destroy_entity(individual)\n",
    "\n",
    "for individual in ConnectedAuthor.instances(): \n",
    "    destroy_entity(individual)\n",
    "\n",
    "for individual in Article.instances(): \n",
    "    destroy_entity(individual)"
   ]
  },
  {
   "cell_type": "code",
   "execution_count": null,
   "metadata": {},
   "outputs": [],
   "source": []
  }
 ],
 "metadata": {
  "interpreter": {
   "hash": "b77770f66b54ee3b66e0336be670941170105acf4e3853567ca5709bd62588f7"
  },
  "kernelspec": {
   "display_name": "Python 3.10.4 ('.venv': venv)",
   "language": "python",
   "name": "python3"
  },
  "language_info": {
   "codemirror_mode": {
    "name": "ipython",
    "version": 3
   },
   "file_extension": ".py",
   "mimetype": "text/x-python",
   "name": "python",
   "nbconvert_exporter": "python",
   "pygments_lexer": "ipython3",
   "version": "3.10.4"
  },
  "orig_nbformat": 4
 },
 "nbformat": 4,
 "nbformat_minor": 2
}

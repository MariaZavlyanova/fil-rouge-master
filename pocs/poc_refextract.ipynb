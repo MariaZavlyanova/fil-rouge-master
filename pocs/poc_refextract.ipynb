{
 "cells": [
  {
   "cell_type": "code",
   "execution_count": null,
   "metadata": {},
   "outputs": [
    {
     "ename": "",
     "evalue": "",
     "output_type": "error",
     "traceback": [
      "\u001b[1;31mFailed to start the Kernel. \n",
      "Failed to start the Kernel '.venv (Python 3.8.10)'. \n",
      "View Jupyter <a href='command:jupyter.viewOutput'>log</a> for further details. Kernel has not been started"
     ]
    }
   ],
   "source": [
    "import re\n",
    "import json\n",
    "import pdftotext\n",
    "from refextract import extract_references_from_url\n",
    "import hashlib\n",
    "from pdf_process import cut_references, store_references, cut_references_clean\n",
    "from pdf_process import metadata_pdf"
   ]
  },
  {
   "cell_type": "code",
   "execution_count": null,
   "metadata": {},
   "outputs": [],
   "source": [
    "def extract_content(pdf_id):\n",
    "    path = \"papers/extraction/{}.pdf\".format(pdf_id)\n",
    "    with open(path, \"rb\") as file:\n",
    "        data = pdftotext.PDF(file)\n",
    "\n",
    "    pdf_content = \"\\n\".join(data)\n",
    "    return pdf_content\n",
    "\n",
    "def cut_references(pdf_url):\n",
    "    # Extract references from pdf_url\n",
    "    # using refextract library\n",
    "    references = extract_references_from_url(pdf_url)\n",
    "\n",
    "    # write references file \n",
    "    reffile = open(\"extracted_text/{}_raw.txt\".format(pdf_url.split(\"/\")[-1]), \"a+\")\n",
    "    for ref in references:\n",
    "        reffile.write(str(ref['raw_ref'])+'\\n')\n",
    "\n",
    "    reffile.close()\n",
    "\n",
    "def cut_references_clean(pdf_url):\n",
    "    # Cleant the repetitions\n",
    "    output_file_path = \"extracted_text/{}.txt\".format(pdf_url.split(\"/\")[-1])\n",
    "    input_file_path = \"extracted_text/{}_raw.txt\".format(pdf_url.split(\"/\")[-1])\n",
    "\n",
    "    completed_lines_hash = set()\n",
    "\n",
    "    output_file = open(output_file_path, \"w\")\n",
    "\n",
    "    for line in open(input_file_path, \"r\"):\n",
    "\n",
    "        hashValue = hashlib.md5(line.rstrip().encode('utf-8')).hexdigest()\n",
    "\n",
    "        if hashValue not in completed_lines_hash:\n",
    "            output_file.write(line)\n",
    "            completed_lines_hash.add(hashValue)\n",
    "\n",
    "    output_file.close()"
   ]
  },
  {
   "cell_type": "code",
   "execution_count": null,
   "metadata": {},
   "outputs": [],
   "source": [
    "def cut_references(pdf_url):\n",
    "    # Extract references from pdf_url\n",
    "    # using refextract library\n",
    "    references = extract_references_from_url(pdf_url)\n",
    "\n",
    "    # write references file \n",
    "    reffile = open(\"extracted_text/{}_raw.txt\".format(pdf_url.split(\"/\")[-1]), \"a+\")\n",
    "    for ref in references:\n",
    "        reffile.write(str(ref['raw_ref'])+'\\n')\n",
    "\n",
    "    reffile.close()"
   ]
  },
  {
   "cell_type": "code",
   "execution_count": null,
   "metadata": {},
   "outputs": [],
   "source": [
    "filename = 'fastapi/pdf_metadata.json'\n",
    "pdf_id =  \"2202.01752v1\"\n",
    "\n",
    "with open(filename,'r') as file:\n",
    "    file_data = json.load(file)\n",
    "    # Extract all the pdf dictionnaries\n",
    "    papers = file_data['Papers']\n",
    "\n",
    "    # find the pdf that we want\n",
    "    pdf = metadata_pdf(pdf_id)\n",
    "\n",
    "    url_pdf = pdf[\"url\"]\n",
    "\n",
    "\n",
    "    # Extract References from the pdf and store them in text file\n",
    "    cut_references(url_pdf)\n",
    "    cut_references_clean(url_pdf)\n",
    "    print(\"PDF {}.pdf has been processed\".format(pdf_id))\n",
    "    \n",
    "    references = []"
   ]
  },
  {
   "cell_type": "code",
   "execution_count": null,
   "metadata": {},
   "outputs": [],
   "source": [
    "def extract_authors_from_apa_ref(apa_ref:str)->list:\n",
    "    \"\"\"Extract the authors from an APA reference\n",
    "    Parameters:\n",
    "    authors_string (str) : the string which might contain authors\n",
    "    \n",
    "    Returns:\n",
    "    list: the list of authors as string elements\n",
    "    \"\"\"\n",
    "    authors = []\n",
    "    # Searching pattern 'T. (1995)' or ' T. (1995b)' like\n",
    "    pattern = re.compile(r\" [A-Z]\\.\\ \\([1-2][0-9][0-9][0-9][a-z]*\\)\")\n",
    "    # 3 = len(' T.'), which should be included in authors_string\n",
    "    # try:\n",
    "    end_authors_section_idx = re.search(pattern, apa_ref, flags=0).start() + 1\n",
    "    # except AttributeError: # AttributeError: 'NoneType' object has no attribute 'start'\n",
    "    #     # Searching pattern 'L. (Eds.). (1977)' like\n",
    "    #     pattern = re.compile(r\" [A-Z]\\.\\ \\(Eds\\.\\) \\([1-2][0-9][0-9][0-9][a-z]*\\)\")\n",
    "    #     end_authors_section_idx = re.search(pattern, apa_ref, flags=0).start() + 1\n",
    "    authors_string = apa_ref[0:end_authors_section_idx]\n",
    "    authors_string = authors_string.replace('& ', '')\n",
    "    authors_string = authors_string.replace('.,', '..,')\n",
    "    authors = authors_string.split('., ')\n",
    "    return authors"
   ]
  }
 ],
 "metadata": {
  "interpreter": {
   "hash": "7c57e1d0951c9c1eba57ce93cd9e614fbe9eb94852f3e2e320fbb23d0aae9593"
  },
  "kernelspec": {
   "display_name": "Python 3.8.10 ('.venv': venv)",
   "language": "python",
   "name": "python3"
  },
  "language_info": {
   "name": "python",
   "version": "3.8.10"
  },
  "orig_nbformat": 4
 },
 "nbformat": 4,
 "nbformat_minor": 2
}

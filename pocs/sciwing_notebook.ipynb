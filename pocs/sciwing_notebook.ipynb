{
  "cells": [
    {
      "cell_type": "code",
      "execution_count": 1,
      "metadata": {
        "id": "bPc4cVoMu__l"
      },
      "outputs": [],
      "source": [
        "!pip install -q torch==1.10.0 torchvision"
      ]
    },
    {
      "cell_type": "code",
      "execution_count": 2,
      "metadata": {
        "colab": {
          "base_uri": "https://localhost:8080/"
        },
        "id": "f1n678cJvpdD",
        "outputId": "5f863274-e712-45fe-cf65-c075a1800f94"
      },
      "outputs": [
        {
          "output_type": "stream",
          "name": "stdout",
          "text": [
            "1.10.0+cu111\n"
          ]
        }
      ],
      "source": [
        "import torch\n",
        "print(torch.__version__)"
      ]
    },
    {
      "cell_type": "code",
      "execution_count": 3,
      "metadata": {
        "colab": {
          "base_uri": "https://localhost:8080/",
          "height": 1000
        },
        "id": "tVEWqFQy9jBf",
        "outputId": "439129b2-13e7-41ea-e739-abb56b148daa"
      },
      "outputs": [
        {
          "output_type": "stream",
          "name": "stdout",
          "text": [
            "Collecting sciwing\n",
            "  Downloading sciwing-0.1.post9.tar.gz (108 kB)\n",
            "\u001b[K     |████████████████████████████████| 108 kB 4.1 MB/s \n",
            "\u001b[?25hCollecting streamlit\n",
            "  Downloading streamlit-1.7.0-py2.py3-none-any.whl (9.9 MB)\n",
            "\u001b[K     |████████████████████████████████| 9.9 MB 16.9 MB/s \n",
            "\u001b[?25hCollecting torch==1.5.0\n",
            "  Downloading torch-1.5.0-cp37-cp37m-manylinux1_x86_64.whl (752.0 MB)\n",
            "\u001b[K     |████████████████████████████████| 752.0 MB 8.1 kB/s \n",
            "\u001b[?25hCollecting colorful==0.5.1\n",
            "  Downloading colorful-0.5.1-py2.py3-none-any.whl (201 kB)\n",
            "\u001b[K     |████████████████████████████████| 201 kB 71.3 MB/s \n",
            "\u001b[?25hCollecting pytest==5.4.1\n",
            "  Downloading pytest-5.4.1-py3-none-any.whl (246 kB)\n",
            "\u001b[K     |████████████████████████████████| 246 kB 67.2 MB/s \n",
            "\u001b[?25hCollecting psutil==5.7.0\n",
            "  Downloading psutil-5.7.0.tar.gz (449 kB)\n",
            "\u001b[K     |████████████████████████████████| 449 kB 40.6 MB/s \n",
            "\u001b[?25hCollecting spacy==2.1.4\n",
            "  Downloading spacy-2.1.4-cp37-cp37m-manylinux1_x86_64.whl (29.8 MB)\n",
            "\u001b[K     |████████████████████████████████| 29.8 MB 1.3 MB/s \n",
            "\u001b[?25hCollecting boto3\n",
            "  Downloading boto3-1.21.18-py3-none-any.whl (132 kB)\n",
            "\u001b[K     |████████████████████████████████| 132 kB 33.8 MB/s \n",
            "\u001b[?25hRequirement already satisfied: pandas in /usr/local/lib/python3.7/dist-packages (from sciwing) (1.3.5)\n",
            "Collecting gensim==3.8.0\n",
            "  Downloading gensim-3.8.0-cp37-cp37m-manylinux1_x86_64.whl (24.2 MB)\n",
            "\u001b[K     |████████████████████████████████| 24.2 MB 1.6 MB/s \n",
            "\u001b[?25hCollecting Deprecated==1.2.7\n",
            "  Downloading Deprecated-1.2.7-py2.py3-none-any.whl (8.3 kB)\n",
            "Collecting networkx==2.2\n",
            "  Downloading networkx-2.2.zip (1.7 MB)\n",
            "\u001b[K     |████████████████████████████████| 1.7 MB 39.6 MB/s \n",
            "\u001b[?25hCollecting wasabi==0.2.2\n",
            "  Downloading wasabi-0.2.2-py3-none-any.whl (19 kB)\n",
            "Collecting logzero==1.5.0\n",
            "  Downloading logzero-1.5.0-py2.py3-none-any.whl (14 kB)\n",
            "Collecting flair==0.5\n",
            "  Downloading flair-0.5-py3-none-any.whl (334 kB)\n",
            "\u001b[K     |████████████████████████████████| 334 kB 55.1 MB/s \n",
            "\u001b[?25hCollecting tqdm==4.32.1\n",
            "  Downloading tqdm-4.32.1-py2.py3-none-any.whl (49 kB)\n",
            "\u001b[K     |████████████████████████████████| 49 kB 4.8 MB/s \n",
            "\u001b[?25hCollecting allennlp==0.8.3\n",
            "  Downloading allennlp-0.8.3-py3-none-any.whl (5.6 MB)\n",
            "\u001b[K     |████████████████████████████████| 5.6 MB 25.2 MB/s \n",
            "\u001b[?25hCollecting wandb==0.8.29\n",
            "  Downloading wandb-0.8.29-py2.py3-none-any.whl (1.4 MB)\n",
            "\u001b[K     |████████████████████████████████| 1.4 MB 41.4 MB/s \n",
            "\u001b[?25hCollecting toml==0.10.0\n",
            "  Downloading toml-0.10.0-py2.py3-none-any.whl (25 kB)\n",
            "Requirement already satisfied: numpy in /usr/local/lib/python3.7/dist-packages (from sciwing) (1.21.5)\n",
            "Collecting pytorch_pretrained_bert==0.6.2\n",
            "  Downloading pytorch_pretrained_bert-0.6.2-py3-none-any.whl (123 kB)\n",
            "\u001b[K     |████████████████████████████████| 123 kB 52.6 MB/s \n",
            "\u001b[?25hCollecting stop_words==2018.7.23\n",
            "  Downloading stop-words-2018.7.23.tar.gz (31 kB)\n",
            "Collecting questionary==1.1.1\n",
            "  Downloading questionary-1.1.1-py3-none-any.whl (26 kB)\n",
            "Collecting fastapi==0.65.1\n",
            "  Downloading fastapi-0.65.1-py3-none-any.whl (50 kB)\n",
            "\u001b[K     |████████████████████████████████| 50 kB 248 kB/s \n",
            "\u001b[?25hCollecting scikit_learn==0.22.2\n",
            "  Downloading scikit_learn-0.22.2-cp37-cp37m-manylinux1_x86_64.whl (7.1 MB)\n",
            "\u001b[K     |████████████████████████████████| 7.1 MB 25.4 MB/s \n",
            "\u001b[?25hCollecting tensorboardX==2.2\n",
            "  Downloading tensorboardX-2.2-py2.py3-none-any.whl (120 kB)\n",
            "\u001b[K     |████████████████████████████████| 120 kB 50.4 MB/s \n",
            "\u001b[?25hCollecting werkzeug==1.0.0\n",
            "  Downloading Werkzeug-1.0.0-py2.py3-none-any.whl (298 kB)\n",
            "\u001b[K     |████████████████████████████████| 298 kB 49.1 MB/s \n",
            "\u001b[?25hCollecting overrides==3.1.0\n",
            "  Downloading overrides-3.1.0.tar.gz (11 kB)\n",
            "Collecting s3transfer==0.4.0\n",
            "  Downloading s3transfer-0.4.0-py2.py3-none-any.whl (79 kB)\n",
            "\u001b[K     |████████████████████████████████| 79 kB 7.0 MB/s \n",
            "\u001b[?25hRequirement already satisfied: requests in /usr/local/lib/python3.7/dist-packages (from sciwing) (2.23.0)\n",
            "Collecting Sphinx==2.4.4\n",
            "  Downloading Sphinx-2.4.4-py3-none-any.whl (2.7 MB)\n",
            "\u001b[K     |████████████████████████████████| 2.7 MB 41.6 MB/s \n",
            "\u001b[?25hRequirement already satisfied: Jinja2 in /usr/local/lib/python3.7/dist-packages (from sciwing) (2.11.3)\n",
            "Collecting Flask==1.1.1\n",
            "  Downloading Flask-1.1.1-py2.py3-none-any.whl (94 kB)\n",
            "\u001b[K     |████████████████████████████████| 94 kB 2.1 MB/s \n",
            "\u001b[?25hCollecting Flask-Cors==3.0.8\n",
            "  Downloading Flask_Cors-3.0.8-py2.py3-none-any.whl (14 kB)\n",
            "Collecting importlib-metadata==3.7.0\n",
            "  Downloading importlib_metadata-3.7.0-py3-none-any.whl (11 kB)\n",
            "Collecting docutils==0.15\n",
            "  Downloading docutils-0.15-py3-none-any.whl (1.1 MB)\n",
            "\u001b[K     |████████████████████████████████| 1.1 MB 42.2 MB/s \n",
            "\u001b[?25hCollecting word2number>=1.1\n",
            "  Downloading word2number-1.1.zip (9.7 kB)\n",
            "Collecting parsimonious>=0.8.0\n",
            "  Downloading parsimonious-0.8.1.tar.gz (45 kB)\n",
            "\u001b[K     |████████████████████████████████| 45 kB 2.4 MB/s \n",
            "\u001b[?25hCollecting conllu==0.11\n",
            "  Downloading conllu-0.11-py2.py3-none-any.whl (6.8 kB)\n",
            "Collecting jsonnet>=0.10.0\n",
            "  Downloading jsonnet-0.18.0.tar.gz (592 kB)\n",
            "\u001b[K     |████████████████████████████████| 592 kB 43.6 MB/s \n",
            "\u001b[?25hCollecting numpydoc>=0.8.0\n",
            "  Downloading numpydoc-1.2-py3-none-any.whl (51 kB)\n",
            "\u001b[K     |████████████████████████████████| 51 kB 6.4 MB/s \n",
            "\u001b[?25hCollecting ftfy\n",
            "  Downloading ftfy-6.1.1-py3-none-any.whl (53 kB)\n",
            "\u001b[K     |████████████████████████████████| 53 kB 1.5 MB/s \n",
            "\u001b[?25hRequirement already satisfied: editdistance in /usr/local/lib/python3.7/dist-packages (from allennlp==0.8.3->sciwing) (0.5.3)\n",
            "Requirement already satisfied: nltk in /usr/local/lib/python3.7/dist-packages (from allennlp==0.8.3->sciwing) (3.2.5)\n",
            "Requirement already satisfied: scipy in /usr/local/lib/python3.7/dist-packages (from allennlp==0.8.3->sciwing) (1.4.1)\n",
            "Requirement already satisfied: pytz>=2017.3 in /usr/local/lib/python3.7/dist-packages (from allennlp==0.8.3->sciwing) (2018.9)\n",
            "Collecting flaky\n",
            "  Downloading flaky-3.7.0-py2.py3-none-any.whl (22 kB)\n",
            "Collecting msgpack<0.6.0,>=0.5.6\n",
            "  Downloading msgpack-0.5.6.tar.gz (138 kB)\n",
            "\u001b[K     |████████████████████████████████| 138 kB 48.1 MB/s \n",
            "\u001b[?25hCollecting responses>=0.7\n",
            "  Downloading responses-0.19.0-py3-none-any.whl (41 kB)\n",
            "\u001b[K     |████████████████████████████████| 41 kB 397 kB/s \n",
            "\u001b[?25hCollecting moto>=1.3.4\n",
            "  Downloading moto-3.1.0-py2.py3-none-any.whl (1.7 MB)\n",
            "\u001b[K     |████████████████████████████████| 1.7 MB 27.6 MB/s \n",
            "\u001b[?25hRequirement already satisfied: matplotlib>=2.2.3 in /usr/local/lib/python3.7/dist-packages (from allennlp==0.8.3->sciwing) (3.2.2)\n",
            "Requirement already satisfied: sqlparse>=0.2.4 in /usr/local/lib/python3.7/dist-packages (from allennlp==0.8.3->sciwing) (0.4.2)\n",
            "Requirement already satisfied: h5py in /usr/local/lib/python3.7/dist-packages (from allennlp==0.8.3->sciwing) (3.1.0)\n",
            "Collecting awscli>=1.11.91\n",
            "  Downloading awscli-1.22.73-py3-none-any.whl (3.8 MB)\n",
            "\u001b[K     |████████████████████████████████| 3.8 MB 43.1 MB/s \n",
            "\u001b[?25hCollecting gevent>=1.3.6\n",
            "  Downloading gevent-21.12.0-cp37-cp37m-manylinux_2_12_x86_64.manylinux2010_x86_64.whl (5.8 MB)\n",
            "\u001b[K     |████████████████████████████████| 5.8 MB 49.2 MB/s \n",
            "\u001b[?25hCollecting unidecode\n",
            "  Downloading Unidecode-1.3.4-py3-none-any.whl (235 kB)\n",
            "\u001b[K     |████████████████████████████████| 235 kB 59.5 MB/s \n",
            "\u001b[?25hRequirement already satisfied: wrapt<2,>=1.10 in /usr/local/lib/python3.7/dist-packages (from Deprecated==1.2.7->sciwing) (1.13.3)\n",
            "Collecting starlette==0.14.2\n",
            "  Downloading starlette-0.14.2-py3-none-any.whl (60 kB)\n",
            "\u001b[K     |████████████████████████████████| 60 kB 7.1 MB/s \n",
            "\u001b[?25hCollecting pydantic!=1.7,!=1.7.1,!=1.7.2,!=1.7.3,!=1.8,!=1.8.1,<2.0.0,>=1.6.2\n",
            "  Downloading pydantic-1.9.0-cp37-cp37m-manylinux_2_17_x86_64.manylinux2014_x86_64.whl (10.9 MB)\n",
            "\u001b[K     |████████████████████████████████| 10.9 MB 35.9 MB/s \n",
            "\u001b[?25hCollecting mpld3==0.3\n",
            "  Downloading mpld3-0.3.tar.gz (788 kB)\n",
            "\u001b[K     |████████████████████████████████| 788 kB 54.8 MB/s \n",
            "\u001b[?25hCollecting sqlitedict>=1.6.0\n",
            "  Downloading sqlitedict-2.0.0.tar.gz (46 kB)\n",
            "\u001b[K     |████████████████████████████████| 46 kB 3.4 MB/s \n",
            "\u001b[?25hCollecting bpemb>=0.2.9\n",
            "  Downloading bpemb-0.3.3-py3-none-any.whl (19 kB)\n",
            "Collecting transformers>=2.10.0\n",
            "  Downloading transformers-4.17.0-py3-none-any.whl (3.8 MB)\n",
            "\u001b[K     |████████████████████████████████| 3.8 MB 40.1 MB/s \n",
            "\u001b[?25hRequirement already satisfied: tabulate in /usr/local/lib/python3.7/dist-packages (from flair==0.5->sciwing) (0.8.9)\n",
            "Requirement already satisfied: python-dateutil>=2.6.1 in /usr/local/lib/python3.7/dist-packages (from flair==0.5->sciwing) (2.8.2)\n",
            "Requirement already satisfied: hyperopt>=0.1.1 in /usr/local/lib/python3.7/dist-packages (from flair==0.5->sciwing) (0.1.2)\n",
            "Collecting segtok>=1.5.7\n",
            "  Downloading segtok-1.5.11-py3-none-any.whl (24 kB)\n",
            "Requirement already satisfied: regex in /usr/local/lib/python3.7/dist-packages (from flair==0.5->sciwing) (2019.12.20)\n",
            "Collecting langdetect\n",
            "  Downloading langdetect-1.0.9.tar.gz (981 kB)\n",
            "\u001b[K     |████████████████████████████████| 981 kB 58.0 MB/s \n",
            "\u001b[?25hRequirement already satisfied: click>=5.1 in /usr/local/lib/python3.7/dist-packages (from Flask==1.1.1->sciwing) (7.1.2)\n",
            "Requirement already satisfied: itsdangerous>=0.24 in /usr/local/lib/python3.7/dist-packages (from Flask==1.1.1->sciwing) (1.1.0)\n",
            "Requirement already satisfied: Six in /usr/local/lib/python3.7/dist-packages (from Flask-Cors==3.0.8->sciwing) (1.15.0)\n",
            "Requirement already satisfied: smart-open>=1.7.0 in /usr/local/lib/python3.7/dist-packages (from gensim==3.8.0->sciwing) (5.2.1)\n",
            "Requirement already satisfied: zipp>=0.5 in /usr/local/lib/python3.7/dist-packages (from importlib-metadata==3.7.0->sciwing) (3.7.0)\n",
            "Requirement already satisfied: typing-extensions>=3.6.4 in /usr/local/lib/python3.7/dist-packages (from importlib-metadata==3.7.0->sciwing) (3.10.0.2)\n",
            "Requirement already satisfied: decorator>=4.3.0 in /usr/local/lib/python3.7/dist-packages (from networkx==2.2->sciwing) (4.4.2)\n",
            "Collecting pluggy<1.0,>=0.12\n",
            "  Downloading pluggy-0.13.1-py2.py3-none-any.whl (18 kB)\n",
            "Requirement already satisfied: py>=1.5.0 in /usr/local/lib/python3.7/dist-packages (from pytest==5.4.1->sciwing) (1.11.0)\n",
            "Requirement already satisfied: more-itertools>=4.0.0 in /usr/local/lib/python3.7/dist-packages (from pytest==5.4.1->sciwing) (8.12.0)\n",
            "Requirement already satisfied: wcwidth in /usr/local/lib/python3.7/dist-packages (from pytest==5.4.1->sciwing) (0.2.5)\n",
            "Requirement already satisfied: attrs>=17.4.0 in /usr/local/lib/python3.7/dist-packages (from pytest==5.4.1->sciwing) (21.4.0)\n",
            "Requirement already satisfied: packaging in /usr/local/lib/python3.7/dist-packages (from pytest==5.4.1->sciwing) (21.3)\n",
            "Collecting prompt-toolkit~=2.0\n",
            "  Downloading prompt_toolkit-2.0.10-py3-none-any.whl (340 kB)\n",
            "\u001b[K     |████████████████████████████████| 340 kB 51.0 MB/s \n",
            "\u001b[?25hCollecting botocore<2.0a.0,>=1.12.36\n",
            "  Downloading botocore-1.24.18-py3-none-any.whl (8.6 MB)\n",
            "\u001b[K     |████████████████████████████████| 8.6 MB 37.9 MB/s \n",
            "\u001b[?25hRequirement already satisfied: joblib>=0.11 in /usr/local/lib/python3.7/dist-packages (from scikit_learn==0.22.2->sciwing) (1.1.0)\n",
            "Requirement already satisfied: srsly<1.1.0,>=0.0.5 in /usr/local/lib/python3.7/dist-packages (from spacy==2.1.4->sciwing) (1.0.5)\n",
            "Collecting preshed<2.1.0,>=2.0.1\n",
            "  Downloading preshed-2.0.1-cp37-cp37m-manylinux1_x86_64.whl (82 kB)\n",
            "\u001b[K     |████████████████████████████████| 82 kB 344 kB/s \n",
            "\u001b[?25hCollecting blis<0.3.0,>=0.2.2\n",
            "  Downloading blis-0.2.4-cp37-cp37m-manylinux1_x86_64.whl (3.2 MB)\n",
            "\u001b[K     |████████████████████████████████| 3.2 MB 49.0 MB/s \n",
            "\u001b[?25hRequirement already satisfied: cymem<2.1.0,>=2.0.2 in /usr/local/lib/python3.7/dist-packages (from spacy==2.1.4->sciwing) (2.0.6)\n",
            "Collecting jsonschema<3.1.0,>=2.6.0\n",
            "  Downloading jsonschema-3.0.2-py2.py3-none-any.whl (54 kB)\n",
            "\u001b[K     |████████████████████████████████| 54 kB 2.8 MB/s \n",
            "\u001b[?25hRequirement already satisfied: murmurhash<1.1.0,>=0.28.0 in /usr/local/lib/python3.7/dist-packages (from spacy==2.1.4->sciwing) (1.0.6)\n",
            "Collecting plac<1.0.0,>=0.9.6\n",
            "  Downloading plac-0.9.6-py2.py3-none-any.whl (20 kB)\n",
            "Collecting thinc<7.1.0,>=7.0.2\n",
            "  Downloading thinc-7.0.8-cp37-cp37m-manylinux1_x86_64.whl (2.1 MB)\n",
            "\u001b[K     |████████████████████████████████| 2.1 MB 39.4 MB/s \n",
            "\u001b[?25hRequirement already satisfied: sphinxcontrib-serializinghtml in /usr/local/lib/python3.7/dist-packages (from Sphinx==2.4.4->sciwing) (1.1.5)\n",
            "Requirement already satisfied: alabaster<0.8,>=0.7 in /usr/local/lib/python3.7/dist-packages (from Sphinx==2.4.4->sciwing) (0.7.12)\n",
            "Collecting sphinxcontrib-htmlhelp\n",
            "  Downloading sphinxcontrib_htmlhelp-2.0.0-py2.py3-none-any.whl (100 kB)\n",
            "\u001b[K     |████████████████████████████████| 100 kB 8.8 MB/s \n",
            "\u001b[?25hRequirement already satisfied: imagesize in /usr/local/lib/python3.7/dist-packages (from Sphinx==2.4.4->sciwing) (1.3.0)\n",
            "Requirement already satisfied: snowballstemmer>=1.1 in /usr/local/lib/python3.7/dist-packages (from Sphinx==2.4.4->sciwing) (2.2.0)\n",
            "Collecting sphinxcontrib-jsmath\n",
            "  Downloading sphinxcontrib_jsmath-1.0.1-py2.py3-none-any.whl (5.1 kB)\n",
            "Collecting sphinxcontrib-qthelp\n",
            "  Downloading sphinxcontrib_qthelp-1.0.3-py2.py3-none-any.whl (90 kB)\n",
            "\u001b[K     |████████████████████████████████| 90 kB 8.1 MB/s \n",
            "\u001b[?25hCollecting sphinxcontrib-devhelp\n",
            "  Downloading sphinxcontrib_devhelp-1.0.2-py2.py3-none-any.whl (84 kB)\n",
            "\u001b[K     |████████████████████████████████| 84 kB 3.0 MB/s \n",
            "\u001b[?25hRequirement already satisfied: Pygments>=2.0 in /usr/local/lib/python3.7/dist-packages (from Sphinx==2.4.4->sciwing) (2.6.1)\n",
            "Requirement already satisfied: setuptools in /usr/local/lib/python3.7/dist-packages (from Sphinx==2.4.4->sciwing) (57.4.0)\n",
            "Collecting sphinxcontrib-applehelp\n",
            "  Downloading sphinxcontrib_applehelp-1.0.2-py2.py3-none-any.whl (121 kB)\n",
            "\u001b[K     |████████████████████████████████| 121 kB 51.4 MB/s \n",
            "\u001b[?25hRequirement already satisfied: babel!=2.0,>=1.3 in /usr/local/lib/python3.7/dist-packages (from Sphinx==2.4.4->sciwing) (2.9.1)\n",
            "Requirement already satisfied: protobuf>=3.8.0 in /usr/local/lib/python3.7/dist-packages (from tensorboardX==2.2->sciwing) (3.17.3)\n",
            "Requirement already satisfied: future in /usr/local/lib/python3.7/dist-packages (from torch==1.5.0->sciwing) (0.16.0)\n",
            "Collecting configparser>=3.8.1\n",
            "  Downloading configparser-5.2.0-py3-none-any.whl (19 kB)\n",
            "Collecting docker-pycreds>=0.4.0\n",
            "  Downloading docker_pycreds-0.4.0-py2.py3-none-any.whl (9.0 kB)\n",
            "Collecting shortuuid>=0.5.0\n",
            "  Downloading shortuuid-1.0.8-py3-none-any.whl (9.5 kB)\n",
            "Collecting subprocess32>=3.5.3\n",
            "  Downloading subprocess32-3.5.4.tar.gz (97 kB)\n",
            "\u001b[K     |████████████████████████████████| 97 kB 5.7 MB/s \n",
            "\u001b[?25hRequirement already satisfied: nvidia-ml-py3>=7.352.0 in /usr/local/lib/python3.7/dist-packages (from wandb==0.8.29->sciwing) (7.352.0)\n",
            "Collecting gql==0.2.0\n",
            "  Downloading gql-0.2.0.tar.gz (18 kB)\n",
            "Requirement already satisfied: PyYAML>=3.10 in /usr/local/lib/python3.7/dist-packages (from wandb==0.8.29->sciwing) (3.13)\n",
            "Collecting watchdog>=0.8.3\n",
            "  Downloading watchdog-2.1.6-py3-none-manylinux2014_x86_64.whl (76 kB)\n",
            "\u001b[K     |████████████████████████████████| 76 kB 4.5 MB/s \n",
            "\u001b[?25hCollecting sentry-sdk>=0.4.0\n",
            "  Downloading sentry_sdk-1.5.7-py2.py3-none-any.whl (144 kB)\n",
            "\u001b[K     |████████████████████████████████| 144 kB 55.2 MB/s \n",
            "\u001b[?25hCollecting GitPython>=1.0.0\n",
            "  Downloading GitPython-3.1.27-py3-none-any.whl (181 kB)\n",
            "\u001b[K     |████████████████████████████████| 181 kB 44.4 MB/s \n",
            "\u001b[?25hCollecting graphql-core<2,>=0.5.0\n",
            "  Downloading graphql-core-1.1.tar.gz (70 kB)\n",
            "\u001b[K     |████████████████████████████████| 70 kB 6.7 MB/s \n",
            "\u001b[?25hRequirement already satisfied: promise<3,>=2.0 in /usr/local/lib/python3.7/dist-packages (from gql==0.2.0->wandb==0.8.29->sciwing) (2.3)\n",
            "Collecting colorama<0.4.4,>=0.2.5\n",
            "  Downloading colorama-0.4.3-py2.py3-none-any.whl (15 kB)\n",
            "Collecting rsa<4.8,>=3.1.2\n",
            "  Downloading rsa-4.7.2-py3-none-any.whl (34 kB)\n",
            "Collecting awscli>=1.11.91\n",
            "  Downloading awscli-1.22.72-py3-none-any.whl (3.8 MB)\n",
            "\u001b[K     |████████████████████████████████| 3.8 MB 47.8 MB/s \n",
            "\u001b[?25hCollecting botocore<2.0a.0,>=1.12.36\n",
            "  Downloading botocore-1.24.17-py3-none-any.whl (8.6 MB)\n",
            "\u001b[K     |████████████████████████████████| 8.6 MB 37.1 MB/s \n",
            "\u001b[?25hCollecting awscli>=1.11.91\n",
            "  Downloading awscli-1.22.71-py3-none-any.whl (3.8 MB)\n",
            "\u001b[K     |████████████████████████████████| 3.8 MB 40.8 MB/s \n",
            "\u001b[?25hCollecting botocore<2.0a.0,>=1.12.36\n",
            "  Downloading botocore-1.24.16-py3-none-any.whl (8.6 MB)\n",
            "\u001b[K     |████████████████████████████████| 8.6 MB 28.0 MB/s \n",
            "\u001b[?25hCollecting awscli>=1.11.91\n",
            "  Downloading awscli-1.22.70-py3-none-any.whl (3.8 MB)\n",
            "\u001b[K     |████████████████████████████████| 3.8 MB 28.8 MB/s \n",
            "\u001b[?25hCollecting botocore<2.0a.0,>=1.12.36\n",
            "  Downloading botocore-1.24.15-py3-none-any.whl (8.6 MB)\n",
            "\u001b[K     |████████████████████████████████| 8.6 MB 24.6 MB/s \n",
            "\u001b[?25hCollecting awscli>=1.11.91\n",
            "  Downloading awscli-1.22.69-py3-none-any.whl (3.8 MB)\n",
            "\u001b[K     |████████████████████████████████| 3.8 MB 36.4 MB/s \n",
            "\u001b[?25hCollecting botocore<2.0a.0,>=1.12.36\n",
            "  Downloading botocore-1.24.14-py3-none-any.whl (8.6 MB)\n",
            "\u001b[K     |████████████████████████████████| 8.6 MB 33.9 MB/s \n",
            "\u001b[?25hCollecting awscli>=1.11.91\n",
            "  Downloading awscli-1.22.68-py3-none-any.whl (3.8 MB)\n",
            "\u001b[K     |████████████████████████████████| 3.8 MB 46.1 MB/s \n",
            "\u001b[?25hCollecting botocore<2.0a.0,>=1.12.36\n",
            "  Downloading botocore-1.24.13-py3-none-any.whl (8.6 MB)\n",
            "\u001b[K     |████████████████████████████████| 8.6 MB 14.4 MB/s \n",
            "\u001b[?25hCollecting awscli>=1.11.91\n",
            "  Downloading awscli-1.22.67-py3-none-any.whl (3.8 MB)\n",
            "\u001b[K     |████████████████████████████████| 3.8 MB 45.8 MB/s \n",
            "\u001b[?25hCollecting botocore<2.0a.0,>=1.12.36\n",
            "  Downloading botocore-1.24.12-py3-none-any.whl (8.6 MB)\n",
            "\u001b[K     |████████████████████████████████| 8.6 MB 31.0 MB/s \n",
            "\u001b[?25hCollecting awscli>=1.11.91\n",
            "  Downloading awscli-1.22.66-py3-none-any.whl (3.8 MB)\n",
            "\u001b[K     |████████████████████████████████| 3.8 MB 40.0 MB/s \n",
            "\u001b[?25hCollecting botocore<2.0a.0,>=1.12.36\n",
            "  Downloading botocore-1.24.11-py3-none-any.whl (8.6 MB)\n",
            "\u001b[K     |████████████████████████████████| 8.6 MB 41.4 MB/s \n",
            "\u001b[?25hCollecting awscli>=1.11.91\n",
            "  Downloading awscli-1.22.65-py3-none-any.whl (3.8 MB)\n",
            "\u001b[K     |████████████████████████████████| 3.8 MB 43.3 MB/s \n",
            "\u001b[?25hCollecting botocore<2.0a.0,>=1.12.36\n",
            "  Downloading botocore-1.24.10-py3-none-any.whl (8.6 MB)\n",
            "\u001b[K     |████████████████████████████████| 8.6 MB 8.7 MB/s \n",
            "\u001b[?25hCollecting awscli>=1.11.91\n",
            "  Downloading awscli-1.22.64-py3-none-any.whl (3.8 MB)\n",
            "\u001b[K     |████████████████████████████████| 3.8 MB 42.1 MB/s \n",
            "\u001b[?25hCollecting botocore<2.0a.0,>=1.12.36\n",
            "  Downloading botocore-1.24.9-py3-none-any.whl (8.6 MB)\n",
            "\u001b[K     |████████████████████████████████| 8.6 MB 21.9 MB/s \n",
            "\u001b[?25hCollecting awscli>=1.11.91\n",
            "  Downloading awscli-1.22.63-py3-none-any.whl (3.8 MB)\n",
            "\u001b[K     |████████████████████████████████| 3.8 MB 43.7 MB/s \n",
            "\u001b[?25hCollecting botocore<2.0a.0,>=1.12.36\n",
            "  Downloading botocore-1.24.8-py3-none-any.whl (8.6 MB)\n",
            "\u001b[K     |████████████████████████████████| 8.6 MB 48.4 MB/s \n",
            "\u001b[?25hCollecting awscli>=1.11.91\n",
            "  Downloading awscli-1.22.62-py3-none-any.whl (3.8 MB)\n",
            "\u001b[K     |████████████████████████████████| 3.8 MB 41.7 MB/s \n",
            "\u001b[?25hCollecting botocore<2.0a.0,>=1.12.36\n",
            "  Downloading botocore-1.24.7-py3-none-any.whl (8.6 MB)\n",
            "\u001b[K     |████████████████████████████████| 8.6 MB 25.9 MB/s \n",
            "\u001b[?25hCollecting awscli>=1.11.91\n",
            "  Downloading awscli-1.22.61-py3-none-any.whl (3.8 MB)\n",
            "\u001b[K     |████████████████████████████████| 3.8 MB 41.3 MB/s \n",
            "\u001b[?25hCollecting botocore<2.0a.0,>=1.12.36\n",
            "  Downloading botocore-1.24.6-py3-none-any.whl (8.5 MB)\n",
            "\u001b[K     |████████████████████████████████| 8.5 MB 28.2 MB/s \n",
            "\u001b[?25hCollecting awscli>=1.11.91\n",
            "  Downloading awscli-1.22.60-py3-none-any.whl (3.8 MB)\n",
            "\u001b[K     |████████████████████████████████| 3.8 MB 49.5 MB/s \n",
            "\u001b[?25hCollecting botocore<2.0a.0,>=1.12.36\n",
            "  Downloading botocore-1.24.5-py3-none-any.whl (8.5 MB)\n",
            "\u001b[K     |████████████████████████████████| 8.5 MB 69.8 MB/s \n",
            "\u001b[?25hCollecting awscli>=1.11.91\n",
            "  Downloading awscli-1.22.59-py3-none-any.whl (3.8 MB)\n",
            "\u001b[K     |████████████████████████████████| 3.8 MB 41.6 MB/s \n",
            "\u001b[?25hCollecting botocore<2.0a.0,>=1.12.36\n",
            "  Downloading botocore-1.24.4-py3-none-any.whl (8.5 MB)\n",
            "\u001b[K     |████████████████████████████████| 8.5 MB 28.3 MB/s \n",
            "\u001b[?25hCollecting awscli>=1.11.91\n",
            "  Downloading awscli-1.22.58-py3-none-any.whl (3.8 MB)\n",
            "\u001b[K     |████████████████████████████████| 3.8 MB 50.9 MB/s \n",
            "\u001b[?25hCollecting botocore<2.0a.0,>=1.12.36\n",
            "  Downloading botocore-1.24.3-py3-none-any.whl (8.5 MB)\n",
            "\u001b[K     |████████████████████████████████| 8.5 MB 41.8 MB/s \n",
            "\u001b[?25hCollecting awscli>=1.11.91\n",
            "  Downloading awscli-1.22.57-py3-none-any.whl (3.8 MB)\n",
            "\u001b[K     |████████████████████████████████| 3.8 MB 35.1 MB/s \n",
            "\u001b[?25hCollecting botocore<2.0a.0,>=1.12.36\n",
            "  Downloading botocore-1.24.2-py3-none-any.whl (8.5 MB)\n",
            "\u001b[K     |████████████████████████████████| 8.5 MB 32.0 MB/s \n",
            "\u001b[?25hCollecting awscli>=1.11.91\n",
            "  Downloading awscli-1.22.56-py3-none-any.whl (3.8 MB)\n",
            "\u001b[K     |████████████████████████████████| 3.8 MB 38.2 MB/s \n",
            "\u001b[?25hCollecting botocore<2.0a.0,>=1.12.36\n",
            "  Downloading botocore-1.24.1-py3-none-any.whl (8.5 MB)\n",
            "\u001b[K     |████████████████████████████████| 8.5 MB 31.9 MB/s \n",
            "\u001b[?25hCollecting awscli>=1.11.91\n",
            "  Downloading awscli-1.22.55-py3-none-any.whl (3.8 MB)\n",
            "\u001b[K     |████████████████████████████████| 3.8 MB 43.8 MB/s \n",
            "\u001b[?25h  Downloading awscli-1.22.54-py3-none-any.whl (3.8 MB)\n",
            "\u001b[K     |████████████████████████████████| 3.8 MB 30.8 MB/s \n",
            "\u001b[?25hCollecting botocore<2.0a.0,>=1.12.36\n",
            "  Downloading botocore-1.23.54-py3-none-any.whl (8.5 MB)\n",
            "\u001b[K     |████████████████████████████████| 8.5 MB 40.5 MB/s \n",
            "\u001b[?25hCollecting awscli>=1.11.91\n",
            "  Downloading awscli-1.22.53-py3-none-any.whl (3.8 MB)\n",
            "\u001b[K     |████████████████████████████████| 3.8 MB 34.3 MB/s \n",
            "\u001b[?25hCollecting botocore<2.0a.0,>=1.12.36\n",
            "  Downloading botocore-1.23.53-py3-none-any.whl (8.5 MB)\n",
            "\u001b[K     |████████████████████████████████| 8.5 MB 4.6 MB/s \n",
            "\u001b[?25hCollecting awscli>=1.11.91\n",
            "  Downloading awscli-1.22.52-py3-none-any.whl (3.8 MB)\n",
            "\u001b[K     |████████████████████████████████| 3.8 MB 38.9 MB/s \n",
            "\u001b[?25hCollecting botocore<2.0a.0,>=1.12.36\n",
            "  Downloading botocore-1.23.52-py3-none-any.whl (8.5 MB)\n",
            "\u001b[K     |████████████████████████████████| 8.5 MB 640 kB/s \n",
            "\u001b[?25hCollecting awscli>=1.11.91\n",
            "  Downloading awscli-1.22.51-py3-none-any.whl (3.8 MB)\n",
            "\u001b[K     |████████████████████████████████| 3.8 MB 40.3 MB/s \n",
            "\u001b[?25hCollecting botocore<2.0a.0,>=1.12.36\n",
            "  Downloading botocore-1.23.51-py3-none-any.whl (8.5 MB)\n",
            "\u001b[K     |████████████████████████████████| 8.5 MB 35.1 MB/s \n",
            "\u001b[?25hCollecting awscli>=1.11.91\n",
            "  Downloading awscli-1.22.50-py3-none-any.whl (3.8 MB)\n",
            "\u001b[K     |████████████████████████████████| 3.8 MB 36.3 MB/s \n",
            "\u001b[?25hCollecting botocore<2.0a.0,>=1.12.36\n",
            "  Downloading botocore-1.23.50-py3-none-any.whl (8.5 MB)\n",
            "\u001b[K     |████████████████████████████████| 8.5 MB 44.6 MB/s \n",
            "\u001b[?25hCollecting awscli>=1.11.91\n",
            "  Downloading awscli-1.22.49-py3-none-any.whl (3.8 MB)\n",
            "\u001b[K     |████████████████████████████████| 3.8 MB 31.7 MB/s \n",
            "\u001b[?25hCollecting botocore<2.0a.0,>=1.12.36\n",
            "  Downloading botocore-1.23.49-py3-none-any.whl (8.5 MB)\n",
            "\u001b[K     |████████████████████████████████| 8.5 MB 42.2 MB/s \n",
            "\u001b[?25hCollecting awscli>=1.11.91\n",
            "  Downloading awscli-1.22.48-py3-none-any.whl (3.8 MB)\n",
            "\u001b[K     |████████████████████████████████| 3.8 MB 45.5 MB/s \n",
            "\u001b[?25hCollecting botocore<2.0a.0,>=1.12.36\n",
            "  Downloading botocore-1.23.48-py3-none-any.whl (8.5 MB)\n",
            "\u001b[K     |████████████████████████████████| 8.5 MB 17.5 MB/s \n",
            "\u001b[?25hCollecting awscli>=1.11.91\n",
            "  Downloading awscli-1.22.47-py3-none-any.whl (3.8 MB)\n",
            "\u001b[K     |████████████████████████████████| 3.8 MB 42.5 MB/s \n",
            "\u001b[?25hCollecting botocore<2.0a.0,>=1.12.36\n",
            "  Downloading botocore-1.23.47-py3-none-any.whl (8.5 MB)\n",
            "\u001b[K     |████████████████████████████████| 8.5 MB 35.9 MB/s \n",
            "\u001b[?25hCollecting awscli>=1.11.91\n",
            "  Downloading awscli-1.22.46-py3-none-any.whl (3.8 MB)\n",
            "\u001b[K     |████████████████████████████████| 3.8 MB 33.5 MB/s \n",
            "\u001b[?25hCollecting botocore<2.0a.0,>=1.12.36\n",
            "  Downloading botocore-1.23.46-py3-none-any.whl (8.5 MB)\n",
            "\u001b[K     |████████████████████████████████| 8.5 MB 49.0 MB/s \n",
            "\u001b[?25hCollecting awscli>=1.11.91\n",
            "  Downloading awscli-1.22.45-py3-none-any.whl (3.8 MB)\n",
            "\u001b[K     |████████████████████████████████| 3.8 MB 41.7 MB/s \n",
            "\u001b[?25hCollecting botocore<2.0a.0,>=1.12.36\n",
            "  Downloading botocore-1.23.45-py3-none-any.whl (8.5 MB)\n",
            "\u001b[K     |████████████████████████████████| 8.5 MB 30.3 MB/s \n",
            "\u001b[?25hCollecting awscli>=1.11.91\n",
            "  Downloading awscli-1.22.44-py3-none-any.whl (3.8 MB)\n",
            "\u001b[K     |████████████████████████████████| 3.8 MB 35.0 MB/s \n",
            "\u001b[?25hCollecting botocore<2.0a.0,>=1.12.36\n",
            "  Downloading botocore-1.23.44-py3-none-any.whl (8.5 MB)\n",
            "\u001b[K     |████████████████████████████████| 8.5 MB 41.3 MB/s \n",
            "\u001b[?25hCollecting awscli>=1.11.91\n",
            "  Downloading awscli-1.22.43-py3-none-any.whl (3.8 MB)\n",
            "\u001b[K     |████████████████████████████████| 3.8 MB 39.7 MB/s \n",
            "\u001b[?25hCollecting botocore<2.0a.0,>=1.12.36\n",
            "  Downloading botocore-1.23.43-py3-none-any.whl (8.5 MB)\n",
            "\u001b[K     |████████████████████████████████| 8.5 MB 976 kB/s \n",
            "\u001b[?25hCollecting awscli>=1.11.91\n",
            "  Downloading awscli-1.22.42-py3-none-any.whl (3.8 MB)\n",
            "\u001b[K     |████████████████████████████████| 3.8 MB 36.2 MB/s \n",
            "\u001b[?25hCollecting botocore<2.0a.0,>=1.12.36\n",
            "  Downloading botocore-1.23.42-py3-none-any.whl (8.5 MB)\n",
            "\u001b[K     |████████████████████████████████| 8.5 MB 11.9 MB/s \n",
            "\u001b[?25hCollecting awscli>=1.11.91\n",
            "  Downloading awscli-1.22.41-py3-none-any.whl (3.8 MB)\n",
            "\u001b[K     |████████████████████████████████| 3.8 MB 22.3 MB/s \n",
            "\u001b[?25hCollecting botocore<2.0a.0,>=1.12.36\n",
            "  Downloading botocore-1.23.41-py3-none-any.whl (8.5 MB)\n",
            "\u001b[K     |████████████████████████████████| 8.5 MB 46.5 MB/s \n",
            "\u001b[?25hCollecting awscli>=1.11.91\n",
            "  Downloading awscli-1.22.40-py3-none-any.whl (3.8 MB)\n",
            "\u001b[K     |████████████████████████████████| 3.8 MB 37.7 MB/s \n",
            "\u001b[?25hCollecting botocore<2.0a.0,>=1.12.36\n",
            "  Downloading botocore-1.23.40-py3-none-any.whl (8.5 MB)\n",
            "\u001b[K     |████████████████████████████████| 8.5 MB 24.0 MB/s \n",
            "\u001b[?25hCollecting awscli>=1.11.91\n",
            "  Downloading awscli-1.22.39-py3-none-any.whl (3.8 MB)\n",
            "\u001b[K     |████████████████████████████████| 3.8 MB 33.3 MB/s \n",
            "\u001b[?25hCollecting botocore<2.0a.0,>=1.12.36\n",
            "  Downloading botocore-1.23.39-py3-none-any.whl (8.5 MB)\n",
            "\u001b[K     |████████████████████████████████| 8.5 MB 17.2 MB/s \n",
            "\u001b[?25hCollecting awscli>=1.11.91\n",
            "  Downloading awscli-1.22.38-py3-none-any.whl (3.8 MB)\n",
            "\u001b[K     |████████████████████████████████| 3.8 MB 24.1 MB/s \n",
            "\u001b[?25hCollecting botocore<2.0a.0,>=1.12.36\n",
            "  Downloading botocore-1.23.38-py3-none-any.whl (8.5 MB)\n",
            "\u001b[K     |████████████████████████████████| 8.5 MB 21.8 MB/s \n",
            "\u001b[?25hCollecting awscli>=1.11.91\n",
            "  Downloading awscli-1.22.37-py3-none-any.whl (3.8 MB)\n",
            "\u001b[K     |████████████████████████████████| 3.8 MB 34.2 MB/s \n",
            "\u001b[?25h  Downloading awscli-1.22.36-py3-none-any.whl (3.8 MB)\n",
            "\u001b[K     |████████████████████████████████| 3.8 MB 41.1 MB/s \n",
            "\u001b[?25hCollecting botocore<2.0a.0,>=1.12.36\n",
            "  Downloading botocore-1.23.36-py3-none-any.whl (8.5 MB)\n",
            "\u001b[K     |████████████████████████████████| 8.5 MB 40.3 MB/s \n",
            "\u001b[?25hCollecting awscli>=1.11.91\n",
            "  Downloading awscli-1.22.35-py3-none-any.whl (3.8 MB)\n",
            "\u001b[K     |████████████████████████████████| 3.8 MB 37.0 MB/s \n",
            "\u001b[?25hCollecting botocore<2.0a.0,>=1.12.36\n",
            "  Downloading botocore-1.23.35-py3-none-any.whl (8.5 MB)\n",
            "\u001b[K     |████████████████████████████████| 8.5 MB 33.1 MB/s \n",
            "\u001b[?25hCollecting awscli>=1.11.91\n",
            "  Downloading awscli-1.22.34-py3-none-any.whl (3.8 MB)\n",
            "\u001b[K     |████████████████████████████████| 3.8 MB 35.2 MB/s \n",
            "\u001b[?25hCollecting botocore<2.0a.0,>=1.12.36\n",
            "  Downloading botocore-1.23.34-py3-none-any.whl (8.5 MB)\n",
            "\u001b[K     |████████████████████████████████| 8.5 MB 39.7 MB/s \n",
            "\u001b[?25hCollecting awscli>=1.11.91\n",
            "  Downloading awscli-1.22.33-py3-none-any.whl (3.8 MB)\n",
            "\u001b[K     |████████████████████████████████| 3.8 MB 46.3 MB/s \n",
            "\u001b[?25hCollecting botocore<2.0a.0,>=1.12.36\n",
            "  Downloading botocore-1.23.33-py3-none-any.whl (8.5 MB)\n",
            "\u001b[K     |████████████████████████████████| 8.5 MB 24.8 MB/s \n",
            "\u001b[?25hCollecting awscli>=1.11.91\n",
            "  Downloading awscli-1.22.32-py3-none-any.whl (3.8 MB)\n",
            "\u001b[K     |████████████████████████████████| 3.8 MB 43.3 MB/s \n",
            "\u001b[?25hCollecting botocore<2.0a.0,>=1.12.36\n",
            "  Downloading botocore-1.23.32-py3-none-any.whl (8.5 MB)\n",
            "\u001b[K     |████████████████████████████████| 8.5 MB 31.4 MB/s \n",
            "\u001b[?25hCollecting awscli>=1.11.91\n",
            "  Downloading awscli-1.22.31-py3-none-any.whl (3.8 MB)\n",
            "\u001b[K     |████████████████████████████████| 3.8 MB 26.6 MB/s \n",
            "\u001b[?25hCollecting botocore<2.0a.0,>=1.12.36\n",
            "  Downloading botocore-1.23.31-py3-none-any.whl (8.5 MB)\n",
            "\u001b[K     |████████████████████████████████| 8.5 MB 254 kB/s \n",
            "\u001b[?25hCollecting awscli>=1.11.91\n",
            "  Downloading awscli-1.22.30-py3-none-any.whl (3.8 MB)\n",
            "\u001b[K     |████████████████████████████████| 3.8 MB 27.6 MB/s \n",
            "\u001b[?25hCollecting botocore<2.0a.0,>=1.12.36\n",
            "  Downloading botocore-1.23.30-py3-none-any.whl (8.5 MB)\n",
            "\u001b[K     |████████████████████████████████| 8.5 MB 12.6 MB/s \n",
            "\u001b[?25hCollecting awscli>=1.11.91\n",
            "  Downloading awscli-1.22.29-py3-none-any.whl (3.8 MB)\n",
            "\u001b[K     |████████████████████████████████| 3.8 MB 47.2 MB/s \n",
            "\u001b[?25hCollecting botocore<2.0a.0,>=1.12.36\n",
            "  Downloading botocore-1.23.29-py3-none-any.whl (8.5 MB)\n",
            "\u001b[K     |████████████████████████████████| 8.5 MB 53.1 MB/s \n",
            "\u001b[?25hCollecting awscli>=1.11.91\n",
            "  Downloading awscli-1.22.28-py3-none-any.whl (3.8 MB)\n",
            "\u001b[K     |████████████████████████████████| 3.8 MB 40.7 MB/s \n",
            "\u001b[?25hCollecting botocore<2.0a.0,>=1.12.36\n",
            "  Downloading botocore-1.23.28-py3-none-any.whl (8.5 MB)\n",
            "\u001b[K     |████████████████████████████████| 8.5 MB 1.7 MB/s \n",
            "\u001b[?25hCollecting awscli>=1.11.91\n",
            "  Downloading awscli-1.22.27-py3-none-any.whl (3.8 MB)\n",
            "\u001b[K     |████████████████████████████████| 3.8 MB 39.0 MB/s \n",
            "\u001b[?25hCollecting botocore<2.0a.0,>=1.12.36\n",
            "  Downloading botocore-1.23.27-py3-none-any.whl (8.5 MB)\n",
            "\u001b[K     |████████████████████████████████| 8.5 MB 760 kB/s \n",
            "\u001b[?25hCollecting awscli>=1.11.91\n",
            "  Downloading awscli-1.22.26-py3-none-any.whl (3.8 MB)\n",
            "\u001b[K     |████████████████████████████████| 3.8 MB 42.8 MB/s \n",
            "\u001b[?25h  Downloading awscli-1.22.25-py3-none-any.whl (3.8 MB)\n",
            "\u001b[K     |████████████████████████████████| 3.8 MB 37.3 MB/s \n",
            "\u001b[?25hCollecting botocore<2.0a.0,>=1.12.36\n",
            "  Downloading botocore-1.23.25-py3-none-any.whl (8.5 MB)\n",
            "\u001b[K     |████████████████████████████████| 8.5 MB 362 kB/s \n",
            "\u001b[?25hCollecting awscli>=1.11.91\n",
            "  Downloading awscli-1.22.24-py3-none-any.whl (3.8 MB)\n",
            "\u001b[K     |████████████████████████████████| 3.8 MB 58.0 MB/s \n",
            "\u001b[?25hCollecting botocore<2.0a.0,>=1.12.36\n",
            "  Downloading botocore-1.23.24-py3-none-any.whl (8.4 MB)\n",
            "\u001b[K     |████████████████████████████████| 8.4 MB 60.2 MB/s \n",
            "\u001b[?25hCollecting awscli>=1.11.91\n",
            "  Downloading awscli-1.22.23-py3-none-any.whl (3.8 MB)\n",
            "\u001b[K     |████████████████████████████████| 3.8 MB 38.2 MB/s \n",
            "\u001b[?25hCollecting botocore<2.0a.0,>=1.12.36\n",
            "  Downloading botocore-1.23.23-py3-none-any.whl (8.4 MB)\n",
            "\u001b[K     |████████████████████████████████| 8.4 MB 47.2 MB/s \n",
            "\u001b[?25hCollecting awscli>=1.11.91\n",
            "  Downloading awscli-1.22.22-py3-none-any.whl (3.8 MB)\n",
            "\u001b[K     |████████████████████████████████| 3.8 MB 25.8 MB/s \n",
            "\u001b[?25hCollecting botocore<2.0a.0,>=1.12.36\n",
            "  Downloading botocore-1.23.22-py3-none-any.whl (8.4 MB)\n",
            "\u001b[K     |████████████████████████████████| 8.4 MB 40.0 MB/s \n",
            "\u001b[?25hCollecting awscli>=1.11.91\n",
            "  Downloading awscli-1.22.21-py3-none-any.whl (3.8 MB)\n",
            "\u001b[K     |████████████████████████████████| 3.8 MB 65.0 MB/s \n",
            "\u001b[?25hCollecting botocore<2.0a.0,>=1.12.36\n",
            "  Downloading botocore-1.23.21-py3-none-any.whl (8.4 MB)\n",
            "\u001b[K     |████████████████████████████████| 8.4 MB 364 kB/s \n",
            "\u001b[?25hCollecting awscli>=1.11.91\n",
            "  Downloading awscli-1.22.20-py3-none-any.whl (3.8 MB)\n",
            "\u001b[K     |████████████████████████████████| 3.8 MB 32.0 MB/s \n",
            "\u001b[?25hCollecting botocore<2.0a.0,>=1.12.36\n",
            "  Downloading botocore-1.23.20-py3-none-any.whl (8.4 MB)\n",
            "\u001b[K     |████████████████████████████████| 8.4 MB 27.7 MB/s \n",
            "\u001b[?25hCollecting awscli>=1.11.91\n",
            "  Downloading awscli-1.22.19-py3-none-any.whl (3.8 MB)\n",
            "\u001b[K     |████████████████████████████████| 3.8 MB 51.7 MB/s \n",
            "\u001b[?25hCollecting botocore<2.0a.0,>=1.12.36\n",
            "  Downloading botocore-1.23.19-py3-none-any.whl (8.4 MB)\n",
            "\u001b[K     |████████████████████████████████| 8.4 MB 38.0 MB/s \n",
            "\u001b[?25hCollecting awscli>=1.11.91\n",
            "  Downloading awscli-1.22.18-py3-none-any.whl (3.8 MB)\n",
            "\u001b[K     |████████████████████████████████| 3.8 MB 37.7 MB/s \n",
            "\u001b[?25hCollecting botocore<2.0a.0,>=1.12.36\n",
            "  Downloading botocore-1.23.18-py3-none-any.whl (8.4 MB)\n",
            "\u001b[K     |████████████████████████████████| 8.4 MB 36.3 MB/s \n",
            "\u001b[?25hCollecting awscli>=1.11.91\n",
            "  Downloading awscli-1.22.17-py3-none-any.whl (3.8 MB)\n",
            "\u001b[K     |████████████████████████████████| 3.8 MB 35.7 MB/s \n",
            "\u001b[?25hCollecting botocore<2.0a.0,>=1.12.36\n",
            "  Downloading botocore-1.23.17-py3-none-any.whl (8.4 MB)\n",
            "\u001b[K     |████████████████████████████████| 8.4 MB 74.4 MB/s \n",
            "\u001b[?25hCollecting awscli>=1.11.91\n",
            "  Downloading awscli-1.22.16-py3-none-any.whl (3.8 MB)\n",
            "\u001b[K     |████████████████████████████████| 3.8 MB 45.3 MB/s \n",
            "\u001b[?25hCollecting botocore<2.0a.0,>=1.12.36\n",
            "  Downloading botocore-1.23.16-py3-none-any.whl (8.3 MB)\n",
            "\u001b[K     |████████████████████████████████| 8.3 MB 243 kB/s \n",
            "\u001b[?25hCollecting awscli>=1.11.91\n",
            "  Downloading awscli-1.22.15-py3-none-any.whl (3.8 MB)\n",
            "\u001b[K     |████████████████████████████████| 3.8 MB 327 kB/s \n",
            "\u001b[?25hCollecting botocore<2.0a.0,>=1.12.36\n",
            "  Downloading botocore-1.23.15-py3-none-any.whl (8.3 MB)\n",
            "\u001b[K     |████████████████████████████████| 8.3 MB 310 kB/s \n",
            "\u001b[?25hCollecting awscli>=1.11.91\n",
            "  Downloading awscli-1.22.14-py3-none-any.whl (3.8 MB)\n",
            "\u001b[K     |████████████████████████████████| 3.8 MB 18.0 MB/s \n",
            "\u001b[?25hCollecting botocore<2.0a.0,>=1.12.36\n",
            "  Downloading botocore-1.23.14-py3-none-any.whl (8.2 MB)\n",
            "\u001b[K     |████████████████████████████████| 8.2 MB 366 kB/s \n",
            "\u001b[?25hCollecting awscli>=1.11.91\n",
            "  Downloading awscli-1.22.13-py3-none-any.whl (3.8 MB)\n",
            "\u001b[K     |████████████████████████████████| 3.8 MB 63.5 MB/s \n",
            "\u001b[?25hCollecting botocore<2.0a.0,>=1.12.36\n",
            "  Downloading botocore-1.23.13-py3-none-any.whl (8.2 MB)\n",
            "\u001b[K     |████████████████████████████████| 8.2 MB 333 kB/s \n",
            "\u001b[?25hCollecting awscli>=1.11.91\n",
            "  Downloading awscli-1.22.12-py3-none-any.whl (3.8 MB)\n",
            "\u001b[K     |████████████████████████████████| 3.8 MB 6.2 MB/s \n",
            "\u001b[?25hCollecting botocore<2.0a.0,>=1.12.36\n",
            "  Downloading botocore-1.23.12-py3-none-any.whl (8.2 MB)\n",
            "\u001b[K     |████████████████████████████████| 8.2 MB 1.2 MB/s \n",
            "\u001b[?25hCollecting awscli>=1.11.91\n",
            "  Downloading awscli-1.22.11-py3-none-any.whl (3.8 MB)\n",
            "\u001b[K     |████████████████████████████████| 3.8 MB 31.8 MB/s \n",
            "\u001b[?25hCollecting botocore<2.0a.0,>=1.12.36\n",
            "  Downloading botocore-1.23.11-py3-none-any.whl (8.2 MB)\n",
            "\u001b[K     |████████████████████████████████| 8.2 MB 1.4 MB/s \n",
            "\u001b[?25hCollecting awscli>=1.11.91\n",
            "  Downloading awscli-1.22.10-py3-none-any.whl (3.8 MB)\n",
            "\u001b[K     |████████████████████████████████| 3.8 MB 308 kB/s \n",
            "\u001b[?25hCollecting botocore<2.0a.0,>=1.12.36\n",
            "  Downloading botocore-1.23.10-py3-none-any.whl (8.2 MB)\n",
            "\u001b[K     |████████████████████████████████| 8.2 MB 4.7 MB/s \n",
            "\u001b[?25hCollecting awscli>=1.11.91\n",
            "  Downloading awscli-1.22.9-py3-none-any.whl (3.8 MB)\n",
            "\u001b[K     |████████████████████████████████| 3.8 MB 34.3 MB/s \n",
            "\u001b[?25hCollecting botocore<2.0a.0,>=1.12.36\n",
            "  Downloading botocore-1.23.9-py3-none-any.whl (8.2 MB)\n",
            "\u001b[K     |████████████████████████████████| 8.2 MB 1.1 MB/s \n",
            "\u001b[?25hCollecting awscli>=1.11.91\n",
            "  Downloading awscli-1.22.8-py3-none-any.whl (3.8 MB)\n",
            "\u001b[K     |████████████████████████████████| 3.8 MB 36.9 MB/s \n",
            "\u001b[?25hCollecting botocore<2.0a.0,>=1.12.36\n",
            "  Downloading botocore-1.23.8-py3-none-any.whl (8.2 MB)\n",
            "\u001b[K     |████████████████████████████████| 8.2 MB 20.8 MB/s \n",
            "\u001b[?25hCollecting awscli>=1.11.91\n",
            "  Downloading awscli-1.22.7-py3-none-any.whl (3.8 MB)\n",
            "\u001b[K     |████████████████████████████████| 3.8 MB 43.2 MB/s \n",
            "\u001b[?25hCollecting botocore<2.0a.0,>=1.12.36\n",
            "  Downloading botocore-1.23.7-py3-none-any.whl (8.1 MB)\n",
            "\u001b[K     |████████████████████████████████| 8.1 MB 21.8 MB/s \n",
            "\u001b[?25hCollecting awscli>=1.11.91\n",
            "  Downloading awscli-1.22.6-py3-none-any.whl (3.8 MB)\n",
            "\u001b[K     |████████████████████████████████| 3.8 MB 57.0 MB/s \n",
            "\u001b[?25hCollecting botocore<2.0a.0,>=1.12.36\n",
            "  Downloading botocore-1.23.6-py3-none-any.whl (8.1 MB)\n",
            "\u001b[K     |████████████████████████████████| 8.1 MB 107 kB/s \n",
            "\u001b[?25hCollecting awscli>=1.11.91\n",
            "  Downloading awscli-1.22.5-py3-none-any.whl (3.8 MB)\n",
            "\u001b[K     |████████████████████████████████| 3.8 MB 38.7 MB/s \n",
            "\u001b[?25hCollecting botocore<2.0a.0,>=1.12.36\n",
            "  Downloading botocore-1.23.5-py3-none-any.whl (8.1 MB)\n",
            "\u001b[K     |████████████████████████████████| 8.1 MB 23.9 MB/s \n",
            "\u001b[?25hCollecting awscli>=1.11.91\n",
            "  Downloading awscli-1.22.4-py3-none-any.whl (3.8 MB)\n",
            "\u001b[K     |████████████████████████████████| 3.8 MB 43.4 MB/s \n",
            "\u001b[?25hCollecting botocore<2.0a.0,>=1.12.36\n",
            "  Downloading botocore-1.23.4-py3-none-any.whl (8.1 MB)\n",
            "\u001b[K     |████████████████████████████████| 8.1 MB 22.8 MB/s \n",
            "\u001b[?25hCollecting awscli>=1.11.91\n",
            "  Downloading awscli-1.22.3-py3-none-any.whl (3.8 MB)\n",
            "\u001b[K     |████████████████████████████████| 3.8 MB 33.7 MB/s \n",
            "\u001b[?25hCollecting botocore<2.0a.0,>=1.12.36\n",
            "  Downloading botocore-1.23.3-py3-none-any.whl (8.1 MB)\n",
            "\u001b[K     |████████████████████████████████| 8.1 MB 54.7 MB/s \n",
            "\u001b[?25hCollecting awscli>=1.11.91\n",
            "  Downloading awscli-1.22.2-py3-none-any.whl (3.8 MB)\n",
            "\u001b[K     |████████████████████████████████| 3.8 MB 39.7 MB/s \n",
            "\u001b[?25hCollecting botocore<2.0a.0,>=1.12.36\n",
            "  Downloading botocore-1.23.2-py3-none-any.whl (8.1 MB)\n",
            "\u001b[K     |████████████████████████████████| 8.1 MB 28.2 MB/s \n",
            "\u001b[?25hCollecting awscli>=1.11.91\n",
            "  Downloading awscli-1.22.1-py3-none-any.whl (3.8 MB)\n",
            "\u001b[K     |████████████████████████████████| 3.8 MB 43.2 MB/s \n",
            "\u001b[?25hCollecting botocore<2.0a.0,>=1.12.36\n",
            "  Downloading botocore-1.23.1-py3-none-any.whl (8.1 MB)\n",
            "\u001b[K     |████████████████████████████████| 8.1 MB 49.2 MB/s \n",
            "\u001b[?25hCollecting awscli>=1.11.91\n",
            "  Downloading awscli-1.22.0-py3-none-any.whl (3.8 MB)\n",
            "\u001b[K     |████████████████████████████████| 3.8 MB 47.4 MB/s \n",
            "\u001b[?25hCollecting botocore<2.0a.0,>=1.12.36\n",
            "  Downloading botocore-1.23.0-py3-none-any.whl (8.1 MB)\n",
            "\u001b[K     |████████████████████████████████| 8.1 MB 32.5 MB/s \n",
            "\u001b[?25hCollecting awscli>=1.11.91\n",
            "  Downloading awscli-1.21.12-py3-none-any.whl (3.7 MB)\n",
            "\u001b[K     |████████████████████████████████| 3.7 MB 52.0 MB/s \n",
            "\u001b[?25hCollecting botocore<2.0a.0,>=1.12.36\n",
            "  Downloading botocore-1.22.12-py3-none-any.whl (8.1 MB)\n",
            "\u001b[K     |████████████████████████████████| 8.1 MB 38.9 MB/s \n",
            "\u001b[?25hCollecting awscli>=1.11.91\n",
            "  Downloading awscli-1.21.11-py3-none-any.whl (3.7 MB)\n",
            "\u001b[K     |████████████████████████████████| 3.7 MB 33.0 MB/s \n",
            "\u001b[?25hCollecting botocore<2.0a.0,>=1.12.36\n",
            "  Downloading botocore-1.22.11-py3-none-any.whl (8.1 MB)\n",
            "\u001b[K     |████████████████████████████████| 8.1 MB 31.5 MB/s \n",
            "\u001b[?25hCollecting awscli>=1.11.91\n",
            "  Downloading awscli-1.21.10-py3-none-any.whl (3.7 MB)\n",
            "\u001b[K     |████████████████████████████████| 3.7 MB 40.7 MB/s \n",
            "\u001b[?25hCollecting botocore<2.0a.0,>=1.12.36\n",
            "  Downloading botocore-1.22.10-py3-none-any.whl (8.1 MB)\n",
            "\u001b[K     |████████████████████████████████| 8.1 MB 29.9 MB/s \n",
            "\u001b[?25hCollecting awscli>=1.11.91\n",
            "  Downloading awscli-1.21.9-py3-none-any.whl (3.7 MB)\n",
            "\u001b[K     |████████████████████████████████| 3.7 MB 35.4 MB/s \n",
            "\u001b[?25hCollecting botocore<2.0a.0,>=1.12.36\n",
            "  Downloading botocore-1.22.9-py3-none-any.whl (8.1 MB)\n",
            "\u001b[K     |████████████████████████████████| 8.1 MB 23.0 MB/s \n",
            "\u001b[?25hCollecting awscli>=1.11.91\n",
            "  Downloading awscli-1.21.8-py3-none-any.whl (3.7 MB)\n",
            "\u001b[K     |████████████████████████████████| 3.7 MB 22.4 MB/s \n",
            "\u001b[?25hCollecting botocore<2.0a.0,>=1.12.36\n",
            "  Downloading botocore-1.22.8-py3-none-any.whl (8.1 MB)\n",
            "\u001b[K     |████████████████████████████████| 8.1 MB 30.8 MB/s \n",
            "\u001b[?25hCollecting awscli>=1.11.91\n",
            "  Downloading awscli-1.21.7-py3-none-any.whl (3.7 MB)\n",
            "\u001b[K     |████████████████████████████████| 3.7 MB 40.4 MB/s \n",
            "\u001b[?25hCollecting botocore<2.0a.0,>=1.12.36\n",
            "  Downloading botocore-1.22.7-py3-none-any.whl (8.1 MB)\n",
            "\u001b[K     |████████████████████████████████| 8.1 MB 24.7 MB/s \n",
            "\u001b[?25hCollecting awscli>=1.11.91\n",
            "  Downloading awscli-1.21.6-py3-none-any.whl (3.7 MB)\n",
            "\u001b[K     |████████████████████████████████| 3.7 MB 24.3 MB/s \n",
            "\u001b[?25hCollecting botocore<2.0a.0,>=1.12.36\n",
            "  Downloading botocore-1.22.6-py3-none-any.whl (8.1 MB)\n",
            "\u001b[K     |████████████████████████████████| 8.1 MB 29.4 MB/s \n",
            "\u001b[?25hCollecting awscli>=1.11.91\n",
            "  Downloading awscli-1.21.5-py3-none-any.whl (3.7 MB)\n",
            "\u001b[K     |████████████████████████████████| 3.7 MB 29.0 MB/s \n",
            "\u001b[?25h  Downloading awscli-1.21.4-py3-none-any.whl (3.7 MB)\n",
            "\u001b[K     |████████████████████████████████| 3.7 MB 27.1 MB/s \n",
            "\u001b[?25hCollecting botocore<2.0a.0,>=1.12.36\n",
            "  Downloading botocore-1.22.4-py3-none-any.whl (8.0 MB)\n",
            "\u001b[K     |████████████████████████████████| 8.0 MB 11.2 MB/s \n",
            "\u001b[?25hCollecting awscli>=1.11.91\n",
            "  Downloading awscli-1.21.3-py3-none-any.whl (3.7 MB)\n",
            "\u001b[K     |████████████████████████████████| 3.7 MB 36.5 MB/s \n",
            "\u001b[?25h  Downloading awscli-1.21.2-py3-none-any.whl (3.7 MB)\n",
            "\u001b[K     |████████████████████████████████| 3.7 MB 26.7 MB/s \n",
            "\u001b[?25hCollecting botocore<2.0a.0,>=1.12.36\n",
            "  Downloading botocore-1.22.2-py3-none-any.whl (8.0 MB)\n",
            "\u001b[K     |████████████████████████████████| 8.0 MB 21.1 MB/s \n",
            "\u001b[?25hCollecting awscli>=1.11.91\n",
            "  Downloading awscli-1.21.1-py3-none-any.whl (3.7 MB)\n",
            "\u001b[K     |████████████████████████████████| 3.7 MB 24.5 MB/s \n",
            "\u001b[?25hCollecting botocore<2.0a.0,>=1.12.36\n",
            "  Downloading botocore-1.22.1-py3-none-any.whl (8.0 MB)\n",
            "\u001b[K     |████████████████████████████████| 8.0 MB 42.5 MB/s \n",
            "\u001b[?25hCollecting awscli>=1.11.91\n",
            "  Downloading awscli-1.21.0-py3-none-any.whl (3.7 MB)\n",
            "\u001b[K     |████████████████████████████████| 3.7 MB 22.8 MB/s \n",
            "\u001b[?25hCollecting botocore<2.0a.0,>=1.12.36\n",
            "  Downloading botocore-1.22.0-py3-none-any.whl (8.0 MB)\n",
            "\u001b[K     |████████████████████████████████| 8.0 MB 39.1 MB/s \n",
            "\u001b[?25hCollecting awscli>=1.11.91\n",
            "  Downloading awscli-1.20.65-py3-none-any.whl (3.7 MB)\n",
            "\u001b[K     |████████████████████████████████| 3.7 MB 8.0 MB/s \n",
            "\u001b[?25hCollecting botocore<2.0a.0,>=1.12.36\n",
            "  Downloading botocore-1.21.65-py3-none-any.whl (8.0 MB)\n",
            "\u001b[K     |████████████████████████████████| 8.0 MB 32.2 MB/s \n",
            "\u001b[?25hCollecting awscli>=1.11.91\n",
            "  Downloading awscli-1.20.64-py3-none-any.whl (3.7 MB)\n",
            "\u001b[K     |████████████████████████████████| 3.7 MB 31.8 MB/s \n",
            "\u001b[?25hCollecting botocore<2.0a.0,>=1.12.36\n",
            "  Downloading botocore-1.21.64-py3-none-any.whl (8.0 MB)\n",
            "\u001b[K     |████████████████████████████████| 8.0 MB 10.0 MB/s \n",
            "\u001b[?25hCollecting awscli>=1.11.91\n",
            "  Downloading awscli-1.20.63-py3-none-any.whl (3.7 MB)\n",
            "\u001b[K     |████████████████████████████████| 3.7 MB 42.3 MB/s \n",
            "\u001b[?25hCollecting botocore<2.0a.0,>=1.12.36\n",
            "  Downloading botocore-1.21.63-py3-none-any.whl (8.0 MB)\n",
            "\u001b[K     |████████████████████████████████| 8.0 MB 21.7 MB/s \n",
            "\u001b[?25hCollecting awscli>=1.11.91\n",
            "  Downloading awscli-1.20.62-py3-none-any.whl (3.7 MB)\n",
            "\u001b[K     |████████████████████████████████| 3.7 MB 20.8 MB/s \n",
            "\u001b[?25hCollecting botocore<2.0a.0,>=1.12.36\n",
            "  Downloading botocore-1.21.62-py3-none-any.whl (8.0 MB)\n",
            "\u001b[K     |████████████████████████████████| 8.0 MB 28.0 MB/s \n",
            "\u001b[?25hCollecting awscli>=1.11.91\n",
            "  Downloading awscli-1.20.61-py3-none-any.whl (3.7 MB)\n",
            "\u001b[K     |████████████████████████████████| 3.7 MB 33.9 MB/s \n",
            "\u001b[?25hCollecting botocore<2.0a.0,>=1.12.36\n",
            "  Downloading botocore-1.21.61-py3-none-any.whl (8.0 MB)\n",
            "\u001b[K     |████████████████████████████████| 8.0 MB 1.6 MB/s \n",
            "\u001b[?25hCollecting awscli>=1.11.91\n",
            "  Downloading awscli-1.20.60-py3-none-any.whl (3.7 MB)\n",
            "\u001b[K     |████████████████████████████████| 3.7 MB 33.7 MB/s \n",
            "\u001b[?25hCollecting botocore<2.0a.0,>=1.12.36\n",
            "  Downloading botocore-1.21.60-py3-none-any.whl (8.0 MB)\n",
            "\u001b[K     |████████████████████████████████| 8.0 MB 31.4 MB/s \n",
            "\u001b[?25hCollecting awscli>=1.11.91\n",
            "  Downloading awscli-1.20.59-py3-none-any.whl (3.7 MB)\n",
            "\u001b[K     |████████████████████████████████| 3.7 MB 28.0 MB/s \n",
            "\u001b[?25hCollecting botocore<2.0a.0,>=1.12.36\n",
            "  Downloading botocore-1.21.59-py3-none-any.whl (8.0 MB)\n",
            "\u001b[K     |████████████████████████████████| 8.0 MB 25.1 MB/s \n",
            "\u001b[?25hCollecting awscli>=1.11.91\n",
            "  Downloading awscli-1.20.58-py3-none-any.whl (3.7 MB)\n",
            "\u001b[K     |████████████████████████████████| 3.7 MB 47.3 MB/s \n",
            "\u001b[?25hCollecting botocore<2.0a.0,>=1.12.36\n",
            "  Downloading botocore-1.21.58-py3-none-any.whl (8.0 MB)\n",
            "\u001b[K     |████████████████████████████████| 8.0 MB 38.2 MB/s \n",
            "\u001b[?25hCollecting awscli>=1.11.91\n",
            "  Downloading awscli-1.20.57-py3-none-any.whl (3.7 MB)\n",
            "\u001b[K     |████████████████████████████████| 3.7 MB 30.9 MB/s \n",
            "\u001b[?25hCollecting botocore<2.0a.0,>=1.12.36\n",
            "  Downloading botocore-1.21.57-py3-none-any.whl (8.0 MB)\n",
            "\u001b[K     |████████████████████████████████| 8.0 MB 36.7 MB/s \n",
            "\u001b[?25hCollecting awscli>=1.11.91\n",
            "  Downloading awscli-1.20.56-py3-none-any.whl (3.7 MB)\n",
            "\u001b[K     |████████████████████████████████| 3.7 MB 35.3 MB/s \n",
            "\u001b[?25hCollecting botocore<2.0a.0,>=1.12.36\n",
            "  Downloading botocore-1.21.56-py3-none-any.whl (8.0 MB)\n",
            "\u001b[K     |████████████████████████████████| 8.0 MB 30.0 MB/s \n",
            "\u001b[?25hCollecting awscli>=1.11.91\n",
            "  Downloading awscli-1.20.55-py3-none-any.whl (3.7 MB)\n",
            "\u001b[K     |████████████████████████████████| 3.7 MB 31.7 MB/s \n",
            "\u001b[?25hCollecting botocore<2.0a.0,>=1.12.36\n",
            "  Downloading botocore-1.21.55-py3-none-any.whl (8.0 MB)\n",
            "\u001b[K     |████████████████████████████████| 8.0 MB 28.2 MB/s \n",
            "\u001b[?25hCollecting awscli>=1.11.91\n",
            "  Downloading awscli-1.20.54-py3-none-any.whl (3.7 MB)\n",
            "\u001b[K     |████████████████████████████████| 3.7 MB 20.8 MB/s \n",
            "\u001b[?25hCollecting botocore<2.0a.0,>=1.12.36\n",
            "  Downloading botocore-1.21.54-py3-none-any.whl (8.0 MB)\n",
            "\u001b[K     |████████████████████████████████| 8.0 MB 37.1 MB/s \n",
            "\u001b[?25hCollecting awscli>=1.11.91\n",
            "  Downloading awscli-1.20.53-py3-none-any.whl (3.7 MB)\n",
            "\u001b[K     |████████████████████████████████| 3.7 MB 31.9 MB/s \n",
            "\u001b[?25hCollecting botocore<2.0a.0,>=1.12.36\n",
            "  Downloading botocore-1.21.53-py3-none-any.whl (8.0 MB)\n",
            "\u001b[K     |████████████████████████████████| 8.0 MB 30.1 MB/s \n",
            "\u001b[?25hCollecting awscli>=1.11.91\n",
            "  Downloading awscli-1.20.52-py3-none-any.whl (3.7 MB)\n",
            "\u001b[K     |████████████████████████████████| 3.7 MB 33.1 MB/s \n",
            "\u001b[?25hCollecting botocore<2.0a.0,>=1.12.36\n",
            "  Downloading botocore-1.21.52-py3-none-any.whl (8.0 MB)\n",
            "\u001b[K     |████████████████████████████████| 8.0 MB 33.5 MB/s \n",
            "\u001b[?25hCollecting awscli>=1.11.91\n",
            "  Downloading awscli-1.20.51-py3-none-any.whl (3.7 MB)\n",
            "\u001b[K     |████████████████████████████████| 3.7 MB 32.0 MB/s \n",
            "\u001b[?25hCollecting botocore<2.0a.0,>=1.12.36\n",
            "  Downloading botocore-1.21.51-py3-none-any.whl (8.0 MB)\n",
            "\u001b[K     |████████████████████████████████| 8.0 MB 27.2 MB/s \n",
            "\u001b[?25hCollecting awscli>=1.11.91\n",
            "  Downloading awscli-1.20.50-py3-none-any.whl (3.7 MB)\n",
            "\u001b[K     |████████████████████████████████| 3.7 MB 36.9 MB/s \n",
            "\u001b[?25hCollecting botocore<2.0a.0,>=1.12.36\n",
            "  Downloading botocore-1.21.50-py3-none-any.whl (8.0 MB)\n",
            "\u001b[K     |████████████████████████████████| 8.0 MB 14.5 MB/s \n",
            "\u001b[?25hCollecting awscli>=1.11.91\n",
            "  Downloading awscli-1.20.49-py3-none-any.whl (3.7 MB)\n",
            "\u001b[K     |████████████████████████████████| 3.7 MB 25.6 MB/s \n",
            "\u001b[?25hCollecting botocore<2.0a.0,>=1.12.36\n",
            "  Downloading botocore-1.21.49-py3-none-any.whl (8.0 MB)\n",
            "\u001b[K     |████████████████████████████████| 8.0 MB 16.9 MB/s \n",
            "\u001b[?25hCollecting awscli>=1.11.91\n",
            "  Downloading awscli-1.20.48-py3-none-any.whl (3.7 MB)\n",
            "\u001b[K     |████████████████████████████████| 3.7 MB 30.0 MB/s \n",
            "\u001b[?25hCollecting botocore<2.0a.0,>=1.12.36\n",
            "  Downloading botocore-1.21.48-py3-none-any.whl (7.9 MB)\n",
            "\u001b[K     |████████████████████████████████| 7.9 MB 21.3 MB/s \n",
            "\u001b[?25hCollecting awscli>=1.11.91\n",
            "  Downloading awscli-1.20.47-py3-none-any.whl (3.7 MB)\n",
            "\u001b[K     |████████████████████████████████| 3.7 MB 30.7 MB/s \n",
            "\u001b[?25hCollecting botocore<2.0a.0,>=1.12.36\n",
            "  Downloading botocore-1.21.47-py3-none-any.whl (7.9 MB)\n",
            "\u001b[K     |████████████████████████████████| 7.9 MB 31.5 MB/s \n",
            "\u001b[?25hCollecting awscli>=1.11.91\n",
            "  Downloading awscli-1.20.46-py3-none-any.whl (3.7 MB)\n",
            "\u001b[K     |████████████████████████████████| 3.7 MB 36.5 MB/s \n",
            "\u001b[?25hCollecting botocore<2.0a.0,>=1.12.36\n",
            "  Downloading botocore-1.21.46-py3-none-any.whl (7.9 MB)\n",
            "\u001b[K     |████████████████████████████████| 7.9 MB 28.3 MB/s \n",
            "\u001b[?25hCollecting awscli>=1.11.91\n",
            "  Downloading awscli-1.20.45-py3-none-any.whl (3.7 MB)\n",
            "\u001b[K     |████████████████████████████████| 3.7 MB 31.1 MB/s \n",
            "\u001b[?25hCollecting botocore<2.0a.0,>=1.12.36\n",
            "  Downloading botocore-1.21.45-py3-none-any.whl (7.9 MB)\n",
            "\u001b[K     |████████████████████████████████| 7.9 MB 42.0 MB/s \n",
            "\u001b[?25hCollecting awscli>=1.11.91\n",
            "  Downloading awscli-1.20.44-py3-none-any.whl (3.7 MB)\n",
            "\u001b[K     |████████████████████████████████| 3.7 MB 20.8 MB/s \n",
            "\u001b[?25hCollecting botocore<2.0a.0,>=1.12.36\n",
            "  Downloading botocore-1.21.44-py3-none-any.whl (7.9 MB)\n",
            "\u001b[K     |████████████████████████████████| 7.9 MB 29.1 MB/s \n",
            "\u001b[?25hCollecting awscli>=1.11.91\n",
            "  Downloading awscli-1.20.43-py3-none-any.whl (3.7 MB)\n",
            "\u001b[K     |████████████████████████████████| 3.7 MB 27.3 MB/s \n",
            "\u001b[?25hCollecting botocore<2.0a.0,>=1.12.36\n",
            "  Downloading botocore-1.21.43-py3-none-any.whl (7.9 MB)\n",
            "\u001b[K     |████████████████████████████████| 7.9 MB 47.4 MB/s \n",
            "\u001b[?25hCollecting awscli>=1.11.91\n",
            "  Downloading awscli-1.20.42-py3-none-any.whl (3.7 MB)\n",
            "\u001b[K     |████████████████████████████████| 3.7 MB 41.5 MB/s \n",
            "\u001b[?25hCollecting botocore<2.0a.0,>=1.12.36\n",
            "  Downloading botocore-1.21.42-py3-none-any.whl (7.9 MB)\n",
            "\u001b[K     |████████████████████████████████| 7.9 MB 29.0 MB/s \n",
            "\u001b[?25hCollecting awscli>=1.11.91\n",
            "  Downloading awscli-1.20.41-py3-none-any.whl (3.7 MB)\n",
            "\u001b[K     |████████████████████████████████| 3.7 MB 38.9 MB/s \n",
            "\u001b[?25hCollecting botocore<2.0a.0,>=1.12.36\n",
            "  Downloading botocore-1.21.41-py3-none-any.whl (7.9 MB)\n",
            "\u001b[K     |████████████████████████████████| 7.9 MB 25.4 MB/s \n",
            "\u001b[?25hCollecting awscli>=1.11.91\n",
            "  Downloading awscli-1.20.40-py3-none-any.whl (3.7 MB)\n",
            "\u001b[K     |████████████████████████████████| 3.7 MB 28.4 MB/s \n",
            "\u001b[?25hCollecting botocore<2.0a.0,>=1.12.36\n",
            "  Downloading botocore-1.21.40-py3-none-any.whl (7.9 MB)\n",
            "\u001b[K     |████████████████████████████████| 7.9 MB 24.5 MB/s \n",
            "\u001b[?25hCollecting awscli>=1.11.91\n",
            "  Downloading awscli-1.20.39-py3-none-any.whl (3.7 MB)\n",
            "\u001b[K     |████████████████████████████████| 3.7 MB 35.1 MB/s \n",
            "\u001b[?25hCollecting botocore<2.0a.0,>=1.12.36\n",
            "  Downloading botocore-1.21.39-py3-none-any.whl (7.9 MB)\n",
            "\u001b[K     |████████████████████████████████| 7.9 MB 27.0 MB/s \n",
            "\u001b[?25hCollecting awscli>=1.11.91\n",
            "  Downloading awscli-1.20.38-py3-none-any.whl (3.7 MB)\n",
            "\u001b[K     |████████████████████████████████| 3.7 MB 38.6 MB/s \n",
            "\u001b[?25h  Downloading awscli-1.20.37-py3-none-any.whl (3.7 MB)\n",
            "\u001b[K     |████████████████████████████████| 3.7 MB 25.8 MB/s \n",
            "\u001b[?25h  Downloading awscli-1.20.36-py3-none-any.whl (3.7 MB)\n",
            "\u001b[K     |████████████████████████████████| 3.7 MB 40.4 MB/s \n",
            "\u001b[?25hCollecting botocore<2.0a.0,>=1.12.36\n",
            "  Downloading botocore-1.21.36-py3-none-any.whl (7.9 MB)\n",
            "\u001b[K     |████████████████████████████████| 7.9 MB 18.9 MB/s \n",
            "\u001b[?25hCollecting awscli>=1.11.91\n",
            "  Downloading awscli-1.20.35-py3-none-any.whl (3.7 MB)\n",
            "\u001b[K     |████████████████████████████████| 3.7 MB 46.3 MB/s \n",
            "\u001b[?25hCollecting botocore<2.0a.0,>=1.12.36\n",
            "  Downloading botocore-1.21.35-py3-none-any.whl (7.9 MB)\n",
            "\u001b[K     |████████████████████████████████| 7.9 MB 7.5 MB/s \n",
            "\u001b[?25hCollecting awscli>=1.11.91\n",
            "  Downloading awscli-1.20.34-py3-none-any.whl (3.7 MB)\n",
            "\u001b[K     |████████████████████████████████| 3.7 MB 36.0 MB/s \n",
            "\u001b[?25hCollecting botocore<2.0a.0,>=1.12.36\n",
            "  Downloading botocore-1.21.34-py3-none-any.whl (7.9 MB)\n",
            "\u001b[K     |████████████████████████████████| 7.9 MB 34.5 MB/s \n",
            "\u001b[?25hCollecting awscli>=1.11.91\n",
            "  Downloading awscli-1.20.33-py3-none-any.whl (3.7 MB)\n",
            "\u001b[K     |████████████████████████████████| 3.7 MB 42.9 MB/s \n",
            "\u001b[?25hCollecting botocore<2.0a.0,>=1.12.36\n",
            "  Downloading botocore-1.21.33-py3-none-any.whl (7.8 MB)\n",
            "\u001b[K     |████████████████████████████████| 7.8 MB 32.6 MB/s \n",
            "\u001b[?25hCollecting awscli>=1.11.91\n",
            "  Downloading awscli-1.20.32-py3-none-any.whl (3.7 MB)\n",
            "\u001b[K     |████████████████████████████████| 3.7 MB 39.1 MB/s \n",
            "\u001b[?25hCollecting botocore<2.0a.0,>=1.12.36\n",
            "  Downloading botocore-1.21.32-py3-none-any.whl (7.8 MB)\n",
            "\u001b[K     |████████████████████████████████| 7.8 MB 29.0 MB/s \n",
            "\u001b[?25hCollecting awscli>=1.11.91\n",
            "  Downloading awscli-1.20.31-py3-none-any.whl (3.7 MB)\n",
            "\u001b[K     |████████████████████████████████| 3.7 MB 38.4 MB/s \n",
            "\u001b[?25hCollecting botocore<2.0a.0,>=1.12.36\n",
            "  Downloading botocore-1.21.31-py3-none-any.whl (7.8 MB)\n",
            "\u001b[K     |████████████████████████████████| 7.8 MB 24.4 MB/s \n",
            "\u001b[?25hCollecting awscli>=1.11.91\n",
            "  Downloading awscli-1.20.30-py3-none-any.whl (3.7 MB)\n",
            "\u001b[K     |████████████████████████████████| 3.7 MB 35.9 MB/s \n",
            "\u001b[?25hCollecting botocore<2.0a.0,>=1.12.36\n",
            "  Downloading botocore-1.21.30-py3-none-any.whl (7.8 MB)\n",
            "\u001b[K     |████████████████████████████████| 7.8 MB 28.7 MB/s \n",
            "\u001b[?25hCollecting awscli>=1.11.91\n",
            "  Downloading awscli-1.20.29-py3-none-any.whl (3.7 MB)\n",
            "\u001b[K     |████████████████████████████████| 3.7 MB 33.1 MB/s \n",
            "\u001b[?25hCollecting botocore<2.0a.0,>=1.12.36\n",
            "  Downloading botocore-1.21.29-py3-none-any.whl (7.8 MB)\n",
            "\u001b[K     |████████████████████████████████| 7.8 MB 26.8 MB/s \n",
            "\u001b[?25hCollecting awscli>=1.11.91\n",
            "  Downloading awscli-1.20.28-py3-none-any.whl (3.7 MB)\n",
            "\u001b[K     |████████████████████████████████| 3.7 MB 31.0 MB/s \n",
            "\u001b[?25hCollecting botocore<2.0a.0,>=1.12.36\n",
            "  Downloading botocore-1.21.28-py3-none-any.whl (7.8 MB)\n",
            "\u001b[K     |████████████████████████████████| 7.8 MB 37.7 MB/s \n",
            "\u001b[?25hCollecting awscli>=1.11.91\n",
            "  Downloading awscli-1.20.27-py3-none-any.whl (3.7 MB)\n",
            "\u001b[K     |████████████████████████████████| 3.7 MB 27.4 MB/s \n",
            "\u001b[?25hCollecting botocore<2.0a.0,>=1.12.36\n",
            "  Downloading botocore-1.21.27-py3-none-any.whl (7.8 MB)\n",
            "\u001b[K     |████████████████████████████████| 7.8 MB 28.8 MB/s \n",
            "\u001b[?25hCollecting awscli>=1.11.91\n",
            "  Downloading awscli-1.20.26-py3-none-any.whl (3.7 MB)\n",
            "\u001b[K     |████████████████████████████████| 3.7 MB 37.7 MB/s \n",
            "\u001b[?25hCollecting botocore<2.0a.0,>=1.12.36\n",
            "  Downloading botocore-1.21.26-py3-none-any.whl (7.8 MB)\n",
            "\u001b[K     |████████████████████████████████| 7.8 MB 35.5 MB/s \n",
            "\u001b[?25hCollecting awscli>=1.11.91\n",
            "  Downloading awscli-1.20.25-py3-none-any.whl (3.7 MB)\n",
            "\u001b[K     |████████████████████████████████| 3.7 MB 38.7 MB/s \n",
            "\u001b[?25h  Downloading awscli-1.20.24-py3-none-any.whl (3.7 MB)\n",
            "\u001b[K     |████████████████████████████████| 3.7 MB 32.0 MB/s \n",
            "\u001b[?25hCollecting botocore<2.0a.0,>=1.12.36\n",
            "  Downloading botocore-1.21.24-py3-none-any.whl (7.8 MB)\n",
            "\u001b[K     |████████████████████████████████| 7.8 MB 36.5 MB/s \n",
            "\u001b[?25hCollecting awscli>=1.11.91\n",
            "  Downloading awscli-1.20.23-py3-none-any.whl (3.7 MB)\n",
            "\u001b[K     |████████████████████████████████| 3.7 MB 17.5 MB/s \n",
            "\u001b[?25hCollecting botocore<2.0a.0,>=1.12.36\n",
            "  Downloading botocore-1.21.23-py3-none-any.whl (7.8 MB)\n",
            "\u001b[K     |████████████████████████████████| 7.8 MB 25.9 MB/s \n",
            "\u001b[?25hCollecting awscli>=1.11.91\n",
            "  Downloading awscli-1.20.22-py3-none-any.whl (3.7 MB)\n",
            "\u001b[K     |████████████████████████████████| 3.7 MB 35.9 MB/s \n",
            "\u001b[?25hCollecting botocore<2.0a.0,>=1.12.36\n",
            "  Downloading botocore-1.21.22-py3-none-any.whl (7.8 MB)\n",
            "\u001b[K     |████████████████████████████████| 7.8 MB 40.1 MB/s \n",
            "\u001b[?25hCollecting awscli>=1.11.91\n",
            "  Downloading awscli-1.20.21-py3-none-any.whl (3.7 MB)\n",
            "\u001b[K     |████████████████████████████████| 3.7 MB 17.6 MB/s \n",
            "\u001b[?25h  Downloading awscli-1.20.20-py3-none-any.whl (3.7 MB)\n",
            "\u001b[K     |████████████████████████████████| 3.7 MB 40.9 MB/s \n",
            "\u001b[?25hCollecting botocore<2.0a.0,>=1.12.36\n",
            "  Downloading botocore-1.21.20-py3-none-any.whl (7.8 MB)\n",
            "\u001b[K     |████████████████████████████████| 7.8 MB 21.9 MB/s \n",
            "\u001b[?25hCollecting awscli>=1.11.91\n",
            "  Downloading awscli-1.20.19-py3-none-any.whl (3.7 MB)\n",
            "\u001b[K     |████████████████████████████████| 3.7 MB 30.2 MB/s \n",
            "\u001b[?25hCollecting botocore<2.0a.0,>=1.12.36\n",
            "  Downloading botocore-1.21.19-py3-none-any.whl (7.8 MB)\n",
            "\u001b[K     |████████████████████████████████| 7.8 MB 20.6 MB/s \n",
            "\u001b[?25hCollecting awscli>=1.11.91\n",
            "  Downloading awscli-1.20.18-py3-none-any.whl (3.7 MB)\n",
            "\u001b[K     |████████████████████████████████| 3.7 MB 42.8 MB/s \n",
            "\u001b[?25hCollecting botocore<2.0a.0,>=1.12.36\n",
            "  Downloading botocore-1.21.18-py3-none-any.whl (7.8 MB)\n",
            "\u001b[K     |████████████████████████████████| 7.8 MB 36.2 MB/s \n",
            "\u001b[?25hCollecting awscli>=1.11.91\n",
            "  Downloading awscli-1.20.17-py3-none-any.whl (3.7 MB)\n",
            "\u001b[K     |████████████████████████████████| 3.7 MB 36.8 MB/s \n",
            "\u001b[?25hCollecting botocore<2.0a.0,>=1.12.36\n",
            "  Downloading botocore-1.21.17-py3-none-any.whl (7.8 MB)\n",
            "\u001b[K     |████████████████████████████████| 7.8 MB 31.9 MB/s \n",
            "\u001b[?25hCollecting awscli>=1.11.91\n",
            "  Downloading awscli-1.20.16-py3-none-any.whl (3.7 MB)\n",
            "\u001b[K     |████████████████████████████████| 3.7 MB 30.9 MB/s \n",
            "\u001b[?25hCollecting botocore<2.0a.0,>=1.12.36\n",
            "  Downloading botocore-1.21.16-py3-none-any.whl (7.8 MB)\n",
            "\u001b[K     |████████████████████████████████| 7.8 MB 35.9 MB/s \n",
            "\u001b[?25hCollecting awscli>=1.11.91\n",
            "  Downloading awscli-1.20.15-py3-none-any.whl (3.7 MB)\n",
            "\u001b[K     |████████████████████████████████| 3.7 MB 42.9 MB/s \n",
            "\u001b[?25hCollecting botocore<2.0a.0,>=1.12.36\n",
            "  Downloading botocore-1.21.15-py3-none-any.whl (7.8 MB)\n",
            "\u001b[K     |████████████████████████████████| 7.8 MB 24.6 MB/s \n",
            "\u001b[?25hCollecting awscli>=1.11.91\n",
            "  Downloading awscli-1.20.14-py3-none-any.whl (3.7 MB)\n",
            "\u001b[K     |████████████████████████████████| 3.7 MB 35.1 MB/s \n",
            "\u001b[?25hCollecting botocore<2.0a.0,>=1.12.36\n",
            "  Downloading botocore-1.21.14-py3-none-any.whl (7.8 MB)\n",
            "\u001b[K     |████████████████████████████████| 7.8 MB 25.3 MB/s \n",
            "\u001b[?25hCollecting awscli>=1.11.91\n",
            "  Downloading awscli-1.20.13-py3-none-any.whl (3.7 MB)\n",
            "\u001b[K     |████████████████████████████████| 3.7 MB 43.6 MB/s \n",
            "\u001b[?25hCollecting botocore<2.0a.0,>=1.12.36\n",
            "  Downloading botocore-1.21.13-py3-none-any.whl (7.8 MB)\n",
            "\u001b[K     |████████████████████████████████| 7.8 MB 35.2 MB/s \n",
            "\u001b[?25hCollecting awscli>=1.11.91\n",
            "  Downloading awscli-1.20.12-py3-none-any.whl (3.7 MB)\n",
            "\u001b[K     |████████████████████████████████| 3.7 MB 40.7 MB/s \n",
            "\u001b[?25hCollecting botocore<2.0a.0,>=1.12.36\n",
            "  Downloading botocore-1.21.12-py3-none-any.whl (7.8 MB)\n",
            "\u001b[K     |████████████████████████████████| 7.8 MB 38.5 MB/s \n",
            "\u001b[?25hCollecting awscli>=1.11.91\n",
            "  Downloading awscli-1.20.11-py3-none-any.whl (3.7 MB)\n",
            "\u001b[K     |████████████████████████████████| 3.7 MB 46.7 MB/s \n",
            "\u001b[?25hCollecting botocore<2.0a.0,>=1.12.36\n",
            "  Downloading botocore-1.21.11-py3-none-any.whl (7.8 MB)\n",
            "\u001b[K     |████████████████████████████████| 7.8 MB 29.4 MB/s \n",
            "\u001b[?25hCollecting awscli>=1.11.91\n",
            "  Downloading awscli-1.20.10-py3-none-any.whl (3.7 MB)\n",
            "\u001b[K     |████████████████████████████████| 3.7 MB 30.8 MB/s \n",
            "\u001b[?25hCollecting botocore<2.0a.0,>=1.12.36\n",
            "  Downloading botocore-1.21.10-py3-none-any.whl (7.8 MB)\n",
            "\u001b[K     |████████████████████████████████| 7.8 MB 27.7 MB/s \n",
            "\u001b[?25hCollecting awscli>=1.11.91\n",
            "  Downloading awscli-1.20.9-py3-none-any.whl (3.7 MB)\n",
            "\u001b[K     |████████████████████████████████| 3.7 MB 21.3 MB/s \n",
            "\u001b[?25hCollecting botocore<2.0a.0,>=1.12.36\n",
            "  Downloading botocore-1.21.9-py3-none-any.whl (7.8 MB)\n",
            "\u001b[K     |████████████████████████████████| 7.8 MB 25.1 MB/s \n",
            "\u001b[?25hCollecting awscli>=1.11.91\n",
            "  Downloading awscli-1.20.8-py3-none-any.whl (3.7 MB)\n",
            "\u001b[K     |████████████████████████████████| 3.7 MB 66.4 MB/s \n",
            "\u001b[?25h  Downloading awscli-1.20.7-py3-none-any.whl (3.7 MB)\n",
            "\u001b[K     |████████████████████████████████| 3.7 MB 18.7 MB/s \n",
            "\u001b[?25h  Downloading awscli-1.20.6-py3-none-any.whl (3.7 MB)\n",
            "\u001b[K     |████████████████████████████████| 3.7 MB 33.1 MB/s \n",
            "\u001b[?25hCollecting botocore<2.0a.0,>=1.12.36\n",
            "  Downloading botocore-1.21.6-py3-none-any.whl (7.7 MB)\n",
            "\u001b[K     |████████████████████████████████| 7.7 MB 25.5 MB/s \n",
            "\u001b[?25hCollecting awscli>=1.11.91\n",
            "  Downloading awscli-1.20.5-py3-none-any.whl (3.7 MB)\n",
            "\u001b[K     |████████████████████████████████| 3.7 MB 41.9 MB/s \n",
            "\u001b[?25hCollecting botocore<2.0a.0,>=1.12.36\n",
            "  Downloading botocore-1.21.5-py3-none-any.whl (7.7 MB)\n",
            "\u001b[K     |████████████████████████████████| 7.7 MB 26.9 MB/s \n",
            "\u001b[?25hCollecting awscli>=1.11.91\n",
            "  Downloading awscli-1.20.4-py3-none-any.whl (3.7 MB)\n",
            "\u001b[K     |████████████████████████████████| 3.7 MB 44.4 MB/s \n",
            "\u001b[?25hCollecting botocore<2.0a.0,>=1.12.36\n",
            "  Downloading botocore-1.21.4-py3-none-any.whl (7.7 MB)\n",
            "\u001b[K     |████████████████████████████████| 7.7 MB 38.5 MB/s \n",
            "\u001b[?25hCollecting awscli>=1.11.91\n",
            "  Downloading awscli-1.20.3-py3-none-any.whl (3.6 MB)\n",
            "\u001b[K     |████████████████████████████████| 3.6 MB 41.1 MB/s \n",
            "\u001b[?25hCollecting botocore<2.0a.0,>=1.12.36\n",
            "  Downloading botocore-1.21.3-py3-none-any.whl (7.7 MB)\n",
            "\u001b[K     |████████████████████████████████| 7.7 MB 27.3 MB/s \n",
            "\u001b[?25hCollecting awscli>=1.11.91\n",
            "  Downloading awscli-1.20.2-py3-none-any.whl (3.6 MB)\n",
            "\u001b[K     |████████████████████████████████| 3.6 MB 44.3 MB/s \n",
            "\u001b[?25hCollecting botocore<2.0a.0,>=1.12.36\n",
            "  Downloading botocore-1.21.2-py3-none-any.whl (7.7 MB)\n",
            "\u001b[K     |████████████████████████████████| 7.7 MB 32.5 MB/s \n",
            "\u001b[?25hCollecting awscli>=1.11.91\n",
            "  Downloading awscli-1.20.1-py3-none-any.whl (3.6 MB)\n",
            "\u001b[K     |████████████████████████████████| 3.6 MB 53.5 MB/s \n",
            "\u001b[?25hCollecting botocore<2.0a.0,>=1.12.36\n",
            "  Downloading botocore-1.21.1-py3-none-any.whl (7.7 MB)\n",
            "\u001b[K     |████████████████████████████████| 7.7 MB 29.2 MB/s \n",
            "\u001b[?25hCollecting awscli>=1.11.91\n",
            "  Downloading awscli-1.20.0-py3-none-any.whl (3.6 MB)\n",
            "\u001b[K     |████████████████████████████████| 3.6 MB 37.0 MB/s \n",
            "\u001b[?25hCollecting botocore<2.0a.0,>=1.12.36\n",
            "  Downloading botocore-1.21.0-py3-none-any.whl (7.7 MB)\n",
            "\u001b[K     |████████████████████████████████| 7.7 MB 24.9 MB/s \n",
            "\u001b[?25hCollecting awscli>=1.11.91\n",
            "  Downloading awscli-1.19.112-py2.py3-none-any.whl (3.6 MB)\n",
            "\u001b[K     |████████████████████████████████| 3.6 MB 44.2 MB/s \n",
            "\u001b[?25hCollecting botocore<2.0a.0,>=1.12.36\n",
            "  Downloading botocore-1.20.112-py2.py3-none-any.whl (7.7 MB)\n",
            "\u001b[K     |████████████████████████████████| 7.7 MB 34.3 MB/s \n",
            "\u001b[?25hCollecting urllib3<1.27,>=1.25.4\n",
            "  Downloading urllib3-1.26.8-py2.py3-none-any.whl (138 kB)\n",
            "\u001b[K     |████████████████████████████████| 138 kB 48.2 MB/s \n",
            "\u001b[?25hCollecting jmespath<1.0.0,>=0.7.1\n",
            "  Downloading jmespath-0.10.0-py2.py3-none-any.whl (24 kB)\n",
            "Collecting sentencepiece\n",
            "  Downloading sentencepiece-0.1.96-cp37-cp37m-manylinux_2_17_x86_64.manylinux2014_x86_64.whl (1.2 MB)\n",
            "\u001b[K     |████████████████████████████████| 1.2 MB 44.3 MB/s \n",
            "\u001b[?25hCollecting zope.event\n",
            "  Downloading zope.event-4.5.0-py2.py3-none-any.whl (6.8 kB)\n",
            "Requirement already satisfied: greenlet<2.0,>=1.1.0 in /usr/local/lib/python3.7/dist-packages (from gevent>=1.3.6->allennlp==0.8.3->sciwing) (1.1.2)\n",
            "Collecting zope.interface\n",
            "  Downloading zope.interface-5.4.0-cp37-cp37m-manylinux2010_x86_64.whl (251 kB)\n",
            "\u001b[K     |████████████████████████████████| 251 kB 57.2 MB/s \n",
            "\u001b[?25hCollecting gitdb<5,>=4.0.1\n",
            "  Downloading gitdb-4.0.9-py3-none-any.whl (63 kB)\n",
            "\u001b[K     |████████████████████████████████| 63 kB 1.3 MB/s \n",
            "\u001b[?25hCollecting smmap<6,>=3.0.1\n",
            "  Downloading smmap-5.0.0-py3-none-any.whl (24 kB)\n",
            "Requirement already satisfied: pymongo in /usr/local/lib/python3.7/dist-packages (from hyperopt>=0.1.1->flair==0.5->sciwing) (4.0.2)\n",
            "Requirement already satisfied: MarkupSafe>=0.23 in /usr/local/lib/python3.7/dist-packages (from Jinja2->sciwing) (2.0.1)\n",
            "Requirement already satisfied: pyrsistent>=0.14.0 in /usr/local/lib/python3.7/dist-packages (from jsonschema<3.1.0,>=2.6.0->spacy==2.1.4->sciwing) (0.18.1)\n",
            "Requirement already satisfied: kiwisolver>=1.0.1 in /usr/local/lib/python3.7/dist-packages (from matplotlib>=2.2.3->allennlp==0.8.3->sciwing) (1.3.2)\n",
            "Requirement already satisfied: cycler>=0.10 in /usr/local/lib/python3.7/dist-packages (from matplotlib>=2.2.3->allennlp==0.8.3->sciwing) (0.11.0)\n",
            "Requirement already satisfied: pyparsing!=2.0.4,!=2.1.2,!=2.1.6,>=2.0.1 in /usr/local/lib/python3.7/dist-packages (from matplotlib>=2.2.3->allennlp==0.8.3->sciwing) (3.0.7)\n",
            "Collecting cryptography>=3.3.1\n",
            "  Downloading cryptography-36.0.1-cp36-abi3-manylinux_2_24_x86_64.whl (3.6 MB)\n",
            "\u001b[K     |████████████████████████████████| 3.6 MB 43.2 MB/s \n",
            "\u001b[?25hCollecting xmltodict\n",
            "  Downloading xmltodict-0.12.0-py2.py3-none-any.whl (9.2 kB)\n",
            "Collecting boto3\n",
            "  Downloading boto3-1.21.17-py3-none-any.whl (132 kB)\n",
            "\u001b[K     |████████████████████████████████| 132 kB 66.9 MB/s \n",
            "\u001b[?25h  Downloading boto3-1.21.16-py3-none-any.whl (132 kB)\n",
            "\u001b[K     |████████████████████████████████| 132 kB 61.2 MB/s \n",
            "\u001b[?25h  Downloading boto3-1.21.15-py3-none-any.whl (132 kB)\n",
            "\u001b[K     |████████████████████████████████| 132 kB 61.8 MB/s \n",
            "\u001b[?25h  Downloading boto3-1.21.14-py3-none-any.whl (132 kB)\n",
            "\u001b[K     |████████████████████████████████| 132 kB 53.4 MB/s \n",
            "\u001b[?25h  Downloading boto3-1.21.13-py3-none-any.whl (132 kB)\n",
            "\u001b[K     |████████████████████████████████| 132 kB 55.6 MB/s \n",
            "\u001b[?25h  Downloading boto3-1.21.12-py3-none-any.whl (132 kB)\n",
            "\u001b[K     |████████████████████████████████| 132 kB 57.6 MB/s \n",
            "\u001b[?25h  Downloading boto3-1.21.11-py3-none-any.whl (132 kB)\n",
            "\u001b[K     |████████████████████████████████| 132 kB 56.0 MB/s \n",
            "\u001b[?25h  Downloading boto3-1.21.10-py3-none-any.whl (132 kB)\n",
            "\u001b[K     |████████████████████████████████| 132 kB 70.4 MB/s \n",
            "\u001b[?25h  Downloading boto3-1.21.9-py3-none-any.whl (132 kB)\n",
            "\u001b[K     |████████████████████████████████| 132 kB 36.3 MB/s \n",
            "\u001b[?25h  Downloading boto3-1.21.8-py3-none-any.whl (132 kB)\n",
            "\u001b[K     |████████████████████████████████| 132 kB 58.9 MB/s \n",
            "\u001b[?25h  Downloading boto3-1.21.7-py3-none-any.whl (132 kB)\n",
            "\u001b[K     |████████████████████████████████| 132 kB 46.0 MB/s \n",
            "\u001b[?25h  Downloading boto3-1.21.6-py3-none-any.whl (132 kB)\n",
            "\u001b[K     |████████████████████████████████| 132 kB 56.7 MB/s \n",
            "\u001b[?25h  Downloading boto3-1.21.5-py3-none-any.whl (132 kB)\n",
            "\u001b[K     |████████████████████████████████| 132 kB 58.3 MB/s \n",
            "\u001b[?25h  Downloading boto3-1.21.4-py3-none-any.whl (132 kB)\n",
            "\u001b[K     |████████████████████████████████| 132 kB 45.9 MB/s \n",
            "\u001b[?25h  Downloading boto3-1.21.3-py3-none-any.whl (132 kB)\n",
            "\u001b[K     |████████████████████████████████| 132 kB 50.3 MB/s \n",
            "\u001b[?25h  Downloading boto3-1.21.2-py3-none-any.whl (132 kB)\n",
            "\u001b[K     |████████████████████████████████| 132 kB 47.3 MB/s \n",
            "\u001b[?25h  Downloading boto3-1.21.1-py3-none-any.whl (132 kB)\n",
            "\u001b[K     |████████████████████████████████| 132 kB 42.4 MB/s \n",
            "\u001b[?25h  Downloading boto3-1.21.0-py3-none-any.whl (132 kB)\n",
            "\u001b[K     |████████████████████████████████| 132 kB 56.6 MB/s \n",
            "\u001b[?25h  Downloading boto3-1.20.54-py3-none-any.whl (132 kB)\n",
            "\u001b[K     |████████████████████████████████| 132 kB 55.5 MB/s \n",
            "\u001b[?25h  Downloading boto3-1.20.53-py3-none-any.whl (132 kB)\n",
            "\u001b[K     |████████████████████████████████| 132 kB 54.3 MB/s \n",
            "\u001b[?25h  Downloading boto3-1.20.52-py3-none-any.whl (131 kB)\n",
            "\u001b[K     |████████████████████████████████| 131 kB 53.0 MB/s \n",
            "\u001b[?25h  Downloading boto3-1.20.51-py3-none-any.whl (131 kB)\n",
            "\u001b[K     |████████████████████████████████| 131 kB 54.3 MB/s \n",
            "\u001b[?25h  Downloading boto3-1.20.50-py3-none-any.whl (131 kB)\n",
            "\u001b[K     |████████████████████████████████| 131 kB 50.8 MB/s \n",
            "\u001b[?25h  Downloading boto3-1.20.49-py3-none-any.whl (131 kB)\n",
            "\u001b[K     |████████████████████████████████| 131 kB 53.8 MB/s \n",
            "\u001b[?25h  Downloading boto3-1.20.48-py3-none-any.whl (131 kB)\n",
            "\u001b[K     |████████████████████████████████| 131 kB 54.4 MB/s \n",
            "\u001b[?25h  Downloading boto3-1.20.47-py3-none-any.whl (131 kB)\n",
            "\u001b[K     |████████████████████████████████| 131 kB 54.3 MB/s \n",
            "\u001b[?25h  Downloading boto3-1.20.46-py3-none-any.whl (131 kB)\n",
            "\u001b[K     |████████████████████████████████| 131 kB 54.6 MB/s \n",
            "\u001b[?25h  Downloading boto3-1.20.45-py3-none-any.whl (131 kB)\n",
            "\u001b[K     |████████████████████████████████| 131 kB 53.3 MB/s \n",
            "\u001b[?25h  Downloading boto3-1.20.44-py3-none-any.whl (131 kB)\n",
            "\u001b[K     |████████████████████████████████| 131 kB 44.5 MB/s \n",
            "\u001b[?25h  Downloading boto3-1.20.43-py3-none-any.whl (131 kB)\n",
            "\u001b[K     |████████████████████████████████| 131 kB 51.3 MB/s \n",
            "\u001b[?25h  Downloading boto3-1.20.42-py3-none-any.whl (131 kB)\n",
            "\u001b[K     |████████████████████████████████| 131 kB 54.1 MB/s \n",
            "\u001b[?25h  Downloading boto3-1.20.41-py3-none-any.whl (131 kB)\n",
            "\u001b[K     |████████████████████████████████| 131 kB 57.0 MB/s \n",
            "\u001b[?25h  Downloading boto3-1.20.40-py3-none-any.whl (131 kB)\n",
            "\u001b[K     |████████████████████████████████| 131 kB 55.1 MB/s \n",
            "\u001b[?25h  Downloading boto3-1.20.39-py3-none-any.whl (131 kB)\n",
            "\u001b[K     |████████████████████████████████| 131 kB 54.4 MB/s \n",
            "\u001b[?25h  Downloading boto3-1.20.38-py3-none-any.whl (131 kB)\n",
            "\u001b[K     |████████████████████████████████| 131 kB 53.0 MB/s \n",
            "\u001b[?25h  Downloading boto3-1.20.37-py3-none-any.whl (131 kB)\n",
            "\u001b[K     |████████████████████████████████| 131 kB 58.3 MB/s \n",
            "\u001b[?25h  Downloading boto3-1.20.36-py3-none-any.whl (131 kB)\n",
            "\u001b[K     |████████████████████████████████| 131 kB 56.5 MB/s \n",
            "\u001b[?25h  Downloading boto3-1.20.35-py3-none-any.whl (131 kB)\n",
            "\u001b[K     |████████████████████████████████| 131 kB 54.8 MB/s \n",
            "\u001b[?25h  Downloading boto3-1.20.34-py3-none-any.whl (131 kB)\n",
            "\u001b[K     |████████████████████████████████| 131 kB 58.6 MB/s \n",
            "\u001b[?25h  Downloading boto3-1.20.33-py3-none-any.whl (131 kB)\n",
            "\u001b[K     |████████████████████████████████| 131 kB 57.8 MB/s \n",
            "\u001b[?25h  Downloading boto3-1.20.32-py3-none-any.whl (131 kB)\n",
            "\u001b[K     |████████████████████████████████| 131 kB 54.7 MB/s \n",
            "\u001b[?25h  Downloading boto3-1.20.31-py3-none-any.whl (131 kB)\n",
            "\u001b[K     |████████████████████████████████| 131 kB 56.4 MB/s \n",
            "\u001b[?25h  Downloading boto3-1.20.30-py3-none-any.whl (131 kB)\n",
            "\u001b[K     |████████████████████████████████| 131 kB 56.8 MB/s \n",
            "\u001b[?25h  Downloading boto3-1.20.29-py3-none-any.whl (131 kB)\n",
            "\u001b[K     |████████████████████████████████| 131 kB 54.4 MB/s \n",
            "\u001b[?25h  Downloading boto3-1.20.28-py3-none-any.whl (131 kB)\n",
            "\u001b[K     |████████████████████████████████| 131 kB 55.4 MB/s \n",
            "\u001b[?25h  Downloading boto3-1.20.27-py3-none-any.whl (131 kB)\n",
            "\u001b[K     |████████████████████████████████| 131 kB 63.7 MB/s \n",
            "\u001b[?25h  Downloading boto3-1.20.26-py3-none-any.whl (131 kB)\n",
            "\u001b[K     |████████████████████████████████| 131 kB 74.4 MB/s \n",
            "\u001b[?25h  Downloading boto3-1.20.25-py3-none-any.whl (131 kB)\n",
            "\u001b[K     |████████████████████████████████| 131 kB 69.3 MB/s \n",
            "\u001b[?25h  Downloading boto3-1.20.24-py3-none-any.whl (131 kB)\n",
            "\u001b[K     |████████████████████████████████| 131 kB 68.7 MB/s \n",
            "\u001b[?25h  Downloading boto3-1.20.23-py3-none-any.whl (131 kB)\n",
            "\u001b[K     |████████████████████████████████| 131 kB 64.7 MB/s \n",
            "\u001b[?25h  Downloading boto3-1.20.22-py3-none-any.whl (131 kB)\n",
            "\u001b[K     |████████████████████████████████| 131 kB 56.4 MB/s \n",
            "\u001b[?25h  Downloading boto3-1.20.21-py3-none-any.whl (131 kB)\n",
            "\u001b[K     |████████████████████████████████| 131 kB 46.2 MB/s \n",
            "\u001b[?25h  Downloading boto3-1.20.20-py3-none-any.whl (131 kB)\n",
            "\u001b[K     |████████████████████████████████| 131 kB 56.0 MB/s \n",
            "\u001b[?25h  Downloading boto3-1.20.19-py3-none-any.whl (131 kB)\n",
            "\u001b[K     |████████████████████████████████| 131 kB 50.0 MB/s \n",
            "\u001b[?25h  Downloading boto3-1.20.18-py3-none-any.whl (131 kB)\n",
            "\u001b[K     |████████████████████████████████| 131 kB 50.7 MB/s \n",
            "\u001b[?25h  Downloading boto3-1.20.17-py3-none-any.whl (131 kB)\n",
            "\u001b[K     |████████████████████████████████| 131 kB 55.7 MB/s \n",
            "\u001b[?25h  Downloading boto3-1.20.16-py3-none-any.whl (131 kB)\n",
            "\u001b[K     |████████████████████████████████| 131 kB 49.9 MB/s \n",
            "\u001b[?25h  Downloading boto3-1.20.15-py3-none-any.whl (131 kB)\n",
            "\u001b[K     |████████████████████████████████| 131 kB 51.6 MB/s \n",
            "\u001b[?25h  Downloading boto3-1.20.14-py3-none-any.whl (131 kB)\n",
            "\u001b[K     |████████████████████████████████| 131 kB 53.2 MB/s \n",
            "\u001b[?25h  Downloading boto3-1.20.13-py3-none-any.whl (131 kB)\n",
            "\u001b[K     |████████████████████████████████| 131 kB 55.7 MB/s \n",
            "\u001b[?25h  Downloading boto3-1.20.12-py3-none-any.whl (131 kB)\n",
            "\u001b[K     |████████████████████████████████| 131 kB 47.4 MB/s \n",
            "\u001b[?25h  Downloading boto3-1.20.11-py3-none-any.whl (131 kB)\n",
            "\u001b[K     |████████████████████████████████| 131 kB 56.0 MB/s \n",
            "\u001b[?25h  Downloading boto3-1.20.10-py3-none-any.whl (131 kB)\n",
            "\u001b[K     |████████████████████████████████| 131 kB 52.2 MB/s \n",
            "\u001b[?25h  Downloading boto3-1.20.9-py3-none-any.whl (131 kB)\n",
            "\u001b[K     |████████████████████████████████| 131 kB 47.8 MB/s \n",
            "\u001b[?25h  Downloading boto3-1.20.8-py3-none-any.whl (131 kB)\n",
            "\u001b[K     |████████████████████████████████| 131 kB 53.3 MB/s \n",
            "\u001b[?25h  Downloading boto3-1.20.7-py3-none-any.whl (131 kB)\n",
            "\u001b[K     |████████████████████████████████| 131 kB 55.4 MB/s \n",
            "\u001b[?25h  Downloading boto3-1.20.6-py3-none-any.whl (131 kB)\n",
            "\u001b[K     |████████████████████████████████| 131 kB 54.7 MB/s \n",
            "\u001b[?25h  Downloading boto3-1.20.5-py3-none-any.whl (131 kB)\n",
            "\u001b[K     |████████████████████████████████| 131 kB 52.6 MB/s \n",
            "\u001b[?25h  Downloading boto3-1.20.4-py3-none-any.whl (131 kB)\n",
            "\u001b[K     |████████████████████████████████| 131 kB 57.6 MB/s \n",
            "\u001b[?25h  Downloading boto3-1.20.3-py3-none-any.whl (131 kB)\n",
            "\u001b[K     |████████████████████████████████| 131 kB 54.0 MB/s \n",
            "\u001b[?25h  Downloading boto3-1.20.2-py3-none-any.whl (131 kB)\n",
            "\u001b[K     |████████████████████████████████| 131 kB 55.5 MB/s \n",
            "\u001b[?25h  Downloading boto3-1.20.1-py3-none-any.whl (131 kB)\n",
            "\u001b[K     |████████████████████████████████| 131 kB 47.0 MB/s \n",
            "\u001b[?25h  Downloading boto3-1.20.0-py3-none-any.whl (131 kB)\n",
            "\u001b[K     |████████████████████████████████| 131 kB 44.3 MB/s \n",
            "\u001b[?25h  Downloading boto3-1.19.12-py3-none-any.whl (131 kB)\n",
            "\u001b[K     |████████████████████████████████| 131 kB 49.2 MB/s \n",
            "\u001b[?25h  Downloading boto3-1.19.11-py3-none-any.whl (131 kB)\n",
            "\u001b[K     |████████████████████████████████| 131 kB 74.8 MB/s \n",
            "\u001b[?25h  Downloading boto3-1.19.10-py3-none-any.whl (131 kB)\n",
            "\u001b[K     |████████████████████████████████| 131 kB 70.3 MB/s \n",
            "\u001b[?25h  Downloading boto3-1.19.9-py3-none-any.whl (131 kB)\n",
            "\u001b[K     |████████████████████████████████| 131 kB 54.2 MB/s \n",
            "\u001b[?25h  Downloading boto3-1.19.8-py3-none-any.whl (131 kB)\n",
            "\u001b[K     |████████████████████████████████| 131 kB 57.9 MB/s \n",
            "\u001b[?25h  Downloading boto3-1.19.7-py3-none-any.whl (131 kB)\n",
            "\u001b[K     |████████████████████████████████| 131 kB 56.6 MB/s \n",
            "\u001b[?25h  Downloading boto3-1.19.6-py3-none-any.whl (131 kB)\n",
            "\u001b[K     |████████████████████████████████| 131 kB 54.2 MB/s \n",
            "\u001b[?25h  Downloading boto3-1.19.5-py3-none-any.whl (131 kB)\n",
            "\u001b[K     |████████████████████████████████| 131 kB 57.0 MB/s \n",
            "\u001b[?25h  Downloading boto3-1.19.4-py3-none-any.whl (131 kB)\n",
            "\u001b[K     |████████████████████████████████| 131 kB 55.1 MB/s \n",
            "\u001b[?25h  Downloading boto3-1.19.3-py3-none-any.whl (131 kB)\n",
            "\u001b[K     |████████████████████████████████| 131 kB 57.3 MB/s \n",
            "\u001b[?25h  Downloading boto3-1.19.2-py3-none-any.whl (131 kB)\n",
            "\u001b[K     |████████████████████████████████| 131 kB 53.7 MB/s \n",
            "\u001b[?25h  Downloading boto3-1.19.1-py3-none-any.whl (131 kB)\n",
            "\u001b[K     |████████████████████████████████| 131 kB 56.5 MB/s \n",
            "\u001b[?25h  Downloading boto3-1.19.0-py3-none-any.whl (131 kB)\n",
            "\u001b[K     |████████████████████████████████| 131 kB 48.3 MB/s \n",
            "\u001b[?25h  Downloading boto3-1.18.65-py3-none-any.whl (131 kB)\n",
            "\u001b[K     |████████████████████████████████| 131 kB 53.6 MB/s \n",
            "\u001b[?25h  Downloading boto3-1.18.64-py3-none-any.whl (131 kB)\n",
            "\u001b[K     |████████████████████████████████| 131 kB 3.2 MB/s \n",
            "\u001b[?25h  Downloading boto3-1.18.63-py3-none-any.whl (131 kB)\n",
            "\u001b[K     |████████████████████████████████| 131 kB 53.6 MB/s \n",
            "\u001b[?25h  Downloading boto3-1.18.62-py3-none-any.whl (131 kB)\n",
            "\u001b[K     |████████████████████████████████| 131 kB 46.0 MB/s \n",
            "\u001b[?25h  Downloading boto3-1.18.61-py3-none-any.whl (131 kB)\n",
            "\u001b[K     |████████████████████████████████| 131 kB 57.0 MB/s \n",
            "\u001b[?25h  Downloading boto3-1.18.60-py3-none-any.whl (131 kB)\n",
            "\u001b[K     |████████████████████████████████| 131 kB 47.0 MB/s \n",
            "\u001b[?25h  Downloading boto3-1.18.59-py3-none-any.whl (131 kB)\n",
            "\u001b[K     |████████████████████████████████| 131 kB 45.2 MB/s \n",
            "\u001b[?25h  Downloading boto3-1.18.58-py3-none-any.whl (131 kB)\n",
            "\u001b[K     |████████████████████████████████| 131 kB 54.4 MB/s \n",
            "\u001b[?25h  Downloading boto3-1.18.57-py3-none-any.whl (131 kB)\n",
            "\u001b[K     |████████████████████████████████| 131 kB 42.9 MB/s \n",
            "\u001b[?25h  Downloading boto3-1.18.56-py3-none-any.whl (131 kB)\n",
            "\u001b[K     |████████████████████████████████| 131 kB 51.8 MB/s \n",
            "\u001b[?25h  Downloading boto3-1.18.55-py3-none-any.whl (131 kB)\n",
            "\u001b[K     |████████████████████████████████| 131 kB 43.6 MB/s \n",
            "\u001b[?25h  Downloading boto3-1.18.54-py3-none-any.whl (131 kB)\n",
            "\u001b[K     |████████████████████████████████| 131 kB 52.0 MB/s \n",
            "\u001b[?25h  Downloading boto3-1.18.53-py3-none-any.whl (131 kB)\n",
            "\u001b[K     |████████████████████████████████| 131 kB 54.1 MB/s \n",
            "\u001b[?25h  Downloading boto3-1.18.52-py3-none-any.whl (131 kB)\n",
            "\u001b[K     |████████████████████████████████| 131 kB 55.2 MB/s \n",
            "\u001b[?25h  Downloading boto3-1.18.51-py3-none-any.whl (131 kB)\n",
            "\u001b[K     |████████████████████████████████| 131 kB 53.1 MB/s \n",
            "\u001b[?25h  Downloading boto3-1.18.50-py3-none-any.whl (131 kB)\n",
            "\u001b[K     |████████████████████████████████| 131 kB 55.1 MB/s \n",
            "\u001b[?25h  Downloading boto3-1.18.49-py3-none-any.whl (131 kB)\n",
            "\u001b[K     |████████████████████████████████| 131 kB 51.8 MB/s \n",
            "\u001b[?25h  Downloading boto3-1.18.48-py3-none-any.whl (131 kB)\n",
            "\u001b[K     |████████████████████████████████| 131 kB 48.5 MB/s \n",
            "\u001b[?25h  Downloading boto3-1.18.47-py3-none-any.whl (131 kB)\n",
            "\u001b[K     |████████████████████████████████| 131 kB 43.6 MB/s \n",
            "\u001b[?25h  Downloading boto3-1.18.46-py3-none-any.whl (131 kB)\n",
            "\u001b[K     |████████████████████████████████| 131 kB 50.6 MB/s \n",
            "\u001b[?25h  Downloading boto3-1.18.45-py3-none-any.whl (131 kB)\n",
            "\u001b[K     |████████████████████████████████| 131 kB 45.3 MB/s \n",
            "\u001b[?25h  Downloading boto3-1.18.44-py3-none-any.whl (131 kB)\n",
            "\u001b[K     |████████████████████████████████| 131 kB 54.8 MB/s \n",
            "\u001b[?25h  Downloading boto3-1.18.43-py3-none-any.whl (131 kB)\n",
            "\u001b[K     |████████████████████████████████| 131 kB 54.3 MB/s \n",
            "\u001b[?25h  Downloading boto3-1.18.42-py3-none-any.whl (131 kB)\n",
            "\u001b[K     |████████████████████████████████| 131 kB 52.6 MB/s \n",
            "\u001b[?25h  Downloading boto3-1.18.41-py3-none-any.whl (131 kB)\n",
            "\u001b[K     |████████████████████████████████| 131 kB 55.1 MB/s \n",
            "\u001b[?25h  Downloading boto3-1.18.40-py3-none-any.whl (131 kB)\n",
            "\u001b[K     |████████████████████████████████| 131 kB 52.2 MB/s \n",
            "\u001b[?25h  Downloading boto3-1.18.39-py3-none-any.whl (131 kB)\n",
            "\u001b[K     |████████████████████████████████| 131 kB 48.3 MB/s \n",
            "\u001b[?25h  Downloading boto3-1.18.38-py3-none-any.whl (131 kB)\n",
            "\u001b[K     |████████████████████████████████| 131 kB 43.2 MB/s \n",
            "\u001b[?25h  Downloading boto3-1.18.37-py3-none-any.whl (131 kB)\n",
            "\u001b[K     |████████████████████████████████| 131 kB 42.6 MB/s \n",
            "\u001b[?25h  Downloading boto3-1.18.36-py3-none-any.whl (131 kB)\n",
            "\u001b[K     |████████████████████████████████| 131 kB 52.9 MB/s \n",
            "\u001b[?25h  Downloading boto3-1.18.35-py3-none-any.whl (131 kB)\n",
            "\u001b[K     |████████████████████████████████| 131 kB 53.0 MB/s \n",
            "\u001b[?25h  Downloading boto3-1.18.34-py3-none-any.whl (131 kB)\n",
            "\u001b[K     |████████████████████████████████| 131 kB 51.8 MB/s \n",
            "\u001b[?25h  Downloading boto3-1.18.33-py3-none-any.whl (131 kB)\n",
            "\u001b[K     |████████████████████████████████| 131 kB 55.6 MB/s \n",
            "\u001b[?25h  Downloading boto3-1.18.32-py3-none-any.whl (131 kB)\n",
            "\u001b[K     |████████████████████████████████| 131 kB 49.9 MB/s \n",
            "\u001b[?25h  Downloading boto3-1.18.31-py3-none-any.whl (131 kB)\n",
            "\u001b[K     |████████████████████████████████| 131 kB 38.1 MB/s \n",
            "\u001b[?25h  Downloading boto3-1.18.30-py3-none-any.whl (131 kB)\n",
            "\u001b[K     |████████████████████████████████| 131 kB 55.9 MB/s \n",
            "\u001b[?25h  Downloading boto3-1.18.29-py3-none-any.whl (131 kB)\n",
            "\u001b[K     |████████████████████████████████| 131 kB 43.3 MB/s \n",
            "\u001b[?25h  Downloading boto3-1.18.28-py3-none-any.whl (131 kB)\n",
            "\u001b[K     |████████████████████████████████| 131 kB 54.1 MB/s \n",
            "\u001b[?25h  Downloading boto3-1.18.27-py3-none-any.whl (131 kB)\n",
            "\u001b[K     |████████████████████████████████| 131 kB 53.4 MB/s \n",
            "\u001b[?25h  Downloading boto3-1.18.26-py3-none-any.whl (131 kB)\n",
            "\u001b[K     |████████████████████████████████| 131 kB 52.1 MB/s \n",
            "\u001b[?25h  Downloading boto3-1.18.25-py3-none-any.whl (131 kB)\n",
            "\u001b[K     |████████████████████████████████| 131 kB 54.6 MB/s \n",
            "\u001b[?25h  Downloading boto3-1.18.24-py3-none-any.whl (131 kB)\n",
            "\u001b[K     |████████████████████████████████| 131 kB 49.7 MB/s \n",
            "\u001b[?25h  Downloading boto3-1.18.23-py3-none-any.whl (131 kB)\n",
            "\u001b[K     |████████████████████████████████| 131 kB 43.3 MB/s \n",
            "\u001b[?25h  Downloading boto3-1.18.22-py3-none-any.whl (131 kB)\n",
            "\u001b[K     |████████████████████████████████| 131 kB 53.9 MB/s \n",
            "\u001b[?25h  Downloading boto3-1.18.21-py3-none-any.whl (131 kB)\n",
            "\u001b[K     |████████████████████████████████| 131 kB 53.4 MB/s \n",
            "\u001b[?25h  Downloading boto3-1.18.20-py3-none-any.whl (131 kB)\n",
            "\u001b[K     |████████████████████████████████| 131 kB 53.5 MB/s \n",
            "\u001b[?25h  Downloading boto3-1.18.19-py3-none-any.whl (131 kB)\n",
            "\u001b[K     |████████████████████████████████| 131 kB 54.5 MB/s \n",
            "\u001b[?25h  Downloading boto3-1.18.18-py3-none-any.whl (131 kB)\n",
            "\u001b[K     |████████████████████████████████| 131 kB 41.0 MB/s \n",
            "\u001b[?25h  Downloading boto3-1.18.17-py3-none-any.whl (131 kB)\n",
            "\u001b[K     |████████████████████████████████| 131 kB 51.0 MB/s \n",
            "\u001b[?25h  Downloading boto3-1.18.16-py3-none-any.whl (131 kB)\n",
            "\u001b[K     |████████████████████████████████| 131 kB 54.3 MB/s \n",
            "\u001b[?25h  Downloading boto3-1.18.15-py3-none-any.whl (131 kB)\n",
            "\u001b[K     |████████████████████████████████| 131 kB 54.2 MB/s \n",
            "\u001b[?25h  Downloading boto3-1.18.14-py3-none-any.whl (131 kB)\n",
            "\u001b[K     |████████████████████████████████| 131 kB 44.3 MB/s \n",
            "\u001b[?25h  Downloading boto3-1.18.13-py3-none-any.whl (131 kB)\n",
            "\u001b[K     |████████████████████████████████| 131 kB 52.9 MB/s \n",
            "\u001b[?25h  Downloading boto3-1.18.12-py3-none-any.whl (131 kB)\n",
            "\u001b[K     |████████████████████████████████| 131 kB 54.8 MB/s \n",
            "\u001b[?25h  Downloading boto3-1.18.11-py3-none-any.whl (131 kB)\n",
            "\u001b[K     |████████████████████████████████| 131 kB 54.7 MB/s \n",
            "\u001b[?25h  Downloading boto3-1.18.10-py3-none-any.whl (131 kB)\n",
            "\u001b[K     |████████████████████████████████| 131 kB 55.9 MB/s \n",
            "\u001b[?25h  Downloading boto3-1.18.9-py3-none-any.whl (131 kB)\n",
            "\u001b[K     |████████████████████████████████| 131 kB 52.4 MB/s \n",
            "\u001b[?25h  Downloading boto3-1.18.8-py3-none-any.whl (131 kB)\n",
            "\u001b[K     |████████████████████████████████| 131 kB 53.9 MB/s \n",
            "\u001b[?25h  Downloading boto3-1.18.7-py3-none-any.whl (131 kB)\n",
            "\u001b[K     |████████████████████████████████| 131 kB 50.8 MB/s \n",
            "\u001b[?25h  Downloading boto3-1.18.6-py3-none-any.whl (131 kB)\n",
            "\u001b[K     |████████████████████████████████| 131 kB 54.9 MB/s \n",
            "\u001b[?25h  Downloading boto3-1.18.5-py3-none-any.whl (131 kB)\n",
            "\u001b[K     |████████████████████████████████| 131 kB 52.5 MB/s \n",
            "\u001b[?25h  Downloading boto3-1.18.4-py3-none-any.whl (131 kB)\n",
            "\u001b[K     |████████████████████████████████| 131 kB 52.9 MB/s \n",
            "\u001b[?25h  Downloading boto3-1.18.3-py3-none-any.whl (131 kB)\n",
            "\u001b[K     |████████████████████████████████| 131 kB 26.6 MB/s \n",
            "\u001b[?25h  Downloading boto3-1.18.2-py3-none-any.whl (131 kB)\n",
            "\u001b[K     |████████████████████████████████| 131 kB 56.0 MB/s \n",
            "\u001b[?25h  Downloading boto3-1.18.1-py3-none-any.whl (131 kB)\n",
            "\u001b[K     |████████████████████████████████| 131 kB 54.1 MB/s \n",
            "\u001b[?25h  Downloading boto3-1.18.0-py3-none-any.whl (131 kB)\n",
            "\u001b[K     |████████████████████████████████| 131 kB 54.1 MB/s \n",
            "\u001b[?25h  Downloading boto3-1.17.112-py2.py3-none-any.whl (131 kB)\n",
            "\u001b[K     |████████████████████████████████| 131 kB 53.3 MB/s \n",
            "\u001b[?25hRequirement already satisfied: cffi>=1.12 in /usr/local/lib/python3.7/dist-packages (from cryptography>=3.3.1->moto>=1.3.4->allennlp==0.8.3->sciwing) (1.15.0)\n",
            "Requirement already satisfied: pycparser in /usr/local/lib/python3.7/dist-packages (from cffi>=1.12->cryptography>=3.3.1->moto>=1.3.4->allennlp==0.8.3->sciwing) (2.21)\n",
            "Requirement already satisfied: chardet<4,>=3.0.2 in /usr/local/lib/python3.7/dist-packages (from requests->sciwing) (3.0.4)\n",
            "Requirement already satisfied: idna<3,>=2.5 in /usr/local/lib/python3.7/dist-packages (from requests->sciwing) (2.10)\n",
            "Collecting urllib3<1.27,>=1.25.4\n",
            "  Downloading urllib3-1.25.11-py2.py3-none-any.whl (127 kB)\n",
            "\u001b[K     |████████████████████████████████| 127 kB 49.0 MB/s \n",
            "\u001b[?25hRequirement already satisfied: certifi>=2017.4.17 in /usr/local/lib/python3.7/dist-packages (from requests->sciwing) (2021.10.8)\n",
            "Requirement already satisfied: pyasn1>=0.1.3 in /usr/local/lib/python3.7/dist-packages (from rsa<4.8,>=3.1.2->awscli>=1.11.91->allennlp==0.8.3->sciwing) (0.4.8)\n",
            "Collecting tokenizers!=0.11.3,>=0.11.1\n",
            "  Downloading tokenizers-0.11.6-cp37-cp37m-manylinux_2_12_x86_64.manylinux2010_x86_64.whl (6.5 MB)\n",
            "\u001b[K     |████████████████████████████████| 6.5 MB 41.8 MB/s \n",
            "\u001b[?25hCollecting huggingface-hub<1.0,>=0.1.0\n",
            "  Downloading huggingface_hub-0.4.0-py3-none-any.whl (67 kB)\n",
            "\u001b[K     |████████████████████████████████| 67 kB 5.0 MB/s \n",
            "\u001b[?25hCollecting sacremoses\n",
            "  Downloading sacremoses-0.0.47-py2.py3-none-any.whl (895 kB)\n",
            "\u001b[K     |████████████████████████████████| 895 kB 39.4 MB/s \n",
            "\u001b[?25hCollecting PyYAML>=3.10\n",
            "  Downloading PyYAML-5.4.1-cp37-cp37m-manylinux1_x86_64.whl (636 kB)\n",
            "\u001b[K     |████████████████████████████████| 636 kB 49.3 MB/s \n",
            "\u001b[?25hRequirement already satisfied: filelock in /usr/local/lib/python3.7/dist-packages (from transformers>=2.10.0->flair==0.5->sciwing) (3.6.0)\n",
            "Requirement already satisfied: cached-property in /usr/local/lib/python3.7/dist-packages (from h5py->allennlp==0.8.3->sciwing) (1.5.2)\n",
            "Requirement already satisfied: semver in /usr/local/lib/python3.7/dist-packages (from streamlit->sciwing) (2.13.0)\n",
            "Collecting pydeck>=0.1.dev5\n",
            "  Downloading pydeck-0.7.1-py2.py3-none-any.whl (4.3 MB)\n",
            "\u001b[K     |████████████████████████████████| 4.3 MB 36.1 MB/s \n",
            "\u001b[?25hRequirement already satisfied: pillow>=6.2.0 in /usr/local/lib/python3.7/dist-packages (from streamlit->sciwing) (7.1.2)\n",
            "Requirement already satisfied: altair>=3.2.0 in /usr/local/lib/python3.7/dist-packages (from streamlit->sciwing) (4.2.0)\n",
            "Collecting blinker\n",
            "  Downloading blinker-1.4.tar.gz (111 kB)\n",
            "\u001b[K     |████████████████████████████████| 111 kB 64.2 MB/s \n",
            "\u001b[?25hRequirement already satisfied: pyarrow in /usr/local/lib/python3.7/dist-packages (from streamlit->sciwing) (6.0.1)\n",
            "Requirement already satisfied: tornado>=5.0 in /usr/local/lib/python3.7/dist-packages (from streamlit->sciwing) (5.1.1)\n",
            "Collecting validators\n",
            "  Downloading validators-0.18.2-py3-none-any.whl (19 kB)\n",
            "Requirement already satisfied: astor in /usr/local/lib/python3.7/dist-packages (from streamlit->sciwing) (0.8.1)\n",
            "Requirement already satisfied: tzlocal in /usr/local/lib/python3.7/dist-packages (from streamlit->sciwing) (1.5.1)\n",
            "Collecting base58\n",
            "  Downloading base58-2.1.1-py3-none-any.whl (5.6 kB)\n",
            "Requirement already satisfied: cachetools>=4.0 in /usr/local/lib/python3.7/dist-packages (from streamlit->sciwing) (4.2.4)\n",
            "Collecting pympler>=0.9\n",
            "  Downloading Pympler-1.0.1-py3-none-any.whl (164 kB)\n",
            "\u001b[K     |████████████████████████████████| 164 kB 27.7 MB/s \n",
            "\u001b[?25hRequirement already satisfied: toolz in /usr/local/lib/python3.7/dist-packages (from altair>=3.2.0->streamlit->sciwing) (0.11.2)\n",
            "Requirement already satisfied: entrypoints in /usr/local/lib/python3.7/dist-packages (from altair>=3.2.0->streamlit->sciwing) (0.4)\n",
            "Requirement already satisfied: traitlets>=4.3.2 in /usr/local/lib/python3.7/dist-packages (from pydeck>=0.1.dev5->streamlit->sciwing) (5.1.1)\n",
            "Collecting ipykernel>=5.1.2\n",
            "  Downloading ipykernel-6.9.2-py3-none-any.whl (130 kB)\n",
            "\u001b[K     |████████████████████████████████| 130 kB 57.6 MB/s \n",
            "\u001b[?25hRequirement already satisfied: ipywidgets>=7.0.0 in /usr/local/lib/python3.7/dist-packages (from pydeck>=0.1.dev5->streamlit->sciwing) (7.6.5)\n",
            "Requirement already satisfied: jupyter-client<8.0 in /usr/local/lib/python3.7/dist-packages (from ipykernel>=5.1.2->pydeck>=0.1.dev5->streamlit->sciwing) (5.3.5)\n",
            "Requirement already satisfied: debugpy<2.0,>=1.0.0 in /usr/local/lib/python3.7/dist-packages (from ipykernel>=5.1.2->pydeck>=0.1.dev5->streamlit->sciwing) (1.0.0)\n",
            "Requirement already satisfied: matplotlib-inline<0.2.0,>=0.1.0 in /usr/local/lib/python3.7/dist-packages (from ipykernel>=5.1.2->pydeck>=0.1.dev5->streamlit->sciwing) (0.1.3)\n",
            "Requirement already satisfied: nest-asyncio in /usr/local/lib/python3.7/dist-packages (from ipykernel>=5.1.2->pydeck>=0.1.dev5->streamlit->sciwing) (1.5.4)\n",
            "Collecting ipython>=7.23.1\n",
            "  Downloading ipython-7.32.0-py3-none-any.whl (793 kB)\n",
            "\u001b[K     |████████████████████████████████| 793 kB 64.1 MB/s \n",
            "\u001b[?25hRequirement already satisfied: pickleshare in /usr/local/lib/python3.7/dist-packages (from ipython>=7.23.1->ipykernel>=5.1.2->pydeck>=0.1.dev5->streamlit->sciwing) (0.7.5)\n",
            "Requirement already satisfied: backcall in /usr/local/lib/python3.7/dist-packages (from ipython>=7.23.1->ipykernel>=5.1.2->pydeck>=0.1.dev5->streamlit->sciwing) (0.2.0)\n",
            "Requirement already satisfied: jedi>=0.16 in /usr/local/lib/python3.7/dist-packages (from ipython>=7.23.1->ipykernel>=5.1.2->pydeck>=0.1.dev5->streamlit->sciwing) (0.18.1)\n",
            "Requirement already satisfied: pexpect>4.3 in /usr/local/lib/python3.7/dist-packages (from ipython>=7.23.1->ipykernel>=5.1.2->pydeck>=0.1.dev5->streamlit->sciwing) (4.8.0)\n",
            "Requirement already satisfied: nbformat>=4.2.0 in /usr/local/lib/python3.7/dist-packages (from ipywidgets>=7.0.0->pydeck>=0.1.dev5->streamlit->sciwing) (5.1.3)\n",
            "Requirement already satisfied: jupyterlab-widgets>=1.0.0 in /usr/local/lib/python3.7/dist-packages (from ipywidgets>=7.0.0->pydeck>=0.1.dev5->streamlit->sciwing) (1.0.2)\n",
            "Requirement already satisfied: ipython-genutils~=0.2.0 in /usr/local/lib/python3.7/dist-packages (from ipywidgets>=7.0.0->pydeck>=0.1.dev5->streamlit->sciwing) (0.2.0)\n",
            "Requirement already satisfied: widgetsnbextension~=3.5.0 in /usr/local/lib/python3.7/dist-packages (from ipywidgets>=7.0.0->pydeck>=0.1.dev5->streamlit->sciwing) (3.5.2)\n",
            "Requirement already satisfied: parso<0.9.0,>=0.8.0 in /usr/local/lib/python3.7/dist-packages (from jedi>=0.16->ipython>=7.23.1->ipykernel>=5.1.2->pydeck>=0.1.dev5->streamlit->sciwing) (0.8.3)\n",
            "Requirement already satisfied: jupyter-core>=4.6.0 in /usr/local/lib/python3.7/dist-packages (from jupyter-client<8.0->ipykernel>=5.1.2->pydeck>=0.1.dev5->streamlit->sciwing) (4.9.2)\n",
            "Requirement already satisfied: pyzmq>=13 in /usr/local/lib/python3.7/dist-packages (from jupyter-client<8.0->ipykernel>=5.1.2->pydeck>=0.1.dev5->streamlit->sciwing) (22.3.0)\n",
            "Requirement already satisfied: ptyprocess>=0.5 in /usr/local/lib/python3.7/dist-packages (from pexpect>4.3->ipython>=7.23.1->ipykernel>=5.1.2->pydeck>=0.1.dev5->streamlit->sciwing) (0.7.0)\n",
            "Requirement already satisfied: notebook>=4.4.1 in /usr/local/lib/python3.7/dist-packages (from widgetsnbextension~=3.5.0->ipywidgets>=7.0.0->pydeck>=0.1.dev5->streamlit->sciwing) (5.3.1)\n",
            "Requirement already satisfied: Send2Trash in /usr/local/lib/python3.7/dist-packages (from notebook>=4.4.1->widgetsnbextension~=3.5.0->ipywidgets>=7.0.0->pydeck>=0.1.dev5->streamlit->sciwing) (1.8.0)\n",
            "Requirement already satisfied: nbconvert in /usr/local/lib/python3.7/dist-packages (from notebook>=4.4.1->widgetsnbextension~=3.5.0->ipywidgets>=7.0.0->pydeck>=0.1.dev5->streamlit->sciwing) (5.6.1)\n",
            "Requirement already satisfied: terminado>=0.8.1 in /usr/local/lib/python3.7/dist-packages (from notebook>=4.4.1->widgetsnbextension~=3.5.0->ipywidgets>=7.0.0->pydeck>=0.1.dev5->streamlit->sciwing) (0.13.3)\n",
            "Requirement already satisfied: bleach in /usr/local/lib/python3.7/dist-packages (from nbconvert->notebook>=4.4.1->widgetsnbextension~=3.5.0->ipywidgets>=7.0.0->pydeck>=0.1.dev5->streamlit->sciwing) (4.1.0)\n",
            "Requirement already satisfied: pandocfilters>=1.4.1 in /usr/local/lib/python3.7/dist-packages (from nbconvert->notebook>=4.4.1->widgetsnbextension~=3.5.0->ipywidgets>=7.0.0->pydeck>=0.1.dev5->streamlit->sciwing) (1.5.0)\n",
            "Requirement already satisfied: defusedxml in /usr/local/lib/python3.7/dist-packages (from nbconvert->notebook>=4.4.1->widgetsnbextension~=3.5.0->ipywidgets>=7.0.0->pydeck>=0.1.dev5->streamlit->sciwing) (0.7.1)\n",
            "Requirement already satisfied: testpath in /usr/local/lib/python3.7/dist-packages (from nbconvert->notebook>=4.4.1->widgetsnbextension~=3.5.0->ipywidgets>=7.0.0->pydeck>=0.1.dev5->streamlit->sciwing) (0.6.0)\n",
            "Requirement already satisfied: mistune<2,>=0.8.1 in /usr/local/lib/python3.7/dist-packages (from nbconvert->notebook>=4.4.1->widgetsnbextension~=3.5.0->ipywidgets>=7.0.0->pydeck>=0.1.dev5->streamlit->sciwing) (0.8.4)\n",
            "Requirement already satisfied: webencodings in /usr/local/lib/python3.7/dist-packages (from bleach->nbconvert->notebook>=4.4.1->widgetsnbextension~=3.5.0->ipywidgets>=7.0.0->pydeck>=0.1.dev5->streamlit->sciwing) (0.5.1)\n",
            "Building wheels for collected packages: sciwing, mpld3, networkx, overrides, psutil, stop-words, gql, graphql-core, jsonnet, msgpack, parsimonious, sqlitedict, subprocess32, word2number, langdetect, blinker\n",
            "  Building wheel for sciwing (setup.py) ... \u001b[?25l\u001b[?25hdone\n",
            "  Created wheel for sciwing: filename=sciwing-0.1.post9-py3-none-any.whl size=170752 sha256=b562568302da7605361c72cc76514b39da4edd2424bbcbbae92bb184eb495a00\n",
            "  Stored in directory: /root/.cache/pip/wheels/95/d8/c8/fa38e3d000d4db127c2c9a6d84081edf6b67d17f29769ec120\n",
            "  Building wheel for mpld3 (setup.py) ... \u001b[?25l\u001b[?25hdone\n",
            "  Created wheel for mpld3: filename=mpld3-0.3-py3-none-any.whl size=116702 sha256=dc558333872d2440650afcd2de1c0ee2c1d97b1bff920c4e44cfe042edf56a56\n",
            "  Stored in directory: /root/.cache/pip/wheels/26/70/6a/1c79e59951a41b4045497da187b2724f5659ca64033cf4548e\n",
            "  Building wheel for networkx (setup.py) ... \u001b[?25l\u001b[?25hdone\n",
            "  Created wheel for networkx: filename=networkx-2.2-py2.py3-none-any.whl size=1526923 sha256=37b0ba33cb4953b0c721bbb9c808e957e37195255f45a0a90cbbf3e0d0cbe3ff\n",
            "  Stored in directory: /root/.cache/pip/wheels/49/fb/7f/02c31ca537b34e1073844b733832e4c3a94071d8edda2c0faa\n",
            "  Building wheel for overrides (setup.py) ... \u001b[?25l\u001b[?25hdone\n",
            "  Created wheel for overrides: filename=overrides-3.1.0-py3-none-any.whl size=10187 sha256=671bc2ff36e1b87ccb1099c48e99064f3d25d6d1c9f6f443d38335f17b880dd5\n",
            "  Stored in directory: /root/.cache/pip/wheels/3a/0d/38/01a9bc6e20dcfaf0a6a7b552d03137558ba1c38aea47644682\n",
            "  Building wheel for psutil (setup.py) ... \u001b[?25l\u001b[?25hdone\n",
            "  Created wheel for psutil: filename=psutil-5.7.0-cp37-cp37m-linux_x86_64.whl size=276511 sha256=bb4cba7331fd2d444de5d262c7b2a631076b0ff12d0e630e0abd83fc7917cf99\n",
            "  Stored in directory: /root/.cache/pip/wheels/b6/e7/50/aee9cc966163d74430f13f208171dee22f11efa4a4a826661c\n",
            "  Building wheel for stop-words (setup.py) ... \u001b[?25l\u001b[?25hdone\n",
            "  Created wheel for stop-words: filename=stop_words-2018.7.23-py3-none-any.whl size=32911 sha256=14373fe58a78521893ae3459ee9e2156534f99d18209a775084f8bf9231484f9\n",
            "  Stored in directory: /root/.cache/pip/wheels/fb/86/b2/277b10b1ce9f73ce15059bf6975d4547cc4ec3feeb651978e9\n",
            "  Building wheel for gql (setup.py) ... \u001b[?25l\u001b[?25hdone\n",
            "  Created wheel for gql: filename=gql-0.2.0-py3-none-any.whl size=7638 sha256=8988bca2dd0fa818aa39f58c8d1f6dba0cff1d6fe7629615c81c01a962496e7c\n",
            "  Stored in directory: /root/.cache/pip/wheels/b6/9a/56/5456fd32264a8fc53eefcb2f74e24e99a7ef4eb40a9af5c905\n",
            "  Building wheel for graphql-core (setup.py) ... \u001b[?25l\u001b[?25hdone\n",
            "  Created wheel for graphql-core: filename=graphql_core-1.1-py3-none-any.whl size=104649 sha256=6514ff865d82545b885574ff651ada228e3b090f8ad47820ca31f7499e36e59c\n",
            "  Stored in directory: /root/.cache/pip/wheels/6b/fd/8c/a20dd591c1a554070cc33fb58042867e6ac1c85395abe2e57a\n",
            "  Building wheel for jsonnet (setup.py) ... \u001b[?25l\u001b[?25hdone\n",
            "  Created wheel for jsonnet: filename=jsonnet-0.18.0-cp37-cp37m-linux_x86_64.whl size=3994449 sha256=6386296da5ed4196637652671bc77abefee46a0ebd5d6e8f388b6516d4e9083d\n",
            "  Stored in directory: /root/.cache/pip/wheels/a9/63/f9/a653f9c21575e6ff271ee6a49939aa002005174cea6c35919d\n",
            "  Building wheel for msgpack (setup.py) ... \u001b[?25l\u001b[?25hdone\n",
            "  Created wheel for msgpack: filename=msgpack-0.5.6-cp37-cp37m-linux_x86_64.whl size=298911 sha256=d429c56823c4f3d3ee1ca5cf6aeaf8c557b1fca4f46842562e9fc68f212388f7\n",
            "  Stored in directory: /root/.cache/pip/wheels/42/92/5b/708850ed8872c249ce8ace306b542e1099428491e6b613297b\n",
            "  Building wheel for parsimonious (setup.py) ... \u001b[?25l\u001b[?25hdone\n",
            "  Created wheel for parsimonious: filename=parsimonious-0.8.1-py3-none-any.whl size=42723 sha256=937a67ad1187e39530c6082362cd30cb9d1ff4a145c09977619ff07cf3fefb17\n",
            "  Stored in directory: /root/.cache/pip/wheels/88/5d/ba/f27d8af07306b65ee44f9d3f9cadea1db749a421a6db8a99bf\n",
            "  Building wheel for sqlitedict (setup.py) ... \u001b[?25l\u001b[?25hdone\n",
            "  Created wheel for sqlitedict: filename=sqlitedict-2.0.0-py3-none-any.whl size=15736 sha256=ad0260bf88bee92f1f5d1d9f29139e564efe2738210e2270a3ad34d8e1b071d6\n",
            "  Stored in directory: /root/.cache/pip/wheels/96/dd/2e/0ed4a25cb73fc30c7ea8d10b50acb7226175736067e40a7ea3\n",
            "  Building wheel for subprocess32 (setup.py) ... \u001b[?25l\u001b[?25hdone\n",
            "  Created wheel for subprocess32: filename=subprocess32-3.5.4-py3-none-any.whl size=6502 sha256=3256ef326f40dba9da9da3a1481963a45fed05ca108554deb4600546900d1561\n",
            "  Stored in directory: /root/.cache/pip/wheels/50/ca/fa/8fca8d246e64f19488d07567547ddec8eb084e8c0d7a59226a\n",
            "  Building wheel for word2number (setup.py) ... \u001b[?25l\u001b[?25hdone\n",
            "  Created wheel for word2number: filename=word2number-1.1-py3-none-any.whl size=5582 sha256=914739bb64207f173bd97849784c4ab75d6cffe5876a05313842cf621e177618\n",
            "  Stored in directory: /root/.cache/pip/wheels/4b/c3/77/a5f48aeb0d3efb7cd5ad61cbd3da30bbf9ffc9662b07c9f879\n",
            "  Building wheel for langdetect (setup.py) ... \u001b[?25l\u001b[?25hdone\n",
            "  Created wheel for langdetect: filename=langdetect-1.0.9-py3-none-any.whl size=993242 sha256=01da89f9f25ffa035a96d014290485581d677f3eb9155e83f5d80a3b2ab6ac9f\n",
            "  Stored in directory: /root/.cache/pip/wheels/c5/96/8a/f90c59ed25d75e50a8c10a1b1c2d4c402e4dacfa87f3aff36a\n",
            "  Building wheel for blinker (setup.py) ... \u001b[?25l\u001b[?25hdone\n",
            "  Created wheel for blinker: filename=blinker-1.4-py3-none-any.whl size=13478 sha256=f69af75466ad7bb932d8e06b36a9c692c1f9409ea90e220943efa365283acf14\n",
            "  Stored in directory: /root/.cache/pip/wheels/22/f5/18/df711b66eb25b21325c132757d4314db9ac5e8dabeaf196eab\n",
            "Successfully built sciwing mpld3 networkx overrides psutil stop-words gql graphql-core jsonnet msgpack parsimonious sqlitedict subprocess32 word2number langdetect blinker\n",
            "Installing collected packages: prompt-toolkit, jsonschema, psutil, ipython, urllib3, jmespath, ipykernel, botocore, werkzeug, wasabi, tqdm, sphinxcontrib-qthelp, sphinxcontrib-jsmath, sphinxcontrib-htmlhelp, sphinxcontrib-devhelp, sphinxcontrib-applehelp, smmap, s3transfer, PyYAML, preshed, plac, importlib-metadata, docutils, blis, zope.interface, zope.event, xmltodict, torch, tokenizers, thinc, Sphinx, sentencepiece, sacremoses, rsa, responses, pluggy, networkx, huggingface-hub, graphql-core, gitdb, gensim, Flask, cryptography, colorama, boto3, word2number, watchdog, validators, unidecode, transformers, toml, tensorboardX, subprocess32, starlette, sqlitedict, spacy, shortuuid, sentry-sdk, segtok, scikit-learn, pytorch-pretrained-bert, pytest, pympler, pydeck, pydantic, parsimonious, overrides, numpydoc, msgpack, mpld3, moto, langdetect, jsonnet, gql, GitPython, gevent, ftfy, Flask-Cors, flaky, docker-pycreds, Deprecated, conllu, configparser, bpemb, blinker, base58, awscli, wandb, streamlit, stop-words, questionary, logzero, flair, fastapi, colorful, allennlp, sciwing\n",
            "  Attempting uninstall: prompt-toolkit\n",
            "    Found existing installation: prompt-toolkit 1.0.18\n",
            "    Uninstalling prompt-toolkit-1.0.18:\n",
            "      Successfully uninstalled prompt-toolkit-1.0.18\n",
            "  Attempting uninstall: jsonschema\n",
            "    Found existing installation: jsonschema 4.3.3\n",
            "    Uninstalling jsonschema-4.3.3:\n",
            "      Successfully uninstalled jsonschema-4.3.3\n",
            "  Attempting uninstall: psutil\n",
            "    Found existing installation: psutil 5.4.8\n",
            "    Uninstalling psutil-5.4.8:\n",
            "      Successfully uninstalled psutil-5.4.8\n",
            "  Attempting uninstall: ipython\n",
            "    Found existing installation: ipython 5.5.0\n",
            "    Uninstalling ipython-5.5.0:\n",
            "      Successfully uninstalled ipython-5.5.0\n",
            "  Attempting uninstall: urllib3\n",
            "    Found existing installation: urllib3 1.24.3\n",
            "    Uninstalling urllib3-1.24.3:\n",
            "      Successfully uninstalled urllib3-1.24.3\n",
            "  Attempting uninstall: ipykernel\n",
            "    Found existing installation: ipykernel 4.10.1\n",
            "    Uninstalling ipykernel-4.10.1:\n",
            "      Successfully uninstalled ipykernel-4.10.1\n",
            "  Attempting uninstall: werkzeug\n",
            "    Found existing installation: Werkzeug 1.0.1\n",
            "    Uninstalling Werkzeug-1.0.1:\n",
            "      Successfully uninstalled Werkzeug-1.0.1\n",
            "  Attempting uninstall: wasabi\n",
            "    Found existing installation: wasabi 0.9.0\n",
            "    Uninstalling wasabi-0.9.0:\n",
            "      Successfully uninstalled wasabi-0.9.0\n",
            "  Attempting uninstall: tqdm\n",
            "    Found existing installation: tqdm 4.63.0\n",
            "    Uninstalling tqdm-4.63.0:\n",
            "      Successfully uninstalled tqdm-4.63.0\n",
            "  Attempting uninstall: PyYAML\n",
            "    Found existing installation: PyYAML 3.13\n",
            "    Uninstalling PyYAML-3.13:\n",
            "      Successfully uninstalled PyYAML-3.13\n",
            "  Attempting uninstall: preshed\n",
            "    Found existing installation: preshed 3.0.6\n",
            "    Uninstalling preshed-3.0.6:\n",
            "      Successfully uninstalled preshed-3.0.6\n",
            "  Attempting uninstall: plac\n",
            "    Found existing installation: plac 1.1.3\n",
            "    Uninstalling plac-1.1.3:\n",
            "      Successfully uninstalled plac-1.1.3\n",
            "  Attempting uninstall: importlib-metadata\n",
            "    Found existing installation: importlib-metadata 4.11.2\n",
            "    Uninstalling importlib-metadata-4.11.2:\n",
            "      Successfully uninstalled importlib-metadata-4.11.2\n",
            "  Attempting uninstall: docutils\n",
            "    Found existing installation: docutils 0.17.1\n",
            "    Uninstalling docutils-0.17.1:\n",
            "      Successfully uninstalled docutils-0.17.1\n",
            "  Attempting uninstall: blis\n",
            "    Found existing installation: blis 0.4.1\n",
            "    Uninstalling blis-0.4.1:\n",
            "      Successfully uninstalled blis-0.4.1\n",
            "  Attempting uninstall: torch\n",
            "    Found existing installation: torch 1.10.0+cu111\n",
            "    Uninstalling torch-1.10.0+cu111:\n",
            "      Successfully uninstalled torch-1.10.0+cu111\n",
            "  Attempting uninstall: thinc\n",
            "    Found existing installation: thinc 7.4.0\n",
            "    Uninstalling thinc-7.4.0:\n",
            "      Successfully uninstalled thinc-7.4.0\n",
            "  Attempting uninstall: Sphinx\n",
            "    Found existing installation: Sphinx 1.8.6\n",
            "    Uninstalling Sphinx-1.8.6:\n",
            "      Successfully uninstalled Sphinx-1.8.6\n",
            "  Attempting uninstall: rsa\n",
            "    Found existing installation: rsa 4.8\n",
            "    Uninstalling rsa-4.8:\n",
            "      Successfully uninstalled rsa-4.8\n",
            "  Attempting uninstall: pluggy\n",
            "    Found existing installation: pluggy 0.7.1\n",
            "    Uninstalling pluggy-0.7.1:\n",
            "      Successfully uninstalled pluggy-0.7.1\n",
            "  Attempting uninstall: networkx\n",
            "    Found existing installation: networkx 2.6.3\n",
            "    Uninstalling networkx-2.6.3:\n",
            "      Successfully uninstalled networkx-2.6.3\n",
            "  Attempting uninstall: gensim\n",
            "    Found existing installation: gensim 3.6.0\n",
            "    Uninstalling gensim-3.6.0:\n",
            "      Successfully uninstalled gensim-3.6.0\n",
            "  Attempting uninstall: Flask\n",
            "    Found existing installation: Flask 1.1.4\n",
            "    Uninstalling Flask-1.1.4:\n",
            "      Successfully uninstalled Flask-1.1.4\n",
            "  Attempting uninstall: spacy\n",
            "    Found existing installation: spacy 2.2.4\n",
            "    Uninstalling spacy-2.2.4:\n",
            "      Successfully uninstalled spacy-2.2.4\n",
            "  Attempting uninstall: scikit-learn\n",
            "    Found existing installation: scikit-learn 1.0.2\n",
            "    Uninstalling scikit-learn-1.0.2:\n",
            "      Successfully uninstalled scikit-learn-1.0.2\n",
            "  Attempting uninstall: pytest\n",
            "    Found existing installation: pytest 3.6.4\n",
            "    Uninstalling pytest-3.6.4:\n",
            "      Successfully uninstalled pytest-3.6.4\n",
            "  Attempting uninstall: msgpack\n",
            "    Found existing installation: msgpack 1.0.3\n",
            "    Uninstalling msgpack-1.0.3:\n",
            "      Successfully uninstalled msgpack-1.0.3\n",
            "\u001b[31mERROR: pip's dependency resolver does not currently take into account all the packages that are installed. This behaviour is the source of the following dependency conflicts.\n",
            "yellowbrick 1.4 requires scikit-learn>=1.0.0, but you have scikit-learn 0.22.2 which is incompatible.\n",
            "torchvision 0.11.1+cu111 requires torch==1.10.0, but you have torch 1.5.0 which is incompatible.\n",
            "torchtext 0.11.0 requires torch==1.10.0, but you have torch 1.5.0 which is incompatible.\n",
            "torchaudio 0.10.0+cu111 requires torch==1.10.0, but you have torch 1.5.0 which is incompatible.\n",
            "panel 0.12.1 requires tqdm>=4.48.0, but you have tqdm 4.32.1 which is incompatible.\n",
            "nbclient 0.5.12 requires jupyter-client>=6.1.5, but you have jupyter-client 5.3.5 which is incompatible.\n",
            "markdown 3.3.6 requires importlib-metadata>=4.4; python_version < \"3.10\", but you have importlib-metadata 3.7.0 which is incompatible.\n",
            "jupyter-console 5.2.0 requires prompt-toolkit<2.0.0,>=1.0.0, but you have prompt-toolkit 2.0.10 which is incompatible.\n",
            "imbalanced-learn 0.8.1 requires scikit-learn>=0.24, but you have scikit-learn 0.22.2 which is incompatible.\n",
            "google-colab 1.0.0 requires ipykernel~=4.10, but you have ipykernel 6.9.2 which is incompatible.\n",
            "google-colab 1.0.0 requires ipython~=5.5.0, but you have ipython 7.32.0 which is incompatible.\n",
            "fbprophet 0.7.1 requires tqdm>=4.36.1, but you have tqdm 4.32.1 which is incompatible.\n",
            "en-core-web-sm 2.2.5 requires spacy>=2.2.2, but you have spacy 2.1.4 which is incompatible.\n",
            "datascience 0.10.6 requires folium==0.2.1, but you have folium 0.8.3 which is incompatible.\n",
            "albumentations 0.1.12 requires imgaug<0.2.7,>=0.2.5, but you have imgaug 0.2.9 which is incompatible.\u001b[0m\n",
            "Successfully installed Deprecated-1.2.7 Flask-1.1.1 Flask-Cors-3.0.8 GitPython-3.1.27 PyYAML-5.4.1 Sphinx-2.4.4 allennlp-0.8.3 awscli-1.19.112 base58-2.1.1 blinker-1.4 blis-0.2.4 boto3-1.17.112 botocore-1.20.112 bpemb-0.3.3 colorama-0.4.3 colorful-0.5.1 configparser-5.2.0 conllu-0.11 cryptography-36.0.1 docker-pycreds-0.4.0 docutils-0.15 fastapi-0.65.1 flair-0.5 flaky-3.7.0 ftfy-6.1.1 gensim-3.8.0 gevent-21.12.0 gitdb-4.0.9 gql-0.2.0 graphql-core-1.1 huggingface-hub-0.4.0 importlib-metadata-3.7.0 ipykernel-6.9.2 ipython-7.32.0 jmespath-0.10.0 jsonnet-0.18.0 jsonschema-3.0.2 langdetect-1.0.9 logzero-1.5.0 moto-3.1.0 mpld3-0.3 msgpack-0.5.6 networkx-2.2 numpydoc-1.2 overrides-3.1.0 parsimonious-0.8.1 plac-0.9.6 pluggy-0.13.1 preshed-2.0.1 prompt-toolkit-2.0.10 psutil-5.7.0 pydantic-1.9.0 pydeck-0.7.1 pympler-1.0.1 pytest-5.4.1 pytorch-pretrained-bert-0.6.2 questionary-1.1.1 responses-0.19.0 rsa-4.7.2 s3transfer-0.4.0 sacremoses-0.0.47 scikit-learn-0.22.2 sciwing-0.1.post9 segtok-1.5.11 sentencepiece-0.1.96 sentry-sdk-1.5.7 shortuuid-1.0.8 smmap-5.0.0 spacy-2.1.4 sphinxcontrib-applehelp-1.0.2 sphinxcontrib-devhelp-1.0.2 sphinxcontrib-htmlhelp-2.0.0 sphinxcontrib-jsmath-1.0.1 sphinxcontrib-qthelp-1.0.3 sqlitedict-2.0.0 starlette-0.14.2 stop-words-2018.7.23 streamlit-1.7.0 subprocess32-3.5.4 tensorboardX-2.2 thinc-7.0.8 tokenizers-0.11.6 toml-0.10.0 torch-1.5.0 tqdm-4.32.1 transformers-4.17.0 unidecode-1.3.4 urllib3-1.25.11 validators-0.18.2 wandb-0.8.29 wasabi-0.2.2 watchdog-2.1.6 werkzeug-1.0.0 word2number-1.1 xmltodict-0.12.0 zope.event-4.5.0 zope.interface-5.4.0\n"
          ]
        },
        {
          "output_type": "display_data",
          "data": {
            "application/vnd.colab-display-data+json": {
              "pip_warning": {
                "packages": [
                  "IPython",
                  "ipykernel",
                  "prompt_toolkit",
                  "psutil",
                  "sphinxcontrib",
                  "torch",
                  "tqdm"
                ]
              }
            }
          },
          "metadata": {}
        }
      ],
      "source": [
        "!pip install sciwing"
      ]
    },
    {
      "cell_type": "code",
      "execution_count": 1,
      "metadata": {
        "colab": {
          "base_uri": "https://localhost:8080/"
        },
        "id": "FyKfiRjO9mU2",
        "outputId": "d466fb89-6c59-483d-abfe-d9785a139fb9"
      },
      "outputs": [
        {
          "output_type": "stream",
          "name": "stdout",
          "text": [
            "Collecting en_core_web_sm==2.1.0\n",
            "  Downloading https://github.com/explosion/spacy-models/releases/download/en_core_web_sm-2.1.0/en_core_web_sm-2.1.0.tar.gz (11.1 MB)\n",
            "\u001b[K     |████████████████████████████████| 11.1 MB 1.8 MB/s \n",
            "\u001b[?25hBuilding wheels for collected packages: en-core-web-sm\n",
            "  Building wheel for en-core-web-sm (setup.py) ... \u001b[?25l\u001b[?25hdone\n",
            "  Created wheel for en-core-web-sm: filename=en_core_web_sm-2.1.0-py3-none-any.whl size=11074433 sha256=01735077ca1153e624f8daeee04b7c7bb9c6b1528aa34cacc75dd865f017c16a\n",
            "  Stored in directory: /tmp/pip-ephem-wheel-cache-p3v0djzp/wheels/59/4f/8c/0dbaab09a776d1fa3740e9465078bfd903cc22f3985382b496\n",
            "Successfully built en-core-web-sm\n",
            "Installing collected packages: en-core-web-sm\n",
            "  Attempting uninstall: en-core-web-sm\n",
            "    Found existing installation: en-core-web-sm 2.2.5\n",
            "    Uninstalling en-core-web-sm-2.2.5:\n",
            "      Successfully uninstalled en-core-web-sm-2.2.5\n",
            "Successfully installed en-core-web-sm-2.1.0\n",
            "\u001b[38;5;2m✔ Download and installation successful\u001b[0m\n",
            "You can now load the model via spacy.load('en_core_web_sm')\n"
          ]
        }
      ],
      "source": [
        "!python -m spacy download en_core_web_sm"
      ]
    },
    {
      "cell_type": "code",
      "execution_count": 2,
      "metadata": {
        "colab": {
          "base_uri": "https://localhost:8080/"
        },
        "id": "lFuEBpNaAtHo",
        "outputId": "f85e8122-bc2d-47fd-f9f5-e958cc5a7408"
      },
      "outputs": [
        {
          "output_type": "execute_result",
          "data": {
            "text/plain": [
              "<spacy.lang.en.English at 0x7f0f5bfe2750>"
            ]
          },
          "metadata": {},
          "execution_count": 2
        }
      ],
      "source": [
        "import spacy\n",
        "spacy.load('en_core_web_sm')"
      ]
    },
    {
      "cell_type": "code",
      "execution_count": 3,
      "metadata": {
        "colab": {
          "base_uri": "https://localhost:8080/"
        },
        "id": "OW1GoKfQ9rKF",
        "outputId": "870a2bb3-5d3b-4586-9105-4f0caba20577"
      },
      "outputs": [
        {
          "output_type": "stream",
          "name": "stderr",
          "text": [
            "/usr/local/lib/python3.7/dist-packages/sklearn/utils/linear_assignment_.py:22: FutureWarning: The linear_assignment_ module is deprecated in 0.21 and will be removed from 0.23. Use scipy.optimize.linear_sum_assignment instead.\n",
            "  FutureWarning)\n",
            "Downloading from https://parsect-models.s3-ap-southeast-1.amazonaws.com/lstm_crf_parscit_final.zip: 9171it [00:51, 179.55it/s]                          "
          ]
        },
        {
          "output_type": "stream",
          "name": "stdout",
          "text": [
            "\u001b[38;5;2m✔ Finished downloading\n",
            "https://parsect-models.s3-ap-southeast-1.amazonaws.com/lstm_crf_parscit_final.zip\n",
            "to /root/.sciwing.model_cache/lstm_crf_parscit_final.zip\u001b[0m\n"
          ]
        },
        {
          "output_type": "stream",
          "name": "stderr",
          "text": [
            "\n"
          ]
        },
        {
          "output_type": "stream",
          "name": "stdout",
          "text": [
            "\u001b[2K\u001b[38;5;2m✔ Finished extraction\n",
            "/root/.sciwing.model_cache/lstm_crf_parscit_final.zip to\n",
            "/root/.sciwing.model_cache\u001b[0m\n"
          ]
        },
        {
          "output_type": "stream",
          "name": "stderr",
          "text": [
            "Downloading from https://parsect-models.s3-ap-southeast-1.amazonaws.com/parscit.train: 7it [00:01,  6.30it/s]                       \n"
          ]
        },
        {
          "output_type": "stream",
          "name": "stdout",
          "text": [
            "\u001b[38;5;2m✔ Finished downloading\n",
            "https://parsect-models.s3-ap-southeast-1.amazonaws.com/parscit.train to\n",
            "/root/.sciwing.data_cache/parscit.train\u001b[0m\n"
          ]
        },
        {
          "output_type": "stream",
          "name": "stderr",
          "text": [
            "Downloading from https://parsect-models.s3-ap-southeast-1.amazonaws.com/parscit.dev: 1it [00:00,  4.50it/s]\n"
          ]
        },
        {
          "output_type": "stream",
          "name": "stdout",
          "text": [
            "\u001b[38;5;2m✔ Finished downloading\n",
            "https://parsect-models.s3-ap-southeast-1.amazonaws.com/parscit.dev to\n",
            "/root/.sciwing.data_cache/parscit.dev\u001b[0m\n"
          ]
        },
        {
          "output_type": "stream",
          "name": "stderr",
          "text": [
            "Downloading from https://parsect-models.s3-ap-southeast-1.amazonaws.com/parscit.test: 1it [00:00,  4.61it/s]\n"
          ]
        },
        {
          "output_type": "stream",
          "name": "stdout",
          "text": [
            "\u001b[38;5;2m✔ Finished downloading\n",
            "https://parsect-models.s3-ap-southeast-1.amazonaws.com/parscit.test to\n",
            "/root/.sciwing.data_cache/parscit.test\u001b[0m\n",
            "\u001b[38;5;4mℹ BUILDING VOCAB\u001b[0m\n",
            "\u001b[38;5;4mℹ BUILDING VOCAB\u001b[0m\n",
            "\u001b[38;5;4mℹ BUILDING VOCAB\u001b[0m\n"
          ]
        },
        {
          "output_type": "stream",
          "name": "stderr",
          "text": [
            "Downloading from https://parsect-models.s3-ap-southeast-1.amazonaws.com/vectors_with_unk.tar.gz: 14273it [01:11, 199.74it/s]                           "
          ]
        },
        {
          "output_type": "stream",
          "name": "stdout",
          "text": [
            "\u001b[38;5;2m✔ Finished downloading\n",
            "https://parsect-models.s3-ap-southeast-1.amazonaws.com/vectors_with_unk.tar.gz\n",
            "to /root/.sciwing.embedding_cache/vectors_with_unk.tar.gz\u001b[0m\n"
          ]
        },
        {
          "output_type": "stream",
          "name": "stderr",
          "text": [
            "\n"
          ]
        },
        {
          "output_type": "stream",
          "name": "stdout",
          "text": [
            "\u001b[2K\u001b[38;5;2m✔ Finished extraction\n",
            "/root/.sciwing.embedding_cache/vectors_with_unk.tar.gz to\n",
            "/root/.sciwing.embedding_cache\u001b[0m\n",
            "⠇ Creating Elmo object"
          ]
        },
        {
          "output_type": "stream",
          "name": "stderr",
          "text": [
            "100%|██████████| 336/336 [00:00<00:00, 146449.77B/s]"
          ]
        },
        {
          "output_type": "stream",
          "name": "stdout",
          "text": [
            "⠙ Creating Elmo object"
          ]
        },
        {
          "output_type": "stream",
          "name": "stderr",
          "text": [
            "\n"
          ]
        },
        {
          "output_type": "stream",
          "name": "stdout",
          "text": [
            "⠧ Creating Elmo object"
          ]
        },
        {
          "output_type": "stream",
          "name": "stderr",
          "text": [
            "\r  0%|          | 0/374434792 [00:00<?, ?B/s]"
          ]
        },
        {
          "output_type": "stream",
          "name": "stdout",
          "text": [
            "⠏ Creating Elmo object"
          ]
        },
        {
          "output_type": "stream",
          "name": "stderr",
          "text": [
            "\r  0%|          | 34816/374434792 [00:00<31:35, 197499.67B/s]"
          ]
        },
        {
          "output_type": "stream",
          "name": "stdout",
          "text": [
            "⠹ Creating Elmo object"
          ]
        },
        {
          "output_type": "stream",
          "name": "stderr",
          "text": [
            "\r  0%|          | 104448/374434792 [00:00<26:55, 231753.85B/s]"
          ]
        },
        {
          "output_type": "stream",
          "name": "stdout",
          "text": [
            "⠼ Creating Elmo object"
          ]
        },
        {
          "output_type": "stream",
          "name": "stderr",
          "text": [
            "\r  0%|          | 174080/374434792 [00:00<23:37, 264025.68B/s]"
          ]
        },
        {
          "output_type": "stream",
          "name": "stdout",
          "text": [
            "\r⠴ Creating Elmo object"
          ]
        },
        {
          "output_type": "stream",
          "name": "stderr",
          "text": [
            "\r  0%|          | 243712/374434792 [00:00<21:19, 292530.86B/s]"
          ]
        },
        {
          "output_type": "stream",
          "name": "stdout",
          "text": [
            "⠧ Creating Elmo object"
          ]
        },
        {
          "output_type": "stream",
          "name": "stderr",
          "text": [
            "\r  0%|          | 330752/374434792 [00:00<18:45, 332488.56B/s]"
          ]
        },
        {
          "output_type": "stream",
          "name": "stdout",
          "text": [
            "⠏ Creating Elmo object"
          ]
        },
        {
          "output_type": "stream",
          "name": "stderr",
          "text": [
            "\r  0%|          | 417792/374434792 [00:01<16:58, 367398.05B/s]"
          ]
        },
        {
          "output_type": "stream",
          "name": "stdout",
          "text": [
            "⠹ Creating Elmo object"
          ]
        },
        {
          "output_type": "stream",
          "name": "stderr",
          "text": [
            "\r  0%|          | 522240/374434792 [00:01<15:04, 413451.12B/s]"
          ]
        },
        {
          "output_type": "stream",
          "name": "stdout",
          "text": [
            "\r⠸ Creating Elmo object"
          ]
        },
        {
          "output_type": "stream",
          "name": "stderr",
          "text": [
            "\r  0%|          | 644096/374434792 [00:01<13:17, 468704.29B/s]"
          ]
        },
        {
          "output_type": "stream",
          "name": "stdout",
          "text": [
            "⠴ Creating Elmo object"
          ]
        },
        {
          "output_type": "stream",
          "name": "stderr",
          "text": [
            "\r  0%|          | 765952/374434792 [00:01<12:03, 516785.88B/s]"
          ]
        },
        {
          "output_type": "stream",
          "name": "stdout",
          "text": [
            "⠧ Creating Elmo object"
          ]
        },
        {
          "output_type": "stream",
          "name": "stderr",
          "text": [
            "\r  0%|          | 887808/374434792 [00:01<11:10, 556976.16B/s]"
          ]
        },
        {
          "output_type": "stream",
          "name": "stdout",
          "text": [
            "\r⠇ Creating Elmo object"
          ]
        },
        {
          "output_type": "stream",
          "name": "stderr",
          "text": [
            "\r  0%|          | 1044480/374434792 [00:01<09:57, 625283.45B/s]"
          ]
        },
        {
          "output_type": "stream",
          "name": "stdout",
          "text": [
            "⠙ Creating Elmo object"
          ]
        },
        {
          "output_type": "stream",
          "name": "stderr",
          "text": [
            "\r  0%|          | 1218560/374434792 [00:02<08:54, 697691.62B/s]"
          ]
        },
        {
          "output_type": "stream",
          "name": "stdout",
          "text": [
            "⠸ Creating Elmo object"
          ]
        },
        {
          "output_type": "stream",
          "name": "stderr",
          "text": [
            "\r  0%|          | 1392640/374434792 [00:02<08:07, 765970.25B/s]"
          ]
        },
        {
          "output_type": "stream",
          "name": "stdout",
          "text": [
            "⠴ Creating Elmo object"
          ]
        },
        {
          "output_type": "stream",
          "name": "stderr",
          "text": [
            "\r  0%|          | 1601536/374434792 [00:02<07:16, 854321.84B/s]"
          ]
        },
        {
          "output_type": "stream",
          "name": "stdout",
          "text": [
            "\r⠦ Creating Elmo object"
          ]
        },
        {
          "output_type": "stream",
          "name": "stderr",
          "text": [
            "\r  0%|          | 1810432/374434792 [00:02<06:40, 929955.83B/s]"
          ]
        },
        {
          "output_type": "stream",
          "name": "stdout",
          "text": [
            "⠇ Creating Elmo object"
          ]
        },
        {
          "output_type": "stream",
          "name": "stderr",
          "text": [
            "\r  1%|          | 2071552/374434792 [00:02<05:58, 1039677.42B/s]"
          ]
        },
        {
          "output_type": "stream",
          "name": "stdout",
          "text": [
            "⠙ Creating Elmo object"
          ]
        },
        {
          "output_type": "stream",
          "name": "stderr",
          "text": [
            "\r  1%|          | 2332672/374434792 [00:03<05:25, 1142438.94B/s]"
          ]
        },
        {
          "output_type": "stream",
          "name": "stdout",
          "text": [
            "⠸ Creating Elmo object"
          ]
        },
        {
          "output_type": "stream",
          "name": "stderr",
          "text": [
            "\r  1%|          | 2628608/374434792 [00:03<04:55, 1260277.89B/s]"
          ]
        },
        {
          "output_type": "stream",
          "name": "stdout",
          "text": [
            "\r⠼ Creating Elmo object"
          ]
        },
        {
          "output_type": "stream",
          "name": "stderr",
          "text": [
            "\r  1%|          | 2959360/374434792 [00:03<04:27, 1387515.89B/s]"
          ]
        },
        {
          "output_type": "stream",
          "name": "stdout",
          "text": [
            "⠦ Creating Elmo object"
          ]
        },
        {
          "output_type": "stream",
          "name": "stderr",
          "text": [
            "\r  1%|          | 3324928/374434792 [00:03<04:01, 1535787.50B/s]"
          ]
        },
        {
          "output_type": "stream",
          "name": "stdout",
          "text": [
            "⠇ Creating Elmo object"
          ]
        },
        {
          "output_type": "stream",
          "name": "stderr",
          "text": [
            "\r  1%|          | 3707904/374434792 [00:03<03:39, 1687049.59B/s]"
          ]
        },
        {
          "output_type": "stream",
          "name": "stdout",
          "text": [
            "\r⠏ Creating Elmo object"
          ]
        },
        {
          "output_type": "stream",
          "name": "stderr",
          "text": [
            "\r  1%|          | 4031488/374434792 [00:03<03:08, 1969869.99B/s]"
          ]
        },
        {
          "output_type": "stream",
          "name": "stdout",
          "text": [
            "\r⠙ Creating Elmo object"
          ]
        },
        {
          "output_type": "stream",
          "name": "stderr",
          "text": [
            "\r  1%|          | 4386816/374434792 [00:04<03:04, 2009506.59B/s]"
          ]
        },
        {
          "output_type": "stream",
          "name": "stdout",
          "text": [
            "\r⠹ Creating Elmo object"
          ]
        },
        {
          "output_type": "stream",
          "name": "stderr",
          "text": [
            "\r  1%|▏         | 4744192/374434792 [00:04<02:39, 2313230.13B/s]"
          ]
        },
        {
          "output_type": "stream",
          "name": "stdout",
          "text": [
            "⠼ Creating Elmo object"
          ]
        },
        {
          "output_type": "stream",
          "name": "stderr",
          "text": [
            "\r  1%|▏         | 5170176/374434792 [00:04<02:36, 2363722.03B/s]"
          ]
        },
        {
          "output_type": "stream",
          "name": "stdout",
          "text": [
            "\r⠴ Creating Elmo object"
          ]
        },
        {
          "output_type": "stream",
          "name": "stderr",
          "text": [
            "\r  2%|▏         | 5659648/374434792 [00:04<02:11, 2797687.07B/s]"
          ]
        },
        {
          "output_type": "stream",
          "name": "stdout",
          "text": [
            "⠧ Creating Elmo object"
          ]
        },
        {
          "output_type": "stream",
          "name": "stderr",
          "text": [
            "\r  2%|▏         | 6075392/374434792 [00:04<02:16, 2691229.36B/s]"
          ]
        },
        {
          "output_type": "stream",
          "name": "stdout",
          "text": [
            "\r⠇ Creating Elmo object"
          ]
        },
        {
          "output_type": "stream",
          "name": "stderr",
          "text": [
            "\r  2%|▏         | 6649856/374434792 [00:04<01:54, 3200878.31B/s]"
          ]
        },
        {
          "output_type": "stream",
          "name": "stdout",
          "text": [
            "\r⠏ Creating Elmo object"
          ]
        },
        {
          "output_type": "stream",
          "name": "stderr",
          "text": [
            "\r  2%|▏         | 7119872/374434792 [00:04<02:00, 3058373.91B/s]"
          ]
        },
        {
          "output_type": "stream",
          "name": "stdout",
          "text": [
            "\r⠙ Creating Elmo object"
          ]
        },
        {
          "output_type": "stream",
          "name": "stderr",
          "text": [
            "\r  2%|▏         | 7798784/374434792 [00:04<01:40, 3660221.82B/s]"
          ]
        },
        {
          "output_type": "stream",
          "name": "stdout",
          "text": [
            "⠸ Creating Elmo object"
          ]
        },
        {
          "output_type": "stream",
          "name": "stderr",
          "text": [
            "\r  2%|▏         | 8321024/374434792 [00:05<01:44, 3508915.54B/s]"
          ]
        },
        {
          "output_type": "stream",
          "name": "stdout",
          "text": [
            "\r⠼ Creating Elmo object"
          ]
        },
        {
          "output_type": "stream",
          "name": "stderr",
          "text": [
            "\r  2%|▏         | 8895488/374434792 [00:05<01:32, 3969179.59B/s]"
          ]
        },
        {
          "output_type": "stream",
          "name": "stdout",
          "text": [
            "\r⠴ Creating Elmo object"
          ]
        },
        {
          "output_type": "stream",
          "name": "stderr",
          "text": [
            "\r  3%|▎         | 9731072/374434792 [00:05<01:27, 4188267.95B/s]"
          ]
        },
        {
          "output_type": "stream",
          "name": "stdout",
          "text": [
            "\r⠦ Creating Elmo object"
          ]
        },
        {
          "output_type": "stream",
          "name": "stderr",
          "text": [
            "\r  3%|▎         | 10543104/374434792 [00:05<01:14, 4900076.02B/s]"
          ]
        },
        {
          "output_type": "stream",
          "name": "stdout",
          "text": [
            "⠇ Creating Elmo object"
          ]
        },
        {
          "output_type": "stream",
          "name": "stderr",
          "text": [
            "\r  3%|▎         | 11350016/374434792 [00:05<01:15, 4836628.55B/s]"
          ]
        },
        {
          "output_type": "stream",
          "name": "stdout",
          "text": [
            "\r⠏ Creating Elmo object"
          ]
        },
        {
          "output_type": "stream",
          "name": "stderr",
          "text": [
            "\r  3%|▎         | 12233728/374434792 [00:05<01:04, 5596696.36B/s]"
          ]
        },
        {
          "output_type": "stream",
          "name": "stdout",
          "text": [
            "\r⠙ Creating Elmo object"
          ]
        },
        {
          "output_type": "stream",
          "name": "stderr",
          "text": [
            "\r  4%|▎         | 13213696/374434792 [00:05<00:56, 6423044.47B/s]"
          ]
        },
        {
          "output_type": "stream",
          "name": "stdout",
          "text": [
            "⠸ Creating Elmo object"
          ]
        },
        {
          "output_type": "stream",
          "name": "stderr",
          "text": [
            "\r  4%|▎         | 13958144/374434792 [00:06<01:03, 5718792.21B/s]"
          ]
        },
        {
          "output_type": "stream",
          "name": "stdout",
          "text": [
            "\r⠼ Creating Elmo object"
          ]
        },
        {
          "output_type": "stream",
          "name": "stderr",
          "text": [
            "\r  4%|▍         | 15087616/374434792 [00:06<00:53, 6712779.33B/s]"
          ]
        },
        {
          "output_type": "stream",
          "name": "stdout",
          "text": [
            "\r⠴ Creating Elmo object"
          ]
        },
        {
          "output_type": "stream",
          "name": "stderr",
          "text": [
            "\r  4%|▍         | 16200704/374434792 [00:06<00:53, 6704192.83B/s]"
          ]
        },
        {
          "output_type": "stream",
          "name": "stdout",
          "text": [
            "\r⠦ Creating Elmo object"
          ]
        },
        {
          "output_type": "stream",
          "name": "stderr",
          "text": [
            "\r  5%|▍         | 17467392/374434792 [00:06<00:45, 7806465.84B/s]"
          ]
        },
        {
          "output_type": "stream",
          "name": "stdout",
          "text": [
            "⠇ Creating Elmo object"
          ]
        },
        {
          "output_type": "stream",
          "name": "stderr",
          "text": [
            "\r  5%|▌         | 18838528/374434792 [00:06<00:43, 8099752.28B/s]"
          ]
        },
        {
          "output_type": "stream",
          "name": "stdout",
          "text": [
            "\r⠏ Creating Elmo object"
          ]
        },
        {
          "output_type": "stream",
          "name": "stderr",
          "text": [
            "\r  5%|▌         | 19821568/374434792 [00:06<00:41, 8463712.25B/s]"
          ]
        },
        {
          "output_type": "stream",
          "name": "stdout",
          "text": [
            "\r⠙ Creating Elmo object"
          ]
        },
        {
          "output_type": "stream",
          "name": "stderr",
          "text": [
            "\r  6%|▌         | 21195776/374434792 [00:06<00:36, 9565836.65B/s]"
          ]
        },
        {
          "output_type": "stream",
          "name": "stdout",
          "text": [
            "\r⠹ Creating Elmo object"
          ]
        },
        {
          "output_type": "stream",
          "name": "stderr",
          "text": [
            "\r  6%|▌         | 22599680/374434792 [00:06<00:33, 10576492.51B/s]"
          ]
        },
        {
          "output_type": "stream",
          "name": "stdout",
          "text": [
            "\r⠸ Creating Elmo object"
          ]
        },
        {
          "output_type": "stream",
          "name": "stderr",
          "text": [
            "\r  6%|▋         | 24146944/374434792 [00:06<00:33, 10335262.34B/s]"
          ]
        },
        {
          "output_type": "stream",
          "name": "stdout",
          "text": [
            "\r⠼ Creating Elmo object"
          ]
        },
        {
          "output_type": "stream",
          "name": "stderr",
          "text": [
            "\r  7%|▋         | 25714688/374434792 [00:07<00:30, 11512055.34B/s]"
          ]
        },
        {
          "output_type": "stream",
          "name": "stdout",
          "text": [
            "\r⠴ Creating Elmo object"
          ]
        },
        {
          "output_type": "stream",
          "name": "stderr",
          "text": [
            "\r  7%|▋         | 27541504/374434792 [00:07<00:26, 12948405.81B/s]"
          ]
        },
        {
          "output_type": "stream",
          "name": "stdout",
          "text": [
            "⠧ Creating Elmo object"
          ]
        },
        {
          "output_type": "stream",
          "name": "stderr",
          "text": [
            "\r  8%|▊         | 29389824/374434792 [00:07<00:27, 12557079.92B/s]"
          ]
        },
        {
          "output_type": "stream",
          "name": "stdout",
          "text": [
            "\r⠇ Creating Elmo object"
          ]
        },
        {
          "output_type": "stream",
          "name": "stderr",
          "text": [
            "\r  8%|▊         | 31060992/374434792 [00:07<00:25, 13567956.93B/s]"
          ]
        },
        {
          "output_type": "stream",
          "name": "stdout",
          "text": [
            "\r⠏ Creating Elmo object"
          ]
        },
        {
          "output_type": "stream",
          "name": "stderr",
          "text": [
            "\r  9%|▉         | 33019904/374434792 [00:07<00:22, 14945709.30B/s]"
          ]
        },
        {
          "output_type": "stream",
          "name": "stdout",
          "text": [
            "\r⠙ Creating Elmo object"
          ]
        },
        {
          "output_type": "stream",
          "name": "stderr",
          "text": [
            "\r  9%|▉         | 35323904/374434792 [00:07<00:20, 16706040.36B/s]"
          ]
        },
        {
          "output_type": "stream",
          "name": "stdout",
          "text": [
            "\r⠹ Creating Elmo object"
          ]
        },
        {
          "output_type": "stream",
          "name": "stderr",
          "text": [
            "\r 10%|█         | 37549056/374434792 [00:07<00:20, 16110114.99B/s]"
          ]
        },
        {
          "output_type": "stream",
          "name": "stdout",
          "text": [
            "\r⠸ Creating Elmo object"
          ]
        },
        {
          "output_type": "stream",
          "name": "stderr",
          "text": [
            "\r 11%|█         | 39801856/374434792 [00:07<00:18, 17614564.05B/s]"
          ]
        },
        {
          "output_type": "stream",
          "name": "stdout",
          "text": [
            "\r⠼ Creating Elmo object"
          ]
        },
        {
          "output_type": "stream",
          "name": "stderr",
          "text": [
            "\r 11%|█▏        | 42333184/374434792 [00:07<00:17, 19382894.04B/s]"
          ]
        },
        {
          "output_type": "stream",
          "name": "stdout",
          "text": [
            "\r⠴ Creating Elmo object"
          ]
        },
        {
          "output_type": "stream",
          "name": "stderr",
          "text": [
            "\r 12%|█▏        | 44974080/374434792 [00:08<00:15, 21063545.53B/s]"
          ]
        },
        {
          "output_type": "stream",
          "name": "stdout",
          "text": [
            "\r⠦ Creating Elmo object"
          ]
        },
        {
          "output_type": "stream",
          "name": "stderr",
          "text": [
            "\r 13%|█▎        | 47603712/374434792 [00:08<00:14, 22400380.49B/s]"
          ]
        },
        {
          "output_type": "stream",
          "name": "stdout",
          "text": [
            "\r⠧ Creating Elmo object"
          ]
        },
        {
          "output_type": "stream",
          "name": "stderr",
          "text": [
            "\r 13%|█▎        | 50033664/374434792 [00:08<00:14, 21867128.97B/s]"
          ]
        },
        {
          "output_type": "stream",
          "name": "stdout",
          "text": [
            "\r⠇ Creating Elmo object"
          ]
        },
        {
          "output_type": "stream",
          "name": "stderr",
          "text": [
            "\r 14%|█▍        | 52753408/374434792 [00:08<00:14, 22838460.46B/s]"
          ]
        },
        {
          "output_type": "stream",
          "name": "stdout",
          "text": [
            "\r⠏ Creating Elmo object"
          ]
        },
        {
          "output_type": "stream",
          "name": "stderr",
          "text": [
            "\r 15%|█▍        | 55601152/374434792 [00:08<00:13, 24280286.02B/s]"
          ]
        },
        {
          "output_type": "stream",
          "name": "stdout",
          "text": [
            "\r⠙ Creating Elmo object"
          ]
        },
        {
          "output_type": "stream",
          "name": "stderr",
          "text": [
            "\r 16%|█▌        | 58916864/374434792 [00:08<00:11, 26400466.34B/s]"
          ]
        },
        {
          "output_type": "stream",
          "name": "stdout",
          "text": [
            "\r⠹ Creating Elmo object"
          ]
        },
        {
          "output_type": "stream",
          "name": "stderr",
          "text": [
            "\r 16%|█▋        | 61664256/374434792 [00:08<00:13, 23946163.21B/s]"
          ]
        },
        {
          "output_type": "stream",
          "name": "stdout",
          "text": [
            "\r⠸ Creating Elmo object"
          ]
        },
        {
          "output_type": "stream",
          "name": "stderr",
          "text": [
            "\r 17%|█▋        | 64808960/374434792 [00:08<00:12, 25791135.05B/s]"
          ]
        },
        {
          "output_type": "stream",
          "name": "stdout",
          "text": [
            "\r⠼ Creating Elmo object"
          ]
        },
        {
          "output_type": "stream",
          "name": "stderr",
          "text": [
            "\r 18%|█▊        | 67880960/374434792 [00:08<00:11, 27094273.59B/s]"
          ]
        },
        {
          "output_type": "stream",
          "name": "stdout",
          "text": [
            "\r⠴ Creating Elmo object"
          ]
        },
        {
          "output_type": "stream",
          "name": "stderr",
          "text": [
            "\r 19%|█▉        | 70694912/374434792 [00:09<00:11, 27322201.87B/s]"
          ]
        },
        {
          "output_type": "stream",
          "name": "stdout",
          "text": [
            "\r⠦ Creating Elmo object"
          ]
        },
        {
          "output_type": "stream",
          "name": "stderr",
          "text": [
            "\r 20%|█▉        | 74257408/374434792 [00:09<00:10, 29373773.65B/s]"
          ]
        },
        {
          "output_type": "stream",
          "name": "stdout",
          "text": [
            "⠇ Creating Elmo object"
          ]
        },
        {
          "output_type": "stream",
          "name": "stderr",
          "text": [
            "\r 21%|██        | 77290496/374434792 [00:09<00:11, 26723366.17B/s]"
          ]
        },
        {
          "output_type": "stream",
          "name": "stdout",
          "text": [
            "\r⠏ Creating Elmo object"
          ]
        },
        {
          "output_type": "stream",
          "name": "stderr",
          "text": [
            "\r 21%|██▏       | 80075776/374434792 [00:09<00:10, 26979016.16B/s]"
          ]
        },
        {
          "output_type": "stream",
          "name": "stdout",
          "text": [
            "\r⠙ Creating Elmo object"
          ]
        },
        {
          "output_type": "stream",
          "name": "stderr",
          "text": [
            "\r 22%|██▏       | 83397632/374434792 [00:09<00:10, 28587167.28B/s]"
          ]
        },
        {
          "output_type": "stream",
          "name": "stdout",
          "text": [
            "\r⠹ Creating Elmo object"
          ]
        },
        {
          "output_type": "stream",
          "name": "stderr",
          "text": [
            "\r 23%|██▎       | 86504448/374434792 [00:09<00:09, 29258384.79B/s]"
          ]
        },
        {
          "output_type": "stream",
          "name": "stdout",
          "text": [
            "\r⠸ Creating Elmo object"
          ]
        },
        {
          "output_type": "stream",
          "name": "stderr",
          "text": [
            "\r 24%|██▍       | 89688064/374434792 [00:09<00:09, 29979289.10B/s]"
          ]
        },
        {
          "output_type": "stream",
          "name": "stdout",
          "text": [
            "\r⠼ Creating Elmo object"
          ]
        },
        {
          "output_type": "stream",
          "name": "stderr",
          "text": [
            "\r 25%|██▍       | 92795904/374434792 [00:09<00:10, 27671086.01B/s]"
          ]
        },
        {
          "output_type": "stream",
          "name": "stdout",
          "text": [
            "\r⠴ Creating Elmo object"
          ]
        },
        {
          "output_type": "stream",
          "name": "stderr",
          "text": [
            "\r 26%|██▌       | 96049152/374434792 [00:09<00:09, 28969576.19B/s]"
          ]
        },
        {
          "output_type": "stream",
          "name": "stdout",
          "text": [
            "\r⠦ Creating Elmo object"
          ]
        },
        {
          "output_type": "stream",
          "name": "stderr",
          "text": [
            "\r 26%|██▋       | 99103744/374434792 [00:10<00:09, 29079393.70B/s]"
          ]
        },
        {
          "output_type": "stream",
          "name": "stdout",
          "text": [
            "\r⠧ Creating Elmo object"
          ]
        },
        {
          "output_type": "stream",
          "name": "stderr",
          "text": [
            "\r 27%|██▋       | 102447104/374434792 [00:10<00:08, 30260738.26B/s]"
          ]
        },
        {
          "output_type": "stream",
          "name": "stdout",
          "text": [
            "\r⠇ Creating Elmo object"
          ]
        },
        {
          "output_type": "stream",
          "name": "stderr",
          "text": [
            "\r 28%|██▊       | 105517056/374434792 [00:10<00:09, 29129488.49B/s]"
          ]
        },
        {
          "output_type": "stream",
          "name": "stdout",
          "text": [
            "\r⠏ Creating Elmo object"
          ]
        },
        {
          "output_type": "stream",
          "name": "stderr",
          "text": [
            "\r 29%|██▉       | 108470272/374434792 [00:10<00:09, 26640068.82B/s]"
          ]
        },
        {
          "output_type": "stream",
          "name": "stdout",
          "text": [
            "\r⠙ Creating Elmo object"
          ]
        },
        {
          "output_type": "stream",
          "name": "stderr",
          "text": [
            "\r 30%|██▉       | 111966208/374434792 [00:10<00:09, 28687312.21B/s]"
          ]
        },
        {
          "output_type": "stream",
          "name": "stdout",
          "text": [
            "\r⠹ Creating Elmo object"
          ]
        },
        {
          "output_type": "stream",
          "name": "stderr",
          "text": [
            "\r 31%|███       | 114928640/374434792 [00:10<00:09, 28661944.46B/s]"
          ]
        },
        {
          "output_type": "stream",
          "name": "stdout",
          "text": [
            "\r⠸ Creating Elmo object"
          ]
        },
        {
          "output_type": "stream",
          "name": "stderr",
          "text": [
            "\r 32%|███▏      | 118067200/374434792 [00:10<00:08, 29427553.81B/s]"
          ]
        },
        {
          "output_type": "stream",
          "name": "stdout",
          "text": [
            "\r⠼ Creating Elmo object"
          ]
        },
        {
          "output_type": "stream",
          "name": "stderr",
          "text": [
            "\r 32%|███▏      | 121061376/374434792 [00:10<00:09, 27270968.35B/s]"
          ]
        },
        {
          "output_type": "stream",
          "name": "stdout",
          "text": [
            "\r⠴ Creating Elmo object"
          ]
        },
        {
          "output_type": "stream",
          "name": "stderr",
          "text": [
            "\r 33%|███▎      | 124318720/374434792 [00:10<00:08, 28669232.87B/s]"
          ]
        },
        {
          "output_type": "stream",
          "name": "stdout",
          "text": [
            "\r⠦ Creating Elmo object"
          ]
        },
        {
          "output_type": "stream",
          "name": "stderr",
          "text": [
            "\r 34%|███▍      | 127300608/374434792 [00:11<00:08, 28783298.30B/s]"
          ]
        },
        {
          "output_type": "stream",
          "name": "stdout",
          "text": [
            "\r⠧ Creating Elmo object"
          ]
        },
        {
          "output_type": "stream",
          "name": "stderr",
          "text": [
            "\r 35%|███▍      | 130429952/374434792 [00:11<00:08, 29481238.56B/s]"
          ]
        },
        {
          "output_type": "stream",
          "name": "stdout",
          "text": [
            "\r⠇ Creating Elmo object"
          ]
        },
        {
          "output_type": "stream",
          "name": "stderr",
          "text": [
            "\r 36%|███▌      | 133451776/374434792 [00:11<00:08, 29697584.49B/s]"
          ]
        },
        {
          "output_type": "stream",
          "name": "stdout",
          "text": [
            "\r⠏ Creating Elmo object"
          ]
        },
        {
          "output_type": "stream",
          "name": "stderr",
          "text": [
            "\r 37%|███▋      | 136696832/374434792 [00:11<00:07, 30471930.65B/s]"
          ]
        },
        {
          "output_type": "stream",
          "name": "stdout",
          "text": [
            "⠹ Creating Elmo object"
          ]
        },
        {
          "output_type": "stream",
          "name": "stderr",
          "text": [
            "\r 37%|███▋      | 139767808/374434792 [00:11<00:08, 27724030.94B/s]"
          ]
        },
        {
          "output_type": "stream",
          "name": "stdout",
          "text": [
            "\r⠸ Creating Elmo object"
          ]
        },
        {
          "output_type": "stream",
          "name": "stderr",
          "text": [
            "\r 38%|███▊      | 142923776/374434792 [00:11<00:08, 28762291.89B/s]"
          ]
        },
        {
          "output_type": "stream",
          "name": "stdout",
          "text": [
            "\r⠼ Creating Elmo object"
          ]
        },
        {
          "output_type": "stream",
          "name": "stderr",
          "text": [
            "\r 39%|███▉      | 145885184/374434792 [00:11<00:07, 28969935.30B/s]"
          ]
        },
        {
          "output_type": "stream",
          "name": "stdout",
          "text": [
            "\r⠴ Creating Elmo object"
          ]
        },
        {
          "output_type": "stream",
          "name": "stderr",
          "text": [
            "\r 40%|███▉      | 149145600/374434792 [00:11<00:07, 29875943.51B/s]"
          ]
        },
        {
          "output_type": "stream",
          "name": "stdout",
          "text": [
            "\r⠦ Creating Elmo object"
          ]
        },
        {
          "output_type": "stream",
          "name": "stderr",
          "text": [
            "\r 41%|████      | 152515584/374434792 [00:11<00:07, 28373034.06B/s]"
          ]
        },
        {
          "output_type": "stream",
          "name": "stdout",
          "text": [
            "\r⠧ Creating Elmo object"
          ]
        },
        {
          "output_type": "stream",
          "name": "stderr",
          "text": [
            "\r 42%|████▏     | 156012544/374434792 [00:11<00:07, 30074817.48B/s]"
          ]
        },
        {
          "output_type": "stream",
          "name": "stdout",
          "text": [
            "\r⠇ Creating Elmo object"
          ]
        },
        {
          "output_type": "stream",
          "name": "stderr",
          "text": [
            "\r 42%|████▏     | 159076352/374434792 [00:12<00:07, 28455701.29B/s]"
          ]
        },
        {
          "output_type": "stream",
          "name": "stdout",
          "text": [
            "\r⠏ Creating Elmo object"
          ]
        },
        {
          "output_type": "stream",
          "name": "stderr",
          "text": [
            "\r 44%|████▎     | 162919424/374434792 [00:12<00:06, 30857030.80B/s]"
          ]
        },
        {
          "output_type": "stream",
          "name": "stdout",
          "text": [
            "\r⠙ Creating Elmo object"
          ]
        },
        {
          "output_type": "stream",
          "name": "stderr",
          "text": [
            "\r 44%|████▍     | 166104064/374434792 [00:12<00:07, 28781389.13B/s]"
          ]
        },
        {
          "output_type": "stream",
          "name": "stdout",
          "text": [
            "\r⠹ Creating Elmo object"
          ]
        },
        {
          "output_type": "stream",
          "name": "stderr",
          "text": [
            "\r 45%|████▌     | 169269248/374434792 [00:12<00:06, 29585090.87B/s]"
          ]
        },
        {
          "output_type": "stream",
          "name": "stdout",
          "text": [
            "\r⠸ Creating Elmo object"
          ]
        },
        {
          "output_type": "stream",
          "name": "stderr",
          "text": [
            "\r 46%|████▌     | 172307456/374434792 [00:12<00:06, 29780195.25B/s]"
          ]
        },
        {
          "output_type": "stream",
          "name": "stdout",
          "text": [
            "\r⠼ Creating Elmo object"
          ]
        },
        {
          "output_type": "stream",
          "name": "stderr",
          "text": [
            "\r 47%|████▋     | 175527936/374434792 [00:12<00:06, 30467829.37B/s]"
          ]
        },
        {
          "output_type": "stream",
          "name": "stdout",
          "text": [
            "\r⠴ Creating Elmo object"
          ]
        },
        {
          "output_type": "stream",
          "name": "stderr",
          "text": [
            "\r 48%|████▊     | 178917376/374434792 [00:12<00:06, 31419579.01B/s]"
          ]
        },
        {
          "output_type": "stream",
          "name": "stdout",
          "text": [
            "\r⠦ Creating Elmo object"
          ]
        },
        {
          "output_type": "stream",
          "name": "stderr",
          "text": [
            "\r 49%|████▊     | 182095872/374434792 [00:12<00:06, 31362170.07B/s]"
          ]
        },
        {
          "output_type": "stream",
          "name": "stdout",
          "text": [
            "\r⠧ Creating Elmo object"
          ]
        },
        {
          "output_type": "stream",
          "name": "stderr",
          "text": [
            "\r 49%|████▉     | 185257984/374434792 [00:12<00:06, 30530587.68B/s]"
          ]
        },
        {
          "output_type": "stream",
          "name": "stdout",
          "text": [
            "\r⠇ Creating Elmo object"
          ]
        },
        {
          "output_type": "stream",
          "name": "stderr",
          "text": [
            "\r 50%|█████     | 188514304/374434792 [00:13<00:05, 31111994.09B/s]"
          ]
        },
        {
          "output_type": "stream",
          "name": "stdout",
          "text": [
            "\r⠏ Creating Elmo object"
          ]
        },
        {
          "output_type": "stream",
          "name": "stderr",
          "text": [
            "\r 51%|█████▏    | 191935488/374434792 [00:13<00:05, 31892170.87B/s]"
          ]
        },
        {
          "output_type": "stream",
          "name": "stdout",
          "text": [
            "\r⠙ Creating Elmo object"
          ]
        },
        {
          "output_type": "stream",
          "name": "stderr",
          "text": [
            "\r 52%|█████▏    | 195245056/374434792 [00:13<00:05, 32088109.96B/s]"
          ]
        },
        {
          "output_type": "stream",
          "name": "stdout",
          "text": [
            "\r⠹ Creating Elmo object"
          ]
        },
        {
          "output_type": "stream",
          "name": "stderr",
          "text": [
            "\r 53%|█████▎    | 198549504/374434792 [00:13<00:05, 32367964.56B/s]"
          ]
        },
        {
          "output_type": "stream",
          "name": "stdout",
          "text": [
            "\r⠸ Creating Elmo object"
          ]
        },
        {
          "output_type": "stream",
          "name": "stderr",
          "text": [
            "\r 54%|█████▍    | 201896960/374434792 [00:13<00:05, 32650614.77B/s]"
          ]
        },
        {
          "output_type": "stream",
          "name": "stdout",
          "text": [
            "\r⠼ Creating Elmo object"
          ]
        },
        {
          "output_type": "stream",
          "name": "stderr",
          "text": [
            "\r 55%|█████▍    | 205222912/374434792 [00:13<00:05, 32740995.68B/s]"
          ]
        },
        {
          "output_type": "stream",
          "name": "stdout",
          "text": [
            "\r⠴ Creating Elmo object"
          ]
        },
        {
          "output_type": "stream",
          "name": "stderr",
          "text": [
            "\r 56%|█████▌    | 208547840/374434792 [00:13<00:05, 32891781.21B/s]"
          ]
        },
        {
          "output_type": "stream",
          "name": "stdout",
          "text": [
            "\r⠦ Creating Elmo object"
          ]
        },
        {
          "output_type": "stream",
          "name": "stderr",
          "text": [
            "\r 57%|█████▋    | 211923968/374434792 [00:13<00:04, 32783909.56B/s]"
          ]
        },
        {
          "output_type": "stream",
          "name": "stdout",
          "text": [
            "\r⠧ Creating Elmo object"
          ]
        },
        {
          "output_type": "stream",
          "name": "stderr",
          "text": [
            "\r 58%|█████▊    | 215330816/374434792 [00:13<00:04, 33158217.28B/s]"
          ]
        },
        {
          "output_type": "stream",
          "name": "stdout",
          "text": [
            "\r⠇ Creating Elmo object"
          ]
        },
        {
          "output_type": "stream",
          "name": "stderr",
          "text": [
            "\r 58%|█████▊    | 218649600/374434792 [00:13<00:04, 32895987.62B/s]"
          ]
        },
        {
          "output_type": "stream",
          "name": "stdout",
          "text": [
            "\r⠏ Creating Elmo object"
          ]
        },
        {
          "output_type": "stream",
          "name": "stderr",
          "text": [
            "\r 59%|█████▉    | 222105600/374434792 [00:14<00:04, 33377944.37B/s]"
          ]
        },
        {
          "output_type": "stream",
          "name": "stdout",
          "text": [
            "\r⠙ Creating Elmo object"
          ]
        },
        {
          "output_type": "stream",
          "name": "stderr",
          "text": [
            "\r 60%|██████    | 225446912/374434792 [00:14<00:04, 33098940.06B/s]"
          ]
        },
        {
          "output_type": "stream",
          "name": "stdout",
          "text": [
            "\r⠹ Creating Elmo object"
          ]
        },
        {
          "output_type": "stream",
          "name": "stderr",
          "text": [
            "\r 61%|██████    | 228799488/374434792 [00:14<00:04, 33225402.48B/s]"
          ]
        },
        {
          "output_type": "stream",
          "name": "stdout",
          "text": [
            "\r⠸ Creating Elmo object"
          ]
        },
        {
          "output_type": "stream",
          "name": "stderr",
          "text": [
            "\r 62%|██████▏   | 232124416/374434792 [00:14<00:04, 33012871.97B/s]"
          ]
        },
        {
          "output_type": "stream",
          "name": "stdout",
          "text": [
            "\r⠼ Creating Elmo object"
          ]
        },
        {
          "output_type": "stream",
          "name": "stderr",
          "text": [
            "\r 63%|██████▎   | 235427840/374434792 [00:14<00:04, 32958355.05B/s]"
          ]
        },
        {
          "output_type": "stream",
          "name": "stdout",
          "text": [
            "\r⠴ Creating Elmo object"
          ]
        },
        {
          "output_type": "stream",
          "name": "stderr",
          "text": [
            "\r 64%|██████▍   | 238777344/374434792 [00:14<00:04, 33060741.00B/s]"
          ]
        },
        {
          "output_type": "stream",
          "name": "stdout",
          "text": [
            "\r⠦ Creating Elmo object"
          ]
        },
        {
          "output_type": "stream",
          "name": "stderr",
          "text": [
            "\r 65%|██████▍   | 242168832/374434792 [00:14<00:03, 33077959.44B/s]"
          ]
        },
        {
          "output_type": "stream",
          "name": "stdout",
          "text": [
            "\r⠧ Creating Elmo object"
          ]
        },
        {
          "output_type": "stream",
          "name": "stderr",
          "text": [
            "\r 66%|██████▌   | 245594112/374434792 [00:14<00:03, 33420354.73B/s]"
          ]
        },
        {
          "output_type": "stream",
          "name": "stdout",
          "text": [
            "\r⠇ Creating Elmo object"
          ]
        },
        {
          "output_type": "stream",
          "name": "stderr",
          "text": [
            "\r 66%|██████▋   | 248938496/374434792 [00:14<00:03, 33396654.88B/s]"
          ]
        },
        {
          "output_type": "stream",
          "name": "stdout",
          "text": [
            "\r⠏ Creating Elmo object"
          ]
        },
        {
          "output_type": "stream",
          "name": "stderr",
          "text": [
            "\r 67%|██████▋   | 252279808/374434792 [00:14<00:03, 33143132.06B/s]"
          ]
        },
        {
          "output_type": "stream",
          "name": "stdout",
          "text": [
            "\r⠙ Creating Elmo object"
          ]
        },
        {
          "output_type": "stream",
          "name": "stderr",
          "text": [
            "\r 68%|██████▊   | 255675392/374434792 [00:15<00:03, 33381642.31B/s]"
          ]
        },
        {
          "output_type": "stream",
          "name": "stdout",
          "text": [
            "\r⠹ Creating Elmo object"
          ]
        },
        {
          "output_type": "stream",
          "name": "stderr",
          "text": [
            "\r 69%|██████▉   | 259015680/374434792 [00:15<00:04, 27381192.58B/s]"
          ]
        },
        {
          "output_type": "stream",
          "name": "stdout",
          "text": [
            "\r⠸ Creating Elmo object"
          ]
        },
        {
          "output_type": "stream",
          "name": "stderr",
          "text": [
            "\r 70%|███████   | 262998016/374434792 [00:15<00:03, 30212894.79B/s]"
          ]
        },
        {
          "output_type": "stream",
          "name": "stdout",
          "text": [
            "\r⠼ Creating Elmo object"
          ]
        },
        {
          "output_type": "stream",
          "name": "stderr",
          "text": [
            "\r 71%|███████   | 266302464/374434792 [00:15<00:03, 30986889.15B/s]"
          ]
        },
        {
          "output_type": "stream",
          "name": "stdout",
          "text": [
            "\r⠴ Creating Elmo object"
          ]
        },
        {
          "output_type": "stream",
          "name": "stderr",
          "text": [
            "\r 72%|███████▏  | 269556736/374434792 [00:15<00:03, 30910317.87B/s]"
          ]
        },
        {
          "output_type": "stream",
          "name": "stdout",
          "text": [
            "\r⠦ Creating Elmo object"
          ]
        },
        {
          "output_type": "stream",
          "name": "stderr",
          "text": [
            "\r 73%|███████▎  | 272937984/374434792 [00:15<00:03, 31335210.56B/s]"
          ]
        },
        {
          "output_type": "stream",
          "name": "stdout",
          "text": [
            "\r⠧ Creating Elmo object"
          ]
        },
        {
          "output_type": "stream",
          "name": "stderr",
          "text": [
            "\r 74%|███████▍  | 276247552/374434792 [00:15<00:03, 31746895.27B/s]"
          ]
        },
        {
          "output_type": "stream",
          "name": "stdout",
          "text": [
            "\r⠇ Creating Elmo object"
          ]
        },
        {
          "output_type": "stream",
          "name": "stderr",
          "text": [
            "\r 75%|███████▍  | 279598080/374434792 [00:15<00:02, 32253930.95B/s]"
          ]
        },
        {
          "output_type": "stream",
          "name": "stdout",
          "text": [
            "\r⠏ Creating Elmo object"
          ]
        },
        {
          "output_type": "stream",
          "name": "stderr",
          "text": [
            "\r 76%|███████▌  | 282864640/374434792 [00:15<00:02, 32289202.96B/s]"
          ]
        },
        {
          "output_type": "stream",
          "name": "stdout",
          "text": [
            "\r⠙ Creating Elmo object"
          ]
        },
        {
          "output_type": "stream",
          "name": "stderr",
          "text": [
            "\r 76%|███████▋  | 286234624/374434792 [00:16<00:02, 32698166.12B/s]"
          ]
        },
        {
          "output_type": "stream",
          "name": "stdout",
          "text": [
            "\r⠹ Creating Elmo object"
          ]
        },
        {
          "output_type": "stream",
          "name": "stderr",
          "text": [
            "\r 77%|███████▋  | 289559552/374434792 [00:16<00:02, 32860118.23B/s]"
          ]
        },
        {
          "output_type": "stream",
          "name": "stdout",
          "text": [
            "\r⠸ Creating Elmo object"
          ]
        },
        {
          "output_type": "stream",
          "name": "stderr",
          "text": [
            "\r 78%|███████▊  | 292860928/374434792 [00:16<00:02, 32545894.22B/s]"
          ]
        },
        {
          "output_type": "stream",
          "name": "stdout",
          "text": [
            "\r⠼ Creating Elmo object"
          ]
        },
        {
          "output_type": "stream",
          "name": "stderr",
          "text": [
            "\r 79%|███████▉  | 296127488/374434792 [00:16<00:02, 32447852.83B/s]"
          ]
        },
        {
          "output_type": "stream",
          "name": "stdout",
          "text": [
            "\r⠴ Creating Elmo object"
          ]
        },
        {
          "output_type": "stream",
          "name": "stderr",
          "text": [
            "\r 80%|███████▉  | 299398144/374434792 [00:16<00:02, 32465211.96B/s]"
          ]
        },
        {
          "output_type": "stream",
          "name": "stdout",
          "text": [
            "\r⠦ Creating Elmo object"
          ]
        },
        {
          "output_type": "stream",
          "name": "stderr",
          "text": [
            "\r 81%|████████  | 302698496/374434792 [00:16<00:02, 32623938.03B/s]"
          ]
        },
        {
          "output_type": "stream",
          "name": "stdout",
          "text": [
            "\r⠧ Creating Elmo object"
          ]
        },
        {
          "output_type": "stream",
          "name": "stderr",
          "text": [
            "\r 82%|████████▏ | 305965056/374434792 [00:16<00:02, 32218436.85B/s]"
          ]
        },
        {
          "output_type": "stream",
          "name": "stdout",
          "text": [
            "\r⠇ Creating Elmo object"
          ]
        },
        {
          "output_type": "stream",
          "name": "stderr",
          "text": [
            "\r 83%|████████▎ | 309326848/374434792 [00:16<00:02, 32532703.47B/s]"
          ]
        },
        {
          "output_type": "stream",
          "name": "stdout",
          "text": [
            "\r⠏ Creating Elmo object"
          ]
        },
        {
          "output_type": "stream",
          "name": "stderr",
          "text": [
            "\r 84%|████████▎ | 312735744/374434792 [00:16<00:01, 32978482.58B/s]"
          ]
        },
        {
          "output_type": "stream",
          "name": "stdout",
          "text": [
            "\r⠙ Creating Elmo object"
          ]
        },
        {
          "output_type": "stream",
          "name": "stderr",
          "text": [
            "\r 84%|████████▍ | 316047360/374434792 [00:16<00:01, 33017484.99B/s]"
          ]
        },
        {
          "output_type": "stream",
          "name": "stdout",
          "text": [
            "\r⠹ Creating Elmo object"
          ]
        },
        {
          "output_type": "stream",
          "name": "stderr",
          "text": [
            "\r 85%|████████▌ | 319352832/374434792 [00:17<00:01, 32565474.75B/s]"
          ]
        },
        {
          "output_type": "stream",
          "name": "stdout",
          "text": [
            "\r⠸ Creating Elmo object"
          ]
        },
        {
          "output_type": "stream",
          "name": "stderr",
          "text": [
            "\r 86%|████████▌ | 322720768/374434792 [00:17<00:01, 32890526.06B/s]"
          ]
        },
        {
          "output_type": "stream",
          "name": "stdout",
          "text": [
            "\r⠼ Creating Elmo object"
          ]
        },
        {
          "output_type": "stream",
          "name": "stderr",
          "text": [
            "\r 87%|████████▋ | 326013952/374434792 [00:17<00:01, 32498490.48B/s]"
          ]
        },
        {
          "output_type": "stream",
          "name": "stdout",
          "text": [
            "\r⠴ Creating Elmo object"
          ]
        },
        {
          "output_type": "stream",
          "name": "stderr",
          "text": [
            "\r 88%|████████▊ | 329281536/374434792 [00:17<00:01, 32550180.14B/s]"
          ]
        },
        {
          "output_type": "stream",
          "name": "stdout",
          "text": [
            "\r⠦ Creating Elmo object"
          ]
        },
        {
          "output_type": "stream",
          "name": "stderr",
          "text": [
            "\r 89%|████████▉ | 332559360/374434792 [00:17<00:01, 32615139.53B/s]"
          ]
        },
        {
          "output_type": "stream",
          "name": "stdout",
          "text": [
            "\r⠧ Creating Elmo object"
          ]
        },
        {
          "output_type": "stream",
          "name": "stderr",
          "text": [
            "\r 90%|████████▉ | 335934464/374434792 [00:17<00:01, 32843946.49B/s]"
          ]
        },
        {
          "output_type": "stream",
          "name": "stdout",
          "text": [
            "\r⠇ Creating Elmo object"
          ]
        },
        {
          "output_type": "stream",
          "name": "stderr",
          "text": [
            "\r 91%|█████████ | 339220480/374434792 [00:17<00:01, 32620129.56B/s]"
          ]
        },
        {
          "output_type": "stream",
          "name": "stdout",
          "text": [
            "\r⠏ Creating Elmo object"
          ]
        },
        {
          "output_type": "stream",
          "name": "stderr",
          "text": [
            "\r 91%|█████████▏| 342483968/374434792 [00:17<00:00, 32239202.59B/s]"
          ]
        },
        {
          "output_type": "stream",
          "name": "stdout",
          "text": [
            "\r⠙ Creating Elmo object"
          ]
        },
        {
          "output_type": "stream",
          "name": "stderr",
          "text": [
            "\r 92%|█████████▏| 345754624/374434792 [00:17<00:00, 32377987.59B/s]"
          ]
        },
        {
          "output_type": "stream",
          "name": "stdout",
          "text": [
            "\r⠹ Creating Elmo object"
          ]
        },
        {
          "output_type": "stream",
          "name": "stderr",
          "text": [
            "\r 93%|█████████▎| 348994560/374434792 [00:17<00:00, 32243605.35B/s]"
          ]
        },
        {
          "output_type": "stream",
          "name": "stdout",
          "text": [
            "\r⠸ Creating Elmo object"
          ]
        },
        {
          "output_type": "stream",
          "name": "stderr",
          "text": [
            "\r 94%|█████████▍| 352228352/374434792 [00:18<00:00, 32271712.93B/s]"
          ]
        },
        {
          "output_type": "stream",
          "name": "stdout",
          "text": [
            "\r⠼ Creating Elmo object"
          ]
        },
        {
          "output_type": "stream",
          "name": "stderr",
          "text": [
            "\r 95%|█████████▌| 355738624/374434792 [00:18<00:00, 33070707.11B/s]"
          ]
        },
        {
          "output_type": "stream",
          "name": "stdout",
          "text": [
            "\r⠴ Creating Elmo object"
          ]
        },
        {
          "output_type": "stream",
          "name": "stderr",
          "text": [
            "\r 96%|█████████▌| 359051264/374434792 [00:18<00:00, 33062626.97B/s]"
          ]
        },
        {
          "output_type": "stream",
          "name": "stdout",
          "text": [
            "\r⠦ Creating Elmo object"
          ]
        },
        {
          "output_type": "stream",
          "name": "stderr",
          "text": [
            "\r 97%|█████████▋| 362361856/374434792 [00:18<00:00, 33037932.57B/s]"
          ]
        },
        {
          "output_type": "stream",
          "name": "stdout",
          "text": [
            "\r⠧ Creating Elmo object"
          ]
        },
        {
          "output_type": "stream",
          "name": "stderr",
          "text": [
            "\r 98%|█████████▊| 365668352/374434792 [00:18<00:00, 32487723.72B/s]"
          ]
        },
        {
          "output_type": "stream",
          "name": "stdout",
          "text": [
            "\r⠇ Creating Elmo object"
          ]
        },
        {
          "output_type": "stream",
          "name": "stderr",
          "text": [
            "\r 99%|█████████▊| 368921600/374434792 [00:18<00:00, 32420157.33B/s]"
          ]
        },
        {
          "output_type": "stream",
          "name": "stdout",
          "text": [
            "\r⠏ Creating Elmo object"
          ]
        },
        {
          "output_type": "stream",
          "name": "stderr",
          "text": [
            "100%|██████████| 374434792/374434792 [00:18<00:00, 19977260.37B/s]\n"
          ]
        },
        {
          "output_type": "stream",
          "name": "stdout",
          "text": [
            "\u001b[2K\u001b[38;5;2m✔ Finished Loading Elmo object\u001b[0m\n",
            "\u001b[38;5;2m✔ Loaded Best Model with loss value 446.4560852050781\u001b[0m\n"
          ]
        }
      ],
      "source": [
        "from sciwing.models.neural_parscit import NeuralParscit \n",
        "\n",
        "# instantiate an object \n",
        "neural_parscit = NeuralParscit()\n"
      ]
    },
    {
      "cell_type": "code",
      "execution_count": 29,
      "metadata": {
        "colab": {
          "base_uri": "https://localhost:8080/"
        },
        "id": "SZ2VxreP1aRz",
        "outputId": "9c9cb20e-2608-4555-ac39-49f86371b605"
      },
      "outputs": [
        {
          "output_type": "stream",
          "name": "stdout",
          "text": [
            "\u001b[1m\n",
            "=========== Predictions for Line: 1 from /content/2201.11632v1.txt ===========\u001b[0m\n",
            "['[1] AUTHOR\u001b[49m Connelly AUTHOR\u001b[49m Barnes, AUTHOR\u001b[49m Eli AUTHOR\u001b[49m Shechtman, AUTHOR\u001b[49m Adam AUTHOR\u001b[49m Finkelstein, AUTHOR\u001b[49m and AUTHOR\u001b[49m Dan AUTHOR\u001b[49m B AUTHOR\u001b[49m Goldman. AUTHOR\u001b[49m Patchmatch: TITLE\u001b[49m A TITLE\u001b[49m randomized TITLE\u001b[49m correspondence TITLE\u001b[49m algorithm TITLE\u001b[49m for TITLE\u001b[49m structural TITLE\u001b[49m image TITLE\u001b[49m editing. TITLE\u001b[49m ACM JOURNAL\u001b[49m Trans. JOURNAL\u001b[49m Graph., JOURNAL\u001b[49m 28(3):24, VOLUME\u001b[49m 2009.'] DATE\u001b[49m\n",
            "\n",
            "\n",
            "\u001b[1m\n",
            "=========== Predictions for Line: 2 from /content/2201.11632v1.txt ===========\u001b[0m\n",
            "['[2] AUTHOR\u001b[49m Sean AUTHOR\u001b[49m Bell, AUTHOR\u001b[49m Kavita AUTHOR\u001b[49m Bala, AUTHOR\u001b[49m and AUTHOR\u001b[49m Noah AUTHOR\u001b[49m Snavely. AUTHOR\u001b[49m Intrinsic TITLE\u001b[49m images TITLE\u001b[49m in TITLE\u001b[49m the TITLE\u001b[49m wild. TITLE\u001b[49m ACM JOURNAL\u001b[49m Trans. JOURNAL\u001b[49m Graph., JOURNAL\u001b[49m 33(4):159:1–159:12, PAGES\u001b[49m 2014.'] DATE\u001b[49m\n",
            "\n",
            "\n",
            "\u001b[1m\n",
            "=========== Predictions for Line: 3 from /content/2201.11632v1.txt ===========\u001b[0m\n",
            "['[3] AUTHOR\u001b[49m Nicolas AUTHOR\u001b[49m Bonneel, AUTHOR\u001b[49m James AUTHOR\u001b[49m Tompkin, AUTHOR\u001b[49m Kalyan AUTHOR\u001b[49m Sunkavalli, AUTHOR\u001b[49m Deqing AUTHOR\u001b[49m Sun, AUTHOR\u001b[49m Sylvain AUTHOR\u001b[49m Paris, AUTHOR\u001b[49m and AUTHOR\u001b[49m Hanspeter AUTHOR\u001b[49m Pfister. AUTHOR\u001b[49m Blind TITLE\u001b[49m video TITLE\u001b[49m temporal TITLE\u001b[49m consistency. TITLE\u001b[49m ACM JOURNAL\u001b[49m Trans. JOURNAL\u001b[49m Graph., JOURNAL\u001b[49m 34(6):196:1–196:9, PAGES\u001b[49m 2015.'] DATE\u001b[49m\n",
            "\n",
            "\n",
            "\u001b[1m\n",
            "=========== Predictions for Line: 4 from /content/2201.11632v1.txt ===========\u001b[0m\n",
            "['[4] AUTHOR\u001b[49m Sergi AUTHOR\u001b[49m Caelles, AUTHOR\u001b[49m Kevis-Kokitsi AUTHOR\u001b[49m Maninis, AUTHOR\u001b[49m Jordi AUTHOR\u001b[49m Pont-Tuset, AUTHOR\u001b[49m Laura AUTHOR\u001b[49m LealTaixé, AUTHOR\u001b[49m Daniel AUTHOR\u001b[49m Cremers, AUTHOR\u001b[49m and AUTHOR\u001b[49m Luc AUTHOR\u001b[49m Van AUTHOR\u001b[49m Gool. AUTHOR\u001b[49m One-shot TITLE\u001b[49m video TITLE\u001b[49m object TITLE\u001b[49m segmentation. TITLE\u001b[49m In BOOKTITLE\u001b[49m Proceedings BOOKTITLE\u001b[49m of BOOKTITLE\u001b[49m the BOOKTITLE\u001b[49m IEEE BOOKTITLE\u001b[49m conference BOOKTITLE\u001b[49m on BOOKTITLE\u001b[49m computer BOOKTITLE\u001b[49m vision BOOKTITLE\u001b[49m and BOOKTITLE\u001b[49m pattern BOOKTITLE\u001b[49m recognition, BOOKTITLE\u001b[49m pages PAGES\u001b[49m 221–230, PAGES\u001b[49m 2017.'] DATE\u001b[49m\n",
            "\n",
            "\n",
            "\u001b[1m\n",
            "=========== Predictions for Line: 5 from /content/2201.11632v1.txt ===========\u001b[0m\n",
            "['[5] AUTHOR\u001b[49m Chen AUTHOR\u001b[49m Chen, AUTHOR\u001b[49m Qifeng AUTHOR\u001b[49m Chen, AUTHOR\u001b[49m Minh AUTHOR\u001b[49m N AUTHOR\u001b[49m Do, AUTHOR\u001b[49m and AUTHOR\u001b[49m Vladlen AUTHOR\u001b[49m Koltun. AUTHOR\u001b[49m Seeing TITLE\u001b[49m motion TITLE\u001b[49m in TITLE\u001b[49m the TITLE\u001b[49m dark. TITLE\u001b[49m In TITLE\u001b[49m ICCV, BOOKTITLE\u001b[49m 2019.'] DATE\u001b[49m\n",
            "\n",
            "\n",
            "\u001b[1m\n",
            "=========== Predictions for Line: 6 from /content/2201.11632v1.txt ===========\u001b[0m\n",
            "['[6] AUTHOR\u001b[49m Dongdong AUTHOR\u001b[49m Chen, AUTHOR\u001b[49m Jing AUTHOR\u001b[49m Liao, AUTHOR\u001b[49m Lu AUTHOR\u001b[49m Yuan, AUTHOR\u001b[49m Nenghai AUTHOR\u001b[49m Yu, AUTHOR\u001b[49m and AUTHOR\u001b[49m Gang AUTHOR\u001b[49m Hua. AUTHOR\u001b[49m Coherent TITLE\u001b[49m online TITLE\u001b[49m video TITLE\u001b[49m style TITLE\u001b[49m transfer. TITLE\u001b[49m In TITLE\u001b[49m ICCV, BOOKTITLE\u001b[49m 2017.'] DATE\u001b[49m\n",
            "\n",
            "\n",
            "\u001b[1m\n",
            "=========== Predictions for Line: 7 from /content/2201.11632v1.txt ===========\u001b[0m\n",
            "['[7] AUTHOR\u001b[49m Qifeng AUTHOR\u001b[49m Chen AUTHOR\u001b[49m and AUTHOR\u001b[49m Vladlen AUTHOR\u001b[49m Koltun. AUTHOR\u001b[49m Photographic TITLE\u001b[49m image TITLE\u001b[49m synthesis TITLE\u001b[49m with TITLE\u001b[49m cascaded TITLE\u001b[49m refinement TITLE\u001b[49m networks. TITLE\u001b[49m In TITLE\u001b[49m ICCV, BOOKTITLE\u001b[49m 2017.'] DATE\u001b[49m\n",
            "\n",
            "\n",
            "\u001b[1m\n",
            "=========== Predictions for Line: 8 from /content/2201.11632v1.txt ===========\u001b[0m\n",
            "['[8] AUTHOR\u001b[49m Xuan AUTHOR\u001b[49m Dong, AUTHOR\u001b[49m Boyan AUTHOR\u001b[49m Bonev, AUTHOR\u001b[49m Yu AUTHOR\u001b[49m Zhu, AUTHOR\u001b[49m and AUTHOR\u001b[49m Alan AUTHOR\u001b[49m L AUTHOR\u001b[49m Yuille. AUTHOR\u001b[49m Regionbased TITLE\u001b[49m temporally TITLE\u001b[49m consistent TITLE\u001b[49m video TITLE\u001b[49m post-processing. TITLE\u001b[49m In TITLE\u001b[49m CVPR, BOOKTITLE\u001b[49m 2015.'] DATE\u001b[49m\n",
            "\n",
            "\n",
            "\u001b[1m\n",
            "=========== Predictions for Line: 9 from /content/2201.11632v1.txt ===========\u001b[0m\n",
            "['[9] AUTHOR\u001b[49m Gabriel AUTHOR\u001b[49m Eilertsen, AUTHOR\u001b[49m Rafal AUTHOR\u001b[49m K AUTHOR\u001b[49m Mantiuk, AUTHOR\u001b[49m and AUTHOR\u001b[49m Jonas AUTHOR\u001b[49m Unger. AUTHOR\u001b[49m Single-frame TITLE\u001b[49m regularization TITLE\u001b[49m for TITLE\u001b[49m temporally TITLE\u001b[49m stable TITLE\u001b[49m cnns. TITLE\u001b[49m In TITLE\u001b[49m CVPR, BOOKTITLE\u001b[49m 2019.'] DATE\u001b[49m\n",
            "\n",
            "\n",
            "\u001b[1m\n",
            "========== Predictions for Line: 10 from /content/2201.11632v1.txt ==========\u001b[0m\n",
            "['[10] AUTHOR\u001b[49m Qingnan AUTHOR\u001b[49m Fan, AUTHOR\u001b[49m Fan AUTHOR\u001b[49m Zhong, AUTHOR\u001b[49m Dani AUTHOR\u001b[49m Lischinski, AUTHOR\u001b[49m Daniel AUTHOR\u001b[49m Cohen-Or, AUTHOR\u001b[49m and AUTHOR\u001b[49m Baoquan AUTHOR\u001b[49m Chen. AUTHOR\u001b[49m Jumpcut: AUTHOR\u001b[49m non-successive TITLE\u001b[49m mask TITLE\u001b[49m transfer TITLE\u001b[49m and TITLE\u001b[49m interpolation TITLE\u001b[49m for TITLE\u001b[49m video TITLE\u001b[49m cutout. TITLE\u001b[49m TOG, JOURNAL\u001b[49m 2015.'] DATE\u001b[49m\n",
            "\n",
            "\n",
            "\u001b[1m\n",
            "========== Predictions for Line: 11 from /content/2201.11632v1.txt ==========\u001b[0m\n",
            "['[11] AUTHOR\u001b[49m Yossi AUTHOR\u001b[49m Gandelsman, AUTHOR\u001b[49m Assaf AUTHOR\u001b[49m Shocher, AUTHOR\u001b[49m and AUTHOR\u001b[49m Michal AUTHOR\u001b[49m Irani. AUTHOR\u001b[49m Double-dip”: TITLE\u001b[49m Unsupervised TITLE\u001b[49m image TITLE\u001b[49m decomposition TITLE\u001b[49m via TITLE\u001b[49m coupled TITLE\u001b[49m deep-imagepriors. TITLE\u001b[49m In TITLE\u001b[49m CVPR, BOOKTITLE\u001b[49m 2019.'] DATE\u001b[49m\n",
            "\n",
            "\n",
            "\u001b[1m\n",
            "========== Predictions for Line: 12 from /content/2201.11632v1.txt ==========\u001b[0m\n",
            "['[12] AUTHOR\u001b[49m Leon AUTHOR\u001b[49m A AUTHOR\u001b[49m Gatys, AUTHOR\u001b[49m Alexander AUTHOR\u001b[49m S AUTHOR\u001b[49m Ecker, AUTHOR\u001b[49m and AUTHOR\u001b[49m Matthias AUTHOR\u001b[49m Bethge. AUTHOR\u001b[49m Image TITLE\u001b[49m style TITLE\u001b[49m transfer TITLE\u001b[49m using TITLE\u001b[49m convolutional TITLE\u001b[49m neural TITLE\u001b[49m networks. TITLE\u001b[49m In TITLE\u001b[49m CVPR, BOOKTITLE\u001b[49m 2016.'] BOOKTITLE\u001b[49m\n",
            "\n",
            "\n",
            "\u001b[1m\n",
            "========== Predictions for Line: 13 from /content/2201.11632v1.txt ==========\u001b[0m\n",
            "['[13] AUTHOR\u001b[49m Andreas AUTHOR\u001b[49m Geiger, AUTHOR\u001b[49m Philip AUTHOR\u001b[49m Lenz, AUTHOR\u001b[49m and AUTHOR\u001b[49m Raquel AUTHOR\u001b[49m Urtasun. AUTHOR\u001b[49m Are TITLE\u001b[49m we TITLE\u001b[49m ready TITLE\u001b[49m for TITLE\u001b[49m autonomous TITLE\u001b[49m driving? TITLE\u001b[49m the TITLE\u001b[49m kitti TITLE\u001b[49m vision TITLE\u001b[49m benchmark TITLE\u001b[49m suite. TITLE\u001b[49m In BOOKTITLE\u001b[49m Conference BOOKTITLE\u001b[49m on BOOKTITLE\u001b[49m Computer BOOKTITLE\u001b[49m Vision BOOKTITLE\u001b[49m and BOOKTITLE\u001b[49m Pattern BOOKTITLE\u001b[49m Recognition BOOKTITLE\u001b[49m (CVPR), BOOKTITLE\u001b[49m 2012.'] DATE\u001b[49m\n",
            "\n",
            "\n",
            "\u001b[1m\n",
            "========== Predictions for Line: 14 from /content/2201.11632v1.txt ==========\u001b[0m\n",
            "['[14] AUTHOR\u001b[49m Michaël AUTHOR\u001b[49m Gharbi, AUTHOR\u001b[49m Jiawen AUTHOR\u001b[49m Chen, AUTHOR\u001b[49m Jonathan AUTHOR\u001b[49m T AUTHOR\u001b[49m Barron, AUTHOR\u001b[49m Samuel AUTHOR\u001b[49m W AUTHOR\u001b[49m Hasinoff, AUTHOR\u001b[49m and AUTHOR\u001b[49m Frédo AUTHOR\u001b[49m Durand. AUTHOR\u001b[49m Deep TITLE\u001b[49m bilateral TITLE\u001b[49m learning TITLE\u001b[49m for TITLE\u001b[49m real-time TITLE\u001b[49m image TITLE\u001b[49m enhancement. TITLE\u001b[49m ACM JOURNAL\u001b[49m Trans. JOURNAL\u001b[49m Graph., JOURNAL\u001b[49m 36(4):118:1–118:12, PAGES\u001b[49m 2017.'] DATE\u001b[49m\n",
            "\n",
            "\n",
            "\u001b[1m\n",
            "========== Predictions for Line: 15 from /content/2201.11632v1.txt ==========\u001b[0m\n",
            "['[15] AUTHOR\u001b[49m Kaiming AUTHOR\u001b[49m He, AUTHOR\u001b[49m Jian AUTHOR\u001b[49m Sun, AUTHOR\u001b[49m and AUTHOR\u001b[49m Xiaoou AUTHOR\u001b[49m Tang. AUTHOR\u001b[49m Single TITLE\u001b[49m image TITLE\u001b[49m haze TITLE\u001b[49m removal TITLE\u001b[49m using TITLE\u001b[49m dark TITLE\u001b[49m channel TITLE\u001b[49m prior. TITLE\u001b[49m IEEE JOURNAL\u001b[49m Trans. JOURNAL\u001b[49m Pattern JOURNAL\u001b[49m Anal. JOURNAL\u001b[49m Mach. JOURNAL\u001b[49m Intell., JOURNAL\u001b[49m 33(12):2341–2353, VOLUME\u001b[49m 2011.'] PAGES\u001b[49m\n",
            "\n",
            "\n",
            "\u001b[1m\n",
            "========== Predictions for Line: 16 from /content/2201.11632v1.txt ==========\u001b[0m\n",
            "['[16] AUTHOR\u001b[49m Kaiming AUTHOR\u001b[49m He, AUTHOR\u001b[49m Jian AUTHOR\u001b[49m Sun, AUTHOR\u001b[49m and AUTHOR\u001b[49m Xiaoou AUTHOR\u001b[49m Tang. AUTHOR\u001b[49m Guided TITLE\u001b[49m image TITLE\u001b[49m filtering. TITLE\u001b[49m IEEE JOURNAL\u001b[49m Trans. JOURNAL\u001b[49m Pattern JOURNAL\u001b[49m Anal. JOURNAL\u001b[49m Mach. JOURNAL\u001b[49m Intell., JOURNAL\u001b[49m 35(6):1397–1409, VOLUME\u001b[49m 2013.'] PAGES\u001b[49m\n",
            "\n",
            "\n",
            "\u001b[1m\n",
            "========== Predictions for Line: 17 from /content/2201.11632v1.txt ==========\u001b[0m\n",
            "['[17] AUTHOR\u001b[49m Paul AUTHOR\u001b[49m W AUTHOR\u001b[49m Holland AUTHOR\u001b[49m and AUTHOR\u001b[49m Roy AUTHOR\u001b[49m E AUTHOR\u001b[49m Welsch. AUTHOR\u001b[49m Robust TITLE\u001b[49m regression TITLE\u001b[49m using TITLE\u001b[49m iteratively TITLE\u001b[49m reweighted TITLE\u001b[49m least-squares. TITLE\u001b[49m Communications JOURNAL\u001b[49m in JOURNAL\u001b[49m Statisticstheory JOURNAL\u001b[49m and JOURNAL\u001b[49m Methods, JOURNAL\u001b[49m 1977.'] VOLUME\u001b[49m\n",
            "\n",
            "\n",
            "\u001b[1m\n",
            "========== Predictions for Line: 18 from /content/2201.11632v1.txt ==========\u001b[0m\n",
            "['[18] AUTHOR\u001b[49m Eugene AUTHOR\u001b[49m Hsu, AUTHOR\u001b[49m Tom AUTHOR\u001b[49m Mertens, AUTHOR\u001b[49m Sylvain AUTHOR\u001b[49m Paris, AUTHOR\u001b[49m Shai AUTHOR\u001b[49m Avidan, AUTHOR\u001b[49m and AUTHOR\u001b[49m Frédo AUTHOR\u001b[49m Durand. AUTHOR\u001b[49m Light TITLE\u001b[49m mixture TITLE\u001b[49m estimation TITLE\u001b[49m for TITLE\u001b[49m spatially TITLE\u001b[49m varying TITLE\u001b[49m white TITLE\u001b[49m balance. TITLE\u001b[49m ACM JOURNAL\u001b[49m Trans. JOURNAL\u001b[49m Graph., JOURNAL\u001b[49m 27(3):70, VOLUME\u001b[49m 2008.'] DATE\u001b[49m\n",
            "\n",
            "\n",
            "\u001b[1m\n",
            "========== Predictions for Line: 19 from /content/2201.11632v1.txt ==========\u001b[0m\n",
            "['[19] AUTHOR\u001b[49m Haozhi AUTHOR\u001b[49m Huang, AUTHOR\u001b[49m Hao AUTHOR\u001b[49m Wang, AUTHOR\u001b[49m Wenhan AUTHOR\u001b[49m Luo, AUTHOR\u001b[49m Lin AUTHOR\u001b[49m Ma, AUTHOR\u001b[49m Wenhao AUTHOR\u001b[49m Jiang, AUTHOR\u001b[49m Xiaolong AUTHOR\u001b[49m Zhu, AUTHOR\u001b[49m Zhifeng AUTHOR\u001b[49m Li, AUTHOR\u001b[49m and AUTHOR\u001b[49m Wei AUTHOR\u001b[49m Liu. AUTHOR\u001b[49m Real-time TITLE\u001b[49m neural TITLE\u001b[49m style TITLE\u001b[49m transfer TITLE\u001b[49m for TITLE\u001b[49m videos. TITLE\u001b[49m In TITLE\u001b[49m CVPR, BOOKTITLE\u001b[49m 2017.'] DATE\u001b[49m\n",
            "\n",
            "\n",
            "\u001b[1m\n",
            "========== Predictions for Line: 20 from /content/2201.11632v1.txt ==========\u001b[0m\n",
            "['[20] AUTHOR\u001b[49m Satoshi AUTHOR\u001b[49m Iizuka AUTHOR\u001b[49m and AUTHOR\u001b[49m Edgar AUTHOR\u001b[49m Simo-Serra. AUTHOR\u001b[49m Deepremaster: TITLE\u001b[49m temporal TITLE\u001b[49m source-reference TITLE\u001b[49m attention TITLE\u001b[49m networks TITLE\u001b[49m for TITLE\u001b[49m comprehensive TITLE\u001b[49m video TITLE\u001b[49m enhancement. TITLE\u001b[49m ACM JOURNAL\u001b[49m Trans. JOURNAL\u001b[49m Graph., JOURNAL\u001b[49m 38(6):176:1–176:13, PAGES\u001b[49m 2019.'] DATE\u001b[49m\n",
            "\n",
            "\n",
            "\u001b[1m\n",
            "========== Predictions for Line: 21 from /content/2201.11632v1.txt ==========\u001b[0m\n",
            "['[21] AUTHOR\u001b[49m Satoshi AUTHOR\u001b[49m Iizuka, AUTHOR\u001b[49m Edgar AUTHOR\u001b[49m Simo-Serra, AUTHOR\u001b[49m and AUTHOR\u001b[49m Hiroshi AUTHOR\u001b[49m Ishikawa. AUTHOR\u001b[49m Let TITLE\u001b[49m there TITLE\u001b[49m be TITLE\u001b[49m color! TITLE\u001b[49m joint TITLE\u001b[49m end-to-end TITLE\u001b[49m learning TITLE\u001b[49m of TITLE\u001b[49m global TITLE\u001b[49m and TITLE\u001b[49m local TITLE\u001b[49m image TITLE\u001b[49m priors TITLE\u001b[49m for TITLE\u001b[49m automatic TITLE\u001b[49m image TITLE\u001b[49m colorization TITLE\u001b[49m with TITLE\u001b[49m simultaneous TITLE\u001b[49m classification. TITLE\u001b[49m In TITLE\u001b[49m SIGGRAPH, BOOKTITLE\u001b[49m volume VOLUME\u001b[49m 35, VOLUME\u001b[49m pages PAGES\u001b[49m 110:1–110:11, PAGES\u001b[49m 2016.'] PAGES\u001b[49m\n",
            "\n",
            "\n",
            "\u001b[1m\n",
            "========== Predictions for Line: 22 from /content/2201.11632v1.txt ==========\u001b[0m\n",
            "['[22] AUTHOR\u001b[49m Phillip AUTHOR\u001b[49m Isola, AUTHOR\u001b[49m Jun-Yan AUTHOR\u001b[49m Zhu, AUTHOR\u001b[49m Tinghui AUTHOR\u001b[49m Zhou, AUTHOR\u001b[49m and AUTHOR\u001b[49m Alexei AUTHOR\u001b[49m A TITLE\u001b[49m Efros. TITLE\u001b[49m Image-to-image TITLE\u001b[49m translation TITLE\u001b[49m with TITLE\u001b[49m conditional TITLE\u001b[49m adversarial TITLE\u001b[49m networks. TITLE\u001b[49m In TITLE\u001b[49m CVPR, BOOKTITLE\u001b[49m 2017.'] DATE\u001b[49m\n",
            "\n",
            "\n",
            "\u001b[1m\n",
            "========== Predictions for Line: 23 from /content/2201.11632v1.txt ==========\u001b[0m\n",
            "['[23] AUTHOR\u001b[49m Varun AUTHOR\u001b[49m Jampani, AUTHOR\u001b[49m Raghudeep AUTHOR\u001b[49m Gadde, AUTHOR\u001b[49m and AUTHOR\u001b[49m Peter AUTHOR\u001b[49m V. AUTHOR\u001b[49m Gehler. AUTHOR\u001b[49m Video TITLE\u001b[49m propagation TITLE\u001b[49m networks. TITLE\u001b[49m In TITLE\u001b[49m CVPR, BOOKTITLE\u001b[49m 2017.'] DATE\u001b[49m\n",
            "\n",
            "\n",
            "\u001b[1m\n",
            "========== Predictions for Line: 24 from /content/2201.11632v1.txt ==========\u001b[0m\n",
            "['[24] AUTHOR\u001b[49m Justin AUTHOR\u001b[49m Johnson, AUTHOR\u001b[49m Alexandre AUTHOR\u001b[49m Alahi, AUTHOR\u001b[49m and AUTHOR\u001b[49m Li AUTHOR\u001b[49m Fei-Fei. AUTHOR\u001b[49m Perceptual TITLE\u001b[49m losses TITLE\u001b[49m for TITLE\u001b[49m real-time TITLE\u001b[49m style TITLE\u001b[49m transfer TITLE\u001b[49m and TITLE\u001b[49m super-resolution. TITLE\u001b[49m In TITLE\u001b[49m ECCV, BOOKTITLE\u001b[49m 2016.'] DATE\u001b[49m\n",
            "\n",
            "\n",
            "\u001b[1m\n",
            "========== Predictions for Line: 25 from /content/2201.11632v1.txt ==========\u001b[0m\n",
            "['[25] AUTHOR\u001b[49m Anna AUTHOR\u001b[49m Khoreva, AUTHOR\u001b[49m Rodrigo AUTHOR\u001b[49m Benenson, AUTHOR\u001b[49m Eddy AUTHOR\u001b[49m Ilg, AUTHOR\u001b[49m Thomas AUTHOR\u001b[49m Brox, AUTHOR\u001b[49m and AUTHOR\u001b[49m Bernt AUTHOR\u001b[49m Schiele. AUTHOR\u001b[49m Lucid TITLE\u001b[49m data TITLE\u001b[49m dreaming TITLE\u001b[49m for TITLE\u001b[49m video TITLE\u001b[49m object TITLE\u001b[49m segmentation. TITLE\u001b[49m IJCV, TECH\u001b[49m 2019.'] DATE\u001b[49m\n",
            "\n",
            "\n",
            "\u001b[1m\n",
            "========== Predictions for Line: 26 from /content/2201.11632v1.txt ==========\u001b[0m\n",
            "['[26] AUTHOR\u001b[49m Dahun AUTHOR\u001b[49m Kim, AUTHOR\u001b[49m Sanghyun AUTHOR\u001b[49m Woo, AUTHOR\u001b[49m Joon-Young AUTHOR\u001b[49m Lee, AUTHOR\u001b[49m and AUTHOR\u001b[49m In TITLE\u001b[49m So TITLE\u001b[49m Kweon. TITLE\u001b[49m Deep TITLE\u001b[49m video TITLE\u001b[49m inpainting. TITLE\u001b[49m In TITLE\u001b[49m CVPR, BOOKTITLE\u001b[49m 2019.'] DATE\u001b[49m\n",
            "\n",
            "\n",
            "\u001b[1m\n",
            "========== Predictions for Line: 27 from /content/2201.11632v1.txt ==========\u001b[0m\n",
            "['[27] AUTHOR\u001b[49m Diederik AUTHOR\u001b[49m P AUTHOR\u001b[49m Kingma AUTHOR\u001b[49m and AUTHOR\u001b[49m Jimmy AUTHOR\u001b[49m Ba. AUTHOR\u001b[49m Adam: AUTHOR\u001b[49m A TITLE\u001b[49m method TITLE\u001b[49m for TITLE\u001b[49m stochastic TITLE\u001b[49m optimization. TITLE\u001b[49m In BOOKTITLE\u001b[49m ICLR, BOOKTITLE\u001b[49m 2015.'] DATE\u001b[49m\n",
            "\n",
            "\n",
            "\u001b[1m\n",
            "========== Predictions for Line: 28 from /content/2201.11632v1.txt ==========\u001b[0m\n",
            "['[28] AUTHOR\u001b[49m Johannes AUTHOR\u001b[49m Kopf, AUTHOR\u001b[49m Michael AUTHOR\u001b[49m F. AUTHOR\u001b[49m Cohen, AUTHOR\u001b[49m Dani AUTHOR\u001b[49m Lischinski, AUTHOR\u001b[49m and AUTHOR\u001b[49m Matthew AUTHOR\u001b[49m Uyttendaele. AUTHOR\u001b[49m Joint TITLE\u001b[49m bilateral TITLE\u001b[49m upsampling. TITLE\u001b[49m ACM JOURNAL\u001b[49m Trans. JOURNAL\u001b[49m Graph., JOURNAL\u001b[49m 26(3):96, VOLUME\u001b[49m 2007.'] DATE\u001b[49m\n",
            "\n",
            "\n",
            "\u001b[1m\n",
            "========== Predictions for Line: 29 from /content/2201.11632v1.txt ==========\u001b[0m\n",
            "['[29] AUTHOR\u001b[49m Wei-Sheng AUTHOR\u001b[49m Lai, AUTHOR\u001b[49m Jia-Bin AUTHOR\u001b[49m Huang, AUTHOR\u001b[49m Oliver AUTHOR\u001b[49m Wang, AUTHOR\u001b[49m Eli AUTHOR\u001b[49m Shechtman, AUTHOR\u001b[49m Ersin AUTHOR\u001b[49m Yumer, AUTHOR\u001b[49m and AUTHOR\u001b[49m Ming-Hsuan AUTHOR\u001b[49m Yang. AUTHOR\u001b[49m Learning TITLE\u001b[49m blind TITLE\u001b[49m video TITLE\u001b[49m temporal TITLE\u001b[49m consistency. TITLE\u001b[49m In TITLE\u001b[49m ECCV, BOOKTITLE\u001b[49m 2018.'] DATE\u001b[49m\n",
            "\n",
            "\n",
            "\u001b[1m\n",
            "========== Predictions for Line: 30 from /content/2201.11632v1.txt ==========\u001b[0m\n",
            "['[30] AUTHOR\u001b[49m Manuel AUTHOR\u001b[49m Lang, AUTHOR\u001b[49m Oliver AUTHOR\u001b[49m Wang, AUTHOR\u001b[49m Tunc AUTHOR\u001b[49m Aydin, AUTHOR\u001b[49m Aljoscha AUTHOR\u001b[49m Smolic, AUTHOR\u001b[49m and AUTHOR\u001b[49m Markus AUTHOR\u001b[49m Gross. AUTHOR\u001b[49m Practical TITLE\u001b[49m temporal TITLE\u001b[49m consistency TITLE\u001b[49m for TITLE\u001b[49m image-based TITLE\u001b[49m graphics TITLE\u001b[49m applications. TITLE\u001b[49m ACM JOURNAL\u001b[49m Trans. JOURNAL\u001b[49m Graph., JOURNAL\u001b[49m 31(4):34:1–34:8, PAGES\u001b[49m 2012.'] PAGES\u001b[49m\n",
            "\n",
            "\n",
            "\u001b[1m\n",
            "========== Predictions for Line: 31 from /content/2201.11632v1.txt ==========\u001b[0m\n",
            "['[31] AUTHOR\u001b[49m Chenyang AUTHOR\u001b[49m Lei AUTHOR\u001b[49m and AUTHOR\u001b[49m Qifeng AUTHOR\u001b[49m Chen. AUTHOR\u001b[49m Fully TITLE\u001b[49m automatic TITLE\u001b[49m video TITLE\u001b[49m colorization TITLE\u001b[49m with TITLE\u001b[49m self-regularization TITLE\u001b[49m and TITLE\u001b[49m diversity. TITLE\u001b[49m In TITLE\u001b[49m CVPR, BOOKTITLE\u001b[49m 2019.'] DATE\u001b[49m\n",
            "\n",
            "\n",
            "\u001b[1m\n",
            "========== Predictions for Line: 32 from /content/2201.11632v1.txt ==========\u001b[0m\n",
            "['[32] AUTHOR\u001b[49m Chenyang AUTHOR\u001b[49m Lei AUTHOR\u001b[49m and AUTHOR\u001b[49m Qifeng AUTHOR\u001b[49m Chen. AUTHOR\u001b[49m Robust TITLE\u001b[49m reflection TITLE\u001b[49m removal TITLE\u001b[49m with TITLE\u001b[49m reflection-free TITLE\u001b[49m flash-only TITLE\u001b[49m cues. TITLE\u001b[49m In TITLE\u001b[49m CVPR, BOOKTITLE\u001b[49m 2021.'] BOOKTITLE\u001b[49m\n",
            "\n",
            "\n",
            "\u001b[1m\n",
            "========== Predictions for Line: 33 from /content/2201.11632v1.txt ==========\u001b[0m\n",
            "['[33] AUTHOR\u001b[49m Chenyang AUTHOR\u001b[49m Lei, AUTHOR\u001b[49m Xuhua AUTHOR\u001b[49m Huang, AUTHOR\u001b[49m Mengdi AUTHOR\u001b[49m Zhang, AUTHOR\u001b[49m Qiong AUTHOR\u001b[49m Yan, AUTHOR\u001b[49m Wenxiu AUTHOR\u001b[49m Sun, AUTHOR\u001b[49m and AUTHOR\u001b[49m Qifeng AUTHOR\u001b[49m Chen. AUTHOR\u001b[49m Polarized TITLE\u001b[49m reflection TITLE\u001b[49m removal TITLE\u001b[49m with TITLE\u001b[49m perfect TITLE\u001b[49m alignment TITLE\u001b[49m in TITLE\u001b[49m the TITLE\u001b[49m wild. TITLE\u001b[49m In TITLE\u001b[49m CVPR, BOOKTITLE\u001b[49m 2020.'] VOLUME\u001b[49m\n",
            "\n",
            "\n",
            "\u001b[1m\n",
            "========== Predictions for Line: 34 from /content/2201.11632v1.txt ==========\u001b[0m\n",
            "['[34] AUTHOR\u001b[49m Chenyang AUTHOR\u001b[49m Lei, AUTHOR\u001b[49m Yazhou AUTHOR\u001b[49m Xing, AUTHOR\u001b[49m and AUTHOR\u001b[49m Qifeng AUTHOR\u001b[49m Chen. AUTHOR\u001b[49m Blind TITLE\u001b[49m video TITLE\u001b[49m temporal TITLE\u001b[49m consistency TITLE\u001b[49m via TITLE\u001b[49m deep TITLE\u001b[49m video TITLE\u001b[49m prior. TITLE\u001b[49m In TITLE\u001b[49m NeurIPS, BOOKTITLE\u001b[49m 2020.'] PAGES\u001b[49m\n",
            "\n",
            "\n",
            "\u001b[1m\n",
            "========== Predictions for Line: 35 from /content/2201.11632v1.txt ==========\u001b[0m\n",
            "['[35] AUTHOR\u001b[49m Anat AUTHOR\u001b[49m Levin, AUTHOR\u001b[49m Dani AUTHOR\u001b[49m Lischinski, AUTHOR\u001b[49m and AUTHOR\u001b[49m Yair AUTHOR\u001b[49m Weiss. AUTHOR\u001b[49m Colorization TITLE\u001b[49m using TITLE\u001b[49m optimization. TITLE\u001b[49m ACM JOURNAL\u001b[49m Trans. JOURNAL\u001b[49m Graph., JOURNAL\u001b[49m 23(3):689–694, PAGES\u001b[49m 2004.'] DATE\u001b[49m\n",
            "\n",
            "\n",
            "\u001b[1m\n",
            "========== Predictions for Line: 36 from /content/2201.11632v1.txt ==========\u001b[0m\n",
            "['[36] AUTHOR\u001b[49m Yijun AUTHOR\u001b[49m Li, AUTHOR\u001b[49m Chen AUTHOR\u001b[49m Fang, AUTHOR\u001b[49m Jimei AUTHOR\u001b[49m Yang, AUTHOR\u001b[49m Zhaowen AUTHOR\u001b[49m Wang, AUTHOR\u001b[49m Xin AUTHOR\u001b[49m Lu, AUTHOR\u001b[49m and AUTHOR\u001b[49m Ming-Hsuan AUTHOR\u001b[49m Yang. AUTHOR\u001b[49m Universal TITLE\u001b[49m style TITLE\u001b[49m transfer TITLE\u001b[49m via TITLE\u001b[49m feature TITLE\u001b[49m transforms. TITLE\u001b[49m In TITLE\u001b[49m NeurIPS, BOOKTITLE\u001b[49m 2017.'] DATE\u001b[49m\n",
            "\n",
            "\n",
            "\u001b[1m\n",
            "========== Predictions for Line: 37 from /content/2201.11632v1.txt ==========\u001b[0m\n",
            "['[37] AUTHOR\u001b[49m Yijun AUTHOR\u001b[49m Li, AUTHOR\u001b[49m Jia-Bin AUTHOR\u001b[49m Huang, AUTHOR\u001b[49m Narendra AUTHOR\u001b[49m Ahuja, AUTHOR\u001b[49m and AUTHOR\u001b[49m Ming-Hsuan AUTHOR\u001b[49m Yang. AUTHOR\u001b[49m Deep TITLE\u001b[49m joint TITLE\u001b[49m image TITLE\u001b[49m filtering. TITLE\u001b[49m In TITLE\u001b[49m ECCV, BOOKTITLE\u001b[49m 2016.'] DATE\u001b[49m\n",
            "\n",
            "\n",
            "\u001b[1m\n",
            "========== Predictions for Line: 38 from /content/2201.11632v1.txt ==========\u001b[0m\n",
            "['[38] AUTHOR\u001b[49m Ce AUTHOR\u001b[49m Liu AUTHOR\u001b[49m and AUTHOR\u001b[49m William AUTHOR\u001b[49m T AUTHOR\u001b[49m Freeman. AUTHOR\u001b[49m A TITLE\u001b[49m high-quality TITLE\u001b[49m video TITLE\u001b[49m denoising TITLE\u001b[49m algorithm TITLE\u001b[49m based TITLE\u001b[49m on TITLE\u001b[49m reliable TITLE\u001b[49m motion TITLE\u001b[49m estimation. TITLE\u001b[49m In TITLE\u001b[49m ECCV, BOOKTITLE\u001b[49m 2010.'] DATE\u001b[49m\n",
            "\n",
            "\n",
            "\u001b[1m\n",
            "========== Predictions for Line: 39 from /content/2201.11632v1.txt ==========\u001b[0m\n",
            "['[39] AUTHOR\u001b[49m Jiaying AUTHOR\u001b[49m Liu, AUTHOR\u001b[49m Wenhan AUTHOR\u001b[49m Yang, AUTHOR\u001b[49m Shuai AUTHOR\u001b[49m Yang, AUTHOR\u001b[49m and AUTHOR\u001b[49m Zongming AUTHOR\u001b[49m Guo. AUTHOR\u001b[49m Erase TITLE\u001b[49m or TITLE\u001b[49m fill? TITLE\u001b[49m deep TITLE\u001b[49m joint TITLE\u001b[49m recurrent TITLE\u001b[49m rain TITLE\u001b[49m removal TITLE\u001b[49m and TITLE\u001b[49m reconstruction TITLE\u001b[49m in TITLE\u001b[49m videos. TITLE\u001b[49m In TITLE\u001b[49m CVPR, BOOKTITLE\u001b[49m 2018.'] BOOKTITLE\u001b[49m\n",
            "\n",
            "\n",
            "\u001b[1m\n",
            "========== Predictions for Line: 40 from /content/2201.11632v1.txt ==========\u001b[0m\n",
            "['[40] AUTHOR\u001b[49m Sifei AUTHOR\u001b[49m Liu, AUTHOR\u001b[49m Guangyu AUTHOR\u001b[49m Zhong, AUTHOR\u001b[49m Shalini AUTHOR\u001b[49m De AUTHOR\u001b[49m Mello, AUTHOR\u001b[49m Jinwei AUTHOR\u001b[49m Gu, AUTHOR\u001b[49m Varun AUTHOR\u001b[49m Jampani, AUTHOR\u001b[49m Ming-Hsuan AUTHOR\u001b[49m Yang, AUTHOR\u001b[49m and AUTHOR\u001b[49m Jan AUTHOR\u001b[49m Kautz. AUTHOR\u001b[49m Switchable TITLE\u001b[49m temporal TITLE\u001b[49m propagation TITLE\u001b[49m network. TITLE\u001b[49m In TITLE\u001b[49m ECCV, BOOKTITLE\u001b[49m 2018.'] DATE\u001b[49m\n",
            "\n",
            "\n",
            "\u001b[1m\n",
            "========== Predictions for Line: 41 from /content/2201.11632v1.txt ==========\u001b[0m\n",
            "['[41] AUTHOR\u001b[49m Jonathan AUTHOR\u001b[49m Long, AUTHOR\u001b[49m Evan AUTHOR\u001b[49m Shelhamer, AUTHOR\u001b[49m and AUTHOR\u001b[49m Trevor AUTHOR\u001b[49m Darrell. AUTHOR\u001b[49m Fully TITLE\u001b[49m convolutional TITLE\u001b[49m networks TITLE\u001b[49m for TITLE\u001b[49m semantic TITLE\u001b[49m segmentation. TITLE\u001b[49m In TITLE\u001b[49m CVPR, BOOKTITLE\u001b[49m 2015.'] DATE\u001b[49m\n",
            "\n",
            "\n",
            "\u001b[1m\n",
            "========== Predictions for Line: 42 from /content/2201.11632v1.txt ==========\u001b[0m\n",
            "['[42] AUTHOR\u001b[49m James AUTHOR\u001b[49m MacQueen. AUTHOR\u001b[49m Some TITLE\u001b[49m methods TITLE\u001b[49m for TITLE\u001b[49m classification TITLE\u001b[49m and TITLE\u001b[49m analysis TITLE\u001b[49m of TITLE\u001b[49m multivariate TITLE\u001b[49m observations. TITLE\u001b[49m In BOOKTITLE\u001b[49m Proceedings BOOKTITLE\u001b[49m of BOOKTITLE\u001b[49m the BOOKTITLE\u001b[49m fifth BOOKTITLE\u001b[49m Berkeley BOOKTITLE\u001b[49m symposium BOOKTITLE\u001b[49m on BOOKTITLE\u001b[49m mathematical BOOKTITLE\u001b[49m statistics BOOKTITLE\u001b[49m and BOOKTITLE\u001b[49m probability. BOOKTITLE\u001b[49m Oakland, LOCATION\u001b[49m CA, LOCATION\u001b[49m USA, LOCATION\u001b[49m 1967.'] DATE\u001b[49m\n",
            "\n",
            "\n",
            "\u001b[1m\n",
            "========== Predictions for Line: 43 from /content/2201.11632v1.txt ==========\u001b[0m\n",
            "['[43] AUTHOR\u001b[49m Nicolas AUTHOR\u001b[49m Märki, AUTHOR\u001b[49m Federico AUTHOR\u001b[49m Perazzi, AUTHOR\u001b[49m Oliver AUTHOR\u001b[49m Wang, AUTHOR\u001b[49m and AUTHOR\u001b[49m Alexander AUTHOR\u001b[49m Sorkine-Hornung. AUTHOR\u001b[49m Bilateral TITLE\u001b[49m space TITLE\u001b[49m video TITLE\u001b[49m segmentation. TITLE\u001b[49m In TITLE\u001b[49m CVPR, BOOKTITLE\u001b[49m 2016.'] DATE\u001b[49m\n",
            "\n",
            "\n",
            "\u001b[1m\n",
            "========== Predictions for Line: 44 from /content/2201.11632v1.txt ==========\u001b[0m\n",
            "['[44] AUTHOR\u001b[49m Simone AUTHOR\u001b[49m Meyer, AUTHOR\u001b[49m Victor AUTHOR\u001b[49m Cornillère, AUTHOR\u001b[49m Abdelaziz AUTHOR\u001b[49m Djelouah, AUTHOR\u001b[49m Christopher AUTHOR\u001b[49m Schroers, AUTHOR\u001b[49m and AUTHOR\u001b[49m Markus AUTHOR\u001b[49m H. AUTHOR\u001b[49m Gross. AUTHOR\u001b[49m Deep TITLE\u001b[49m video TITLE\u001b[49m color TITLE\u001b[49m propagation. TITLE\u001b[49m In TITLE\u001b[49m BMVC, BOOKTITLE\u001b[49m 2018.'] DATE\u001b[49m\n",
            "\n",
            "\n",
            "\u001b[1m\n",
            "========== Predictions for Line: 45 from /content/2201.11632v1.txt ==========\u001b[0m\n",
            "['[45] AUTHOR\u001b[49m Ajay AUTHOR\u001b[49m Nandoriya, AUTHOR\u001b[49m Mohamed AUTHOR\u001b[49m Elgharib, AUTHOR\u001b[49m Changil AUTHOR\u001b[49m Kim, AUTHOR\u001b[49m Mohamed AUTHOR\u001b[49m Hefeeda, AUTHOR\u001b[49m and AUTHOR\u001b[49m Wojciech AUTHOR\u001b[49m Matusik. AUTHOR\u001b[49m Video TITLE\u001b[49m reflection TITLE\u001b[49m removal TITLE\u001b[49m through TITLE\u001b[49m spatio-temporal TITLE\u001b[49m optimization. TITLE\u001b[49m In TITLE\u001b[49m ICCV, BOOKTITLE\u001b[49m 2017.'] DATE\u001b[49m\n",
            "\n",
            "\n",
            "\u001b[1m\n",
            "========== Predictions for Line: 46 from /content/2201.11632v1.txt ==========\u001b[0m\n",
            "['[46] AUTHOR\u001b[49m Seoung AUTHOR\u001b[49m Wug AUTHOR\u001b[49m Oh, AUTHOR\u001b[49m Joon-Young AUTHOR\u001b[49m Lee, AUTHOR\u001b[49m Ning AUTHOR\u001b[49m Xu, AUTHOR\u001b[49m and AUTHOR\u001b[49m Seon AUTHOR\u001b[49m Joo AUTHOR\u001b[49m Kim. AUTHOR\u001b[49m Video TITLE\u001b[49m object TITLE\u001b[49m segmentation TITLE\u001b[49m using TITLE\u001b[49m space-time TITLE\u001b[49m memory TITLE\u001b[49m networks. TITLE\u001b[49m In BOOKTITLE\u001b[49m Proceedings BOOKTITLE\u001b[49m of BOOKTITLE\u001b[49m the BOOKTITLE\u001b[49m IEEE/CVF BOOKTITLE\u001b[49m International BOOKTITLE\u001b[49m Conference BOOKTITLE\u001b[49m on BOOKTITLE\u001b[49m Computer BOOKTITLE\u001b[49m Vision, BOOKTITLE\u001b[49m pages PAGES\u001b[49m 9226–9235, PAGES\u001b[49m 2019.'] DATE\u001b[49m\n",
            "\n",
            "\n",
            "\u001b[1m\n",
            "========== Predictions for Line: 47 from /content/2201.11632v1.txt ==========\u001b[0m\n",
            "['[47] AUTHOR\u001b[49m Federico AUTHOR\u001b[49m Perazzi, AUTHOR\u001b[49m Jordi AUTHOR\u001b[49m Pont-Tuset, AUTHOR\u001b[49m Brian AUTHOR\u001b[49m McWilliams, AUTHOR\u001b[49m Luc AUTHOR\u001b[49m Van AUTHOR\u001b[49m Gool, AUTHOR\u001b[49m Markus AUTHOR\u001b[49m Gross, AUTHOR\u001b[49m and AUTHOR\u001b[49m Alexander AUTHOR\u001b[49m Sorkine-Hornung. AUTHOR\u001b[49m A TITLE\u001b[49m benchmark TITLE\u001b[49m dataset TITLE\u001b[49m and TITLE\u001b[49m evaluation TITLE\u001b[49m methodology TITLE\u001b[49m for TITLE\u001b[49m video TITLE\u001b[49m object TITLE\u001b[49m segmentation. TITLE\u001b[49m In TITLE\u001b[49m CVPR, BOOKTITLE\u001b[49m 2016.'] DATE\u001b[49m\n",
            "\n",
            "\n",
            "\u001b[1m\n",
            "========== Predictions for Line: 48 from /content/2201.11632v1.txt ==========\u001b[0m\n",
            "['[48] AUTHOR\u001b[49m Federico AUTHOR\u001b[49m Perazzi, AUTHOR\u001b[49m Oliver AUTHOR\u001b[49m Wang, AUTHOR\u001b[49m Markus AUTHOR\u001b[49m Gross, AUTHOR\u001b[49m and AUTHOR\u001b[49m Alexander AUTHOR\u001b[49m Sorkine-Hornung. AUTHOR\u001b[49m Fully TITLE\u001b[49m connected TITLE\u001b[49m object TITLE\u001b[49m proposals TITLE\u001b[49m for TITLE\u001b[49m video TITLE\u001b[49m segmentation. TITLE\u001b[49m In TITLE\u001b[49m ICCV, BOOKTITLE\u001b[49m 2015.'] DATE\u001b[49m\n",
            "\n",
            "\n",
            "\u001b[1m\n",
            "========== Predictions for Line: 49 from /content/2201.11632v1.txt ==========\u001b[0m\n",
            "['[49] AUTHOR\u001b[49m Fitsum AUTHOR\u001b[49m A. AUTHOR\u001b[49m Reda, AUTHOR\u001b[49m Deqing AUTHOR\u001b[49m Sun, AUTHOR\u001b[49m Aysegul AUTHOR\u001b[49m Dundar, AUTHOR\u001b[49m Mohammad AUTHOR\u001b[49m Shoeybi, AUTHOR\u001b[49m Guilin AUTHOR\u001b[49m Liu, AUTHOR\u001b[49m Kevin AUTHOR\u001b[49m J. AUTHOR\u001b[49m Shih, AUTHOR\u001b[49m Andrew AUTHOR\u001b[49m Tao, AUTHOR\u001b[49m Jan AUTHOR\u001b[49m Kautz, AUTHOR\u001b[49m and AUTHOR\u001b[49m Bryan AUTHOR\u001b[49m Catanzaro. AUTHOR\u001b[49m Unsupervised TITLE\u001b[49m video TITLE\u001b[49m interpolation TITLE\u001b[49m using TITLE\u001b[49m cycle TITLE\u001b[49m consistency. TITLE\u001b[49m In TITLE\u001b[49m ICCV, BOOKTITLE\u001b[49m 2019.'] DATE\u001b[49m\n",
            "\n",
            "\n",
            "\u001b[1m\n",
            "========== Predictions for Line: 50 from /content/2201.11632v1.txt ==========\u001b[0m\n",
            "['[50] AUTHOR\u001b[49m Jen-Hao AUTHOR\u001b[49m Rick AUTHOR\u001b[49m Chang AUTHOR\u001b[49m and AUTHOR\u001b[49m Yu-Chiang AUTHOR\u001b[49m Frank AUTHOR\u001b[49m Wang. AUTHOR\u001b[49m Propagated TITLE\u001b[49m image TITLE\u001b[49m filtering. TITLE\u001b[49m In TITLE\u001b[49m CVPR, BOOKTITLE\u001b[49m 2015.'] DATE\u001b[49m\n",
            "\n",
            "\n",
            "\u001b[1m\n",
            "========== Predictions for Line: 51 from /content/2201.11632v1.txt ==========\u001b[0m\n",
            "['[51] AUTHOR\u001b[49m Olaf AUTHOR\u001b[49m Ronneberger, AUTHOR\u001b[49m Philipp AUTHOR\u001b[49m Fischer, AUTHOR\u001b[49m and AUTHOR\u001b[49m Thomas AUTHOR\u001b[49m Brox. AUTHOR\u001b[49m U-net: TITLE\u001b[49m Convolutional TITLE\u001b[49m networks TITLE\u001b[49m for TITLE\u001b[49m biomedical TITLE\u001b[49m image TITLE\u001b[49m segmentation. TITLE\u001b[49m In TITLE\u001b[49m MICCAI, BOOKTITLE\u001b[49m 2015.'] DATE\u001b[49m\n",
            "\n",
            "\n",
            "\u001b[1m\n",
            "========== Predictions for Line: 52 from /content/2201.11632v1.txt ==========\u001b[0m\n",
            "['[52] AUTHOR\u001b[49m Manuel AUTHOR\u001b[49m Ruder, AUTHOR\u001b[49m Alexey AUTHOR\u001b[49m Dosovitskiy, AUTHOR\u001b[49m and AUTHOR\u001b[49m Thomas AUTHOR\u001b[49m Brox. AUTHOR\u001b[49m Artistic TITLE\u001b[49m style TITLE\u001b[49m transfer TITLE\u001b[49m for TITLE\u001b[49m videos. TITLE\u001b[49m In TITLE\u001b[49m GCPR, BOOKTITLE\u001b[49m 2016.'] DATE\u001b[49m\n",
            "\n",
            "\n",
            "\u001b[1m\n",
            "========== Predictions for Line: 53 from /content/2201.11632v1.txt ==========\u001b[0m\n",
            "['[53] AUTHOR\u001b[49m Mehdi AUTHOR\u001b[49m SM AUTHOR\u001b[49m Sajjadi, AUTHOR\u001b[49m Raviteja AUTHOR\u001b[49m Vemulapalli, AUTHOR\u001b[49m and AUTHOR\u001b[49m Matthew AUTHOR\u001b[49m Brown. AUTHOR\u001b[49m Frame-recurrent TITLE\u001b[49m video TITLE\u001b[49m super-resolution. TITLE\u001b[49m In TITLE\u001b[49m CVPR, BOOKTITLE\u001b[49m 2018.'] DATE\u001b[49m\n",
            "\n",
            "\n",
            "\u001b[1m\n",
            "========== Predictions for Line: 54 from /content/2201.11632v1.txt ==========\u001b[0m\n",
            "['[54] AUTHOR\u001b[49m Tamar AUTHOR\u001b[49m Rott AUTHOR\u001b[49m Shaham, AUTHOR\u001b[49m Tali AUTHOR\u001b[49m Dekel, AUTHOR\u001b[49m and AUTHOR\u001b[49m Tomer AUTHOR\u001b[49m Michaeli. AUTHOR\u001b[49m Singan: AUTHOR\u001b[49m Learning TITLE\u001b[49m a TITLE\u001b[49m generative TITLE\u001b[49m model TITLE\u001b[49m from TITLE\u001b[49m a TITLE\u001b[49m single TITLE\u001b[49m natural TITLE\u001b[49m image. TITLE\u001b[49m In TITLE\u001b[49m ICCV, BOOKTITLE\u001b[49m 2019.'] DATE\u001b[49m\n",
            "\n",
            "\n",
            "\u001b[1m\n",
            "========== Predictions for Line: 55 from /content/2201.11632v1.txt ==========\u001b[0m\n",
            "['[55] AUTHOR\u001b[49m Assaf AUTHOR\u001b[49m Shocher, AUTHOR\u001b[49m Shai AUTHOR\u001b[49m Bagon, AUTHOR\u001b[49m Phillip AUTHOR\u001b[49m Isola, AUTHOR\u001b[49m and AUTHOR\u001b[49m Michal AUTHOR\u001b[49m Irani. AUTHOR\u001b[49m Ingan: TITLE\u001b[49m Capturing TITLE\u001b[49m and TITLE\u001b[49m retargeting TITLE\u001b[49m the TITLE\u001b[49m ”dna” TITLE\u001b[49m of TITLE\u001b[49m a TITLE\u001b[49m natural TITLE\u001b[49m image. TITLE\u001b[49m In TITLE\u001b[49m ICCV, BOOKTITLE\u001b[49m 2019.'] DATE\u001b[49m\n",
            "\n",
            "\n",
            "\u001b[1m\n",
            "========== Predictions for Line: 56 from /content/2201.11632v1.txt ==========\u001b[0m\n",
            "['[56] AUTHOR\u001b[49m Assaf AUTHOR\u001b[49m Shocher, AUTHOR\u001b[49m Nadav AUTHOR\u001b[49m Cohen, AUTHOR\u001b[49m and AUTHOR\u001b[49m Michal AUTHOR\u001b[49m Irani. AUTHOR\u001b[49m “zero-shot” TITLE\u001b[49m superresolution TITLE\u001b[49m using TITLE\u001b[49m deep TITLE\u001b[49m internal TITLE\u001b[49m learning. TITLE\u001b[49m In BOOKTITLE\u001b[49m CVPR, BOOKTITLE\u001b[49m 2018.'] BOOKTITLE\u001b[49m\n",
            "\n",
            "\n",
            "\u001b[1m\n",
            "========== Predictions for Line: 57 from /content/2201.11632v1.txt ==========\u001b[0m\n",
            "['[57] AUTHOR\u001b[49m Deqing AUTHOR\u001b[49m Sun, AUTHOR\u001b[49m Xiaodong AUTHOR\u001b[49m Yang, AUTHOR\u001b[49m Ming-Yu AUTHOR\u001b[49m Liu, AUTHOR\u001b[49m and AUTHOR\u001b[49m Jan AUTHOR\u001b[49m Kautz. AUTHOR\u001b[49m Pwcnet: TITLE\u001b[49m Cnns TITLE\u001b[49m for TITLE\u001b[49m optical TITLE\u001b[49m flow TITLE\u001b[49m using TITLE\u001b[49m pyramid, TITLE\u001b[49m warping, TITLE\u001b[49m and TITLE\u001b[49m cost TITLE\u001b[49m volume. TITLE\u001b[49m In TITLE\u001b[49m CVPR, BOOKTITLE\u001b[49m 2018.'] DATE\u001b[49m\n",
            "\n",
            "\n",
            "\u001b[1m\n",
            "========== Predictions for Line: 58 from /content/2201.11632v1.txt ==========\u001b[0m\n",
            "['[58] AUTHOR\u001b[49m Yi-Hsuan AUTHOR\u001b[49m Tsai, AUTHOR\u001b[49m Ming-Hsuan AUTHOR\u001b[49m Yang, AUTHOR\u001b[49m and AUTHOR\u001b[49m Michael AUTHOR\u001b[49m J AUTHOR\u001b[49m Black. AUTHOR\u001b[49m Video TITLE\u001b[49m segmentation TITLE\u001b[49m via TITLE\u001b[49m object TITLE\u001b[49m flow. TITLE\u001b[49m In TITLE\u001b[49m CVPR, BOOKTITLE\u001b[49m 2016.'] DATE\u001b[49m\n",
            "\n",
            "\n",
            "\u001b[1m\n",
            "========== Predictions for Line: 59 from /content/2201.11632v1.txt ==========\u001b[0m\n",
            "['[59] AUTHOR\u001b[49m Dmitry AUTHOR\u001b[49m Ulyanov, AUTHOR\u001b[49m Andrea AUTHOR\u001b[49m Vedaldi, AUTHOR\u001b[49m and AUTHOR\u001b[49m Victor AUTHOR\u001b[49m Lempitsky. AUTHOR\u001b[49m Deep TITLE\u001b[49m image TITLE\u001b[49m prior. TITLE\u001b[49m In TITLE\u001b[49m CVPR, BOOKTITLE\u001b[49m 2018.'] DATE\u001b[49m\n",
            "\n",
            "\n",
            "\u001b[1m\n",
            "========== Predictions for Line: 60 from /content/2201.11632v1.txt ==========\u001b[0m\n",
            "['[60] AUTHOR\u001b[49m Carl AUTHOR\u001b[49m Vondrick, AUTHOR\u001b[49m Abhinav AUTHOR\u001b[49m Shrivastava, AUTHOR\u001b[49m Alireza AUTHOR\u001b[49m Fathi, AUTHOR\u001b[49m Sergio AUTHOR\u001b[49m Guadarrama, AUTHOR\u001b[49m and AUTHOR\u001b[49m Kevin AUTHOR\u001b[49m Murphy. AUTHOR\u001b[49m Tracking TITLE\u001b[49m emerges TITLE\u001b[49m by TITLE\u001b[49m colorizing TITLE\u001b[49m videos. TITLE\u001b[49m In TITLE\u001b[49m ECCV, BOOKTITLE\u001b[49m 2018.'] DATE\u001b[49m\n",
            "\n",
            "\n",
            "\u001b[1m\n",
            "========== Predictions for Line: 61 from /content/2201.11632v1.txt ==========\u001b[0m\n",
            "['[61] AUTHOR\u001b[49m Jiaxin AUTHOR\u001b[49m Xie, AUTHOR\u001b[49m Chenyang AUTHOR\u001b[49m Lei, AUTHOR\u001b[49m Zhuwen AUTHOR\u001b[49m Li, AUTHOR\u001b[49m Li AUTHOR\u001b[49m Erran AUTHOR\u001b[49m Li, AUTHOR\u001b[49m and AUTHOR\u001b[49m Qifeng AUTHOR\u001b[49m Chen. AUTHOR\u001b[49m Video TITLE\u001b[49m depth TITLE\u001b[49m estimation TITLE\u001b[49m by TITLE\u001b[49m fusing TITLE\u001b[49m flow-to-depth TITLE\u001b[49m proposals. TITLE\u001b[49m IROS, JOURNAL\u001b[49m 2020.'] DATE\u001b[49m\n",
            "\n",
            "\n",
            "\u001b[1m\n",
            "========== Predictions for Line: 62 from /content/2201.11632v1.txt ==========\u001b[0m\n",
            "['[62] AUTHOR\u001b[49m Zhicheng AUTHOR\u001b[49m Yan, AUTHOR\u001b[49m Hao AUTHOR\u001b[49m Zhang, AUTHOR\u001b[49m Baoyuan AUTHOR\u001b[49m Wang, AUTHOR\u001b[49m Sylvain AUTHOR\u001b[49m Paris, AUTHOR\u001b[49m and AUTHOR\u001b[49m Yizhou AUTHOR\u001b[49m Yu. AUTHOR\u001b[49m Automatic TITLE\u001b[49m photo TITLE\u001b[49m adjustment TITLE\u001b[49m using TITLE\u001b[49m deep TITLE\u001b[49m neural TITLE\u001b[49m networks. TITLE\u001b[49m ACM JOURNAL\u001b[49m Trans. JOURNAL\u001b[49m Graph., JOURNAL\u001b[49m 35(2):11:1–11:15, PAGES\u001b[49m 2016.'] DATE\u001b[49m\n",
            "\n",
            "\n",
            "\u001b[1m\n",
            "========== Predictions for Line: 63 from /content/2201.11632v1.txt ==========\u001b[0m\n",
            "['[63] AUTHOR\u001b[49m Chun-Han AUTHOR\u001b[49m Yao, AUTHOR\u001b[49m Chia-Yang AUTHOR\u001b[49m Chang, AUTHOR\u001b[49m and AUTHOR\u001b[49m Shao-Yi AUTHOR\u001b[49m Chien. AUTHOR\u001b[49m Occlusionaware TITLE\u001b[49m video TITLE\u001b[49m temporal TITLE\u001b[49m consistency. TITLE\u001b[49m In TITLE\u001b[49m ACM BOOKTITLE\u001b[49m Multimedia, BOOKTITLE\u001b[49m 2017.'] DATE\u001b[49m\n",
            "\n",
            "\n",
            "\u001b[1m\n",
            "========== Predictions for Line: 64 from /content/2201.11632v1.txt ==========\u001b[0m\n",
            "['[64] AUTHOR\u001b[49m Haotian AUTHOR\u001b[49m Zhang, AUTHOR\u001b[49m Long AUTHOR\u001b[49m Mai, AUTHOR\u001b[49m Ning AUTHOR\u001b[49m Xu, AUTHOR\u001b[49m Zhaowen AUTHOR\u001b[49m Wang, AUTHOR\u001b[49m John AUTHOR\u001b[49m Collomosse, AUTHOR\u001b[49m and AUTHOR\u001b[49m Hailin AUTHOR\u001b[49m Jin. AUTHOR\u001b[49m An TITLE\u001b[49m internal TITLE\u001b[49m learning TITLE\u001b[49m approach TITLE\u001b[49m to TITLE\u001b[49m video TITLE\u001b[49m inpainting. TITLE\u001b[49m In TITLE\u001b[49m ICCV, BOOKTITLE\u001b[49m 2019.'] DATE\u001b[49m\n",
            "\n",
            "\n",
            "\u001b[1m\n",
            "========== Predictions for Line: 65 from /content/2201.11632v1.txt ==========\u001b[0m\n",
            "['[65] AUTHOR\u001b[49m Richard AUTHOR\u001b[49m Zhang, AUTHOR\u001b[49m Phillip AUTHOR\u001b[49m Isola, AUTHOR\u001b[49m and AUTHOR\u001b[49m Alexei AUTHOR\u001b[49m A TITLE\u001b[49m Efros. TITLE\u001b[49m Colorful TITLE\u001b[49m image TITLE\u001b[49m colorization. TITLE\u001b[49m In TITLE\u001b[49m ECCV, BOOKTITLE\u001b[49m 2016.'] DATE\u001b[49m\n",
            "\n",
            "\n",
            "\u001b[1m\n",
            "========== Predictions for Line: 66 from /content/2201.11632v1.txt ==========\u001b[0m\n",
            "['[66] AUTHOR\u001b[49m Jun-Yan AUTHOR\u001b[49m Zhu, AUTHOR\u001b[49m Taesung AUTHOR\u001b[49m Park, AUTHOR\u001b[49m Phillip AUTHOR\u001b[49m Isola, AUTHOR\u001b[49m and AUTHOR\u001b[49m Alexei AUTHOR\u001b[49m A TITLE\u001b[49m Efros. TITLE\u001b[49m Unpaired TITLE\u001b[49m image-to-image TITLE\u001b[49m translation TITLE\u001b[49m using TITLE\u001b[49m cycle-consistent TITLE\u001b[49m adversarial TITLE\u001b[49m networkss. TITLE\u001b[49m In TITLE\u001b[49m ICCV, BOOKTITLE\u001b[49m 2017.'] DATE\u001b[49m\n",
            "\n",
            "\n"
          ]
        }
      ],
      "source": [
        "prediction_file = neural_parscit.predict_for_file(\"/content/2201.11632v1.txt\")"
      ]
    },
    {
      "cell_type": "code",
      "execution_count": 30,
      "metadata": {
        "id": "IHUZuos9D9X2"
      },
      "outputs": [],
      "source": [
        "prediction_file_str = ''.join(prediction_file)"
      ]
    },
    {
      "cell_type": "code",
      "execution_count": 31,
      "metadata": {
        "colab": {
          "base_uri": "https://localhost:8080/",
          "height": 193
        },
        "id": "1ordMsj-b4A1",
        "outputId": "e3642337-a51c-4254-841a-df8fe24025a6"
      },
      "outputs": [
        {
          "output_type": "execute_result",
          "data": {
            "text/plain": [
              "'author author author author author author author author author author author title title title title title title title title title journal journal journal volume dateauthor author author author author author author author title title title title title journal journal journal pages dateauthor author author author author author author author author author author author author author title title title title journal journal journal pages dateauthor author author author author author author author author author author author author author author title title title title booktitle booktitle booktitle booktitle booktitle booktitle booktitle booktitle booktitle booktitle booktitle booktitle pages pages dateauthor author author author author author author author author author author title title title title title title booktitle dateauthor author author author author author author author author author author author title title title title title title booktitle dateauthor author author author author author title title title title title title title title booktitle dateauthor author author author author author author author author author author title title title title title title booktitle dateauthor author author author author author author author author title title title title title title title booktitle dateauthor author author author author author author author author author author author author title title title title title title title title journal dateauthor author author author author author author author title title title title title title title title booktitle dateauthor author author author author author author author author author title title title title title title title title booktitle booktitleauthor author author author author author author author title title title title title title title title title title title booktitle booktitle booktitle booktitle booktitle booktitle booktitle booktitle booktitle dateauthor author author author author author author author author author author author author author title title title title title title title journal journal journal pages dateauthor author author author author author author author title title title title title title title title journal journal journal journal journal journal volume pagesauthor author author author author author author author title title title journal journal journal journal journal journal volume pagesauthor author author author author author author author title title title title title title journal journal journal journal journal volumeauthor author author author author author author author author author author author title title title title title title title title journal journal journal volume dateauthor author author author author author author author author author author author author author author author author author title title title title title title title booktitle dateauthor author author author author author title title title title title title title title title journal journal journal pages dateauthor author author author author author author author title title title title title title title title title title title title title title title title title title title title title booktitle volume volume pages pages pagesauthor author author author author author author author author title title title title title title title title title booktitle dateauthor author author author author author author author author title title title title booktitle dateauthor author author author author author author author title title title title title title title title title booktitle dateauthor author author author author author author author author author author author title title title title title title title tech dateauthor author author author author author author author title title title title title title title booktitle dateauthor author author author author author author author title title title title title booktitle booktitle dateauthor author author author author author author author author author author title title title journal journal journal volume dateauthor author author author author author author author author author author author author author title title title title title title booktitle dateauthor author author author author author author author author author author author title title title title title title title journal journal journal pages pagesauthor author author author author author title title title title title title title title title booktitle dateauthor author author author author author title title title title title title title title booktitle booktitleauthor author author author author author author author author author author author author author title title title title title title title title title title booktitle volumeauthor author author author author author author author title title title title title title title title title booktitle pagesauthor author author author author author author author title title title journal journal journal pages dateauthor author author author author author author author author author author author author author title title title title title title title booktitle dateauthor author author author author author author author author author title title title title title booktitle dateauthor author author author author author author title title title title title title title title title title title booktitle dateauthor author author author author author author author author author title title title title title title title title title title title title title booktitle booktitleauthor author author author author author author author author author author author author author author author author title title title title title booktitle dateauthor author author author author author author author title title title title title title title booktitle dateauthor author author title title title title title title title title title booktitle booktitle booktitle booktitle booktitle booktitle booktitle booktitle booktitle booktitle booktitle booktitle location location location dateauthor author author author author author author author author author title title title title title booktitle dateauthor author author author author author author author author author author author author title title title title title booktitle dateauthor author author author author author author author author author author author title title title title title title title booktitle dateauthor author author author author author author author author author author author title title title title title title title booktitle booktitle booktitle booktitle booktitle booktitle booktitle booktitle booktitle booktitle pages pages dateauthor author author author author author author author author author author author author author author title title title title title title title title title title title booktitle dateauthor author author author author author author author author author title title title title title title title title booktitle dateauthor author author author author author author author author author author author author author author author author author author author author author title title title title title title title booktitle dateauthor author author author author author author author title title title title booktitle dateauthor author author author author author author author title title title title title title title title booktitle dateauthor author author author author author author author title title title title title title booktitle dateauthor author author author author author author author author title title title title booktitle dateauthor author author author author author author author author author title title title title title title title title title title booktitle dateauthor author author author author author author author author author title title title title title title title title title title title booktitle dateauthor author author author author author author author title title title title title title booktitle booktitle booktitleauthor author author author author author author author author author title title title title title title title title title title title title booktitle dateauthor author author author author author author author author title title title title title title booktitle dateauthor author author author author author author author title title title title booktitle dateauthor author author author author author author author author author author author title title title title title title booktitle dateauthor author author author author author author author author author author author author title title title title title title title journal dateauthor author author author author author author author author author author author title title title title title title title journal journal journal pages dateauthor author author author author author author author title title title title title booktitle booktitle dateauthor author author author author author author author author author author author author author title title title title title title title title booktitle dateauthor author author author author author author title title title title title title booktitle dateauthor author author author author author author author author title title title title title title title title title title booktitle date'"
            ],
            "application/vnd.google.colaboratory.intrinsic+json": {
              "type": "string"
            }
          },
          "metadata": {},
          "execution_count": 31
        }
      ],
      "source": [
        "prediction_file_str"
      ]
    },
    {
      "cell_type": "code",
      "execution_count": 32,
      "metadata": {
        "id": "h_3Gbndc9Py-"
      },
      "outputs": [],
      "source": [
        "f = open(\"predictions2.txt\", \"a+\")\n",
        "for ref in prediction_file:\n",
        "  f.write(str(ref)+'\\n')\n",
        "\n",
        "f.close()"
      ]
    },
    {
      "cell_type": "code",
      "execution_count": 33,
      "metadata": {
        "id": "TPegFL3fbZq7",
        "colab": {
          "base_uri": "https://localhost:8080/"
        },
        "outputId": "b955d605-6988-499d-ffad-48efd89b6925"
      },
      "outputs": [
        {
          "output_type": "stream",
          "name": "stdout",
          "text": [
            "1325\n"
          ]
        },
        {
          "output_type": "execute_result",
          "data": {
            "text/plain": [
              "1325"
            ]
          },
          "metadata": {},
          "execution_count": 33
        }
      ],
      "source": [
        "my_file = open(\"/content/2201.11632v1.txt\", \"r\")\n",
        "\n",
        "references = my_file.read()\n",
        "\n",
        "references = references.replace('\\n','')\n",
        "references_list = references.split(\" \")\n",
        "\n",
        "my_file.close()\n",
        "\n",
        "print(len(references_list))\n",
        "\n",
        "references_list_1 = list(filter(None, references_list))\n",
        "\n",
        "len(references_list_1)"
      ]
    },
    {
      "cell_type": "code",
      "source": [
        ""
      ],
      "metadata": {
        "id": "dxNhdx6njZVJ"
      },
      "execution_count": 33,
      "outputs": []
    },
    {
      "cell_type": "code",
      "source": [
        "my_file = open(\"predictions2.txt\", \"r\")\n",
        "\n",
        "prediction = my_file.read()\n",
        "\n",
        "# print(prediction)\n",
        "\n",
        "prediction_list = prediction.split(\" \")\n",
        "\n",
        "my_file.close()\n",
        "\n",
        "print(len(prediction_list))"
      ],
      "metadata": {
        "colab": {
          "base_uri": "https://localhost:8080/"
        },
        "id": "L0wfOSX5ixrM",
        "outputId": "f6f601f3-67de-42ae-f55a-ab2ad2a52be1"
      },
      "execution_count": 34,
      "outputs": [
        {
          "output_type": "stream",
          "name": "stdout",
          "text": [
            "1325\n"
          ]
        }
      ]
    },
    {
      "cell_type": "code",
      "source": [
        "Extraction = []\n",
        "for pred,ref in zip(prediction_list, references_list_1):\n",
        "      Extraction.append([pred,ref])"
      ],
      "metadata": {
        "id": "sIFzCYZGi-EF"
      },
      "execution_count": 35,
      "outputs": []
    },
    {
      "cell_type": "code",
      "source": [
        "Extraction"
      ],
      "metadata": {
        "colab": {
          "base_uri": "https://localhost:8080/"
        },
        "id": "ZjdwtlDWjERU",
        "outputId": "c7533cea-e2f4-40f7-b78e-90f061989adf"
      },
      "execution_count": 36,
      "outputs": [
        {
          "output_type": "execute_result",
          "data": {
            "text/plain": [
              "[['author', \"['[1]\"],\n",
              " ['author', 'Connelly'],\n",
              " ['author', 'Barnes,'],\n",
              " ['author', 'Eli'],\n",
              " ['author', 'Shechtman,'],\n",
              " ['author', 'Adam'],\n",
              " ['author', 'Finkelstein,'],\n",
              " ['author', 'and'],\n",
              " ['author', 'Dan'],\n",
              " ['author', 'B'],\n",
              " ['author', 'Goldman.'],\n",
              " ['title', 'Patchmatch:'],\n",
              " ['title', 'A'],\n",
              " ['title', 'randomized'],\n",
              " ['title', 'correspondence'],\n",
              " ['title', 'algorithm'],\n",
              " ['title', 'for'],\n",
              " ['title', 'structural'],\n",
              " ['title', 'image'],\n",
              " ['title', 'editing.'],\n",
              " ['journal', 'ACM'],\n",
              " ['journal', 'Trans.'],\n",
              " ['journal', 'Graph.,'],\n",
              " ['volume', '28(3):24,'],\n",
              " ['date\\nauthor', \"2009.']['[2]\"],\n",
              " ['author', 'Sean'],\n",
              " ['author', 'Bell,'],\n",
              " ['author', 'Kavita'],\n",
              " ['author', 'Bala,'],\n",
              " ['author', 'and'],\n",
              " ['author', 'Noah'],\n",
              " ['author', 'Snavely.'],\n",
              " ['title', 'Intrinsic'],\n",
              " ['title', 'images'],\n",
              " ['title', 'in'],\n",
              " ['title', 'the'],\n",
              " ['title', 'wild.'],\n",
              " ['journal', 'ACM'],\n",
              " ['journal', 'Trans.'],\n",
              " ['journal', 'Graph.,'],\n",
              " ['pages', '33(4):159:1–159:12,'],\n",
              " ['date\\nauthor', \"2014.']['[3]\"],\n",
              " ['author', 'Nicolas'],\n",
              " ['author', 'Bonneel,'],\n",
              " ['author', 'James'],\n",
              " ['author', 'Tompkin,'],\n",
              " ['author', 'Kalyan'],\n",
              " ['author', 'Sunkavalli,'],\n",
              " ['author', 'Deqing'],\n",
              " ['author', 'Sun,'],\n",
              " ['author', 'Sylvain'],\n",
              " ['author', 'Paris,'],\n",
              " ['author', 'and'],\n",
              " ['author', 'Hanspeter'],\n",
              " ['author', 'Pfister.'],\n",
              " ['title', 'Blind'],\n",
              " ['title', 'video'],\n",
              " ['title', 'temporal'],\n",
              " ['title', 'consistency.'],\n",
              " ['journal', 'ACM'],\n",
              " ['journal', 'Trans.'],\n",
              " ['journal', 'Graph.,'],\n",
              " ['pages', '34(6):196:1–196:9,'],\n",
              " ['date\\nauthor', \"2015.']['[4]\"],\n",
              " ['author', 'Sergi'],\n",
              " ['author', 'Caelles,'],\n",
              " ['author', 'Kevis-Kokitsi'],\n",
              " ['author', 'Maninis,'],\n",
              " ['author', 'Jordi'],\n",
              " ['author', 'Pont-Tuset,'],\n",
              " ['author', 'Laura'],\n",
              " ['author', 'LealTaixé,'],\n",
              " ['author', 'Daniel'],\n",
              " ['author', 'Cremers,'],\n",
              " ['author', 'and'],\n",
              " ['author', 'Luc'],\n",
              " ['author', 'Van'],\n",
              " ['author', 'Gool.'],\n",
              " ['title', 'One-shot'],\n",
              " ['title', 'video'],\n",
              " ['title', 'object'],\n",
              " ['title', 'segmentation.'],\n",
              " ['booktitle', 'In'],\n",
              " ['booktitle', 'Proceedings'],\n",
              " ['booktitle', 'of'],\n",
              " ['booktitle', 'the'],\n",
              " ['booktitle', 'IEEE'],\n",
              " ['booktitle', 'conference'],\n",
              " ['booktitle', 'on'],\n",
              " ['booktitle', 'computer'],\n",
              " ['booktitle', 'vision'],\n",
              " ['booktitle', 'and'],\n",
              " ['booktitle', 'pattern'],\n",
              " ['booktitle', 'recognition,'],\n",
              " ['pages', 'pages'],\n",
              " ['pages', '221–230,'],\n",
              " ['date\\nauthor', \"2017.']['[5]\"],\n",
              " ['author', 'Chen'],\n",
              " ['author', 'Chen,'],\n",
              " ['author', 'Qifeng'],\n",
              " ['author', 'Chen,'],\n",
              " ['author', 'Minh'],\n",
              " ['author', 'N'],\n",
              " ['author', 'Do,'],\n",
              " ['author', 'and'],\n",
              " ['author', 'Vladlen'],\n",
              " ['author', 'Koltun.'],\n",
              " ['title', 'Seeing'],\n",
              " ['title', 'motion'],\n",
              " ['title', 'in'],\n",
              " ['title', 'the'],\n",
              " ['title', 'dark.'],\n",
              " ['title', 'In'],\n",
              " ['booktitle', 'ICCV,'],\n",
              " ['date\\nauthor', \"2019.']['[6]\"],\n",
              " ['author', 'Dongdong'],\n",
              " ['author', 'Chen,'],\n",
              " ['author', 'Jing'],\n",
              " ['author', 'Liao,'],\n",
              " ['author', 'Lu'],\n",
              " ['author', 'Yuan,'],\n",
              " ['author', 'Nenghai'],\n",
              " ['author', 'Yu,'],\n",
              " ['author', 'and'],\n",
              " ['author', 'Gang'],\n",
              " ['author', 'Hua.'],\n",
              " ['title', 'Coherent'],\n",
              " ['title', 'online'],\n",
              " ['title', 'video'],\n",
              " ['title', 'style'],\n",
              " ['title', 'transfer.'],\n",
              " ['title', 'In'],\n",
              " ['booktitle', 'ICCV,'],\n",
              " ['date\\nauthor', \"2017.']['[7]\"],\n",
              " ['author', 'Qifeng'],\n",
              " ['author', 'Chen'],\n",
              " ['author', 'and'],\n",
              " ['author', 'Vladlen'],\n",
              " ['author', 'Koltun.'],\n",
              " ['title', 'Photographic'],\n",
              " ['title', 'image'],\n",
              " ['title', 'synthesis'],\n",
              " ['title', 'with'],\n",
              " ['title', 'cascaded'],\n",
              " ['title', 'refinement'],\n",
              " ['title', 'networks.'],\n",
              " ['title', 'In'],\n",
              " ['booktitle', 'ICCV,'],\n",
              " ['date\\nauthor', \"2017.']['[8]\"],\n",
              " ['author', 'Xuan'],\n",
              " ['author', 'Dong,'],\n",
              " ['author', 'Boyan'],\n",
              " ['author', 'Bonev,'],\n",
              " ['author', 'Yu'],\n",
              " ['author', 'Zhu,'],\n",
              " ['author', 'and'],\n",
              " ['author', 'Alan'],\n",
              " ['author', 'L'],\n",
              " ['author', 'Yuille.'],\n",
              " ['title', 'Regionbased'],\n",
              " ['title', 'temporally'],\n",
              " ['title', 'consistent'],\n",
              " ['title', 'video'],\n",
              " ['title', 'post-processing.'],\n",
              " ['title', 'In'],\n",
              " ['booktitle', 'CVPR,'],\n",
              " ['date\\nauthor', \"2015.']['[9]\"],\n",
              " ['author', 'Gabriel'],\n",
              " ['author', 'Eilertsen,'],\n",
              " ['author', 'Rafal'],\n",
              " ['author', 'K'],\n",
              " ['author', 'Mantiuk,'],\n",
              " ['author', 'and'],\n",
              " ['author', 'Jonas'],\n",
              " ['author', 'Unger.'],\n",
              " ['title', 'Single-frame'],\n",
              " ['title', 'regularization'],\n",
              " ['title', 'for'],\n",
              " ['title', 'temporally'],\n",
              " ['title', 'stable'],\n",
              " ['title', 'cnns.'],\n",
              " ['title', 'In'],\n",
              " ['booktitle', 'CVPR,'],\n",
              " ['date\\nauthor', \"2019.']['[10]\"],\n",
              " ['author', 'Qingnan'],\n",
              " ['author', 'Fan,'],\n",
              " ['author', 'Fan'],\n",
              " ['author', 'Zhong,'],\n",
              " ['author', 'Dani'],\n",
              " ['author', 'Lischinski,'],\n",
              " ['author', 'Daniel'],\n",
              " ['author', 'Cohen-Or,'],\n",
              " ['author', 'and'],\n",
              " ['author', 'Baoquan'],\n",
              " ['author', 'Chen.'],\n",
              " ['author', 'Jumpcut:'],\n",
              " ['title', 'non-successive'],\n",
              " ['title', 'mask'],\n",
              " ['title', 'transfer'],\n",
              " ['title', 'and'],\n",
              " ['title', 'interpolation'],\n",
              " ['title', 'for'],\n",
              " ['title', 'video'],\n",
              " ['title', 'cutout.'],\n",
              " ['journal', 'TOG,'],\n",
              " ['date\\nauthor', \"2015.']['[11]\"],\n",
              " ['author', 'Yossi'],\n",
              " ['author', 'Gandelsman,'],\n",
              " ['author', 'Assaf'],\n",
              " ['author', 'Shocher,'],\n",
              " ['author', 'and'],\n",
              " ['author', 'Michal'],\n",
              " ['author', 'Irani.'],\n",
              " ['title', 'Double-dip”:'],\n",
              " ['title', 'Unsupervised'],\n",
              " ['title', 'image'],\n",
              " ['title', 'decomposition'],\n",
              " ['title', 'via'],\n",
              " ['title', 'coupled'],\n",
              " ['title', 'deep-imagepriors.'],\n",
              " ['title', 'In'],\n",
              " ['booktitle', 'CVPR,'],\n",
              " ['date\\nauthor', \"2019.']['[12]\"],\n",
              " ['author', 'Leon'],\n",
              " ['author', 'A'],\n",
              " ['author', 'Gatys,'],\n",
              " ['author', 'Alexander'],\n",
              " ['author', 'S'],\n",
              " ['author', 'Ecker,'],\n",
              " ['author', 'and'],\n",
              " ['author', 'Matthias'],\n",
              " ['author', 'Bethge.'],\n",
              " ['title', 'Image'],\n",
              " ['title', 'style'],\n",
              " ['title', 'transfer'],\n",
              " ['title', 'using'],\n",
              " ['title', 'convolutional'],\n",
              " ['title', 'neural'],\n",
              " ['title', 'networks.'],\n",
              " ['title', 'In'],\n",
              " ['booktitle', 'CVPR,'],\n",
              " ['booktitle\\nauthor', \"2016.']['[13]\"],\n",
              " ['author', 'Andreas'],\n",
              " ['author', 'Geiger,'],\n",
              " ['author', 'Philip'],\n",
              " ['author', 'Lenz,'],\n",
              " ['author', 'and'],\n",
              " ['author', 'Raquel'],\n",
              " ['author', 'Urtasun.'],\n",
              " ['title', 'Are'],\n",
              " ['title', 'we'],\n",
              " ['title', 'ready'],\n",
              " ['title', 'for'],\n",
              " ['title', 'autonomous'],\n",
              " ['title', 'driving?'],\n",
              " ['title', 'the'],\n",
              " ['title', 'kitti'],\n",
              " ['title', 'vision'],\n",
              " ['title', 'benchmark'],\n",
              " ['title', 'suite.'],\n",
              " ['booktitle', 'In'],\n",
              " ['booktitle', 'Conference'],\n",
              " ['booktitle', 'on'],\n",
              " ['booktitle', 'Computer'],\n",
              " ['booktitle', 'Vision'],\n",
              " ['booktitle', 'and'],\n",
              " ['booktitle', 'Pattern'],\n",
              " ['booktitle', 'Recognition'],\n",
              " ['booktitle', '(CVPR),'],\n",
              " ['date\\nauthor', \"2012.']['[14]\"],\n",
              " ['author', 'Michaël'],\n",
              " ['author', 'Gharbi,'],\n",
              " ['author', 'Jiawen'],\n",
              " ['author', 'Chen,'],\n",
              " ['author', 'Jonathan'],\n",
              " ['author', 'T'],\n",
              " ['author', 'Barron,'],\n",
              " ['author', 'Samuel'],\n",
              " ['author', 'W'],\n",
              " ['author', 'Hasinoff,'],\n",
              " ['author', 'and'],\n",
              " ['author', 'Frédo'],\n",
              " ['author', 'Durand.'],\n",
              " ['title', 'Deep'],\n",
              " ['title', 'bilateral'],\n",
              " ['title', 'learning'],\n",
              " ['title', 'for'],\n",
              " ['title', 'real-time'],\n",
              " ['title', 'image'],\n",
              " ['title', 'enhancement.'],\n",
              " ['journal', 'ACM'],\n",
              " ['journal', 'Trans.'],\n",
              " ['journal', 'Graph.,'],\n",
              " ['pages', '36(4):118:1–118:12,'],\n",
              " ['date\\nauthor', \"2017.']['[15]\"],\n",
              " ['author', 'Kaiming'],\n",
              " ['author', 'He,'],\n",
              " ['author', 'Jian'],\n",
              " ['author', 'Sun,'],\n",
              " ['author', 'and'],\n",
              " ['author', 'Xiaoou'],\n",
              " ['author', 'Tang.'],\n",
              " ['title', 'Single'],\n",
              " ['title', 'image'],\n",
              " ['title', 'haze'],\n",
              " ['title', 'removal'],\n",
              " ['title', 'using'],\n",
              " ['title', 'dark'],\n",
              " ['title', 'channel'],\n",
              " ['title', 'prior.'],\n",
              " ['journal', 'IEEE'],\n",
              " ['journal', 'Trans.'],\n",
              " ['journal', 'Pattern'],\n",
              " ['journal', 'Anal.'],\n",
              " ['journal', 'Mach.'],\n",
              " ['journal', 'Intell.,'],\n",
              " ['volume', '33(12):2341–2353,'],\n",
              " ['pages\\nauthor', \"2011.']['[16]\"],\n",
              " ['author', 'Kaiming'],\n",
              " ['author', 'He,'],\n",
              " ['author', 'Jian'],\n",
              " ['author', 'Sun,'],\n",
              " ['author', 'and'],\n",
              " ['author', 'Xiaoou'],\n",
              " ['author', 'Tang.'],\n",
              " ['title', 'Guided'],\n",
              " ['title', 'image'],\n",
              " ['title', 'filtering.'],\n",
              " ['journal', 'IEEE'],\n",
              " ['journal', 'Trans.'],\n",
              " ['journal', 'Pattern'],\n",
              " ['journal', 'Anal.'],\n",
              " ['journal', 'Mach.'],\n",
              " ['journal', 'Intell.,'],\n",
              " ['volume', '35(6):1397–1409,'],\n",
              " ['pages\\nauthor', \"2013.']['[17]\"],\n",
              " ['author', 'Paul'],\n",
              " ['author', 'W'],\n",
              " ['author', 'Holland'],\n",
              " ['author', 'and'],\n",
              " ['author', 'Roy'],\n",
              " ['author', 'E'],\n",
              " ['author', 'Welsch.'],\n",
              " ['title', 'Robust'],\n",
              " ['title', 'regression'],\n",
              " ['title', 'using'],\n",
              " ['title', 'iteratively'],\n",
              " ['title', 'reweighted'],\n",
              " ['title', 'least-squares.'],\n",
              " ['journal', 'Communications'],\n",
              " ['journal', 'in'],\n",
              " ['journal', 'Statisticstheory'],\n",
              " ['journal', 'and'],\n",
              " ['journal', 'Methods,'],\n",
              " ['volume\\nauthor', \"1977.']['[18]\"],\n",
              " ['author', 'Eugene'],\n",
              " ['author', 'Hsu,'],\n",
              " ['author', 'Tom'],\n",
              " ['author', 'Mertens,'],\n",
              " ['author', 'Sylvain'],\n",
              " ['author', 'Paris,'],\n",
              " ['author', 'Shai'],\n",
              " ['author', 'Avidan,'],\n",
              " ['author', 'and'],\n",
              " ['author', 'Frédo'],\n",
              " ['author', 'Durand.'],\n",
              " ['title', 'Light'],\n",
              " ['title', 'mixture'],\n",
              " ['title', 'estimation'],\n",
              " ['title', 'for'],\n",
              " ['title', 'spatially'],\n",
              " ['title', 'varying'],\n",
              " ['title', 'white'],\n",
              " ['title', 'balance.'],\n",
              " ['journal', 'ACM'],\n",
              " ['journal', 'Trans.'],\n",
              " ['journal', 'Graph.,'],\n",
              " ['volume', '27(3):70,'],\n",
              " ['date\\nauthor', \"2008.']['[19]\"],\n",
              " ['author', 'Haozhi'],\n",
              " ['author', 'Huang,'],\n",
              " ['author', 'Hao'],\n",
              " ['author', 'Wang,'],\n",
              " ['author', 'Wenhan'],\n",
              " ['author', 'Luo,'],\n",
              " ['author', 'Lin'],\n",
              " ['author', 'Ma,'],\n",
              " ['author', 'Wenhao'],\n",
              " ['author', 'Jiang,'],\n",
              " ['author', 'Xiaolong'],\n",
              " ['author', 'Zhu,'],\n",
              " ['author', 'Zhifeng'],\n",
              " ['author', 'Li,'],\n",
              " ['author', 'and'],\n",
              " ['author', 'Wei'],\n",
              " ['author', 'Liu.'],\n",
              " ['title', 'Real-time'],\n",
              " ['title', 'neural'],\n",
              " ['title', 'style'],\n",
              " ['title', 'transfer'],\n",
              " ['title', 'for'],\n",
              " ['title', 'videos.'],\n",
              " ['title', 'In'],\n",
              " ['booktitle', 'CVPR,'],\n",
              " ['date\\nauthor', \"2017.']['[20]\"],\n",
              " ['author', 'Satoshi'],\n",
              " ['author', 'Iizuka'],\n",
              " ['author', 'and'],\n",
              " ['author', 'Edgar'],\n",
              " ['author', 'Simo-Serra.'],\n",
              " ['title', 'Deepremaster:'],\n",
              " ['title', 'temporal'],\n",
              " ['title', 'source-reference'],\n",
              " ['title', 'attention'],\n",
              " ['title', 'networks'],\n",
              " ['title', 'for'],\n",
              " ['title', 'comprehensive'],\n",
              " ['title', 'video'],\n",
              " ['title', 'enhancement.'],\n",
              " ['journal', 'ACM'],\n",
              " ['journal', 'Trans.'],\n",
              " ['journal', 'Graph.,'],\n",
              " ['pages', '38(6):176:1–176:13,'],\n",
              " ['date\\nauthor', \"2019.']['[21]\"],\n",
              " ['author', 'Satoshi'],\n",
              " ['author', 'Iizuka,'],\n",
              " ['author', 'Edgar'],\n",
              " ['author', 'Simo-Serra,'],\n",
              " ['author', 'and'],\n",
              " ['author', 'Hiroshi'],\n",
              " ['author', 'Ishikawa.'],\n",
              " ['title', 'Let'],\n",
              " ['title', 'there'],\n",
              " ['title', 'be'],\n",
              " ['title', 'color!'],\n",
              " ['title', 'joint'],\n",
              " ['title', 'end-to-end'],\n",
              " ['title', 'learning'],\n",
              " ['title', 'of'],\n",
              " ['title', 'global'],\n",
              " ['title', 'and'],\n",
              " ['title', 'local'],\n",
              " ['title', 'image'],\n",
              " ['title', 'priors'],\n",
              " ['title', 'for'],\n",
              " ['title', 'automatic'],\n",
              " ['title', 'image'],\n",
              " ['title', 'colorization'],\n",
              " ['title', 'with'],\n",
              " ['title', 'simultaneous'],\n",
              " ['title', 'classification.'],\n",
              " ['title', 'In'],\n",
              " ['booktitle', 'SIGGRAPH,'],\n",
              " ['volume', 'volume'],\n",
              " ['volume', '35,'],\n",
              " ['pages', 'pages'],\n",
              " ['pages', '110:1–110:11,'],\n",
              " ['pages\\nauthor', \"2016.']['[22]\"],\n",
              " ['author', 'Phillip'],\n",
              " ['author', 'Isola,'],\n",
              " ['author', 'Jun-Yan'],\n",
              " ['author', 'Zhu,'],\n",
              " ['author', 'Tinghui'],\n",
              " ['author', 'Zhou,'],\n",
              " ['author', 'and'],\n",
              " ['author', 'Alexei'],\n",
              " ['title', 'A'],\n",
              " ['title', 'Efros.'],\n",
              " ['title', 'Image-to-image'],\n",
              " ['title', 'translation'],\n",
              " ['title', 'with'],\n",
              " ['title', 'conditional'],\n",
              " ['title', 'adversarial'],\n",
              " ['title', 'networks.'],\n",
              " ['title', 'In'],\n",
              " ['booktitle', 'CVPR,'],\n",
              " ['date\\nauthor', \"2017.']['[23]\"],\n",
              " ['author', 'Varun'],\n",
              " ['author', 'Jampani,'],\n",
              " ['author', 'Raghudeep'],\n",
              " ['author', 'Gadde,'],\n",
              " ['author', 'and'],\n",
              " ['author', 'Peter'],\n",
              " ['author', 'V.'],\n",
              " ['author', 'Gehler.'],\n",
              " ['title', 'Video'],\n",
              " ['title', 'propagation'],\n",
              " ['title', 'networks.'],\n",
              " ['title', 'In'],\n",
              " ['booktitle', 'CVPR,'],\n",
              " ['date\\nauthor', \"2017.']['[24]\"],\n",
              " ['author', 'Justin'],\n",
              " ['author', 'Johnson,'],\n",
              " ['author', 'Alexandre'],\n",
              " ['author', 'Alahi,'],\n",
              " ['author', 'and'],\n",
              " ['author', 'Li'],\n",
              " ['author', 'Fei-Fei.'],\n",
              " ['title', 'Perceptual'],\n",
              " ['title', 'losses'],\n",
              " ['title', 'for'],\n",
              " ['title', 'real-time'],\n",
              " ['title', 'style'],\n",
              " ['title', 'transfer'],\n",
              " ['title', 'and'],\n",
              " ['title', 'super-resolution.'],\n",
              " ['title', 'In'],\n",
              " ['booktitle', 'ECCV,'],\n",
              " ['date\\nauthor', \"2016.']['[25]\"],\n",
              " ['author', 'Anna'],\n",
              " ['author', 'Khoreva,'],\n",
              " ['author', 'Rodrigo'],\n",
              " ['author', 'Benenson,'],\n",
              " ['author', 'Eddy'],\n",
              " ['author', 'Ilg,'],\n",
              " ['author', 'Thomas'],\n",
              " ['author', 'Brox,'],\n",
              " ['author', 'and'],\n",
              " ['author', 'Bernt'],\n",
              " ['author', 'Schiele.'],\n",
              " ['title', 'Lucid'],\n",
              " ['title', 'data'],\n",
              " ['title', 'dreaming'],\n",
              " ['title', 'for'],\n",
              " ['title', 'video'],\n",
              " ['title', 'object'],\n",
              " ['title', 'segmentation.'],\n",
              " ['tech', 'IJCV,'],\n",
              " ['date\\nauthor', \"2019.']['[26]\"],\n",
              " ['author', 'Dahun'],\n",
              " ['author', 'Kim,'],\n",
              " ['author', 'Sanghyun'],\n",
              " ['author', 'Woo,'],\n",
              " ['author', 'Joon-Young'],\n",
              " ['author', 'Lee,'],\n",
              " ['author', 'and'],\n",
              " ['title', 'In'],\n",
              " ['title', 'So'],\n",
              " ['title', 'Kweon.'],\n",
              " ['title', 'Deep'],\n",
              " ['title', 'video'],\n",
              " ['title', 'inpainting.'],\n",
              " ['title', 'In'],\n",
              " ['booktitle', 'CVPR,'],\n",
              " ['date\\nauthor', \"2019.']['[27]\"],\n",
              " ['author', 'Diederik'],\n",
              " ['author', 'P'],\n",
              " ['author', 'Kingma'],\n",
              " ['author', 'and'],\n",
              " ['author', 'Jimmy'],\n",
              " ['author', 'Ba.'],\n",
              " ['author', 'Adam:'],\n",
              " ['title', 'A'],\n",
              " ['title', 'method'],\n",
              " ['title', 'for'],\n",
              " ['title', 'stochastic'],\n",
              " ['title', 'optimization.'],\n",
              " ['booktitle', 'In'],\n",
              " ['booktitle', 'ICLR,'],\n",
              " ['date\\nauthor', \"2015.']['[28]\"],\n",
              " ['author', 'Johannes'],\n",
              " ['author', 'Kopf,'],\n",
              " ['author', 'Michael'],\n",
              " ['author', 'F.'],\n",
              " ['author', 'Cohen,'],\n",
              " ['author', 'Dani'],\n",
              " ['author', 'Lischinski,'],\n",
              " ['author', 'and'],\n",
              " ['author', 'Matthew'],\n",
              " ['author', 'Uyttendaele.'],\n",
              " ['title', 'Joint'],\n",
              " ['title', 'bilateral'],\n",
              " ['title', 'upsampling.'],\n",
              " ['journal', 'ACM'],\n",
              " ['journal', 'Trans.'],\n",
              " ['journal', 'Graph.,'],\n",
              " ['volume', '26(3):96,'],\n",
              " ['date\\nauthor', \"2007.']['[29]\"],\n",
              " ['author', 'Wei-Sheng'],\n",
              " ['author', 'Lai,'],\n",
              " ['author', 'Jia-Bin'],\n",
              " ['author', 'Huang,'],\n",
              " ['author', 'Oliver'],\n",
              " ['author', 'Wang,'],\n",
              " ['author', 'Eli'],\n",
              " ['author', 'Shechtman,'],\n",
              " ['author', 'Ersin'],\n",
              " ['author', 'Yumer,'],\n",
              " ['author', 'and'],\n",
              " ['author', 'Ming-Hsuan'],\n",
              " ['author', 'Yang.'],\n",
              " ['title', 'Learning'],\n",
              " ['title', 'blind'],\n",
              " ['title', 'video'],\n",
              " ['title', 'temporal'],\n",
              " ['title', 'consistency.'],\n",
              " ['title', 'In'],\n",
              " ['booktitle', 'ECCV,'],\n",
              " ['date\\nauthor', \"2018.']['[30]\"],\n",
              " ['author', 'Manuel'],\n",
              " ['author', 'Lang,'],\n",
              " ['author', 'Oliver'],\n",
              " ['author', 'Wang,'],\n",
              " ['author', 'Tunc'],\n",
              " ['author', 'Aydin,'],\n",
              " ['author', 'Aljoscha'],\n",
              " ['author', 'Smolic,'],\n",
              " ['author', 'and'],\n",
              " ['author', 'Markus'],\n",
              " ['author', 'Gross.'],\n",
              " ['title', 'Practical'],\n",
              " ['title', 'temporal'],\n",
              " ['title', 'consistency'],\n",
              " ['title', 'for'],\n",
              " ['title', 'image-based'],\n",
              " ['title', 'graphics'],\n",
              " ['title', 'applications.'],\n",
              " ['journal', 'ACM'],\n",
              " ['journal', 'Trans.'],\n",
              " ['journal', 'Graph.,'],\n",
              " ['pages', '31(4):34:1–34:8,'],\n",
              " ['pages\\nauthor', \"2012.']['[31]\"],\n",
              " ['author', 'Chenyang'],\n",
              " ['author', 'Lei'],\n",
              " ['author', 'and'],\n",
              " ['author', 'Qifeng'],\n",
              " ['author', 'Chen.'],\n",
              " ['title', 'Fully'],\n",
              " ['title', 'automatic'],\n",
              " ['title', 'video'],\n",
              " ['title', 'colorization'],\n",
              " ['title', 'with'],\n",
              " ['title', 'self-regularization'],\n",
              " ['title', 'and'],\n",
              " ['title', 'diversity.'],\n",
              " ['title', 'In'],\n",
              " ['booktitle', 'CVPR,'],\n",
              " ['date\\nauthor', \"2019.']['[32]\"],\n",
              " ['author', 'Chenyang'],\n",
              " ['author', 'Lei'],\n",
              " ['author', 'and'],\n",
              " ['author', 'Qifeng'],\n",
              " ['author', 'Chen.'],\n",
              " ['title', 'Robust'],\n",
              " ['title', 'reflection'],\n",
              " ['title', 'removal'],\n",
              " ['title', 'with'],\n",
              " ['title', 'reflection-free'],\n",
              " ['title', 'flash-only'],\n",
              " ['title', 'cues.'],\n",
              " ['title', 'In'],\n",
              " ['booktitle', 'CVPR,'],\n",
              " ['booktitle\\nauthor', \"2021.']['[33]\"],\n",
              " ['author', 'Chenyang'],\n",
              " ['author', 'Lei,'],\n",
              " ['author', 'Xuhua'],\n",
              " ['author', 'Huang,'],\n",
              " ['author', 'Mengdi'],\n",
              " ['author', 'Zhang,'],\n",
              " ['author', 'Qiong'],\n",
              " ['author', 'Yan,'],\n",
              " ['author', 'Wenxiu'],\n",
              " ['author', 'Sun,'],\n",
              " ['author', 'and'],\n",
              " ['author', 'Qifeng'],\n",
              " ['author', 'Chen.'],\n",
              " ['title', 'Polarized'],\n",
              " ['title', 'reflection'],\n",
              " ['title', 'removal'],\n",
              " ['title', 'with'],\n",
              " ['title', 'perfect'],\n",
              " ['title', 'alignment'],\n",
              " ['title', 'in'],\n",
              " ['title', 'the'],\n",
              " ['title', 'wild.'],\n",
              " ['title', 'In'],\n",
              " ['booktitle', 'CVPR,'],\n",
              " ['volume\\nauthor', \"2020.']['[34]\"],\n",
              " ['author', 'Chenyang'],\n",
              " ['author', 'Lei,'],\n",
              " ['author', 'Yazhou'],\n",
              " ['author', 'Xing,'],\n",
              " ['author', 'and'],\n",
              " ['author', 'Qifeng'],\n",
              " ['author', 'Chen.'],\n",
              " ['title', 'Blind'],\n",
              " ['title', 'video'],\n",
              " ['title', 'temporal'],\n",
              " ['title', 'consistency'],\n",
              " ['title', 'via'],\n",
              " ['title', 'deep'],\n",
              " ['title', 'video'],\n",
              " ['title', 'prior.'],\n",
              " ['title', 'In'],\n",
              " ['booktitle', 'NeurIPS,'],\n",
              " ['pages\\nauthor', \"2020.']['[35]\"],\n",
              " ['author', 'Anat'],\n",
              " ['author', 'Levin,'],\n",
              " ['author', 'Dani'],\n",
              " ['author', 'Lischinski,'],\n",
              " ['author', 'and'],\n",
              " ['author', 'Yair'],\n",
              " ['author', 'Weiss.'],\n",
              " ['title', 'Colorization'],\n",
              " ['title', 'using'],\n",
              " ['title', 'optimization.'],\n",
              " ['journal', 'ACM'],\n",
              " ['journal', 'Trans.'],\n",
              " ['journal', 'Graph.,'],\n",
              " ['pages', '23(3):689–694,'],\n",
              " ['date\\nauthor', \"2004.']['[36]\"],\n",
              " ['author', 'Yijun'],\n",
              " ['author', 'Li,'],\n",
              " ['author', 'Chen'],\n",
              " ['author', 'Fang,'],\n",
              " ['author', 'Jimei'],\n",
              " ['author', 'Yang,'],\n",
              " ['author', 'Zhaowen'],\n",
              " ['author', 'Wang,'],\n",
              " ['author', 'Xin'],\n",
              " ['author', 'Lu,'],\n",
              " ['author', 'and'],\n",
              " ['author', 'Ming-Hsuan'],\n",
              " ['author', 'Yang.'],\n",
              " ['title', 'Universal'],\n",
              " ['title', 'style'],\n",
              " ['title', 'transfer'],\n",
              " ['title', 'via'],\n",
              " ['title', 'feature'],\n",
              " ['title', 'transforms.'],\n",
              " ['title', 'In'],\n",
              " ['booktitle', 'NeurIPS,'],\n",
              " ['date\\nauthor', \"2017.']['[37]\"],\n",
              " ['author', 'Yijun'],\n",
              " ['author', 'Li,'],\n",
              " ['author', 'Jia-Bin'],\n",
              " ['author', 'Huang,'],\n",
              " ['author', 'Narendra'],\n",
              " ['author', 'Ahuja,'],\n",
              " ['author', 'and'],\n",
              " ['author', 'Ming-Hsuan'],\n",
              " ['author', 'Yang.'],\n",
              " ['title', 'Deep'],\n",
              " ['title', 'joint'],\n",
              " ['title', 'image'],\n",
              " ['title', 'filtering.'],\n",
              " ['title', 'In'],\n",
              " ['booktitle', 'ECCV,'],\n",
              " ['date\\nauthor', \"2016.']['[38]\"],\n",
              " ['author', 'Ce'],\n",
              " ['author', 'Liu'],\n",
              " ['author', 'and'],\n",
              " ['author', 'William'],\n",
              " ['author', 'T'],\n",
              " ['author', 'Freeman.'],\n",
              " ['title', 'A'],\n",
              " ['title', 'high-quality'],\n",
              " ['title', 'video'],\n",
              " ['title', 'denoising'],\n",
              " ['title', 'algorithm'],\n",
              " ['title', 'based'],\n",
              " ['title', 'on'],\n",
              " ['title', 'reliable'],\n",
              " ['title', 'motion'],\n",
              " ['title', 'estimation.'],\n",
              " ['title', 'In'],\n",
              " ['booktitle', 'ECCV,'],\n",
              " ['date\\nauthor', \"2010.']['[39]\"],\n",
              " ['author', 'Jiaying'],\n",
              " ['author', 'Liu,'],\n",
              " ['author', 'Wenhan'],\n",
              " ['author', 'Yang,'],\n",
              " ['author', 'Shuai'],\n",
              " ['author', 'Yang,'],\n",
              " ['author', 'and'],\n",
              " ['author', 'Zongming'],\n",
              " ['author', 'Guo.'],\n",
              " ['title', 'Erase'],\n",
              " ['title', 'or'],\n",
              " ['title', 'fill?'],\n",
              " ['title', 'deep'],\n",
              " ['title', 'joint'],\n",
              " ['title', 'recurrent'],\n",
              " ['title', 'rain'],\n",
              " ['title', 'removal'],\n",
              " ['title', 'and'],\n",
              " ['title', 'reconstruction'],\n",
              " ['title', 'in'],\n",
              " ['title', 'videos.'],\n",
              " ['title', 'In'],\n",
              " ['booktitle', 'CVPR,'],\n",
              " ['booktitle\\nauthor', \"2018.']['[40]\"],\n",
              " ['author', 'Sifei'],\n",
              " ['author', 'Liu,'],\n",
              " ['author', 'Guangyu'],\n",
              " ['author', 'Zhong,'],\n",
              " ['author', 'Shalini'],\n",
              " ['author', 'De'],\n",
              " ['author', 'Mello,'],\n",
              " ['author', 'Jinwei'],\n",
              " ['author', 'Gu,'],\n",
              " ['author', 'Varun'],\n",
              " ['author', 'Jampani,'],\n",
              " ['author', 'Ming-Hsuan'],\n",
              " ['author', 'Yang,'],\n",
              " ['author', 'and'],\n",
              " ['author', 'Jan'],\n",
              " ['author', 'Kautz.'],\n",
              " ['title', 'Switchable'],\n",
              " ['title', 'temporal'],\n",
              " ['title', 'propagation'],\n",
              " ['title', 'network.'],\n",
              " ['title', 'In'],\n",
              " ['booktitle', 'ECCV,'],\n",
              " ['date\\nauthor', \"2018.']['[41]\"],\n",
              " ['author', 'Jonathan'],\n",
              " ['author', 'Long,'],\n",
              " ['author', 'Evan'],\n",
              " ['author', 'Shelhamer,'],\n",
              " ['author', 'and'],\n",
              " ['author', 'Trevor'],\n",
              " ['author', 'Darrell.'],\n",
              " ['title', 'Fully'],\n",
              " ['title', 'convolutional'],\n",
              " ['title', 'networks'],\n",
              " ['title', 'for'],\n",
              " ['title', 'semantic'],\n",
              " ['title', 'segmentation.'],\n",
              " ['title', 'In'],\n",
              " ['booktitle', 'CVPR,'],\n",
              " ['date\\nauthor', \"2015.']['[42]\"],\n",
              " ['author', 'James'],\n",
              " ['author', 'MacQueen.'],\n",
              " ['title', 'Some'],\n",
              " ['title', 'methods'],\n",
              " ['title', 'for'],\n",
              " ['title', 'classification'],\n",
              " ['title', 'and'],\n",
              " ['title', 'analysis'],\n",
              " ['title', 'of'],\n",
              " ['title', 'multivariate'],\n",
              " ['title', 'observations.'],\n",
              " ['booktitle', 'In'],\n",
              " ['booktitle', 'Proceedings'],\n",
              " ['booktitle', 'of'],\n",
              " ['booktitle', 'the'],\n",
              " ['booktitle', 'fifth'],\n",
              " ['booktitle', 'Berkeley'],\n",
              " ['booktitle', 'symposium'],\n",
              " ['booktitle', 'on'],\n",
              " ['booktitle', 'mathematical'],\n",
              " ['booktitle', 'statistics'],\n",
              " ['booktitle', 'and'],\n",
              " ['booktitle', 'probability.'],\n",
              " ['location', 'Oakland,'],\n",
              " ['location', 'CA,'],\n",
              " ['location', 'USA,'],\n",
              " ['date\\nauthor', \"1967.']['[43]\"],\n",
              " ['author', 'Nicolas'],\n",
              " ['author', 'Märki,'],\n",
              " ['author', 'Federico'],\n",
              " ['author', 'Perazzi,'],\n",
              " ['author', 'Oliver'],\n",
              " ['author', 'Wang,'],\n",
              " ['author', 'and'],\n",
              " ['author', 'Alexander'],\n",
              " ['author', 'Sorkine-Hornung.'],\n",
              " ['title', 'Bilateral'],\n",
              " ['title', 'space'],\n",
              " ['title', 'video'],\n",
              " ['title', 'segmentation.'],\n",
              " ['title', 'In'],\n",
              " ['booktitle', 'CVPR,'],\n",
              " ['date\\nauthor', \"2016.']['[44]\"],\n",
              " ['author', 'Simone'],\n",
              " ['author', 'Meyer,'],\n",
              " ['author', 'Victor'],\n",
              " ['author', 'Cornillère,'],\n",
              " ['author', 'Abdelaziz'],\n",
              " ['author', 'Djelouah,'],\n",
              " ['author', 'Christopher'],\n",
              " ['author', 'Schroers,'],\n",
              " ['author', 'and'],\n",
              " ['author', 'Markus'],\n",
              " ['author', 'H.'],\n",
              " ['author', 'Gross.'],\n",
              " ['title', 'Deep'],\n",
              " ['title', 'video'],\n",
              " ['title', 'color'],\n",
              " ['title', 'propagation.'],\n",
              " ['title', 'In'],\n",
              " ['booktitle', 'BMVC,'],\n",
              " ['date\\nauthor', \"2018.']['[45]\"],\n",
              " ['author', 'Ajay'],\n",
              " ['author', 'Nandoriya,'],\n",
              " ['author', 'Mohamed'],\n",
              " ['author', 'Elgharib,'],\n",
              " ['author', 'Changil'],\n",
              " ['author', 'Kim,'],\n",
              " ['author', 'Mohamed'],\n",
              " ['author', 'Hefeeda,'],\n",
              " ['author', 'and'],\n",
              " ['author', 'Wojciech'],\n",
              " ['author', 'Matusik.'],\n",
              " ['title', 'Video'],\n",
              " ['title', 'reflection'],\n",
              " ['title', 'removal'],\n",
              " ['title', 'through'],\n",
              " ['title', 'spatio-temporal'],\n",
              " ['title', 'optimization.'],\n",
              " ['title', 'In'],\n",
              " ['booktitle', 'ICCV,'],\n",
              " ['date\\nauthor', \"2017.']['[46]\"],\n",
              " ['author', 'Seoung'],\n",
              " ['author', 'Wug'],\n",
              " ['author', 'Oh,'],\n",
              " ['author', 'Joon-Young'],\n",
              " ['author', 'Lee,'],\n",
              " ['author', 'Ning'],\n",
              " ['author', 'Xu,'],\n",
              " ['author', 'and'],\n",
              " ['author', 'Seon'],\n",
              " ['author', 'Joo'],\n",
              " ['author', 'Kim.'],\n",
              " ['title', 'Video'],\n",
              " ['title', 'object'],\n",
              " ['title', 'segmentation'],\n",
              " ['title', 'using'],\n",
              " ['title', 'space-time'],\n",
              " ['title', 'memory'],\n",
              " ['title', 'networks.'],\n",
              " ['booktitle', 'In'],\n",
              " ['booktitle', 'Proceedings'],\n",
              " ['booktitle', 'of'],\n",
              " ['booktitle', 'the'],\n",
              " ['booktitle', 'IEEE/CVF'],\n",
              " ['booktitle', 'International'],\n",
              " ['booktitle', 'Conference'],\n",
              " ['booktitle', 'on'],\n",
              " ['booktitle', 'Computer'],\n",
              " ['booktitle', 'Vision,'],\n",
              " ['pages', 'pages'],\n",
              " ['pages', '9226–9235,'],\n",
              " ['date\\nauthor', \"2019.']['[47]\"],\n",
              " ['author', 'Federico'],\n",
              " ['author', 'Perazzi,'],\n",
              " ['author', 'Jordi'],\n",
              " ['author', 'Pont-Tuset,'],\n",
              " ['author', 'Brian'],\n",
              " ['author', 'McWilliams,'],\n",
              " ['author', 'Luc'],\n",
              " ['author', 'Van'],\n",
              " ['author', 'Gool,'],\n",
              " ['author', 'Markus'],\n",
              " ['author', 'Gross,'],\n",
              " ['author', 'and'],\n",
              " ['author', 'Alexander'],\n",
              " ['author', 'Sorkine-Hornung.'],\n",
              " ['title', 'A'],\n",
              " ['title', 'benchmark'],\n",
              " ['title', 'dataset'],\n",
              " ['title', 'and'],\n",
              " ['title', 'evaluation'],\n",
              " ['title', 'methodology'],\n",
              " ['title', 'for'],\n",
              " ['title', 'video'],\n",
              " ['title', 'object'],\n",
              " ['title', 'segmentation.'],\n",
              " ['title', 'In'],\n",
              " ['booktitle', 'CVPR,'],\n",
              " ['date\\nauthor', \"2016.']['[48]\"],\n",
              " ['author', 'Federico'],\n",
              " ['author', 'Perazzi,'],\n",
              " ['author', 'Oliver'],\n",
              " ['author', 'Wang,'],\n",
              " ['author', 'Markus'],\n",
              " ['author', 'Gross,'],\n",
              " ['author', 'and'],\n",
              " ['author', 'Alexander'],\n",
              " ['author', 'Sorkine-Hornung.'],\n",
              " ['title', 'Fully'],\n",
              " ['title', 'connected'],\n",
              " ['title', 'object'],\n",
              " ['title', 'proposals'],\n",
              " ['title', 'for'],\n",
              " ['title', 'video'],\n",
              " ['title', 'segmentation.'],\n",
              " ['title', 'In'],\n",
              " ['booktitle', 'ICCV,'],\n",
              " ['date\\nauthor', \"2015.']['[49]\"],\n",
              " ['author', 'Fitsum'],\n",
              " ['author', 'A.'],\n",
              " ['author', 'Reda,'],\n",
              " ['author', 'Deqing'],\n",
              " ['author', 'Sun,'],\n",
              " ['author', 'Aysegul'],\n",
              " ['author', 'Dundar,'],\n",
              " ['author', 'Mohammad'],\n",
              " ['author', 'Shoeybi,'],\n",
              " ['author', 'Guilin'],\n",
              " ...]"
            ]
          },
          "metadata": {},
          "execution_count": 36
        }
      ]
    },
    {
      "cell_type": "markdown",
      "source": [
        "Line per line extraction"
      ],
      "metadata": {
        "id": "pbUijzbXZBDP"
      }
    },
    {
      "cell_type": "code",
      "source": [
        "pdf_id = '2201.11632v1'\n",
        "# pdf_id = '2202.01802v1'"
      ],
      "metadata": {
        "id": "u8XGaVldjGTo"
      },
      "execution_count": 146,
      "outputs": []
    },
    {
      "cell_type": "code",
      "source": [
        "with open('{}.txt'.format(pdf_id)) as f:\n",
        "    lines = f.readlines()"
      ],
      "metadata": {
        "id": "6L570drpZWQE"
      },
      "execution_count": 147,
      "outputs": []
    },
    {
      "cell_type": "code",
      "source": [
        "import re\n",
        "\n",
        "def read_line(num, lines):\n",
        "  \n",
        "  line = lines[num].replace('\\n','')\n",
        "  line = re.sub('\\[\\d+\\]', '', line)\n",
        "  line = re.sub('\\[\\'|\\'\\]', '', line)\n",
        "  return line"
      ],
      "metadata": {
        "id": "9WYklxVKZ6CQ"
      },
      "execution_count": 158,
      "outputs": []
    },
    {
      "cell_type": "code",
      "source": [
        "line = read_line(6,lines)\n",
        "line"
      ],
      "metadata": {
        "colab": {
          "base_uri": "https://localhost:8080/",
          "height": 53
        },
        "id": "s3GEDpisZtFf",
        "outputId": "4a2756ce-5b6a-495c-c753-a8786a4b12e7"
      },
      "execution_count": 159,
      "outputs": [
        {
          "output_type": "execute_result",
          "data": {
            "text/plain": [
              "' Qifeng Chen and Vladlen Koltun. Photographic image synthesis with cascaded refinement networks. In ICCV, 2017.'"
            ],
            "application/vnd.google.colaboratory.intrinsic+json": {
              "type": "string"
            }
          },
          "metadata": {},
          "execution_count": 159
        }
      ]
    },
    {
      "cell_type": "code",
      "source": [
        "from sciwing.models.neural_parscit import NeuralParscit \n",
        "\n",
        "# instantiate an object \n",
        "neural_parscit = NeuralParscit()\n",
        "\n",
        "# predict on a citation \n",
        "neural_parscit.predict_for_text(line)\n"
      ],
      "metadata": {
        "colab": {
          "base_uri": "https://localhost:8080/",
          "height": 299
        },
        "id": "ONrtfHWcZPg_",
        "outputId": "5676e51e-6a71-40c3-fa02-4e3c035ac867"
      },
      "execution_count": 81,
      "outputs": [
        {
          "output_type": "stream",
          "name": "stdout",
          "text": [
            "\u001b[38;5;4mℹ /root/.sciwing.model_cache/lstm_crf_parscit_final.zip exists.\u001b[0m\n",
            "\u001b[38;5;4mℹ /root/.sciwing.data_cache/parscit.train exists.\u001b[0m\n",
            "\u001b[38;5;4mℹ /root/.sciwing.data_cache/parscit.dev exists.\u001b[0m\n",
            "\u001b[38;5;4mℹ /root/.sciwing.data_cache/parscit.test exists.\u001b[0m\n",
            "\u001b[38;5;4mℹ BUILDING VOCAB\u001b[0m\n",
            "\u001b[38;5;4mℹ BUILDING VOCAB\u001b[0m\n",
            "\u001b[38;5;4mℹ BUILDING VOCAB\u001b[0m\n",
            "\u001b[38;5;4mℹ /root/.sciwing.embedding_cache/vectors_with_unk.tar.gz exists.\u001b[0m\n",
            "\u001b[2K\u001b[38;5;2m✔ Finished Loading Elmo object\u001b[0m\n",
            "\u001b[38;5;2m✔ Loaded Best Model with loss value 446.4560852050781\u001b[0m\n",
            "\u001b[1m\n",
            "========================== Prediction for SEQ_LABEL ==========================\u001b[0m\n",
            "Barnett, AUTHOR\u001b[49m I.; AUTHOR\u001b[49m Torous, AUTHOR\u001b[49m J.; AUTHOR\u001b[49m Staples, AUTHOR\u001b[49m P.; AUTHOR\u001b[49m Sandoval, AUTHOR\u001b[49m L.; AUTHOR\u001b[49m Keshavan, AUTHOR\u001b[49m M.; AUTHOR\u001b[49m and AUTHOR\u001b[49m Onnela, AUTHOR\u001b[49m J.-P. AUTHOR\u001b[49m 2018. DATE\u001b[49m Relapse TITLE\u001b[49m prediction TITLE\u001b[49m in TITLE\u001b[49m schizophrenia TITLE\u001b[49m through TITLE\u001b[49m digital TITLE\u001b[49m phenotyping: TITLE\u001b[49m a TITLE\u001b[49m pilot TITLE\u001b[49m study. TITLE\u001b[49m\n"
          ]
        },
        {
          "output_type": "execute_result",
          "data": {
            "text/plain": [
              "'author author author author author author author author author author author author author date title title title title title title title title title title'"
            ],
            "application/vnd.google.colaboratory.intrinsic+json": {
              "type": "string"
            }
          },
          "metadata": {},
          "execution_count": 81
        }
      ]
    },
    {
      "cell_type": "code",
      "source": [
        "def fonction_xtraction(line):\n",
        "  prediction_line = neural_parscit.predict_for_text(line)\n",
        "  print(prediction_line)\n",
        "\n",
        "  line_list = line.split(' ')\n",
        "  print(line_list)\n",
        "  if line_list[0] == '':\n",
        "    line_list = line_list[1:]\n",
        "  print(line_list)\n",
        "  prediction_line_list = prediction_line.split(' ')\n",
        "  print(prediction_line_list)\n",
        "\n",
        "  Extraction_list = []\n",
        "  print(Extraction_list)\n",
        "  for pred,ref in zip(prediction_line_list, line_list):\n",
        "    Extraction_list.append([pred,ref])\n",
        "\n",
        "  return Extraction_list"
      ],
      "metadata": {
        "id": "mpPPSwqWzt1V"
      },
      "execution_count": 172,
      "outputs": []
    },
    {
      "cell_type": "code",
      "source": [
        "Extraction = Extraction(line)"
      ],
      "metadata": {
        "colab": {
          "base_uri": "https://localhost:8080/"
        },
        "id": "eul2wTb8dv94",
        "outputId": "3a276ed4-33a4-440b-908f-81edf325bcf9"
      },
      "execution_count": 144,
      "outputs": [
        {
          "output_type": "stream",
          "name": "stdout",
          "text": [
            "\u001b[1m\n",
            "========================== Prediction for SEQ_LABEL ==========================\u001b[0m\n",
            "Bazarova, AUTHOR\u001b[49m N. AUTHOR\u001b[49m N.; AUTHOR\u001b[49m Taft, AUTHOR\u001b[49m J. AUTHOR\u001b[49m G.; AUTHOR\u001b[49m Choi, AUTHOR\u001b[49m Y. AUTHOR\u001b[49m H.; AUTHOR\u001b[49m and AUTHOR\u001b[49m Cosley, AUTHOR\u001b[49m D. AUTHOR\u001b[49m\n"
          ]
        }
      ]
    },
    {
      "cell_type": "code",
      "source": [
        "def find_separator(Extraction):\n",
        "  \n",
        "  return ';'\n",
        "\n",
        "def fonction_author(Extraction, separator):\n",
        "  Authors_list = ''\n",
        "  for label in Extraction:\n",
        "    if label[0] == 'author' :\n",
        "      Authors_list+= label[1] +' '\n",
        "  Authors_list = Authors_list.split(separator)\n",
        "  return Authors_list\n",
        "\n",
        "def fonction_title(Extraction):\n",
        "  title_list = ''\n",
        "  for label in Extraction:\n",
        "    if label[0] == 'title' :\n",
        "      title_list += label[1]+' '\n",
        "  return title_list\n",
        "\n",
        "def fonction_date(Extraction):\n",
        "  date = ''\n",
        "  for label in Extraction:\n",
        "    if label[0] == 'date' :\n",
        "      date += label[1]\n",
        "  return date"
      ],
      "metadata": {
        "id": "fZ2wAQDsdz2E"
      },
      "execution_count": 117,
      "outputs": []
    },
    {
      "cell_type": "code",
      "source": [
        "def create_dict_ref(Extraction):\n",
        "  separator = find_separator(Extraction)\n",
        "  reference_dict = {'authors' : fonction_author(Extraction, separator),\n",
        "                  'title' : fonction_title(Extraction),\n",
        "                  'date' : fonction_date(Extraction)}\n",
        "  return reference_dict"
      ],
      "metadata": {
        "id": "H8N-rxS-yP1O"
      },
      "execution_count": 135,
      "outputs": []
    },
    {
      "cell_type": "code",
      "source": [
        "create_dict_ref(Extraction)"
      ],
      "metadata": {
        "colab": {
          "base_uri": "https://localhost:8080/"
        },
        "id": "bC_HFbrV0eC-",
        "outputId": "52556cdd-38bd-4f3a-ddd5-ea99bae7d4f6"
      },
      "execution_count": 145,
      "outputs": [
        {
          "output_type": "execute_result",
          "data": {
            "text/plain": [
              "{'authors': ['Bazarova',\n",
              "  ' N. N.; Taft',\n",
              "  ' J. G.; Choi',\n",
              "  ' Y. H.; and Cosley',\n",
              "  ' D. '],\n",
              " 'title': '',\n",
              " 'date': ''}"
            ]
          },
          "metadata": {},
          "execution_count": 145
        }
      ]
    },
    {
      "cell_type": "code",
      "source": [
        "list_references = []\n",
        "\n",
        "for num in range(len(lines)):\n",
        "  line = read_line(num, lines)\n",
        "  References_extraction = fonction_xtraction(line)\n",
        "\n",
        "  reference = create_dict_ref(References_extraction)\n",
        "  list_references.append(reference)"
      ],
      "metadata": {
        "colab": {
          "base_uri": "https://localhost:8080/"
        },
        "id": "vnO4CBu51Hxu",
        "outputId": "dda70cbb-09cc-4301-ff87-dfc9021e147e"
      },
      "execution_count": 173,
      "outputs": [
        {
          "output_type": "stream",
          "name": "stdout",
          "text": [
            "\u001b[1m\n",
            "========================== Prediction for SEQ_LABEL ==========================\u001b[0m\n",
            "Connelly AUTHOR\u001b[49m Barnes, AUTHOR\u001b[49m Eli AUTHOR\u001b[49m Shechtman, AUTHOR\u001b[49m Adam AUTHOR\u001b[49m Finkelstein, AUTHOR\u001b[49m and AUTHOR\u001b[49m Dan AUTHOR\u001b[49m B AUTHOR\u001b[49m Goldman. AUTHOR\u001b[49m Patchmatch: TITLE\u001b[49m A TITLE\u001b[49m randomized TITLE\u001b[49m correspondence TITLE\u001b[49m algorithm TITLE\u001b[49m for TITLE\u001b[49m structural TITLE\u001b[49m image TITLE\u001b[49m editing. TITLE\u001b[49m ACM JOURNAL\u001b[49m Trans. JOURNAL\u001b[49m Graph., JOURNAL\u001b[49m 28(3):24, VOLUME\u001b[49m 2009. DATE\u001b[49m\n",
            "author author author author author author author author author author title title title title title title title title title journal journal journal volume date\n",
            "['', 'Connelly', 'Barnes,', 'Eli', 'Shechtman,', 'Adam', 'Finkelstein,', 'and', 'Dan', 'B', 'Goldman.', 'Patchmatch:', 'A', 'randomized', 'correspondence', 'algorithm', 'for', 'structural', 'image', 'editing.', 'ACM', 'Trans.', 'Graph.,', '28(3):24,', '2009.']\n",
            "['Connelly', 'Barnes,', 'Eli', 'Shechtman,', 'Adam', 'Finkelstein,', 'and', 'Dan', 'B', 'Goldman.', 'Patchmatch:', 'A', 'randomized', 'correspondence', 'algorithm', 'for', 'structural', 'image', 'editing.', 'ACM', 'Trans.', 'Graph.,', '28(3):24,', '2009.']\n",
            "['author', 'author', 'author', 'author', 'author', 'author', 'author', 'author', 'author', 'author', 'title', 'title', 'title', 'title', 'title', 'title', 'title', 'title', 'title', 'journal', 'journal', 'journal', 'volume', 'date']\n",
            "[]\n",
            "\u001b[1m\n",
            "========================== Prediction for SEQ_LABEL ==========================\u001b[0m\n",
            "Sean AUTHOR\u001b[49m Bell, AUTHOR\u001b[49m Kavita AUTHOR\u001b[49m Bala, AUTHOR\u001b[49m and AUTHOR\u001b[49m Noah AUTHOR\u001b[49m Snavely. AUTHOR\u001b[49m Intrinsic TITLE\u001b[49m images TITLE\u001b[49m in TITLE\u001b[49m the TITLE\u001b[49m wild. TITLE\u001b[49m ACM JOURNAL\u001b[49m Trans. JOURNAL\u001b[49m Graph., JOURNAL\u001b[49m 33(4):159:1–159:12, PAGES\u001b[49m 2014. DATE\u001b[49m\n",
            "author author author author author author author title title title title title journal journal journal pages date\n",
            "['', 'Sean', 'Bell,', 'Kavita', 'Bala,', 'and', 'Noah', 'Snavely.', 'Intrinsic', 'images', 'in', 'the', 'wild.', 'ACM', 'Trans.', 'Graph.,', '33(4):159:1–159:12,', '2014.']\n",
            "['Sean', 'Bell,', 'Kavita', 'Bala,', 'and', 'Noah', 'Snavely.', 'Intrinsic', 'images', 'in', 'the', 'wild.', 'ACM', 'Trans.', 'Graph.,', '33(4):159:1–159:12,', '2014.']\n",
            "['author', 'author', 'author', 'author', 'author', 'author', 'author', 'title', 'title', 'title', 'title', 'title', 'journal', 'journal', 'journal', 'pages', 'date']\n",
            "[]\n",
            "\u001b[1m\n",
            "========================== Prediction for SEQ_LABEL ==========================\u001b[0m\n",
            "Nicolas AUTHOR\u001b[49m Bonneel, AUTHOR\u001b[49m James AUTHOR\u001b[49m Tompkin, AUTHOR\u001b[49m Kalyan AUTHOR\u001b[49m Sunkavalli, AUTHOR\u001b[49m Deqing AUTHOR\u001b[49m Sun, AUTHOR\u001b[49m Sylvain AUTHOR\u001b[49m Paris, AUTHOR\u001b[49m and AUTHOR\u001b[49m Hanspeter AUTHOR\u001b[49m Pfister. AUTHOR\u001b[49m Blind TITLE\u001b[49m video TITLE\u001b[49m temporal TITLE\u001b[49m consistency. TITLE\u001b[49m ACM JOURNAL\u001b[49m Trans. JOURNAL\u001b[49m Graph., JOURNAL\u001b[49m 34(6):196:1–196:9, PAGES\u001b[49m 2015. DATE\u001b[49m\n",
            "author author author author author author author author author author author author author title title title title journal journal journal pages date\n",
            "['', 'Nicolas', 'Bonneel,', 'James', 'Tompkin,', 'Kalyan', 'Sunkavalli,', 'Deqing', 'Sun,', 'Sylvain', 'Paris,', 'and', 'Hanspeter', 'Pfister.', 'Blind', 'video', 'temporal', 'consistency.', 'ACM', 'Trans.', 'Graph.,', '34(6):196:1–196:9,', '2015.']\n",
            "['Nicolas', 'Bonneel,', 'James', 'Tompkin,', 'Kalyan', 'Sunkavalli,', 'Deqing', 'Sun,', 'Sylvain', 'Paris,', 'and', 'Hanspeter', 'Pfister.', 'Blind', 'video', 'temporal', 'consistency.', 'ACM', 'Trans.', 'Graph.,', '34(6):196:1–196:9,', '2015.']\n",
            "['author', 'author', 'author', 'author', 'author', 'author', 'author', 'author', 'author', 'author', 'author', 'author', 'author', 'title', 'title', 'title', 'title', 'journal', 'journal', 'journal', 'pages', 'date']\n",
            "[]\n",
            "\u001b[1m\n",
            "========================== Prediction for SEQ_LABEL ==========================\u001b[0m\n",
            "Sergi AUTHOR\u001b[49m Caelles, AUTHOR\u001b[49m Kevis-Kokitsi AUTHOR\u001b[49m Maninis, AUTHOR\u001b[49m Jordi AUTHOR\u001b[49m Pont-Tuset, AUTHOR\u001b[49m Laura AUTHOR\u001b[49m LealTaixé, AUTHOR\u001b[49m Daniel AUTHOR\u001b[49m Cremers, AUTHOR\u001b[49m and AUTHOR\u001b[49m Luc AUTHOR\u001b[49m Van AUTHOR\u001b[49m Gool. AUTHOR\u001b[49m One-shot TITLE\u001b[49m video TITLE\u001b[49m object TITLE\u001b[49m segmentation. TITLE\u001b[49m In BOOKTITLE\u001b[49m Proceedings BOOKTITLE\u001b[49m of BOOKTITLE\u001b[49m the BOOKTITLE\u001b[49m IEEE BOOKTITLE\u001b[49m conference BOOKTITLE\u001b[49m on BOOKTITLE\u001b[49m computer BOOKTITLE\u001b[49m vision BOOKTITLE\u001b[49m and BOOKTITLE\u001b[49m pattern BOOKTITLE\u001b[49m recognition, BOOKTITLE\u001b[49m pages PAGES\u001b[49m 221–230, PAGES\u001b[49m 2017. DATE\u001b[49m\n",
            "author author author author author author author author author author author author author author title title title title booktitle booktitle booktitle booktitle booktitle booktitle booktitle booktitle booktitle booktitle booktitle booktitle pages pages date\n",
            "['', 'Sergi', 'Caelles,', 'Kevis-Kokitsi', 'Maninis,', 'Jordi', 'Pont-Tuset,', 'Laura', 'LealTaixé,', 'Daniel', 'Cremers,', 'and', 'Luc', 'Van', 'Gool.', 'One-shot', 'video', 'object', 'segmentation.', 'In', 'Proceedings', 'of', 'the', 'IEEE', 'conference', 'on', 'computer', 'vision', 'and', 'pattern', 'recognition,', 'pages', '221–230,', '2017.']\n",
            "['Sergi', 'Caelles,', 'Kevis-Kokitsi', 'Maninis,', 'Jordi', 'Pont-Tuset,', 'Laura', 'LealTaixé,', 'Daniel', 'Cremers,', 'and', 'Luc', 'Van', 'Gool.', 'One-shot', 'video', 'object', 'segmentation.', 'In', 'Proceedings', 'of', 'the', 'IEEE', 'conference', 'on', 'computer', 'vision', 'and', 'pattern', 'recognition,', 'pages', '221–230,', '2017.']\n",
            "['author', 'author', 'author', 'author', 'author', 'author', 'author', 'author', 'author', 'author', 'author', 'author', 'author', 'author', 'title', 'title', 'title', 'title', 'booktitle', 'booktitle', 'booktitle', 'booktitle', 'booktitle', 'booktitle', 'booktitle', 'booktitle', 'booktitle', 'booktitle', 'booktitle', 'booktitle', 'pages', 'pages', 'date']\n",
            "[]\n",
            "\u001b[1m\n",
            "========================== Prediction for SEQ_LABEL ==========================\u001b[0m\n",
            "Chen AUTHOR\u001b[49m Chen, AUTHOR\u001b[49m Qifeng AUTHOR\u001b[49m Chen, AUTHOR\u001b[49m Minh AUTHOR\u001b[49m N AUTHOR\u001b[49m Do, AUTHOR\u001b[49m and AUTHOR\u001b[49m Vladlen AUTHOR\u001b[49m Koltun. AUTHOR\u001b[49m Seeing TITLE\u001b[49m motion TITLE\u001b[49m in TITLE\u001b[49m the TITLE\u001b[49m dark. TITLE\u001b[49m In TITLE\u001b[49m ICCV, BOOKTITLE\u001b[49m 2019. DATE\u001b[49m\n",
            "author author author author author author author author author author title title title title title title booktitle date\n",
            "['', 'Chen', 'Chen,', 'Qifeng', 'Chen,', 'Minh', 'N', 'Do,', 'and', 'Vladlen', 'Koltun.', 'Seeing', 'motion', 'in', 'the', 'dark.', 'In', 'ICCV,', '2019.']\n",
            "['Chen', 'Chen,', 'Qifeng', 'Chen,', 'Minh', 'N', 'Do,', 'and', 'Vladlen', 'Koltun.', 'Seeing', 'motion', 'in', 'the', 'dark.', 'In', 'ICCV,', '2019.']\n",
            "['author', 'author', 'author', 'author', 'author', 'author', 'author', 'author', 'author', 'author', 'title', 'title', 'title', 'title', 'title', 'title', 'booktitle', 'date']\n",
            "[]\n",
            "\u001b[1m\n",
            "========================== Prediction for SEQ_LABEL ==========================\u001b[0m\n",
            "Dongdong AUTHOR\u001b[49m Chen, AUTHOR\u001b[49m Jing AUTHOR\u001b[49m Liao, AUTHOR\u001b[49m Lu AUTHOR\u001b[49m Yuan, AUTHOR\u001b[49m Nenghai AUTHOR\u001b[49m Yu, AUTHOR\u001b[49m and AUTHOR\u001b[49m Gang AUTHOR\u001b[49m Hua. AUTHOR\u001b[49m Coherent TITLE\u001b[49m online TITLE\u001b[49m video TITLE\u001b[49m style TITLE\u001b[49m transfer. TITLE\u001b[49m In TITLE\u001b[49m ICCV, BOOKTITLE\u001b[49m 2017. DATE\u001b[49m\n",
            "author author author author author author author author author author author title title title title title title booktitle date\n",
            "['', 'Dongdong', 'Chen,', 'Jing', 'Liao,', 'Lu', 'Yuan,', 'Nenghai', 'Yu,', 'and', 'Gang', 'Hua.', 'Coherent', 'online', 'video', 'style', 'transfer.', 'In', 'ICCV,', '2017.']\n",
            "['Dongdong', 'Chen,', 'Jing', 'Liao,', 'Lu', 'Yuan,', 'Nenghai', 'Yu,', 'and', 'Gang', 'Hua.', 'Coherent', 'online', 'video', 'style', 'transfer.', 'In', 'ICCV,', '2017.']\n",
            "['author', 'author', 'author', 'author', 'author', 'author', 'author', 'author', 'author', 'author', 'author', 'title', 'title', 'title', 'title', 'title', 'title', 'booktitle', 'date']\n",
            "[]\n",
            "\u001b[1m\n",
            "========================== Prediction for SEQ_LABEL ==========================\u001b[0m\n",
            "Qifeng AUTHOR\u001b[49m Chen AUTHOR\u001b[49m and AUTHOR\u001b[49m Vladlen AUTHOR\u001b[49m Koltun. AUTHOR\u001b[49m Photographic TITLE\u001b[49m image TITLE\u001b[49m synthesis TITLE\u001b[49m with TITLE\u001b[49m cascaded TITLE\u001b[49m refinement TITLE\u001b[49m networks. TITLE\u001b[49m In TITLE\u001b[49m ICCV, BOOKTITLE\u001b[49m 2017. DATE\u001b[49m\n",
            "author author author author author title title title title title title title title booktitle date\n",
            "['', 'Qifeng', 'Chen', 'and', 'Vladlen', 'Koltun.', 'Photographic', 'image', 'synthesis', 'with', 'cascaded', 'refinement', 'networks.', 'In', 'ICCV,', '2017.']\n",
            "['Qifeng', 'Chen', 'and', 'Vladlen', 'Koltun.', 'Photographic', 'image', 'synthesis', 'with', 'cascaded', 'refinement', 'networks.', 'In', 'ICCV,', '2017.']\n",
            "['author', 'author', 'author', 'author', 'author', 'title', 'title', 'title', 'title', 'title', 'title', 'title', 'title', 'booktitle', 'date']\n",
            "[]\n",
            "\u001b[1m\n",
            "========================== Prediction for SEQ_LABEL ==========================\u001b[0m\n",
            "Xuan AUTHOR\u001b[49m Dong, AUTHOR\u001b[49m Boyan AUTHOR\u001b[49m Bonev, AUTHOR\u001b[49m Yu AUTHOR\u001b[49m Zhu, AUTHOR\u001b[49m and AUTHOR\u001b[49m Alan AUTHOR\u001b[49m L AUTHOR\u001b[49m Yuille. AUTHOR\u001b[49m Regionbased TITLE\u001b[49m temporally TITLE\u001b[49m consistent TITLE\u001b[49m video TITLE\u001b[49m post-processing. TITLE\u001b[49m In TITLE\u001b[49m CVPR, BOOKTITLE\u001b[49m 2015. DATE\u001b[49m\n",
            "author author author author author author author author author author title title title title title title booktitle date\n",
            "['', 'Xuan', 'Dong,', 'Boyan', 'Bonev,', 'Yu', 'Zhu,', 'and', 'Alan', 'L', 'Yuille.', 'Regionbased', 'temporally', 'consistent', 'video', 'post-processing.', 'In', 'CVPR,', '2015.']\n",
            "['Xuan', 'Dong,', 'Boyan', 'Bonev,', 'Yu', 'Zhu,', 'and', 'Alan', 'L', 'Yuille.', 'Regionbased', 'temporally', 'consistent', 'video', 'post-processing.', 'In', 'CVPR,', '2015.']\n",
            "['author', 'author', 'author', 'author', 'author', 'author', 'author', 'author', 'author', 'author', 'title', 'title', 'title', 'title', 'title', 'title', 'booktitle', 'date']\n",
            "[]\n",
            "\u001b[1m\n",
            "========================== Prediction for SEQ_LABEL ==========================\u001b[0m\n",
            "Gabriel AUTHOR\u001b[49m Eilertsen, AUTHOR\u001b[49m Rafal AUTHOR\u001b[49m K AUTHOR\u001b[49m Mantiuk, AUTHOR\u001b[49m and AUTHOR\u001b[49m Jonas AUTHOR\u001b[49m Unger. AUTHOR\u001b[49m Single-frame TITLE\u001b[49m regularization TITLE\u001b[49m for TITLE\u001b[49m temporally TITLE\u001b[49m stable TITLE\u001b[49m cnns. TITLE\u001b[49m In TITLE\u001b[49m CVPR, BOOKTITLE\u001b[49m 2019. DATE\u001b[49m\n",
            "author author author author author author author author title title title title title title title booktitle date\n",
            "['', 'Gabriel', 'Eilertsen,', 'Rafal', 'K', 'Mantiuk,', 'and', 'Jonas', 'Unger.', 'Single-frame', 'regularization', 'for', 'temporally', 'stable', 'cnns.', 'In', 'CVPR,', '2019.']\n",
            "['Gabriel', 'Eilertsen,', 'Rafal', 'K', 'Mantiuk,', 'and', 'Jonas', 'Unger.', 'Single-frame', 'regularization', 'for', 'temporally', 'stable', 'cnns.', 'In', 'CVPR,', '2019.']\n",
            "['author', 'author', 'author', 'author', 'author', 'author', 'author', 'author', 'title', 'title', 'title', 'title', 'title', 'title', 'title', 'booktitle', 'date']\n",
            "[]\n",
            "\u001b[1m\n",
            "========================== Prediction for SEQ_LABEL ==========================\u001b[0m\n",
            "Qingnan AUTHOR\u001b[49m Fan, AUTHOR\u001b[49m Fan AUTHOR\u001b[49m Zhong, AUTHOR\u001b[49m Dani AUTHOR\u001b[49m Lischinski, AUTHOR\u001b[49m Daniel AUTHOR\u001b[49m Cohen-Or, AUTHOR\u001b[49m and AUTHOR\u001b[49m Baoquan AUTHOR\u001b[49m Chen. AUTHOR\u001b[49m Jumpcut: AUTHOR\u001b[49m non-successive TITLE\u001b[49m mask TITLE\u001b[49m transfer TITLE\u001b[49m and TITLE\u001b[49m interpolation TITLE\u001b[49m for TITLE\u001b[49m video TITLE\u001b[49m cutout. TITLE\u001b[49m TOG, JOURNAL\u001b[49m 2015. DATE\u001b[49m\n",
            "author author author author author author author author author author author author title title title title title title title title journal date\n",
            "['', 'Qingnan', 'Fan,', 'Fan', 'Zhong,', 'Dani', 'Lischinski,', 'Daniel', 'Cohen-Or,', 'and', 'Baoquan', 'Chen.', 'Jumpcut:', 'non-successive', 'mask', 'transfer', 'and', 'interpolation', 'for', 'video', 'cutout.', 'TOG,', '2015.']\n",
            "['Qingnan', 'Fan,', 'Fan', 'Zhong,', 'Dani', 'Lischinski,', 'Daniel', 'Cohen-Or,', 'and', 'Baoquan', 'Chen.', 'Jumpcut:', 'non-successive', 'mask', 'transfer', 'and', 'interpolation', 'for', 'video', 'cutout.', 'TOG,', '2015.']\n",
            "['author', 'author', 'author', 'author', 'author', 'author', 'author', 'author', 'author', 'author', 'author', 'author', 'title', 'title', 'title', 'title', 'title', 'title', 'title', 'title', 'journal', 'date']\n",
            "[]\n",
            "\u001b[1m\n",
            "========================== Prediction for SEQ_LABEL ==========================\u001b[0m\n",
            "Yossi AUTHOR\u001b[49m Gandelsman, AUTHOR\u001b[49m Assaf AUTHOR\u001b[49m Shocher, AUTHOR\u001b[49m and AUTHOR\u001b[49m Michal AUTHOR\u001b[49m Irani. AUTHOR\u001b[49m Double-dip”: TITLE\u001b[49m Unsupervised TITLE\u001b[49m image TITLE\u001b[49m decomposition TITLE\u001b[49m via TITLE\u001b[49m coupled TITLE\u001b[49m deep-imagepriors. TITLE\u001b[49m In TITLE\u001b[49m CVPR, BOOKTITLE\u001b[49m 2019. DATE\u001b[49m\n",
            "author author author author author author author title title title title title title title title booktitle date\n",
            "['', 'Yossi', 'Gandelsman,', 'Assaf', 'Shocher,', 'and', 'Michal', 'Irani.', 'Double-dip”:', 'Unsupervised', 'image', 'decomposition', 'via', 'coupled', 'deep-imagepriors.', 'In', 'CVPR,', '2019.']\n",
            "['Yossi', 'Gandelsman,', 'Assaf', 'Shocher,', 'and', 'Michal', 'Irani.', 'Double-dip”:', 'Unsupervised', 'image', 'decomposition', 'via', 'coupled', 'deep-imagepriors.', 'In', 'CVPR,', '2019.']\n",
            "['author', 'author', 'author', 'author', 'author', 'author', 'author', 'title', 'title', 'title', 'title', 'title', 'title', 'title', 'title', 'booktitle', 'date']\n",
            "[]\n",
            "\u001b[1m\n",
            "========================== Prediction for SEQ_LABEL ==========================\u001b[0m\n",
            "Leon AUTHOR\u001b[49m A AUTHOR\u001b[49m Gatys, AUTHOR\u001b[49m Alexander AUTHOR\u001b[49m S AUTHOR\u001b[49m Ecker, AUTHOR\u001b[49m and AUTHOR\u001b[49m Matthias AUTHOR\u001b[49m Bethge. AUTHOR\u001b[49m Image TITLE\u001b[49m style TITLE\u001b[49m transfer TITLE\u001b[49m using TITLE\u001b[49m convolutional TITLE\u001b[49m neural TITLE\u001b[49m networks. TITLE\u001b[49m In TITLE\u001b[49m CVPR, BOOKTITLE\u001b[49m 2016. DATE\u001b[49m\n",
            "author author author author author author author author author title title title title title title title title booktitle date\n",
            "['', 'Leon', 'A', 'Gatys,', 'Alexander', 'S', 'Ecker,', 'and', 'Matthias', 'Bethge.', 'Image', 'style', 'transfer', 'using', 'convolutional', 'neural', 'networks.', 'In', 'CVPR,', '2016.']\n",
            "['Leon', 'A', 'Gatys,', 'Alexander', 'S', 'Ecker,', 'and', 'Matthias', 'Bethge.', 'Image', 'style', 'transfer', 'using', 'convolutional', 'neural', 'networks.', 'In', 'CVPR,', '2016.']\n",
            "['author', 'author', 'author', 'author', 'author', 'author', 'author', 'author', 'author', 'title', 'title', 'title', 'title', 'title', 'title', 'title', 'title', 'booktitle', 'date']\n",
            "[]\n",
            "\u001b[1m\n",
            "========================== Prediction for SEQ_LABEL ==========================\u001b[0m\n",
            "Andreas AUTHOR\u001b[49m Geiger, AUTHOR\u001b[49m Philip AUTHOR\u001b[49m Lenz, AUTHOR\u001b[49m and AUTHOR\u001b[49m Raquel AUTHOR\u001b[49m Urtasun. AUTHOR\u001b[49m Are TITLE\u001b[49m we TITLE\u001b[49m ready TITLE\u001b[49m for TITLE\u001b[49m autonomous TITLE\u001b[49m driving? TITLE\u001b[49m the TITLE\u001b[49m kitti TITLE\u001b[49m vision TITLE\u001b[49m benchmark TITLE\u001b[49m suite. TITLE\u001b[49m In BOOKTITLE\u001b[49m Conference BOOKTITLE\u001b[49m on BOOKTITLE\u001b[49m Computer BOOKTITLE\u001b[49m Vision BOOKTITLE\u001b[49m and BOOKTITLE\u001b[49m Pattern BOOKTITLE\u001b[49m Recognition BOOKTITLE\u001b[49m (CVPR), BOOKTITLE\u001b[49m 2012. DATE\u001b[49m\n",
            "author author author author author author author title title title title title title title title title title title booktitle booktitle booktitle booktitle booktitle booktitle booktitle booktitle booktitle date\n",
            "['', 'Andreas', 'Geiger,', 'Philip', 'Lenz,', 'and', 'Raquel', 'Urtasun.', 'Are', 'we', 'ready', 'for', 'autonomous', 'driving?', 'the', 'kitti', 'vision', 'benchmark', 'suite.', 'In', 'Conference', 'on', 'Computer', 'Vision', 'and', 'Pattern', 'Recognition', '(CVPR),', '2012.']\n",
            "['Andreas', 'Geiger,', 'Philip', 'Lenz,', 'and', 'Raquel', 'Urtasun.', 'Are', 'we', 'ready', 'for', 'autonomous', 'driving?', 'the', 'kitti', 'vision', 'benchmark', 'suite.', 'In', 'Conference', 'on', 'Computer', 'Vision', 'and', 'Pattern', 'Recognition', '(CVPR),', '2012.']\n",
            "['author', 'author', 'author', 'author', 'author', 'author', 'author', 'title', 'title', 'title', 'title', 'title', 'title', 'title', 'title', 'title', 'title', 'title', 'booktitle', 'booktitle', 'booktitle', 'booktitle', 'booktitle', 'booktitle', 'booktitle', 'booktitle', 'booktitle', 'date']\n",
            "[]\n",
            "\u001b[1m\n",
            "========================== Prediction for SEQ_LABEL ==========================\u001b[0m\n",
            "Michaël AUTHOR\u001b[49m Gharbi, AUTHOR\u001b[49m Jiawen AUTHOR\u001b[49m Chen, AUTHOR\u001b[49m Jonathan AUTHOR\u001b[49m T AUTHOR\u001b[49m Barron, AUTHOR\u001b[49m Samuel AUTHOR\u001b[49m W AUTHOR\u001b[49m Hasinoff, AUTHOR\u001b[49m and AUTHOR\u001b[49m Frédo AUTHOR\u001b[49m Durand. AUTHOR\u001b[49m Deep TITLE\u001b[49m bilateral TITLE\u001b[49m learning TITLE\u001b[49m for TITLE\u001b[49m real-time TITLE\u001b[49m image TITLE\u001b[49m enhancement. TITLE\u001b[49m ACM JOURNAL\u001b[49m Trans. JOURNAL\u001b[49m Graph., JOURNAL\u001b[49m 36(4):118:1–118:12, PAGES\u001b[49m 2017. DATE\u001b[49m\n",
            "author author author author author author author author author author author author author title title title title title title title journal journal journal pages date\n",
            "['', 'Michaël', 'Gharbi,', 'Jiawen', 'Chen,', 'Jonathan', 'T', 'Barron,', 'Samuel', 'W', 'Hasinoff,', 'and', 'Frédo', 'Durand.', 'Deep', 'bilateral', 'learning', 'for', 'real-time', 'image', 'enhancement.', 'ACM', 'Trans.', 'Graph.,', '36(4):118:1–118:12,', '2017.']\n",
            "['Michaël', 'Gharbi,', 'Jiawen', 'Chen,', 'Jonathan', 'T', 'Barron,', 'Samuel', 'W', 'Hasinoff,', 'and', 'Frédo', 'Durand.', 'Deep', 'bilateral', 'learning', 'for', 'real-time', 'image', 'enhancement.', 'ACM', 'Trans.', 'Graph.,', '36(4):118:1–118:12,', '2017.']\n",
            "['author', 'author', 'author', 'author', 'author', 'author', 'author', 'author', 'author', 'author', 'author', 'author', 'author', 'title', 'title', 'title', 'title', 'title', 'title', 'title', 'journal', 'journal', 'journal', 'pages', 'date']\n",
            "[]\n",
            "\u001b[1m\n",
            "========================== Prediction for SEQ_LABEL ==========================\u001b[0m\n",
            "Kaiming AUTHOR\u001b[49m He, AUTHOR\u001b[49m Jian AUTHOR\u001b[49m Sun, AUTHOR\u001b[49m and AUTHOR\u001b[49m Xiaoou AUTHOR\u001b[49m Tang. AUTHOR\u001b[49m Single TITLE\u001b[49m image TITLE\u001b[49m haze TITLE\u001b[49m removal TITLE\u001b[49m using TITLE\u001b[49m dark TITLE\u001b[49m channel TITLE\u001b[49m prior. TITLE\u001b[49m IEEE JOURNAL\u001b[49m Trans. JOURNAL\u001b[49m Pattern JOURNAL\u001b[49m Anal. JOURNAL\u001b[49m Mach. JOURNAL\u001b[49m Intell., JOURNAL\u001b[49m 33(12):2341–2353, PAGES\u001b[49m 2011. DATE\u001b[49m\n",
            "author author author author author author author title title title title title title title title journal journal journal journal journal journal pages date\n",
            "['', 'Kaiming', 'He,', 'Jian', 'Sun,', 'and', 'Xiaoou', 'Tang.', 'Single', 'image', 'haze', 'removal', 'using', 'dark', 'channel', 'prior.', 'IEEE', 'Trans.', 'Pattern', 'Anal.', 'Mach.', 'Intell.,', '33(12):2341–2353,', '2011.']\n",
            "['Kaiming', 'He,', 'Jian', 'Sun,', 'and', 'Xiaoou', 'Tang.', 'Single', 'image', 'haze', 'removal', 'using', 'dark', 'channel', 'prior.', 'IEEE', 'Trans.', 'Pattern', 'Anal.', 'Mach.', 'Intell.,', '33(12):2341–2353,', '2011.']\n",
            "['author', 'author', 'author', 'author', 'author', 'author', 'author', 'title', 'title', 'title', 'title', 'title', 'title', 'title', 'title', 'journal', 'journal', 'journal', 'journal', 'journal', 'journal', 'pages', 'date']\n",
            "[]\n",
            "\u001b[1m\n",
            "========================== Prediction for SEQ_LABEL ==========================\u001b[0m\n",
            "Kaiming AUTHOR\u001b[49m He, AUTHOR\u001b[49m Jian AUTHOR\u001b[49m Sun, AUTHOR\u001b[49m and AUTHOR\u001b[49m Xiaoou AUTHOR\u001b[49m Tang. AUTHOR\u001b[49m Guided TITLE\u001b[49m image TITLE\u001b[49m filtering. TITLE\u001b[49m IEEE JOURNAL\u001b[49m Trans. JOURNAL\u001b[49m Pattern JOURNAL\u001b[49m Anal. JOURNAL\u001b[49m Mach. JOURNAL\u001b[49m Intell., JOURNAL\u001b[49m 35(6):1397–1409, VOLUME\u001b[49m 2013. DATE\u001b[49m\n",
            "author author author author author author author title title title journal journal journal journal journal journal volume date\n",
            "['', 'Kaiming', 'He,', 'Jian', 'Sun,', 'and', 'Xiaoou', 'Tang.', 'Guided', 'image', 'filtering.', 'IEEE', 'Trans.', 'Pattern', 'Anal.', 'Mach.', 'Intell.,', '35(6):1397–1409,', '2013.']\n",
            "['Kaiming', 'He,', 'Jian', 'Sun,', 'and', 'Xiaoou', 'Tang.', 'Guided', 'image', 'filtering.', 'IEEE', 'Trans.', 'Pattern', 'Anal.', 'Mach.', 'Intell.,', '35(6):1397–1409,', '2013.']\n",
            "['author', 'author', 'author', 'author', 'author', 'author', 'author', 'title', 'title', 'title', 'journal', 'journal', 'journal', 'journal', 'journal', 'journal', 'volume', 'date']\n",
            "[]\n",
            "\u001b[1m\n",
            "========================== Prediction for SEQ_LABEL ==========================\u001b[0m\n",
            "Paul AUTHOR\u001b[49m W AUTHOR\u001b[49m Holland AUTHOR\u001b[49m and AUTHOR\u001b[49m Roy AUTHOR\u001b[49m E AUTHOR\u001b[49m Welsch. AUTHOR\u001b[49m Robust TITLE\u001b[49m regression TITLE\u001b[49m using TITLE\u001b[49m iteratively TITLE\u001b[49m reweighted TITLE\u001b[49m least-squares. TITLE\u001b[49m Communications JOURNAL\u001b[49m in JOURNAL\u001b[49m Statisticstheory BOOKTITLE\u001b[49m and BOOKTITLE\u001b[49m Methods, BOOKTITLE\u001b[49m 1977. DATE\u001b[49m\n",
            "author author author author author author author title title title title title title journal journal booktitle booktitle booktitle date\n",
            "['', 'Paul', 'W', 'Holland', 'and', 'Roy', 'E', 'Welsch.', 'Robust', 'regression', 'using', 'iteratively', 'reweighted', 'least-squares.', 'Communications', 'in', 'Statisticstheory', 'and', 'Methods,', '1977.']\n",
            "['Paul', 'W', 'Holland', 'and', 'Roy', 'E', 'Welsch.', 'Robust', 'regression', 'using', 'iteratively', 'reweighted', 'least-squares.', 'Communications', 'in', 'Statisticstheory', 'and', 'Methods,', '1977.']\n",
            "['author', 'author', 'author', 'author', 'author', 'author', 'author', 'title', 'title', 'title', 'title', 'title', 'title', 'journal', 'journal', 'booktitle', 'booktitle', 'booktitle', 'date']\n",
            "[]\n",
            "\u001b[1m\n",
            "========================== Prediction for SEQ_LABEL ==========================\u001b[0m\n",
            "Eugene AUTHOR\u001b[49m Hsu, AUTHOR\u001b[49m Tom AUTHOR\u001b[49m Mertens, AUTHOR\u001b[49m Sylvain AUTHOR\u001b[49m Paris, AUTHOR\u001b[49m Shai AUTHOR\u001b[49m Avidan, AUTHOR\u001b[49m and AUTHOR\u001b[49m Frédo AUTHOR\u001b[49m Durand. AUTHOR\u001b[49m Light TITLE\u001b[49m mixture TITLE\u001b[49m estimation TITLE\u001b[49m for TITLE\u001b[49m spatially TITLE\u001b[49m varying TITLE\u001b[49m white TITLE\u001b[49m balance. TITLE\u001b[49m ACM JOURNAL\u001b[49m Trans. JOURNAL\u001b[49m Graph., JOURNAL\u001b[49m 27(3):70, VOLUME\u001b[49m 2008. DATE\u001b[49m\n",
            "author author author author author author author author author author author title title title title title title title title journal journal journal volume date\n",
            "['', 'Eugene', 'Hsu,', 'Tom', 'Mertens,', 'Sylvain', 'Paris,', 'Shai', 'Avidan,', 'and', 'Frédo', 'Durand.', 'Light', 'mixture', 'estimation', 'for', 'spatially', 'varying', 'white', 'balance.', 'ACM', 'Trans.', 'Graph.,', '27(3):70,', '2008.']\n",
            "['Eugene', 'Hsu,', 'Tom', 'Mertens,', 'Sylvain', 'Paris,', 'Shai', 'Avidan,', 'and', 'Frédo', 'Durand.', 'Light', 'mixture', 'estimation', 'for', 'spatially', 'varying', 'white', 'balance.', 'ACM', 'Trans.', 'Graph.,', '27(3):70,', '2008.']\n",
            "['author', 'author', 'author', 'author', 'author', 'author', 'author', 'author', 'author', 'author', 'author', 'title', 'title', 'title', 'title', 'title', 'title', 'title', 'title', 'journal', 'journal', 'journal', 'volume', 'date']\n",
            "[]\n",
            "\u001b[1m\n",
            "========================== Prediction for SEQ_LABEL ==========================\u001b[0m\n",
            "Haozhi AUTHOR\u001b[49m Huang, AUTHOR\u001b[49m Hao AUTHOR\u001b[49m Wang, AUTHOR\u001b[49m Wenhan AUTHOR\u001b[49m Luo, AUTHOR\u001b[49m Lin AUTHOR\u001b[49m Ma, AUTHOR\u001b[49m Wenhao AUTHOR\u001b[49m Jiang, AUTHOR\u001b[49m Xiaolong AUTHOR\u001b[49m Zhu, AUTHOR\u001b[49m Zhifeng AUTHOR\u001b[49m Li, AUTHOR\u001b[49m and AUTHOR\u001b[49m Wei AUTHOR\u001b[49m Liu. AUTHOR\u001b[49m Real-time TITLE\u001b[49m neural TITLE\u001b[49m style TITLE\u001b[49m transfer TITLE\u001b[49m for TITLE\u001b[49m videos. TITLE\u001b[49m In TITLE\u001b[49m CVPR, BOOKTITLE\u001b[49m 2017. DATE\u001b[49m\n",
            "author author author author author author author author author author author author author author author author author title title title title title title title booktitle date\n",
            "['', 'Haozhi', 'Huang,', 'Hao', 'Wang,', 'Wenhan', 'Luo,', 'Lin', 'Ma,', 'Wenhao', 'Jiang,', 'Xiaolong', 'Zhu,', 'Zhifeng', 'Li,', 'and', 'Wei', 'Liu.', 'Real-time', 'neural', 'style', 'transfer', 'for', 'videos.', 'In', 'CVPR,', '2017.']\n",
            "['Haozhi', 'Huang,', 'Hao', 'Wang,', 'Wenhan', 'Luo,', 'Lin', 'Ma,', 'Wenhao', 'Jiang,', 'Xiaolong', 'Zhu,', 'Zhifeng', 'Li,', 'and', 'Wei', 'Liu.', 'Real-time', 'neural', 'style', 'transfer', 'for', 'videos.', 'In', 'CVPR,', '2017.']\n",
            "['author', 'author', 'author', 'author', 'author', 'author', 'author', 'author', 'author', 'author', 'author', 'author', 'author', 'author', 'author', 'author', 'author', 'title', 'title', 'title', 'title', 'title', 'title', 'title', 'booktitle', 'date']\n",
            "[]\n",
            "\u001b[1m\n",
            "========================== Prediction for SEQ_LABEL ==========================\u001b[0m\n",
            "Satoshi AUTHOR\u001b[49m Iizuka AUTHOR\u001b[49m and AUTHOR\u001b[49m Edgar AUTHOR\u001b[49m Simo-Serra. AUTHOR\u001b[49m Deepremaster: TITLE\u001b[49m temporal TITLE\u001b[49m source-reference TITLE\u001b[49m attention TITLE\u001b[49m networks TITLE\u001b[49m for TITLE\u001b[49m comprehensive TITLE\u001b[49m video TITLE\u001b[49m enhancement. TITLE\u001b[49m ACM JOURNAL\u001b[49m Trans. JOURNAL\u001b[49m Graph., JOURNAL\u001b[49m 38(6):176:1–176:13, PAGES\u001b[49m 2019. DATE\u001b[49m\n",
            "author author author author author title title title title title title title title title journal journal journal pages date\n",
            "['', 'Satoshi', 'Iizuka', 'and', 'Edgar', 'Simo-Serra.', 'Deepremaster:', 'temporal', 'source-reference', 'attention', 'networks', 'for', 'comprehensive', 'video', 'enhancement.', 'ACM', 'Trans.', 'Graph.,', '38(6):176:1–176:13,', '2019.']\n",
            "['Satoshi', 'Iizuka', 'and', 'Edgar', 'Simo-Serra.', 'Deepremaster:', 'temporal', 'source-reference', 'attention', 'networks', 'for', 'comprehensive', 'video', 'enhancement.', 'ACM', 'Trans.', 'Graph.,', '38(6):176:1–176:13,', '2019.']\n",
            "['author', 'author', 'author', 'author', 'author', 'title', 'title', 'title', 'title', 'title', 'title', 'title', 'title', 'title', 'journal', 'journal', 'journal', 'pages', 'date']\n",
            "[]\n",
            "\u001b[1m\n",
            "========================== Prediction for SEQ_LABEL ==========================\u001b[0m\n",
            "Satoshi AUTHOR\u001b[49m Iizuka, AUTHOR\u001b[49m Edgar AUTHOR\u001b[49m Simo-Serra, AUTHOR\u001b[49m and AUTHOR\u001b[49m Hiroshi AUTHOR\u001b[49m Ishikawa. AUTHOR\u001b[49m Let TITLE\u001b[49m there TITLE\u001b[49m be TITLE\u001b[49m color! TITLE\u001b[49m joint TITLE\u001b[49m end-to-end TITLE\u001b[49m learning TITLE\u001b[49m of TITLE\u001b[49m global TITLE\u001b[49m and TITLE\u001b[49m local TITLE\u001b[49m image TITLE\u001b[49m priors TITLE\u001b[49m for TITLE\u001b[49m automatic TITLE\u001b[49m image TITLE\u001b[49m colorization TITLE\u001b[49m with TITLE\u001b[49m simultaneous TITLE\u001b[49m classification. TITLE\u001b[49m In TITLE\u001b[49m SIGGRAPH, BOOKTITLE\u001b[49m volume VOLUME\u001b[49m 35, VOLUME\u001b[49m pages PAGES\u001b[49m 110:1–110:11, PAGES\u001b[49m 2016. DATE\u001b[49m\n",
            "author author author author author author author title title title title title title title title title title title title title title title title title title title title title booktitle volume volume pages pages date\n",
            "['', 'Satoshi', 'Iizuka,', 'Edgar', 'Simo-Serra,', 'and', 'Hiroshi', 'Ishikawa.', 'Let', 'there', 'be', 'color!', 'joint', 'end-to-end', 'learning', 'of', 'global', 'and', 'local', 'image', 'priors', 'for', 'automatic', 'image', 'colorization', 'with', 'simultaneous', 'classification.', 'In', 'SIGGRAPH,', 'volume', '35,', 'pages', '110:1–110:11,', '2016.']\n",
            "['Satoshi', 'Iizuka,', 'Edgar', 'Simo-Serra,', 'and', 'Hiroshi', 'Ishikawa.', 'Let', 'there', 'be', 'color!', 'joint', 'end-to-end', 'learning', 'of', 'global', 'and', 'local', 'image', 'priors', 'for', 'automatic', 'image', 'colorization', 'with', 'simultaneous', 'classification.', 'In', 'SIGGRAPH,', 'volume', '35,', 'pages', '110:1–110:11,', '2016.']\n",
            "['author', 'author', 'author', 'author', 'author', 'author', 'author', 'title', 'title', 'title', 'title', 'title', 'title', 'title', 'title', 'title', 'title', 'title', 'title', 'title', 'title', 'title', 'title', 'title', 'title', 'title', 'title', 'title', 'booktitle', 'volume', 'volume', 'pages', 'pages', 'date']\n",
            "[]\n",
            "\u001b[1m\n",
            "========================== Prediction for SEQ_LABEL ==========================\u001b[0m\n",
            "Phillip AUTHOR\u001b[49m Isola, AUTHOR\u001b[49m Jun-Yan AUTHOR\u001b[49m Zhu, AUTHOR\u001b[49m Tinghui AUTHOR\u001b[49m Zhou, AUTHOR\u001b[49m and AUTHOR\u001b[49m Alexei AUTHOR\u001b[49m A TITLE\u001b[49m Efros. TITLE\u001b[49m Image-to-image TITLE\u001b[49m translation TITLE\u001b[49m with TITLE\u001b[49m conditional TITLE\u001b[49m adversarial TITLE\u001b[49m networks. TITLE\u001b[49m In TITLE\u001b[49m CVPR, BOOKTITLE\u001b[49m 2017. DATE\u001b[49m\n",
            "author author author author author author author author title title title title title title title title title booktitle date\n",
            "['', 'Phillip', 'Isola,', 'Jun-Yan', 'Zhu,', 'Tinghui', 'Zhou,', 'and', 'Alexei', 'A', 'Efros.', 'Image-to-image', 'translation', 'with', 'conditional', 'adversarial', 'networks.', 'In', 'CVPR,', '2017.']\n",
            "['Phillip', 'Isola,', 'Jun-Yan', 'Zhu,', 'Tinghui', 'Zhou,', 'and', 'Alexei', 'A', 'Efros.', 'Image-to-image', 'translation', 'with', 'conditional', 'adversarial', 'networks.', 'In', 'CVPR,', '2017.']\n",
            "['author', 'author', 'author', 'author', 'author', 'author', 'author', 'author', 'title', 'title', 'title', 'title', 'title', 'title', 'title', 'title', 'title', 'booktitle', 'date']\n",
            "[]\n",
            "\u001b[1m\n",
            "========================== Prediction for SEQ_LABEL ==========================\u001b[0m\n",
            "Varun AUTHOR\u001b[49m Jampani, AUTHOR\u001b[49m Raghudeep AUTHOR\u001b[49m Gadde, AUTHOR\u001b[49m and AUTHOR\u001b[49m Peter AUTHOR\u001b[49m V. AUTHOR\u001b[49m Gehler. AUTHOR\u001b[49m Video TITLE\u001b[49m propagation TITLE\u001b[49m networks. TITLE\u001b[49m In TITLE\u001b[49m CVPR, BOOKTITLE\u001b[49m 2017. DATE\u001b[49m\n",
            "author author author author author author author author title title title title booktitle date\n",
            "['', 'Varun', 'Jampani,', 'Raghudeep', 'Gadde,', 'and', 'Peter', 'V.', 'Gehler.', 'Video', 'propagation', 'networks.', 'In', 'CVPR,', '2017.']\n",
            "['Varun', 'Jampani,', 'Raghudeep', 'Gadde,', 'and', 'Peter', 'V.', 'Gehler.', 'Video', 'propagation', 'networks.', 'In', 'CVPR,', '2017.']\n",
            "['author', 'author', 'author', 'author', 'author', 'author', 'author', 'author', 'title', 'title', 'title', 'title', 'booktitle', 'date']\n",
            "[]\n",
            "\u001b[1m\n",
            "========================== Prediction for SEQ_LABEL ==========================\u001b[0m\n",
            "Justin AUTHOR\u001b[49m Johnson, AUTHOR\u001b[49m Alexandre AUTHOR\u001b[49m Alahi, AUTHOR\u001b[49m and AUTHOR\u001b[49m Li AUTHOR\u001b[49m Fei-Fei. AUTHOR\u001b[49m Perceptual TITLE\u001b[49m losses TITLE\u001b[49m for TITLE\u001b[49m real-time TITLE\u001b[49m style TITLE\u001b[49m transfer TITLE\u001b[49m and TITLE\u001b[49m super-resolution. TITLE\u001b[49m In TITLE\u001b[49m ECCV, BOOKTITLE\u001b[49m 2016. DATE\u001b[49m\n",
            "author author author author author author author title title title title title title title title title booktitle date\n",
            "['', 'Justin', 'Johnson,', 'Alexandre', 'Alahi,', 'and', 'Li', 'Fei-Fei.', 'Perceptual', 'losses', 'for', 'real-time', 'style', 'transfer', 'and', 'super-resolution.', 'In', 'ECCV,', '2016.']\n",
            "['Justin', 'Johnson,', 'Alexandre', 'Alahi,', 'and', 'Li', 'Fei-Fei.', 'Perceptual', 'losses', 'for', 'real-time', 'style', 'transfer', 'and', 'super-resolution.', 'In', 'ECCV,', '2016.']\n",
            "['author', 'author', 'author', 'author', 'author', 'author', 'author', 'title', 'title', 'title', 'title', 'title', 'title', 'title', 'title', 'title', 'booktitle', 'date']\n",
            "[]\n",
            "\u001b[1m\n",
            "========================== Prediction for SEQ_LABEL ==========================\u001b[0m\n",
            "Anna AUTHOR\u001b[49m Khoreva, AUTHOR\u001b[49m Rodrigo AUTHOR\u001b[49m Benenson, AUTHOR\u001b[49m Eddy AUTHOR\u001b[49m Ilg, AUTHOR\u001b[49m Thomas AUTHOR\u001b[49m Brox, AUTHOR\u001b[49m and AUTHOR\u001b[49m Bernt AUTHOR\u001b[49m Schiele. AUTHOR\u001b[49m Lucid TITLE\u001b[49m data TITLE\u001b[49m dreaming TITLE\u001b[49m for TITLE\u001b[49m video TITLE\u001b[49m object TITLE\u001b[49m segmentation. TITLE\u001b[49m IJCV, BOOKTITLE\u001b[49m 2019. DATE\u001b[49m\n",
            "author author author author author author author author author author author title title title title title title title booktitle date\n",
            "['', 'Anna', 'Khoreva,', 'Rodrigo', 'Benenson,', 'Eddy', 'Ilg,', 'Thomas', 'Brox,', 'and', 'Bernt', 'Schiele.', 'Lucid', 'data', 'dreaming', 'for', 'video', 'object', 'segmentation.', 'IJCV,', '2019.']\n",
            "['Anna', 'Khoreva,', 'Rodrigo', 'Benenson,', 'Eddy', 'Ilg,', 'Thomas', 'Brox,', 'and', 'Bernt', 'Schiele.', 'Lucid', 'data', 'dreaming', 'for', 'video', 'object', 'segmentation.', 'IJCV,', '2019.']\n",
            "['author', 'author', 'author', 'author', 'author', 'author', 'author', 'author', 'author', 'author', 'author', 'title', 'title', 'title', 'title', 'title', 'title', 'title', 'booktitle', 'date']\n",
            "[]\n",
            "\u001b[1m\n",
            "========================== Prediction for SEQ_LABEL ==========================\u001b[0m\n",
            "Dahun AUTHOR\u001b[49m Kim, AUTHOR\u001b[49m Sanghyun AUTHOR\u001b[49m Woo, AUTHOR\u001b[49m Joon-Young AUTHOR\u001b[49m Lee, AUTHOR\u001b[49m and AUTHOR\u001b[49m In TITLE\u001b[49m So TITLE\u001b[49m Kweon. TITLE\u001b[49m Deep TITLE\u001b[49m video TITLE\u001b[49m inpainting. TITLE\u001b[49m In TITLE\u001b[49m CVPR, BOOKTITLE\u001b[49m 2019. DATE\u001b[49m\n",
            "author author author author author author author title title title title title title title booktitle date\n",
            "['', 'Dahun', 'Kim,', 'Sanghyun', 'Woo,', 'Joon-Young', 'Lee,', 'and', 'In', 'So', 'Kweon.', 'Deep', 'video', 'inpainting.', 'In', 'CVPR,', '2019.']\n",
            "['Dahun', 'Kim,', 'Sanghyun', 'Woo,', 'Joon-Young', 'Lee,', 'and', 'In', 'So', 'Kweon.', 'Deep', 'video', 'inpainting.', 'In', 'CVPR,', '2019.']\n",
            "['author', 'author', 'author', 'author', 'author', 'author', 'author', 'title', 'title', 'title', 'title', 'title', 'title', 'title', 'booktitle', 'date']\n",
            "[]\n",
            "\u001b[1m\n",
            "========================== Prediction for SEQ_LABEL ==========================\u001b[0m\n",
            "Diederik AUTHOR\u001b[49m P AUTHOR\u001b[49m Kingma AUTHOR\u001b[49m and AUTHOR\u001b[49m Jimmy AUTHOR\u001b[49m Ba. AUTHOR\u001b[49m Adam: AUTHOR\u001b[49m A TITLE\u001b[49m method TITLE\u001b[49m for TITLE\u001b[49m stochastic TITLE\u001b[49m optimization. TITLE\u001b[49m In BOOKTITLE\u001b[49m ICLR, BOOKTITLE\u001b[49m 2015. DATE\u001b[49m\n",
            "author author author author author author author title title title title title booktitle booktitle date\n",
            "['', 'Diederik', 'P', 'Kingma', 'and', 'Jimmy', 'Ba.', 'Adam:', 'A', 'method', 'for', 'stochastic', 'optimization.', 'In', 'ICLR,', '2015.']\n",
            "['Diederik', 'P', 'Kingma', 'and', 'Jimmy', 'Ba.', 'Adam:', 'A', 'method', 'for', 'stochastic', 'optimization.', 'In', 'ICLR,', '2015.']\n",
            "['author', 'author', 'author', 'author', 'author', 'author', 'author', 'title', 'title', 'title', 'title', 'title', 'booktitle', 'booktitle', 'date']\n",
            "[]\n",
            "\u001b[1m\n",
            "========================== Prediction for SEQ_LABEL ==========================\u001b[0m\n",
            "Johannes AUTHOR\u001b[49m Kopf, AUTHOR\u001b[49m Michael AUTHOR\u001b[49m F. AUTHOR\u001b[49m Cohen, AUTHOR\u001b[49m Dani AUTHOR\u001b[49m Lischinski, AUTHOR\u001b[49m and AUTHOR\u001b[49m Matthew AUTHOR\u001b[49m Uyttendaele. AUTHOR\u001b[49m Joint TITLE\u001b[49m bilateral TITLE\u001b[49m upsampling. TITLE\u001b[49m ACM JOURNAL\u001b[49m Trans. JOURNAL\u001b[49m Graph., JOURNAL\u001b[49m 26(3):96, VOLUME\u001b[49m 2007. DATE\u001b[49m\n",
            "author author author author author author author author author author title title title journal journal journal volume date\n",
            "['', 'Johannes', 'Kopf,', 'Michael', 'F.', 'Cohen,', 'Dani', 'Lischinski,', 'and', 'Matthew', 'Uyttendaele.', 'Joint', 'bilateral', 'upsampling.', 'ACM', 'Trans.', 'Graph.,', '26(3):96,', '2007.']\n",
            "['Johannes', 'Kopf,', 'Michael', 'F.', 'Cohen,', 'Dani', 'Lischinski,', 'and', 'Matthew', 'Uyttendaele.', 'Joint', 'bilateral', 'upsampling.', 'ACM', 'Trans.', 'Graph.,', '26(3):96,', '2007.']\n",
            "['author', 'author', 'author', 'author', 'author', 'author', 'author', 'author', 'author', 'author', 'title', 'title', 'title', 'journal', 'journal', 'journal', 'volume', 'date']\n",
            "[]\n",
            "\u001b[1m\n",
            "========================== Prediction for SEQ_LABEL ==========================\u001b[0m\n",
            "Wei-Sheng AUTHOR\u001b[49m Lai, AUTHOR\u001b[49m Jia-Bin AUTHOR\u001b[49m Huang, AUTHOR\u001b[49m Oliver AUTHOR\u001b[49m Wang, AUTHOR\u001b[49m Eli AUTHOR\u001b[49m Shechtman, AUTHOR\u001b[49m Ersin AUTHOR\u001b[49m Yumer, AUTHOR\u001b[49m and AUTHOR\u001b[49m Ming-Hsuan AUTHOR\u001b[49m Yang. AUTHOR\u001b[49m Learning TITLE\u001b[49m blind TITLE\u001b[49m video TITLE\u001b[49m temporal TITLE\u001b[49m consistency. TITLE\u001b[49m In TITLE\u001b[49m ECCV, BOOKTITLE\u001b[49m 2018. DATE\u001b[49m\n",
            "author author author author author author author author author author author author author title title title title title title booktitle date\n",
            "['', 'Wei-Sheng', 'Lai,', 'Jia-Bin', 'Huang,', 'Oliver', 'Wang,', 'Eli', 'Shechtman,', 'Ersin', 'Yumer,', 'and', 'Ming-Hsuan', 'Yang.', 'Learning', 'blind', 'video', 'temporal', 'consistency.', 'In', 'ECCV,', '2018.']\n",
            "['Wei-Sheng', 'Lai,', 'Jia-Bin', 'Huang,', 'Oliver', 'Wang,', 'Eli', 'Shechtman,', 'Ersin', 'Yumer,', 'and', 'Ming-Hsuan', 'Yang.', 'Learning', 'blind', 'video', 'temporal', 'consistency.', 'In', 'ECCV,', '2018.']\n",
            "['author', 'author', 'author', 'author', 'author', 'author', 'author', 'author', 'author', 'author', 'author', 'author', 'author', 'title', 'title', 'title', 'title', 'title', 'title', 'booktitle', 'date']\n",
            "[]\n",
            "\u001b[1m\n",
            "========================== Prediction for SEQ_LABEL ==========================\u001b[0m\n",
            "Manuel AUTHOR\u001b[49m Lang, AUTHOR\u001b[49m Oliver AUTHOR\u001b[49m Wang, AUTHOR\u001b[49m Tunc AUTHOR\u001b[49m Aydin, AUTHOR\u001b[49m Aljoscha AUTHOR\u001b[49m Smolic, AUTHOR\u001b[49m and AUTHOR\u001b[49m Markus AUTHOR\u001b[49m Gross. AUTHOR\u001b[49m Practical TITLE\u001b[49m temporal TITLE\u001b[49m consistency TITLE\u001b[49m for TITLE\u001b[49m image-based TITLE\u001b[49m graphics TITLE\u001b[49m applications. TITLE\u001b[49m ACM JOURNAL\u001b[49m Trans. JOURNAL\u001b[49m Graph., JOURNAL\u001b[49m 31(4):34:1–34:8, PAGES\u001b[49m 2012. DATE\u001b[49m\n",
            "author author author author author author author author author author author title title title title title title title journal journal journal pages date\n",
            "['', 'Manuel', 'Lang,', 'Oliver', 'Wang,', 'Tunc', 'Aydin,', 'Aljoscha', 'Smolic,', 'and', 'Markus', 'Gross.', 'Practical', 'temporal', 'consistency', 'for', 'image-based', 'graphics', 'applications.', 'ACM', 'Trans.', 'Graph.,', '31(4):34:1–34:8,', '2012.']\n",
            "['Manuel', 'Lang,', 'Oliver', 'Wang,', 'Tunc', 'Aydin,', 'Aljoscha', 'Smolic,', 'and', 'Markus', 'Gross.', 'Practical', 'temporal', 'consistency', 'for', 'image-based', 'graphics', 'applications.', 'ACM', 'Trans.', 'Graph.,', '31(4):34:1–34:8,', '2012.']\n",
            "['author', 'author', 'author', 'author', 'author', 'author', 'author', 'author', 'author', 'author', 'author', 'title', 'title', 'title', 'title', 'title', 'title', 'title', 'journal', 'journal', 'journal', 'pages', 'date']\n",
            "[]\n",
            "\u001b[1m\n",
            "========================== Prediction for SEQ_LABEL ==========================\u001b[0m\n",
            "Chenyang AUTHOR\u001b[49m Lei AUTHOR\u001b[49m and AUTHOR\u001b[49m Qifeng AUTHOR\u001b[49m Chen. AUTHOR\u001b[49m Fully TITLE\u001b[49m automatic TITLE\u001b[49m video TITLE\u001b[49m colorization TITLE\u001b[49m with TITLE\u001b[49m self-regularization TITLE\u001b[49m and TITLE\u001b[49m diversity. TITLE\u001b[49m In TITLE\u001b[49m CVPR, BOOKTITLE\u001b[49m 2019. DATE\u001b[49m\n",
            "author author author author author title title title title title title title title title booktitle date\n",
            "['', 'Chenyang', 'Lei', 'and', 'Qifeng', 'Chen.', 'Fully', 'automatic', 'video', 'colorization', 'with', 'self-regularization', 'and', 'diversity.', 'In', 'CVPR,', '2019.']\n",
            "['Chenyang', 'Lei', 'and', 'Qifeng', 'Chen.', 'Fully', 'automatic', 'video', 'colorization', 'with', 'self-regularization', 'and', 'diversity.', 'In', 'CVPR,', '2019.']\n",
            "['author', 'author', 'author', 'author', 'author', 'title', 'title', 'title', 'title', 'title', 'title', 'title', 'title', 'title', 'booktitle', 'date']\n",
            "[]\n",
            "\u001b[1m\n",
            "========================== Prediction for SEQ_LABEL ==========================\u001b[0m\n",
            "Chenyang AUTHOR\u001b[49m Lei AUTHOR\u001b[49m and AUTHOR\u001b[49m Qifeng AUTHOR\u001b[49m Chen. AUTHOR\u001b[49m Robust TITLE\u001b[49m reflection TITLE\u001b[49m removal TITLE\u001b[49m with TITLE\u001b[49m reflection-free TITLE\u001b[49m flash-only TITLE\u001b[49m cues. TITLE\u001b[49m In TITLE\u001b[49m CVPR, BOOKTITLE\u001b[49m 2021. DATE\u001b[49m\n",
            "author author author author author title title title title title title title title booktitle date\n",
            "['', 'Chenyang', 'Lei', 'and', 'Qifeng', 'Chen.', 'Robust', 'reflection', 'removal', 'with', 'reflection-free', 'flash-only', 'cues.', 'In', 'CVPR,', '2021.']\n",
            "['Chenyang', 'Lei', 'and', 'Qifeng', 'Chen.', 'Robust', 'reflection', 'removal', 'with', 'reflection-free', 'flash-only', 'cues.', 'In', 'CVPR,', '2021.']\n",
            "['author', 'author', 'author', 'author', 'author', 'title', 'title', 'title', 'title', 'title', 'title', 'title', 'title', 'booktitle', 'date']\n",
            "[]\n",
            "\u001b[1m\n",
            "========================== Prediction for SEQ_LABEL ==========================\u001b[0m\n",
            "Chenyang AUTHOR\u001b[49m Lei, AUTHOR\u001b[49m Xuhua AUTHOR\u001b[49m Huang, AUTHOR\u001b[49m Mengdi AUTHOR\u001b[49m Zhang, AUTHOR\u001b[49m Qiong AUTHOR\u001b[49m Yan, AUTHOR\u001b[49m Wenxiu AUTHOR\u001b[49m Sun, AUTHOR\u001b[49m and AUTHOR\u001b[49m Qifeng AUTHOR\u001b[49m Chen. AUTHOR\u001b[49m Polarized TITLE\u001b[49m reflection TITLE\u001b[49m removal TITLE\u001b[49m with TITLE\u001b[49m perfect TITLE\u001b[49m alignment TITLE\u001b[49m in TITLE\u001b[49m the TITLE\u001b[49m wild. TITLE\u001b[49m In TITLE\u001b[49m CVPR, BOOKTITLE\u001b[49m 2020. DATE\u001b[49m\n",
            "author author author author author author author author author author author author author title title title title title title title title title title booktitle date\n",
            "['', 'Chenyang', 'Lei,', 'Xuhua', 'Huang,', 'Mengdi', 'Zhang,', 'Qiong', 'Yan,', 'Wenxiu', 'Sun,', 'and', 'Qifeng', 'Chen.', 'Polarized', 'reflection', 'removal', 'with', 'perfect', 'alignment', 'in', 'the', 'wild.', 'In', 'CVPR,', '2020.']\n",
            "['Chenyang', 'Lei,', 'Xuhua', 'Huang,', 'Mengdi', 'Zhang,', 'Qiong', 'Yan,', 'Wenxiu', 'Sun,', 'and', 'Qifeng', 'Chen.', 'Polarized', 'reflection', 'removal', 'with', 'perfect', 'alignment', 'in', 'the', 'wild.', 'In', 'CVPR,', '2020.']\n",
            "['author', 'author', 'author', 'author', 'author', 'author', 'author', 'author', 'author', 'author', 'author', 'author', 'author', 'title', 'title', 'title', 'title', 'title', 'title', 'title', 'title', 'title', 'title', 'booktitle', 'date']\n",
            "[]\n",
            "\u001b[1m\n",
            "========================== Prediction for SEQ_LABEL ==========================\u001b[0m\n",
            "Chenyang AUTHOR\u001b[49m Lei, AUTHOR\u001b[49m Yazhou AUTHOR\u001b[49m Xing, AUTHOR\u001b[49m and AUTHOR\u001b[49m Qifeng AUTHOR\u001b[49m Chen. AUTHOR\u001b[49m Blind TITLE\u001b[49m video TITLE\u001b[49m temporal TITLE\u001b[49m consistency TITLE\u001b[49m via TITLE\u001b[49m deep TITLE\u001b[49m video TITLE\u001b[49m prior. TITLE\u001b[49m In TITLE\u001b[49m NeurIPS, BOOKTITLE\u001b[49m 2020. DATE\u001b[49m\n",
            "author author author author author author author title title title title title title title title title booktitle date\n",
            "['', 'Chenyang', 'Lei,', 'Yazhou', 'Xing,', 'and', 'Qifeng', 'Chen.', 'Blind', 'video', 'temporal', 'consistency', 'via', 'deep', 'video', 'prior.', 'In', 'NeurIPS,', '2020.']\n",
            "['Chenyang', 'Lei,', 'Yazhou', 'Xing,', 'and', 'Qifeng', 'Chen.', 'Blind', 'video', 'temporal', 'consistency', 'via', 'deep', 'video', 'prior.', 'In', 'NeurIPS,', '2020.']\n",
            "['author', 'author', 'author', 'author', 'author', 'author', 'author', 'title', 'title', 'title', 'title', 'title', 'title', 'title', 'title', 'title', 'booktitle', 'date']\n",
            "[]\n",
            "\u001b[1m\n",
            "========================== Prediction for SEQ_LABEL ==========================\u001b[0m\n",
            "Anat AUTHOR\u001b[49m Levin, AUTHOR\u001b[49m Dani AUTHOR\u001b[49m Lischinski, AUTHOR\u001b[49m and AUTHOR\u001b[49m Yair AUTHOR\u001b[49m Weiss. AUTHOR\u001b[49m Colorization TITLE\u001b[49m using TITLE\u001b[49m optimization. TITLE\u001b[49m ACM JOURNAL\u001b[49m Trans. JOURNAL\u001b[49m Graph., JOURNAL\u001b[49m 23(3):689–694, PAGES\u001b[49m 2004. DATE\u001b[49m\n",
            "author author author author author author author title title title journal journal journal pages date\n",
            "['', 'Anat', 'Levin,', 'Dani', 'Lischinski,', 'and', 'Yair', 'Weiss.', 'Colorization', 'using', 'optimization.', 'ACM', 'Trans.', 'Graph.,', '23(3):689–694,', '2004.']\n",
            "['Anat', 'Levin,', 'Dani', 'Lischinski,', 'and', 'Yair', 'Weiss.', 'Colorization', 'using', 'optimization.', 'ACM', 'Trans.', 'Graph.,', '23(3):689–694,', '2004.']\n",
            "['author', 'author', 'author', 'author', 'author', 'author', 'author', 'title', 'title', 'title', 'journal', 'journal', 'journal', 'pages', 'date']\n",
            "[]\n",
            "\u001b[1m\n",
            "========================== Prediction for SEQ_LABEL ==========================\u001b[0m\n",
            "Yijun AUTHOR\u001b[49m Li, AUTHOR\u001b[49m Chen AUTHOR\u001b[49m Fang, AUTHOR\u001b[49m Jimei AUTHOR\u001b[49m Yang, AUTHOR\u001b[49m Zhaowen AUTHOR\u001b[49m Wang, AUTHOR\u001b[49m Xin AUTHOR\u001b[49m Lu, AUTHOR\u001b[49m and AUTHOR\u001b[49m Ming-Hsuan AUTHOR\u001b[49m Yang. AUTHOR\u001b[49m Universal TITLE\u001b[49m style TITLE\u001b[49m transfer TITLE\u001b[49m via TITLE\u001b[49m feature TITLE\u001b[49m transforms. TITLE\u001b[49m In TITLE\u001b[49m NeurIPS, BOOKTITLE\u001b[49m 2017. DATE\u001b[49m\n",
            "author author author author author author author author author author author author author title title title title title title title booktitle date\n",
            "['', 'Yijun', 'Li,', 'Chen', 'Fang,', 'Jimei', 'Yang,', 'Zhaowen', 'Wang,', 'Xin', 'Lu,', 'and', 'Ming-Hsuan', 'Yang.', 'Universal', 'style', 'transfer', 'via', 'feature', 'transforms.', 'In', 'NeurIPS,', '2017.']\n",
            "['Yijun', 'Li,', 'Chen', 'Fang,', 'Jimei', 'Yang,', 'Zhaowen', 'Wang,', 'Xin', 'Lu,', 'and', 'Ming-Hsuan', 'Yang.', 'Universal', 'style', 'transfer', 'via', 'feature', 'transforms.', 'In', 'NeurIPS,', '2017.']\n",
            "['author', 'author', 'author', 'author', 'author', 'author', 'author', 'author', 'author', 'author', 'author', 'author', 'author', 'title', 'title', 'title', 'title', 'title', 'title', 'title', 'booktitle', 'date']\n",
            "[]\n",
            "\u001b[1m\n",
            "========================== Prediction for SEQ_LABEL ==========================\u001b[0m\n",
            "Yijun AUTHOR\u001b[49m Li, AUTHOR\u001b[49m Jia-Bin AUTHOR\u001b[49m Huang, AUTHOR\u001b[49m Narendra AUTHOR\u001b[49m Ahuja, AUTHOR\u001b[49m and AUTHOR\u001b[49m Ming-Hsuan AUTHOR\u001b[49m Yang. AUTHOR\u001b[49m Deep TITLE\u001b[49m joint TITLE\u001b[49m image TITLE\u001b[49m filtering. TITLE\u001b[49m In TITLE\u001b[49m ECCV, BOOKTITLE\u001b[49m 2016. DATE\u001b[49m\n",
            "author author author author author author author author author title title title title title booktitle date\n",
            "['', 'Yijun', 'Li,', 'Jia-Bin', 'Huang,', 'Narendra', 'Ahuja,', 'and', 'Ming-Hsuan', 'Yang.', 'Deep', 'joint', 'image', 'filtering.', 'In', 'ECCV,', '2016.']\n",
            "['Yijun', 'Li,', 'Jia-Bin', 'Huang,', 'Narendra', 'Ahuja,', 'and', 'Ming-Hsuan', 'Yang.', 'Deep', 'joint', 'image', 'filtering.', 'In', 'ECCV,', '2016.']\n",
            "['author', 'author', 'author', 'author', 'author', 'author', 'author', 'author', 'author', 'title', 'title', 'title', 'title', 'title', 'booktitle', 'date']\n",
            "[]\n",
            "\u001b[1m\n",
            "========================== Prediction for SEQ_LABEL ==========================\u001b[0m\n",
            "Ce AUTHOR\u001b[49m Liu AUTHOR\u001b[49m and AUTHOR\u001b[49m William AUTHOR\u001b[49m T AUTHOR\u001b[49m Freeman. AUTHOR\u001b[49m A TITLE\u001b[49m high-quality TITLE\u001b[49m video TITLE\u001b[49m denoising TITLE\u001b[49m algorithm TITLE\u001b[49m based TITLE\u001b[49m on TITLE\u001b[49m reliable TITLE\u001b[49m motion TITLE\u001b[49m estimation. TITLE\u001b[49m In TITLE\u001b[49m ECCV, BOOKTITLE\u001b[49m 2010. DATE\u001b[49m\n",
            "author author author author author author title title title title title title title title title title title booktitle date\n",
            "['', 'Ce', 'Liu', 'and', 'William', 'T', 'Freeman.', 'A', 'high-quality', 'video', 'denoising', 'algorithm', 'based', 'on', 'reliable', 'motion', 'estimation.', 'In', 'ECCV,', '2010.']\n",
            "['Ce', 'Liu', 'and', 'William', 'T', 'Freeman.', 'A', 'high-quality', 'video', 'denoising', 'algorithm', 'based', 'on', 'reliable', 'motion', 'estimation.', 'In', 'ECCV,', '2010.']\n",
            "['author', 'author', 'author', 'author', 'author', 'author', 'title', 'title', 'title', 'title', 'title', 'title', 'title', 'title', 'title', 'title', 'title', 'booktitle', 'date']\n",
            "[]\n",
            "\u001b[1m\n",
            "========================== Prediction for SEQ_LABEL ==========================\u001b[0m\n",
            "Jiaying AUTHOR\u001b[49m Liu, AUTHOR\u001b[49m Wenhan AUTHOR\u001b[49m Yang, AUTHOR\u001b[49m Shuai AUTHOR\u001b[49m Yang, AUTHOR\u001b[49m and AUTHOR\u001b[49m Zongming AUTHOR\u001b[49m Guo. AUTHOR\u001b[49m Erase TITLE\u001b[49m or TITLE\u001b[49m fill? TITLE\u001b[49m deep TITLE\u001b[49m joint TITLE\u001b[49m recurrent TITLE\u001b[49m rain TITLE\u001b[49m removal TITLE\u001b[49m and TITLE\u001b[49m reconstruction TITLE\u001b[49m in TITLE\u001b[49m videos. TITLE\u001b[49m In TITLE\u001b[49m CVPR, BOOKTITLE\u001b[49m 2018. BOOKTITLE\u001b[49m\n",
            "author author author author author author author author author title title title title title title title title title title title title title booktitle booktitle\n",
            "['', 'Jiaying', 'Liu,', 'Wenhan', 'Yang,', 'Shuai', 'Yang,', 'and', 'Zongming', 'Guo.', 'Erase', 'or', 'fill?', 'deep', 'joint', 'recurrent', 'rain', 'removal', 'and', 'reconstruction', 'in', 'videos.', 'In', 'CVPR,', '2018.']\n",
            "['Jiaying', 'Liu,', 'Wenhan', 'Yang,', 'Shuai', 'Yang,', 'and', 'Zongming', 'Guo.', 'Erase', 'or', 'fill?', 'deep', 'joint', 'recurrent', 'rain', 'removal', 'and', 'reconstruction', 'in', 'videos.', 'In', 'CVPR,', '2018.']\n",
            "['author', 'author', 'author', 'author', 'author', 'author', 'author', 'author', 'author', 'title', 'title', 'title', 'title', 'title', 'title', 'title', 'title', 'title', 'title', 'title', 'title', 'title', 'booktitle', 'booktitle']\n",
            "[]\n",
            "\u001b[1m\n",
            "========================== Prediction for SEQ_LABEL ==========================\u001b[0m\n",
            "Sifei AUTHOR\u001b[49m Liu, AUTHOR\u001b[49m Guangyu AUTHOR\u001b[49m Zhong, AUTHOR\u001b[49m Shalini AUTHOR\u001b[49m De AUTHOR\u001b[49m Mello, AUTHOR\u001b[49m Jinwei AUTHOR\u001b[49m Gu, AUTHOR\u001b[49m Varun AUTHOR\u001b[49m Jampani, AUTHOR\u001b[49m Ming-Hsuan AUTHOR\u001b[49m Yang, AUTHOR\u001b[49m and AUTHOR\u001b[49m Jan AUTHOR\u001b[49m Kautz. AUTHOR\u001b[49m Switchable TITLE\u001b[49m temporal TITLE\u001b[49m propagation TITLE\u001b[49m network. TITLE\u001b[49m In TITLE\u001b[49m ECCV, BOOKTITLE\u001b[49m 2018. DATE\u001b[49m\n",
            "author author author author author author author author author author author author author author author author title title title title title booktitle date\n",
            "['', 'Sifei', 'Liu,', 'Guangyu', 'Zhong,', 'Shalini', 'De', 'Mello,', 'Jinwei', 'Gu,', 'Varun', 'Jampani,', 'Ming-Hsuan', 'Yang,', 'and', 'Jan', 'Kautz.', 'Switchable', 'temporal', 'propagation', 'network.', 'In', 'ECCV,', '2018.']\n",
            "['Sifei', 'Liu,', 'Guangyu', 'Zhong,', 'Shalini', 'De', 'Mello,', 'Jinwei', 'Gu,', 'Varun', 'Jampani,', 'Ming-Hsuan', 'Yang,', 'and', 'Jan', 'Kautz.', 'Switchable', 'temporal', 'propagation', 'network.', 'In', 'ECCV,', '2018.']\n",
            "['author', 'author', 'author', 'author', 'author', 'author', 'author', 'author', 'author', 'author', 'author', 'author', 'author', 'author', 'author', 'author', 'title', 'title', 'title', 'title', 'title', 'booktitle', 'date']\n",
            "[]\n",
            "\u001b[1m\n",
            "========================== Prediction for SEQ_LABEL ==========================\u001b[0m\n",
            "Jonathan AUTHOR\u001b[49m Long, AUTHOR\u001b[49m Evan AUTHOR\u001b[49m Shelhamer, AUTHOR\u001b[49m and AUTHOR\u001b[49m Trevor AUTHOR\u001b[49m Darrell. AUTHOR\u001b[49m Fully TITLE\u001b[49m convolutional TITLE\u001b[49m networks TITLE\u001b[49m for TITLE\u001b[49m semantic TITLE\u001b[49m segmentation. TITLE\u001b[49m In TITLE\u001b[49m CVPR, BOOKTITLE\u001b[49m 2015. DATE\u001b[49m\n",
            "author author author author author author author title title title title title title title booktitle date\n",
            "['', 'Jonathan', 'Long,', 'Evan', 'Shelhamer,', 'and', 'Trevor', 'Darrell.', 'Fully', 'convolutional', 'networks', 'for', 'semantic', 'segmentation.', 'In', 'CVPR,', '2015.']\n",
            "['Jonathan', 'Long,', 'Evan', 'Shelhamer,', 'and', 'Trevor', 'Darrell.', 'Fully', 'convolutional', 'networks', 'for', 'semantic', 'segmentation.', 'In', 'CVPR,', '2015.']\n",
            "['author', 'author', 'author', 'author', 'author', 'author', 'author', 'title', 'title', 'title', 'title', 'title', 'title', 'title', 'booktitle', 'date']\n",
            "[]\n",
            "\u001b[1m\n",
            "========================== Prediction for SEQ_LABEL ==========================\u001b[0m\n",
            "James AUTHOR\u001b[49m MacQueen. AUTHOR\u001b[49m Some TITLE\u001b[49m methods TITLE\u001b[49m for TITLE\u001b[49m classification TITLE\u001b[49m and TITLE\u001b[49m analysis TITLE\u001b[49m of TITLE\u001b[49m multivariate TITLE\u001b[49m observations. TITLE\u001b[49m In BOOKTITLE\u001b[49m Proceedings BOOKTITLE\u001b[49m of BOOKTITLE\u001b[49m the BOOKTITLE\u001b[49m fifth BOOKTITLE\u001b[49m Berkeley BOOKTITLE\u001b[49m symposium BOOKTITLE\u001b[49m on BOOKTITLE\u001b[49m mathematical BOOKTITLE\u001b[49m statistics BOOKTITLE\u001b[49m and BOOKTITLE\u001b[49m probability. BOOKTITLE\u001b[49m Oakland, LOCATION\u001b[49m CA, LOCATION\u001b[49m USA, LOCATION\u001b[49m 1967. DATE\u001b[49m\n",
            "author author title title title title title title title title title booktitle booktitle booktitle booktitle booktitle booktitle booktitle booktitle booktitle booktitle booktitle booktitle location location location date\n",
            "['', 'James', 'MacQueen.', 'Some', 'methods', 'for', 'classification', 'and', 'analysis', 'of', 'multivariate', 'observations.', 'In', 'Proceedings', 'of', 'the', 'fifth', 'Berkeley', 'symposium', 'on', 'mathematical', 'statistics', 'and', 'probability.', 'Oakland,', 'CA,', 'USA,', '1967.']\n",
            "['James', 'MacQueen.', 'Some', 'methods', 'for', 'classification', 'and', 'analysis', 'of', 'multivariate', 'observations.', 'In', 'Proceedings', 'of', 'the', 'fifth', 'Berkeley', 'symposium', 'on', 'mathematical', 'statistics', 'and', 'probability.', 'Oakland,', 'CA,', 'USA,', '1967.']\n",
            "['author', 'author', 'title', 'title', 'title', 'title', 'title', 'title', 'title', 'title', 'title', 'booktitle', 'booktitle', 'booktitle', 'booktitle', 'booktitle', 'booktitle', 'booktitle', 'booktitle', 'booktitle', 'booktitle', 'booktitle', 'booktitle', 'location', 'location', 'location', 'date']\n",
            "[]\n",
            "\u001b[1m\n",
            "========================== Prediction for SEQ_LABEL ==========================\u001b[0m\n",
            "Nicolas AUTHOR\u001b[49m Märki, AUTHOR\u001b[49m Federico AUTHOR\u001b[49m Perazzi, AUTHOR\u001b[49m Oliver AUTHOR\u001b[49m Wang, AUTHOR\u001b[49m and AUTHOR\u001b[49m Alexander AUTHOR\u001b[49m Sorkine-Hornung. AUTHOR\u001b[49m Bilateral TITLE\u001b[49m space TITLE\u001b[49m video TITLE\u001b[49m segmentation. TITLE\u001b[49m In TITLE\u001b[49m CVPR, BOOKTITLE\u001b[49m 2016. DATE\u001b[49m\n",
            "author author author author author author author author author title title title title title booktitle date\n",
            "['', 'Nicolas', 'Märki,', 'Federico', 'Perazzi,', 'Oliver', 'Wang,', 'and', 'Alexander', 'Sorkine-Hornung.', 'Bilateral', 'space', 'video', 'segmentation.', 'In', 'CVPR,', '2016.']\n",
            "['Nicolas', 'Märki,', 'Federico', 'Perazzi,', 'Oliver', 'Wang,', 'and', 'Alexander', 'Sorkine-Hornung.', 'Bilateral', 'space', 'video', 'segmentation.', 'In', 'CVPR,', '2016.']\n",
            "['author', 'author', 'author', 'author', 'author', 'author', 'author', 'author', 'author', 'title', 'title', 'title', 'title', 'title', 'booktitle', 'date']\n",
            "[]\n",
            "\u001b[1m\n",
            "========================== Prediction for SEQ_LABEL ==========================\u001b[0m\n",
            "Simone AUTHOR\u001b[49m Meyer, AUTHOR\u001b[49m Victor AUTHOR\u001b[49m Cornillère, AUTHOR\u001b[49m Abdelaziz AUTHOR\u001b[49m Djelouah, AUTHOR\u001b[49m Christopher AUTHOR\u001b[49m Schroers, AUTHOR\u001b[49m and AUTHOR\u001b[49m Markus AUTHOR\u001b[49m H. AUTHOR\u001b[49m Gross. AUTHOR\u001b[49m Deep TITLE\u001b[49m video TITLE\u001b[49m color TITLE\u001b[49m propagation. TITLE\u001b[49m In TITLE\u001b[49m BMVC, BOOKTITLE\u001b[49m 2018. DATE\u001b[49m\n",
            "author author author author author author author author author author author author title title title title title booktitle date\n",
            "['', 'Simone', 'Meyer,', 'Victor', 'Cornillère,', 'Abdelaziz', 'Djelouah,', 'Christopher', 'Schroers,', 'and', 'Markus', 'H.', 'Gross.', 'Deep', 'video', 'color', 'propagation.', 'In', 'BMVC,', '2018.']\n",
            "['Simone', 'Meyer,', 'Victor', 'Cornillère,', 'Abdelaziz', 'Djelouah,', 'Christopher', 'Schroers,', 'and', 'Markus', 'H.', 'Gross.', 'Deep', 'video', 'color', 'propagation.', 'In', 'BMVC,', '2018.']\n",
            "['author', 'author', 'author', 'author', 'author', 'author', 'author', 'author', 'author', 'author', 'author', 'author', 'title', 'title', 'title', 'title', 'title', 'booktitle', 'date']\n",
            "[]\n",
            "\u001b[1m\n",
            "========================== Prediction for SEQ_LABEL ==========================\u001b[0m\n",
            "Ajay AUTHOR\u001b[49m Nandoriya, AUTHOR\u001b[49m Mohamed AUTHOR\u001b[49m Elgharib, AUTHOR\u001b[49m Changil AUTHOR\u001b[49m Kim, AUTHOR\u001b[49m Mohamed AUTHOR\u001b[49m Hefeeda, AUTHOR\u001b[49m and AUTHOR\u001b[49m Wojciech AUTHOR\u001b[49m Matusik. AUTHOR\u001b[49m Video TITLE\u001b[49m reflection TITLE\u001b[49m removal TITLE\u001b[49m through TITLE\u001b[49m spatio-temporal TITLE\u001b[49m optimization. TITLE\u001b[49m In TITLE\u001b[49m ICCV, BOOKTITLE\u001b[49m 2017. DATE\u001b[49m\n",
            "author author author author author author author author author author author title title title title title title title booktitle date\n",
            "['', 'Ajay', 'Nandoriya,', 'Mohamed', 'Elgharib,', 'Changil', 'Kim,', 'Mohamed', 'Hefeeda,', 'and', 'Wojciech', 'Matusik.', 'Video', 'reflection', 'removal', 'through', 'spatio-temporal', 'optimization.', 'In', 'ICCV,', '2017.']\n",
            "['Ajay', 'Nandoriya,', 'Mohamed', 'Elgharib,', 'Changil', 'Kim,', 'Mohamed', 'Hefeeda,', 'and', 'Wojciech', 'Matusik.', 'Video', 'reflection', 'removal', 'through', 'spatio-temporal', 'optimization.', 'In', 'ICCV,', '2017.']\n",
            "['author', 'author', 'author', 'author', 'author', 'author', 'author', 'author', 'author', 'author', 'author', 'title', 'title', 'title', 'title', 'title', 'title', 'title', 'booktitle', 'date']\n",
            "[]\n",
            "\u001b[1m\n",
            "========================== Prediction for SEQ_LABEL ==========================\u001b[0m\n",
            "Seoung AUTHOR\u001b[49m Wug AUTHOR\u001b[49m Oh, AUTHOR\u001b[49m Joon-Young AUTHOR\u001b[49m Lee, AUTHOR\u001b[49m Ning AUTHOR\u001b[49m Xu, AUTHOR\u001b[49m and AUTHOR\u001b[49m Seon AUTHOR\u001b[49m Joo AUTHOR\u001b[49m Kim. AUTHOR\u001b[49m Video TITLE\u001b[49m object TITLE\u001b[49m segmentation TITLE\u001b[49m using TITLE\u001b[49m space-time TITLE\u001b[49m memory TITLE\u001b[49m networks. TITLE\u001b[49m In BOOKTITLE\u001b[49m Proceedings BOOKTITLE\u001b[49m of BOOKTITLE\u001b[49m the BOOKTITLE\u001b[49m IEEE/CVF BOOKTITLE\u001b[49m International BOOKTITLE\u001b[49m Conference BOOKTITLE\u001b[49m on BOOKTITLE\u001b[49m Computer BOOKTITLE\u001b[49m Vision, BOOKTITLE\u001b[49m pages PAGES\u001b[49m 9226–9235, PAGES\u001b[49m 2019. DATE\u001b[49m\n",
            "author author author author author author author author author author author title title title title title title title booktitle booktitle booktitle booktitle booktitle booktitle booktitle booktitle booktitle booktitle pages pages date\n",
            "['', 'Seoung', 'Wug', 'Oh,', 'Joon-Young', 'Lee,', 'Ning', 'Xu,', 'and', 'Seon', 'Joo', 'Kim.', 'Video', 'object', 'segmentation', 'using', 'space-time', 'memory', 'networks.', 'In', 'Proceedings', 'of', 'the', 'IEEE/CVF', 'International', 'Conference', 'on', 'Computer', 'Vision,', 'pages', '9226–9235,', '2019.']\n",
            "['Seoung', 'Wug', 'Oh,', 'Joon-Young', 'Lee,', 'Ning', 'Xu,', 'and', 'Seon', 'Joo', 'Kim.', 'Video', 'object', 'segmentation', 'using', 'space-time', 'memory', 'networks.', 'In', 'Proceedings', 'of', 'the', 'IEEE/CVF', 'International', 'Conference', 'on', 'Computer', 'Vision,', 'pages', '9226–9235,', '2019.']\n",
            "['author', 'author', 'author', 'author', 'author', 'author', 'author', 'author', 'author', 'author', 'author', 'title', 'title', 'title', 'title', 'title', 'title', 'title', 'booktitle', 'booktitle', 'booktitle', 'booktitle', 'booktitle', 'booktitle', 'booktitle', 'booktitle', 'booktitle', 'booktitle', 'pages', 'pages', 'date']\n",
            "[]\n",
            "\u001b[1m\n",
            "========================== Prediction for SEQ_LABEL ==========================\u001b[0m\n",
            "Federico AUTHOR\u001b[49m Perazzi, AUTHOR\u001b[49m Jordi AUTHOR\u001b[49m Pont-Tuset, AUTHOR\u001b[49m Brian AUTHOR\u001b[49m McWilliams, AUTHOR\u001b[49m Luc AUTHOR\u001b[49m Van AUTHOR\u001b[49m Gool, AUTHOR\u001b[49m Markus AUTHOR\u001b[49m Gross, AUTHOR\u001b[49m and AUTHOR\u001b[49m Alexander AUTHOR\u001b[49m Sorkine-Hornung. AUTHOR\u001b[49m A TITLE\u001b[49m benchmark TITLE\u001b[49m dataset TITLE\u001b[49m and TITLE\u001b[49m evaluation TITLE\u001b[49m methodology TITLE\u001b[49m for TITLE\u001b[49m video TITLE\u001b[49m object TITLE\u001b[49m segmentation. TITLE\u001b[49m In TITLE\u001b[49m CVPR, BOOKTITLE\u001b[49m 2016. DATE\u001b[49m\n",
            "author author author author author author author author author author author author author author title title title title title title title title title title title booktitle date\n",
            "['', 'Federico', 'Perazzi,', 'Jordi', 'Pont-Tuset,', 'Brian', 'McWilliams,', 'Luc', 'Van', 'Gool,', 'Markus', 'Gross,', 'and', 'Alexander', 'Sorkine-Hornung.', 'A', 'benchmark', 'dataset', 'and', 'evaluation', 'methodology', 'for', 'video', 'object', 'segmentation.', 'In', 'CVPR,', '2016.']\n",
            "['Federico', 'Perazzi,', 'Jordi', 'Pont-Tuset,', 'Brian', 'McWilliams,', 'Luc', 'Van', 'Gool,', 'Markus', 'Gross,', 'and', 'Alexander', 'Sorkine-Hornung.', 'A', 'benchmark', 'dataset', 'and', 'evaluation', 'methodology', 'for', 'video', 'object', 'segmentation.', 'In', 'CVPR,', '2016.']\n",
            "['author', 'author', 'author', 'author', 'author', 'author', 'author', 'author', 'author', 'author', 'author', 'author', 'author', 'author', 'title', 'title', 'title', 'title', 'title', 'title', 'title', 'title', 'title', 'title', 'title', 'booktitle', 'date']\n",
            "[]\n",
            "\u001b[1m\n",
            "========================== Prediction for SEQ_LABEL ==========================\u001b[0m\n",
            "Federico AUTHOR\u001b[49m Perazzi, AUTHOR\u001b[49m Oliver AUTHOR\u001b[49m Wang, AUTHOR\u001b[49m Markus AUTHOR\u001b[49m Gross, AUTHOR\u001b[49m and AUTHOR\u001b[49m Alexander AUTHOR\u001b[49m Sorkine-Hornung. AUTHOR\u001b[49m Fully TITLE\u001b[49m connected TITLE\u001b[49m object TITLE\u001b[49m proposals TITLE\u001b[49m for TITLE\u001b[49m video TITLE\u001b[49m segmentation. TITLE\u001b[49m In TITLE\u001b[49m ICCV, BOOKTITLE\u001b[49m 2015. DATE\u001b[49m\n",
            "author author author author author author author author author title title title title title title title title booktitle date\n",
            "['', 'Federico', 'Perazzi,', 'Oliver', 'Wang,', 'Markus', 'Gross,', 'and', 'Alexander', 'Sorkine-Hornung.', 'Fully', 'connected', 'object', 'proposals', 'for', 'video', 'segmentation.', 'In', 'ICCV,', '2015.']\n",
            "['Federico', 'Perazzi,', 'Oliver', 'Wang,', 'Markus', 'Gross,', 'and', 'Alexander', 'Sorkine-Hornung.', 'Fully', 'connected', 'object', 'proposals', 'for', 'video', 'segmentation.', 'In', 'ICCV,', '2015.']\n",
            "['author', 'author', 'author', 'author', 'author', 'author', 'author', 'author', 'author', 'title', 'title', 'title', 'title', 'title', 'title', 'title', 'title', 'booktitle', 'date']\n",
            "[]\n",
            "\u001b[1m\n",
            "========================== Prediction for SEQ_LABEL ==========================\u001b[0m\n",
            "Fitsum AUTHOR\u001b[49m A. AUTHOR\u001b[49m Reda, AUTHOR\u001b[49m Deqing AUTHOR\u001b[49m Sun, AUTHOR\u001b[49m Aysegul AUTHOR\u001b[49m Dundar, AUTHOR\u001b[49m Mohammad AUTHOR\u001b[49m Shoeybi, AUTHOR\u001b[49m Guilin AUTHOR\u001b[49m Liu, AUTHOR\u001b[49m Kevin AUTHOR\u001b[49m J. AUTHOR\u001b[49m Shih, AUTHOR\u001b[49m Andrew AUTHOR\u001b[49m Tao, AUTHOR\u001b[49m Jan AUTHOR\u001b[49m Kautz, AUTHOR\u001b[49m and AUTHOR\u001b[49m Bryan AUTHOR\u001b[49m Catanzaro. AUTHOR\u001b[49m Unsupervised TITLE\u001b[49m video TITLE\u001b[49m interpolation TITLE\u001b[49m using TITLE\u001b[49m cycle TITLE\u001b[49m consistency. TITLE\u001b[49m In TITLE\u001b[49m ICCV, BOOKTITLE\u001b[49m 2019. DATE\u001b[49m\n",
            "author author author author author author author author author author author author author author author author author author author author author title title title title title title title booktitle date\n",
            "['', 'Fitsum', 'A.', 'Reda,', 'Deqing', 'Sun,', 'Aysegul', 'Dundar,', 'Mohammad', 'Shoeybi,', 'Guilin', 'Liu,', 'Kevin', 'J.', 'Shih,', 'Andrew', 'Tao,', 'Jan', 'Kautz,', 'and', 'Bryan', 'Catanzaro.', 'Unsupervised', 'video', 'interpolation', 'using', 'cycle', 'consistency.', 'In', 'ICCV,', '2019.']\n",
            "['Fitsum', 'A.', 'Reda,', 'Deqing', 'Sun,', 'Aysegul', 'Dundar,', 'Mohammad', 'Shoeybi,', 'Guilin', 'Liu,', 'Kevin', 'J.', 'Shih,', 'Andrew', 'Tao,', 'Jan', 'Kautz,', 'and', 'Bryan', 'Catanzaro.', 'Unsupervised', 'video', 'interpolation', 'using', 'cycle', 'consistency.', 'In', 'ICCV,', '2019.']\n",
            "['author', 'author', 'author', 'author', 'author', 'author', 'author', 'author', 'author', 'author', 'author', 'author', 'author', 'author', 'author', 'author', 'author', 'author', 'author', 'author', 'author', 'title', 'title', 'title', 'title', 'title', 'title', 'title', 'booktitle', 'date']\n",
            "[]\n",
            "\u001b[1m\n",
            "========================== Prediction for SEQ_LABEL ==========================\u001b[0m\n",
            "Jen-Hao AUTHOR\u001b[49m Rick AUTHOR\u001b[49m Chang AUTHOR\u001b[49m and AUTHOR\u001b[49m Yu-Chiang AUTHOR\u001b[49m Frank AUTHOR\u001b[49m Wang. AUTHOR\u001b[49m Propagated TITLE\u001b[49m image TITLE\u001b[49m filtering. TITLE\u001b[49m In TITLE\u001b[49m CVPR, BOOKTITLE\u001b[49m 2015. DATE\u001b[49m\n",
            "author author author author author author author title title title title booktitle date\n",
            "['', 'Jen-Hao', 'Rick', 'Chang', 'and', 'Yu-Chiang', 'Frank', 'Wang.', 'Propagated', 'image', 'filtering.', 'In', 'CVPR,', '2015.']\n",
            "['Jen-Hao', 'Rick', 'Chang', 'and', 'Yu-Chiang', 'Frank', 'Wang.', 'Propagated', 'image', 'filtering.', 'In', 'CVPR,', '2015.']\n",
            "['author', 'author', 'author', 'author', 'author', 'author', 'author', 'title', 'title', 'title', 'title', 'booktitle', 'date']\n",
            "[]\n",
            "\u001b[1m\n",
            "========================== Prediction for SEQ_LABEL ==========================\u001b[0m\n",
            "Olaf AUTHOR\u001b[49m Ronneberger, AUTHOR\u001b[49m Philipp AUTHOR\u001b[49m Fischer, AUTHOR\u001b[49m and AUTHOR\u001b[49m Thomas AUTHOR\u001b[49m Brox. AUTHOR\u001b[49m U-net: TITLE\u001b[49m Convolutional TITLE\u001b[49m networks TITLE\u001b[49m for TITLE\u001b[49m biomedical TITLE\u001b[49m image TITLE\u001b[49m segmentation. TITLE\u001b[49m In TITLE\u001b[49m MICCAI, BOOKTITLE\u001b[49m 2015. DATE\u001b[49m\n",
            "author author author author author author author title title title title title title title title booktitle date\n",
            "['', 'Olaf', 'Ronneberger,', 'Philipp', 'Fischer,', 'and', 'Thomas', 'Brox.', 'U-net:', 'Convolutional', 'networks', 'for', 'biomedical', 'image', 'segmentation.', 'In', 'MICCAI,', '2015.']\n",
            "['Olaf', 'Ronneberger,', 'Philipp', 'Fischer,', 'and', 'Thomas', 'Brox.', 'U-net:', 'Convolutional', 'networks', 'for', 'biomedical', 'image', 'segmentation.', 'In', 'MICCAI,', '2015.']\n",
            "['author', 'author', 'author', 'author', 'author', 'author', 'author', 'title', 'title', 'title', 'title', 'title', 'title', 'title', 'title', 'booktitle', 'date']\n",
            "[]\n",
            "\u001b[1m\n",
            "========================== Prediction for SEQ_LABEL ==========================\u001b[0m\n",
            "Manuel AUTHOR\u001b[49m Ruder, AUTHOR\u001b[49m Alexey AUTHOR\u001b[49m Dosovitskiy, AUTHOR\u001b[49m and AUTHOR\u001b[49m Thomas AUTHOR\u001b[49m Brox. AUTHOR\u001b[49m Artistic TITLE\u001b[49m style TITLE\u001b[49m transfer TITLE\u001b[49m for TITLE\u001b[49m videos. TITLE\u001b[49m In TITLE\u001b[49m GCPR, BOOKTITLE\u001b[49m 2016. DATE\u001b[49m\n",
            "author author author author author author author title title title title title title booktitle date\n",
            "['', 'Manuel', 'Ruder,', 'Alexey', 'Dosovitskiy,', 'and', 'Thomas', 'Brox.', 'Artistic', 'style', 'transfer', 'for', 'videos.', 'In', 'GCPR,', '2016.']\n",
            "['Manuel', 'Ruder,', 'Alexey', 'Dosovitskiy,', 'and', 'Thomas', 'Brox.', 'Artistic', 'style', 'transfer', 'for', 'videos.', 'In', 'GCPR,', '2016.']\n",
            "['author', 'author', 'author', 'author', 'author', 'author', 'author', 'title', 'title', 'title', 'title', 'title', 'title', 'booktitle', 'date']\n",
            "[]\n",
            "\u001b[1m\n",
            "========================== Prediction for SEQ_LABEL ==========================\u001b[0m\n",
            "Mehdi AUTHOR\u001b[49m SM AUTHOR\u001b[49m Sajjadi, AUTHOR\u001b[49m Raviteja AUTHOR\u001b[49m Vemulapalli, AUTHOR\u001b[49m and AUTHOR\u001b[49m Matthew AUTHOR\u001b[49m Brown. AUTHOR\u001b[49m Frame-recurrent TITLE\u001b[49m video TITLE\u001b[49m super-resolution. TITLE\u001b[49m In TITLE\u001b[49m CVPR, BOOKTITLE\u001b[49m 2018. DATE\u001b[49m\n",
            "author author author author author author author author title title title title booktitle date\n",
            "['', 'Mehdi', 'SM', 'Sajjadi,', 'Raviteja', 'Vemulapalli,', 'and', 'Matthew', 'Brown.', 'Frame-recurrent', 'video', 'super-resolution.', 'In', 'CVPR,', '2018.']\n",
            "['Mehdi', 'SM', 'Sajjadi,', 'Raviteja', 'Vemulapalli,', 'and', 'Matthew', 'Brown.', 'Frame-recurrent', 'video', 'super-resolution.', 'In', 'CVPR,', '2018.']\n",
            "['author', 'author', 'author', 'author', 'author', 'author', 'author', 'author', 'title', 'title', 'title', 'title', 'booktitle', 'date']\n",
            "[]\n",
            "\u001b[1m\n",
            "========================== Prediction for SEQ_LABEL ==========================\u001b[0m\n",
            "Tamar AUTHOR\u001b[49m Rott AUTHOR\u001b[49m Shaham, AUTHOR\u001b[49m Tali AUTHOR\u001b[49m Dekel, AUTHOR\u001b[49m and AUTHOR\u001b[49m Tomer AUTHOR\u001b[49m Michaeli. AUTHOR\u001b[49m Singan: AUTHOR\u001b[49m Learning TITLE\u001b[49m a TITLE\u001b[49m generative TITLE\u001b[49m model TITLE\u001b[49m from TITLE\u001b[49m a TITLE\u001b[49m single TITLE\u001b[49m natural TITLE\u001b[49m image. TITLE\u001b[49m In TITLE\u001b[49m ICCV, BOOKTITLE\u001b[49m 2019. DATE\u001b[49m\n",
            "author author author author author author author author author title title title title title title title title title title booktitle date\n",
            "['', 'Tamar', 'Rott', 'Shaham,', 'Tali', 'Dekel,', 'and', 'Tomer', 'Michaeli.', 'Singan:', 'Learning', 'a', 'generative', 'model', 'from', 'a', 'single', 'natural', 'image.', 'In', 'ICCV,', '2019.']\n",
            "['Tamar', 'Rott', 'Shaham,', 'Tali', 'Dekel,', 'and', 'Tomer', 'Michaeli.', 'Singan:', 'Learning', 'a', 'generative', 'model', 'from', 'a', 'single', 'natural', 'image.', 'In', 'ICCV,', '2019.']\n",
            "['author', 'author', 'author', 'author', 'author', 'author', 'author', 'author', 'author', 'title', 'title', 'title', 'title', 'title', 'title', 'title', 'title', 'title', 'title', 'booktitle', 'date']\n",
            "[]\n",
            "\u001b[1m\n",
            "========================== Prediction for SEQ_LABEL ==========================\u001b[0m\n",
            "Assaf AUTHOR\u001b[49m Shocher, AUTHOR\u001b[49m Shai AUTHOR\u001b[49m Bagon, AUTHOR\u001b[49m Phillip AUTHOR\u001b[49m Isola, AUTHOR\u001b[49m and AUTHOR\u001b[49m Michal AUTHOR\u001b[49m Irani. AUTHOR\u001b[49m Ingan: TITLE\u001b[49m Capturing TITLE\u001b[49m and TITLE\u001b[49m retargeting TITLE\u001b[49m the TITLE\u001b[49m ”dna” TITLE\u001b[49m of TITLE\u001b[49m a TITLE\u001b[49m natural TITLE\u001b[49m image. TITLE\u001b[49m In TITLE\u001b[49m ICCV, BOOKTITLE\u001b[49m 2019. BOOKTITLE\u001b[49m\n",
            "author author author author author author author author author title title title title title title title title title title title booktitle booktitle\n",
            "['', 'Assaf', 'Shocher,', 'Shai', 'Bagon,', 'Phillip', 'Isola,', 'and', 'Michal', 'Irani.', 'Ingan:', 'Capturing', 'and', 'retargeting', 'the', '”dna”', 'of', 'a', 'natural', 'image.', 'In', 'ICCV,', '2019.']\n",
            "['Assaf', 'Shocher,', 'Shai', 'Bagon,', 'Phillip', 'Isola,', 'and', 'Michal', 'Irani.', 'Ingan:', 'Capturing', 'and', 'retargeting', 'the', '”dna”', 'of', 'a', 'natural', 'image.', 'In', 'ICCV,', '2019.']\n",
            "['author', 'author', 'author', 'author', 'author', 'author', 'author', 'author', 'author', 'title', 'title', 'title', 'title', 'title', 'title', 'title', 'title', 'title', 'title', 'title', 'booktitle', 'booktitle']\n",
            "[]\n",
            "\u001b[1m\n",
            "========================== Prediction for SEQ_LABEL ==========================\u001b[0m\n",
            "Assaf AUTHOR\u001b[49m Shocher, AUTHOR\u001b[49m Nadav AUTHOR\u001b[49m Cohen, AUTHOR\u001b[49m and AUTHOR\u001b[49m Michal AUTHOR\u001b[49m Irani. AUTHOR\u001b[49m “zero-shot” TITLE\u001b[49m superresolution TITLE\u001b[49m using TITLE\u001b[49m deep TITLE\u001b[49m internal TITLE\u001b[49m learning. TITLE\u001b[49m In BOOKTITLE\u001b[49m CVPR, BOOKTITLE\u001b[49m 2018. DATE\u001b[49m\n",
            "author author author author author author author title title title title title title booktitle booktitle date\n",
            "['', 'Assaf', 'Shocher,', 'Nadav', 'Cohen,', 'and', 'Michal', 'Irani.', '“zero-shot”', 'superresolution', 'using', 'deep', 'internal', 'learning.', 'In', 'CVPR,', '2018.']\n",
            "['Assaf', 'Shocher,', 'Nadav', 'Cohen,', 'and', 'Michal', 'Irani.', '“zero-shot”', 'superresolution', 'using', 'deep', 'internal', 'learning.', 'In', 'CVPR,', '2018.']\n",
            "['author', 'author', 'author', 'author', 'author', 'author', 'author', 'title', 'title', 'title', 'title', 'title', 'title', 'booktitle', 'booktitle', 'date']\n",
            "[]\n",
            "\u001b[1m\n",
            "========================== Prediction for SEQ_LABEL ==========================\u001b[0m\n",
            "Deqing AUTHOR\u001b[49m Sun, AUTHOR\u001b[49m Xiaodong AUTHOR\u001b[49m Yang, AUTHOR\u001b[49m Ming-Yu AUTHOR\u001b[49m Liu, AUTHOR\u001b[49m and AUTHOR\u001b[49m Jan AUTHOR\u001b[49m Kautz. AUTHOR\u001b[49m Pwcnet: TITLE\u001b[49m Cnns TITLE\u001b[49m for TITLE\u001b[49m optical TITLE\u001b[49m flow TITLE\u001b[49m using TITLE\u001b[49m pyramid, TITLE\u001b[49m warping, TITLE\u001b[49m and TITLE\u001b[49m cost TITLE\u001b[49m volume. TITLE\u001b[49m In TITLE\u001b[49m CVPR, BOOKTITLE\u001b[49m 2018. DATE\u001b[49m\n",
            "author author author author author author author author author title title title title title title title title title title title title booktitle date\n",
            "['', 'Deqing', 'Sun,', 'Xiaodong', 'Yang,', 'Ming-Yu', 'Liu,', 'and', 'Jan', 'Kautz.', 'Pwcnet:', 'Cnns', 'for', 'optical', 'flow', 'using', 'pyramid,', 'warping,', 'and', 'cost', 'volume.', 'In', 'CVPR,', '2018.']\n",
            "['Deqing', 'Sun,', 'Xiaodong', 'Yang,', 'Ming-Yu', 'Liu,', 'and', 'Jan', 'Kautz.', 'Pwcnet:', 'Cnns', 'for', 'optical', 'flow', 'using', 'pyramid,', 'warping,', 'and', 'cost', 'volume.', 'In', 'CVPR,', '2018.']\n",
            "['author', 'author', 'author', 'author', 'author', 'author', 'author', 'author', 'author', 'title', 'title', 'title', 'title', 'title', 'title', 'title', 'title', 'title', 'title', 'title', 'title', 'booktitle', 'date']\n",
            "[]\n",
            "\u001b[1m\n",
            "========================== Prediction for SEQ_LABEL ==========================\u001b[0m\n",
            "Yi-Hsuan AUTHOR\u001b[49m Tsai, AUTHOR\u001b[49m Ming-Hsuan AUTHOR\u001b[49m Yang, AUTHOR\u001b[49m and AUTHOR\u001b[49m Michael AUTHOR\u001b[49m J AUTHOR\u001b[49m Black. AUTHOR\u001b[49m Video TITLE\u001b[49m segmentation TITLE\u001b[49m via TITLE\u001b[49m object TITLE\u001b[49m flow. TITLE\u001b[49m In TITLE\u001b[49m CVPR, BOOKTITLE\u001b[49m 2016. DATE\u001b[49m\n",
            "author author author author author author author author title title title title title title booktitle date\n",
            "['', 'Yi-Hsuan', 'Tsai,', 'Ming-Hsuan', 'Yang,', 'and', 'Michael', 'J', 'Black.', 'Video', 'segmentation', 'via', 'object', 'flow.', 'In', 'CVPR,', '2016.']\n",
            "['Yi-Hsuan', 'Tsai,', 'Ming-Hsuan', 'Yang,', 'and', 'Michael', 'J', 'Black.', 'Video', 'segmentation', 'via', 'object', 'flow.', 'In', 'CVPR,', '2016.']\n",
            "['author', 'author', 'author', 'author', 'author', 'author', 'author', 'author', 'title', 'title', 'title', 'title', 'title', 'title', 'booktitle', 'date']\n",
            "[]\n",
            "\u001b[1m\n",
            "========================== Prediction for SEQ_LABEL ==========================\u001b[0m\n",
            "Dmitry AUTHOR\u001b[49m Ulyanov, AUTHOR\u001b[49m Andrea AUTHOR\u001b[49m Vedaldi, AUTHOR\u001b[49m and AUTHOR\u001b[49m Victor AUTHOR\u001b[49m Lempitsky. AUTHOR\u001b[49m Deep TITLE\u001b[49m image TITLE\u001b[49m prior. TITLE\u001b[49m In TITLE\u001b[49m CVPR, BOOKTITLE\u001b[49m 2018. DATE\u001b[49m\n",
            "author author author author author author author title title title title booktitle date\n",
            "['', 'Dmitry', 'Ulyanov,', 'Andrea', 'Vedaldi,', 'and', 'Victor', 'Lempitsky.', 'Deep', 'image', 'prior.', 'In', 'CVPR,', '2018.']\n",
            "['Dmitry', 'Ulyanov,', 'Andrea', 'Vedaldi,', 'and', 'Victor', 'Lempitsky.', 'Deep', 'image', 'prior.', 'In', 'CVPR,', '2018.']\n",
            "['author', 'author', 'author', 'author', 'author', 'author', 'author', 'title', 'title', 'title', 'title', 'booktitle', 'date']\n",
            "[]\n",
            "\u001b[1m\n",
            "========================== Prediction for SEQ_LABEL ==========================\u001b[0m\n",
            "Carl AUTHOR\u001b[49m Vondrick, AUTHOR\u001b[49m Abhinav AUTHOR\u001b[49m Shrivastava, AUTHOR\u001b[49m Alireza AUTHOR\u001b[49m Fathi, AUTHOR\u001b[49m Sergio AUTHOR\u001b[49m Guadarrama, AUTHOR\u001b[49m and AUTHOR\u001b[49m Kevin AUTHOR\u001b[49m Murphy. AUTHOR\u001b[49m Tracking TITLE\u001b[49m emerges TITLE\u001b[49m by TITLE\u001b[49m colorizing TITLE\u001b[49m videos. TITLE\u001b[49m In TITLE\u001b[49m ECCV, BOOKTITLE\u001b[49m 2018. DATE\u001b[49m\n",
            "author author author author author author author author author author author title title title title title title booktitle date\n",
            "['', 'Carl', 'Vondrick,', 'Abhinav', 'Shrivastava,', 'Alireza', 'Fathi,', 'Sergio', 'Guadarrama,', 'and', 'Kevin', 'Murphy.', 'Tracking', 'emerges', 'by', 'colorizing', 'videos.', 'In', 'ECCV,', '2018.']\n",
            "['Carl', 'Vondrick,', 'Abhinav', 'Shrivastava,', 'Alireza', 'Fathi,', 'Sergio', 'Guadarrama,', 'and', 'Kevin', 'Murphy.', 'Tracking', 'emerges', 'by', 'colorizing', 'videos.', 'In', 'ECCV,', '2018.']\n",
            "['author', 'author', 'author', 'author', 'author', 'author', 'author', 'author', 'author', 'author', 'author', 'title', 'title', 'title', 'title', 'title', 'title', 'booktitle', 'date']\n",
            "[]\n",
            "\u001b[1m\n",
            "========================== Prediction for SEQ_LABEL ==========================\u001b[0m\n",
            "Jiaxin AUTHOR\u001b[49m Xie, AUTHOR\u001b[49m Chenyang AUTHOR\u001b[49m Lei, AUTHOR\u001b[49m Zhuwen AUTHOR\u001b[49m Li, AUTHOR\u001b[49m Li AUTHOR\u001b[49m Erran AUTHOR\u001b[49m Li, AUTHOR\u001b[49m and AUTHOR\u001b[49m Qifeng AUTHOR\u001b[49m Chen. AUTHOR\u001b[49m Video TITLE\u001b[49m depth TITLE\u001b[49m estimation TITLE\u001b[49m by TITLE\u001b[49m fusing TITLE\u001b[49m flow-to-depth TITLE\u001b[49m proposals. TITLE\u001b[49m IROS, BOOKTITLE\u001b[49m 2020. DATE\u001b[49m\n",
            "author author author author author author author author author author author author title title title title title title title booktitle date\n",
            "['', 'Jiaxin', 'Xie,', 'Chenyang', 'Lei,', 'Zhuwen', 'Li,', 'Li', 'Erran', 'Li,', 'and', 'Qifeng', 'Chen.', 'Video', 'depth', 'estimation', 'by', 'fusing', 'flow-to-depth', 'proposals.', 'IROS,', '2020.']\n",
            "['Jiaxin', 'Xie,', 'Chenyang', 'Lei,', 'Zhuwen', 'Li,', 'Li', 'Erran', 'Li,', 'and', 'Qifeng', 'Chen.', 'Video', 'depth', 'estimation', 'by', 'fusing', 'flow-to-depth', 'proposals.', 'IROS,', '2020.']\n",
            "['author', 'author', 'author', 'author', 'author', 'author', 'author', 'author', 'author', 'author', 'author', 'author', 'title', 'title', 'title', 'title', 'title', 'title', 'title', 'booktitle', 'date']\n",
            "[]\n",
            "\u001b[1m\n",
            "========================== Prediction for SEQ_LABEL ==========================\u001b[0m\n",
            "Zhicheng AUTHOR\u001b[49m Yan, AUTHOR\u001b[49m Hao AUTHOR\u001b[49m Zhang, AUTHOR\u001b[49m Baoyuan AUTHOR\u001b[49m Wang, AUTHOR\u001b[49m Sylvain AUTHOR\u001b[49m Paris, AUTHOR\u001b[49m and AUTHOR\u001b[49m Yizhou AUTHOR\u001b[49m Yu. AUTHOR\u001b[49m Automatic TITLE\u001b[49m photo TITLE\u001b[49m adjustment TITLE\u001b[49m using TITLE\u001b[49m deep TITLE\u001b[49m neural TITLE\u001b[49m networks. TITLE\u001b[49m ACM JOURNAL\u001b[49m Trans. JOURNAL\u001b[49m Graph., JOURNAL\u001b[49m 35(2):11:1–11:15, PAGES\u001b[49m 2016. DATE\u001b[49m\n",
            "author author author author author author author author author author author title title title title title title title journal journal journal pages date\n",
            "['', 'Zhicheng', 'Yan,', 'Hao', 'Zhang,', 'Baoyuan', 'Wang,', 'Sylvain', 'Paris,', 'and', 'Yizhou', 'Yu.', 'Automatic', 'photo', 'adjustment', 'using', 'deep', 'neural', 'networks.', 'ACM', 'Trans.', 'Graph.,', '35(2):11:1–11:15,', '2016.']\n",
            "['Zhicheng', 'Yan,', 'Hao', 'Zhang,', 'Baoyuan', 'Wang,', 'Sylvain', 'Paris,', 'and', 'Yizhou', 'Yu.', 'Automatic', 'photo', 'adjustment', 'using', 'deep', 'neural', 'networks.', 'ACM', 'Trans.', 'Graph.,', '35(2):11:1–11:15,', '2016.']\n",
            "['author', 'author', 'author', 'author', 'author', 'author', 'author', 'author', 'author', 'author', 'author', 'title', 'title', 'title', 'title', 'title', 'title', 'title', 'journal', 'journal', 'journal', 'pages', 'date']\n",
            "[]\n",
            "\u001b[1m\n",
            "========================== Prediction for SEQ_LABEL ==========================\u001b[0m\n",
            "Chun-Han AUTHOR\u001b[49m Yao, AUTHOR\u001b[49m Chia-Yang AUTHOR\u001b[49m Chang, AUTHOR\u001b[49m and AUTHOR\u001b[49m Shao-Yi AUTHOR\u001b[49m Chien. AUTHOR\u001b[49m Occlusionaware TITLE\u001b[49m video TITLE\u001b[49m temporal TITLE\u001b[49m consistency. TITLE\u001b[49m In BOOKTITLE\u001b[49m ACM BOOKTITLE\u001b[49m Multimedia, BOOKTITLE\u001b[49m 2017. DATE\u001b[49m\n",
            "author author author author author author author title title title title booktitle booktitle booktitle date\n",
            "['', 'Chun-Han', 'Yao,', 'Chia-Yang', 'Chang,', 'and', 'Shao-Yi', 'Chien.', 'Occlusionaware', 'video', 'temporal', 'consistency.', 'In', 'ACM', 'Multimedia,', '2017.']\n",
            "['Chun-Han', 'Yao,', 'Chia-Yang', 'Chang,', 'and', 'Shao-Yi', 'Chien.', 'Occlusionaware', 'video', 'temporal', 'consistency.', 'In', 'ACM', 'Multimedia,', '2017.']\n",
            "['author', 'author', 'author', 'author', 'author', 'author', 'author', 'title', 'title', 'title', 'title', 'booktitle', 'booktitle', 'booktitle', 'date']\n",
            "[]\n",
            "\u001b[1m\n",
            "========================== Prediction for SEQ_LABEL ==========================\u001b[0m\n",
            "Haotian AUTHOR\u001b[49m Zhang, AUTHOR\u001b[49m Long AUTHOR\u001b[49m Mai, AUTHOR\u001b[49m Ning AUTHOR\u001b[49m Xu, AUTHOR\u001b[49m Zhaowen AUTHOR\u001b[49m Wang, AUTHOR\u001b[49m John AUTHOR\u001b[49m Collomosse, AUTHOR\u001b[49m and AUTHOR\u001b[49m Hailin AUTHOR\u001b[49m Jin. AUTHOR\u001b[49m An TITLE\u001b[49m internal TITLE\u001b[49m learning TITLE\u001b[49m approach TITLE\u001b[49m to TITLE\u001b[49m video TITLE\u001b[49m inpainting. TITLE\u001b[49m In TITLE\u001b[49m ICCV, BOOKTITLE\u001b[49m 2019. DATE\u001b[49m\n",
            "author author author author author author author author author author author author author title title title title title title title title booktitle date\n",
            "['', 'Haotian', 'Zhang,', 'Long', 'Mai,', 'Ning', 'Xu,', 'Zhaowen', 'Wang,', 'John', 'Collomosse,', 'and', 'Hailin', 'Jin.', 'An', 'internal', 'learning', 'approach', 'to', 'video', 'inpainting.', 'In', 'ICCV,', '2019.']\n",
            "['Haotian', 'Zhang,', 'Long', 'Mai,', 'Ning', 'Xu,', 'Zhaowen', 'Wang,', 'John', 'Collomosse,', 'and', 'Hailin', 'Jin.', 'An', 'internal', 'learning', 'approach', 'to', 'video', 'inpainting.', 'In', 'ICCV,', '2019.']\n",
            "['author', 'author', 'author', 'author', 'author', 'author', 'author', 'author', 'author', 'author', 'author', 'author', 'author', 'title', 'title', 'title', 'title', 'title', 'title', 'title', 'title', 'booktitle', 'date']\n",
            "[]\n",
            "\u001b[1m\n",
            "========================== Prediction for SEQ_LABEL ==========================\u001b[0m\n",
            "Richard AUTHOR\u001b[49m Zhang, AUTHOR\u001b[49m Phillip AUTHOR\u001b[49m Isola, AUTHOR\u001b[49m and AUTHOR\u001b[49m Alexei AUTHOR\u001b[49m A TITLE\u001b[49m Efros. TITLE\u001b[49m Colorful TITLE\u001b[49m image TITLE\u001b[49m colorization. TITLE\u001b[49m In TITLE\u001b[49m ECCV, BOOKTITLE\u001b[49m 2016. DATE\u001b[49m\n",
            "author author author author author author title title title title title title booktitle date\n",
            "['', 'Richard', 'Zhang,', 'Phillip', 'Isola,', 'and', 'Alexei', 'A', 'Efros.', 'Colorful', 'image', 'colorization.', 'In', 'ECCV,', '2016.']\n",
            "['Richard', 'Zhang,', 'Phillip', 'Isola,', 'and', 'Alexei', 'A', 'Efros.', 'Colorful', 'image', 'colorization.', 'In', 'ECCV,', '2016.']\n",
            "['author', 'author', 'author', 'author', 'author', 'author', 'title', 'title', 'title', 'title', 'title', 'title', 'booktitle', 'date']\n",
            "[]\n",
            "\u001b[1m\n",
            "========================== Prediction for SEQ_LABEL ==========================\u001b[0m\n",
            "Jun-Yan AUTHOR\u001b[49m Zhu, AUTHOR\u001b[49m Taesung AUTHOR\u001b[49m Park, AUTHOR\u001b[49m Phillip AUTHOR\u001b[49m Isola, AUTHOR\u001b[49m and AUTHOR\u001b[49m Alexei AUTHOR\u001b[49m A TITLE\u001b[49m Efros. TITLE\u001b[49m Unpaired TITLE\u001b[49m image-to-image TITLE\u001b[49m translation TITLE\u001b[49m using TITLE\u001b[49m cycle-consistent TITLE\u001b[49m adversarial TITLE\u001b[49m networkss. TITLE\u001b[49m In TITLE\u001b[49m ICCV, BOOKTITLE\u001b[49m 2017. DATE\u001b[49m\n",
            "author author author author author author author author title title title title title title title title title title booktitle date\n",
            "['', 'Jun-Yan', 'Zhu,', 'Taesung', 'Park,', 'Phillip', 'Isola,', 'and', 'Alexei', 'A', 'Efros.', 'Unpaired', 'image-to-image', 'translation', 'using', 'cycle-consistent', 'adversarial', 'networkss.', 'In', 'ICCV,', '2017.']\n",
            "['Jun-Yan', 'Zhu,', 'Taesung', 'Park,', 'Phillip', 'Isola,', 'and', 'Alexei', 'A', 'Efros.', 'Unpaired', 'image-to-image', 'translation', 'using', 'cycle-consistent', 'adversarial', 'networkss.', 'In', 'ICCV,', '2017.']\n",
            "['author', 'author', 'author', 'author', 'author', 'author', 'author', 'author', 'title', 'title', 'title', 'title', 'title', 'title', 'title', 'title', 'title', 'title', 'booktitle', 'date']\n",
            "[]\n"
          ]
        }
      ]
    },
    {
      "cell_type": "code",
      "source": [
        "list_references"
      ],
      "metadata": {
        "colab": {
          "base_uri": "https://localhost:8080/"
        },
        "id": "0_4P4iiN355X",
        "outputId": "de3e0c49-8324-4f4f-9e28-caf4fd33cad7"
      },
      "execution_count": 174,
      "outputs": [
        {
          "output_type": "execute_result",
          "data": {
            "text/plain": [
              "[{'authors': ['Connelly Barnes',\n",
              "   ' Eli Shechtman',\n",
              "   ' Adam Finkelstein',\n",
              "   ' and Dan B Goldman. '],\n",
              "  'title': 'Patchmatch: A randomized correspondence algorithm for structural image editing. ',\n",
              "  'date': '2009.'},\n",
              " {'authors': ['Sean Bell', ' Kavita Bala', ' and Noah Snavely. '],\n",
              "  'title': 'Intrinsic images in the wild. ',\n",
              "  'date': '2014.'},\n",
              " {'authors': ['Nicolas Bonneel',\n",
              "   ' James Tompkin',\n",
              "   ' Kalyan Sunkavalli',\n",
              "   ' Deqing Sun',\n",
              "   ' Sylvain Paris',\n",
              "   ' and Hanspeter Pfister. '],\n",
              "  'title': 'Blind video temporal consistency. ',\n",
              "  'date': '2015.'},\n",
              " {'authors': ['Sergi Caelles',\n",
              "   ' Kevis-Kokitsi Maninis',\n",
              "   ' Jordi Pont-Tuset',\n",
              "   ' Laura LealTaixé',\n",
              "   ' Daniel Cremers',\n",
              "   ' and Luc Van Gool. '],\n",
              "  'title': 'One-shot video object segmentation. ',\n",
              "  'date': '2017.'},\n",
              " {'authors': ['Chen Chen',\n",
              "   ' Qifeng Chen',\n",
              "   ' Minh N Do',\n",
              "   ' and Vladlen Koltun. '],\n",
              "  'title': 'Seeing motion in the dark. In ',\n",
              "  'date': '2019.'},\n",
              " {'authors': ['Dongdong Chen',\n",
              "   ' Jing Liao',\n",
              "   ' Lu Yuan',\n",
              "   ' Nenghai Yu',\n",
              "   ' and Gang Hua. '],\n",
              "  'title': 'Coherent online video style transfer. In ',\n",
              "  'date': '2017.'},\n",
              " {'authors': ['Qifeng Chen and Vladlen Koltun. '],\n",
              "  'title': 'Photographic image synthesis with cascaded refinement networks. In ',\n",
              "  'date': '2017.'},\n",
              " {'authors': ['Xuan Dong', ' Boyan Bonev', ' Yu Zhu', ' and Alan L Yuille. '],\n",
              "  'title': 'Regionbased temporally consistent video post-processing. In ',\n",
              "  'date': '2015.'},\n",
              " {'authors': ['Gabriel Eilertsen', ' Rafal K Mantiuk', ' and Jonas Unger. '],\n",
              "  'title': 'Single-frame regularization for temporally stable cnns. In ',\n",
              "  'date': '2019.'},\n",
              " {'authors': ['Qingnan Fan',\n",
              "   ' Fan Zhong',\n",
              "   ' Dani Lischinski',\n",
              "   ' Daniel Cohen-Or',\n",
              "   ' and Baoquan Chen. Jumpcut: '],\n",
              "  'title': 'non-successive mask transfer and interpolation for video cutout. ',\n",
              "  'date': '2015.'},\n",
              " {'authors': ['Yossi Gandelsman', ' Assaf Shocher', ' and Michal Irani. '],\n",
              "  'title': 'Double-dip”: Unsupervised image decomposition via coupled deep-imagepriors. In ',\n",
              "  'date': '2019.'},\n",
              " {'authors': ['Leon A Gatys', ' Alexander S Ecker', ' and Matthias Bethge. '],\n",
              "  'title': 'Image style transfer using convolutional neural networks. In ',\n",
              "  'date': '2016.'},\n",
              " {'authors': ['Andreas Geiger', ' Philip Lenz', ' and Raquel Urtasun. '],\n",
              "  'title': 'Are we ready for autonomous driving? the kitti vision benchmark suite. ',\n",
              "  'date': '2012.'},\n",
              " {'authors': ['Michaël Gharbi',\n",
              "   ' Jiawen Chen',\n",
              "   ' Jonathan T Barron',\n",
              "   ' Samuel W Hasinoff',\n",
              "   ' and Frédo Durand. '],\n",
              "  'title': 'Deep bilateral learning for real-time image enhancement. ',\n",
              "  'date': '2017.'},\n",
              " {'authors': ['Kaiming He', ' Jian Sun', ' and Xiaoou Tang. '],\n",
              "  'title': 'Single image haze removal using dark channel prior. ',\n",
              "  'date': '2011.'},\n",
              " {'authors': ['Kaiming He', ' Jian Sun', ' and Xiaoou Tang. '],\n",
              "  'title': 'Guided image filtering. ',\n",
              "  'date': '2013.'},\n",
              " {'authors': ['Paul W Holland and Roy E Welsch. '],\n",
              "  'title': 'Robust regression using iteratively reweighted least-squares. ',\n",
              "  'date': '1977.'},\n",
              " {'authors': ['Eugene Hsu',\n",
              "   ' Tom Mertens',\n",
              "   ' Sylvain Paris',\n",
              "   ' Shai Avidan',\n",
              "   ' and Frédo Durand. '],\n",
              "  'title': 'Light mixture estimation for spatially varying white balance. ',\n",
              "  'date': '2008.'},\n",
              " {'authors': ['Haozhi Huang',\n",
              "   ' Hao Wang',\n",
              "   ' Wenhan Luo',\n",
              "   ' Lin Ma',\n",
              "   ' Wenhao Jiang',\n",
              "   ' Xiaolong Zhu',\n",
              "   ' Zhifeng Li',\n",
              "   ' and Wei Liu. '],\n",
              "  'title': 'Real-time neural style transfer for videos. In ',\n",
              "  'date': '2017.'},\n",
              " {'authors': ['Satoshi Iizuka and Edgar Simo-Serra. '],\n",
              "  'title': 'Deepremaster: temporal source-reference attention networks for comprehensive video enhancement. ',\n",
              "  'date': '2019.'},\n",
              " {'authors': ['Satoshi Iizuka',\n",
              "   ' Edgar Simo-Serra',\n",
              "   ' and Hiroshi Ishikawa. '],\n",
              "  'title': 'Let there be color! joint end-to-end learning of global and local image priors for automatic image colorization with simultaneous classification. In ',\n",
              "  'date': '2016.'},\n",
              " {'authors': ['Phillip Isola',\n",
              "   ' Jun-Yan Zhu',\n",
              "   ' Tinghui Zhou',\n",
              "   ' and Alexei '],\n",
              "  'title': 'A Efros. Image-to-image translation with conditional adversarial networks. In ',\n",
              "  'date': '2017.'},\n",
              " {'authors': ['Varun Jampani', ' Raghudeep Gadde', ' and Peter V. Gehler. '],\n",
              "  'title': 'Video propagation networks. In ',\n",
              "  'date': '2017.'},\n",
              " {'authors': ['Justin Johnson', ' Alexandre Alahi', ' and Li Fei-Fei. '],\n",
              "  'title': 'Perceptual losses for real-time style transfer and super-resolution. In ',\n",
              "  'date': '2016.'},\n",
              " {'authors': ['Anna Khoreva',\n",
              "   ' Rodrigo Benenson',\n",
              "   ' Eddy Ilg',\n",
              "   ' Thomas Brox',\n",
              "   ' and Bernt Schiele. '],\n",
              "  'title': 'Lucid data dreaming for video object segmentation. ',\n",
              "  'date': '2019.'},\n",
              " {'authors': ['Dahun Kim', ' Sanghyun Woo', ' Joon-Young Lee', ' and '],\n",
              "  'title': 'In So Kweon. Deep video inpainting. In ',\n",
              "  'date': '2019.'},\n",
              " {'authors': ['Diederik P Kingma and Jimmy Ba. Adam: '],\n",
              "  'title': 'A method for stochastic optimization. ',\n",
              "  'date': '2015.'},\n",
              " {'authors': ['Johannes Kopf',\n",
              "   ' Michael F. Cohen',\n",
              "   ' Dani Lischinski',\n",
              "   ' and Matthew Uyttendaele. '],\n",
              "  'title': 'Joint bilateral upsampling. ',\n",
              "  'date': '2007.'},\n",
              " {'authors': ['Wei-Sheng Lai',\n",
              "   ' Jia-Bin Huang',\n",
              "   ' Oliver Wang',\n",
              "   ' Eli Shechtman',\n",
              "   ' Ersin Yumer',\n",
              "   ' and Ming-Hsuan Yang. '],\n",
              "  'title': 'Learning blind video temporal consistency. In ',\n",
              "  'date': '2018.'},\n",
              " {'authors': ['Manuel Lang',\n",
              "   ' Oliver Wang',\n",
              "   ' Tunc Aydin',\n",
              "   ' Aljoscha Smolic',\n",
              "   ' and Markus Gross. '],\n",
              "  'title': 'Practical temporal consistency for image-based graphics applications. ',\n",
              "  'date': '2012.'},\n",
              " {'authors': ['Chenyang Lei and Qifeng Chen. '],\n",
              "  'title': 'Fully automatic video colorization with self-regularization and diversity. In ',\n",
              "  'date': '2019.'},\n",
              " {'authors': ['Chenyang Lei and Qifeng Chen. '],\n",
              "  'title': 'Robust reflection removal with reflection-free flash-only cues. In ',\n",
              "  'date': '2021.'},\n",
              " {'authors': ['Chenyang Lei',\n",
              "   ' Xuhua Huang',\n",
              "   ' Mengdi Zhang',\n",
              "   ' Qiong Yan',\n",
              "   ' Wenxiu Sun',\n",
              "   ' and Qifeng Chen. '],\n",
              "  'title': 'Polarized reflection removal with perfect alignment in the wild. In ',\n",
              "  'date': '2020.'},\n",
              " {'authors': ['Chenyang Lei', ' Yazhou Xing', ' and Qifeng Chen. '],\n",
              "  'title': 'Blind video temporal consistency via deep video prior. In ',\n",
              "  'date': '2020.'},\n",
              " {'authors': ['Anat Levin', ' Dani Lischinski', ' and Yair Weiss. '],\n",
              "  'title': 'Colorization using optimization. ',\n",
              "  'date': '2004.'},\n",
              " {'authors': ['Yijun Li',\n",
              "   ' Chen Fang',\n",
              "   ' Jimei Yang',\n",
              "   ' Zhaowen Wang',\n",
              "   ' Xin Lu',\n",
              "   ' and Ming-Hsuan Yang. '],\n",
              "  'title': 'Universal style transfer via feature transforms. In ',\n",
              "  'date': '2017.'},\n",
              " {'authors': ['Yijun Li',\n",
              "   ' Jia-Bin Huang',\n",
              "   ' Narendra Ahuja',\n",
              "   ' and Ming-Hsuan Yang. '],\n",
              "  'title': 'Deep joint image filtering. In ',\n",
              "  'date': '2016.'},\n",
              " {'authors': ['Ce Liu and William T Freeman. '],\n",
              "  'title': 'A high-quality video denoising algorithm based on reliable motion estimation. In ',\n",
              "  'date': '2010.'},\n",
              " {'authors': ['Jiaying Liu',\n",
              "   ' Wenhan Yang',\n",
              "   ' Shuai Yang',\n",
              "   ' and Zongming Guo. '],\n",
              "  'title': 'Erase or fill? deep joint recurrent rain removal and reconstruction in videos. In ',\n",
              "  'date': ''},\n",
              " {'authors': ['Sifei Liu',\n",
              "   ' Guangyu Zhong',\n",
              "   ' Shalini De Mello',\n",
              "   ' Jinwei Gu',\n",
              "   ' Varun Jampani',\n",
              "   ' Ming-Hsuan Yang',\n",
              "   ' and Jan Kautz. '],\n",
              "  'title': 'Switchable temporal propagation network. In ',\n",
              "  'date': '2018.'},\n",
              " {'authors': ['Jonathan Long', ' Evan Shelhamer', ' and Trevor Darrell. '],\n",
              "  'title': 'Fully convolutional networks for semantic segmentation. In ',\n",
              "  'date': '2015.'},\n",
              " {'authors': ['James MacQueen. '],\n",
              "  'title': 'Some methods for classification and analysis of multivariate observations. ',\n",
              "  'date': '1967.'},\n",
              " {'authors': ['Nicolas Märki',\n",
              "   ' Federico Perazzi',\n",
              "   ' Oliver Wang',\n",
              "   ' and Alexander Sorkine-Hornung. '],\n",
              "  'title': 'Bilateral space video segmentation. In ',\n",
              "  'date': '2016.'},\n",
              " {'authors': ['Simone Meyer',\n",
              "   ' Victor Cornillère',\n",
              "   ' Abdelaziz Djelouah',\n",
              "   ' Christopher Schroers',\n",
              "   ' and Markus H. Gross. '],\n",
              "  'title': 'Deep video color propagation. In ',\n",
              "  'date': '2018.'},\n",
              " {'authors': ['Ajay Nandoriya',\n",
              "   ' Mohamed Elgharib',\n",
              "   ' Changil Kim',\n",
              "   ' Mohamed Hefeeda',\n",
              "   ' and Wojciech Matusik. '],\n",
              "  'title': 'Video reflection removal through spatio-temporal optimization. In ',\n",
              "  'date': '2017.'},\n",
              " {'authors': ['Seoung Wug Oh',\n",
              "   ' Joon-Young Lee',\n",
              "   ' Ning Xu',\n",
              "   ' and Seon Joo Kim. '],\n",
              "  'title': 'Video object segmentation using space-time memory networks. ',\n",
              "  'date': '2019.'},\n",
              " {'authors': ['Federico Perazzi',\n",
              "   ' Jordi Pont-Tuset',\n",
              "   ' Brian McWilliams',\n",
              "   ' Luc Van Gool',\n",
              "   ' Markus Gross',\n",
              "   ' and Alexander Sorkine-Hornung. '],\n",
              "  'title': 'A benchmark dataset and evaluation methodology for video object segmentation. In ',\n",
              "  'date': '2016.'},\n",
              " {'authors': ['Federico Perazzi',\n",
              "   ' Oliver Wang',\n",
              "   ' Markus Gross',\n",
              "   ' and Alexander Sorkine-Hornung. '],\n",
              "  'title': 'Fully connected object proposals for video segmentation. In ',\n",
              "  'date': '2015.'},\n",
              " {'authors': ['Fitsum A. Reda',\n",
              "   ' Deqing Sun',\n",
              "   ' Aysegul Dundar',\n",
              "   ' Mohammad Shoeybi',\n",
              "   ' Guilin Liu',\n",
              "   ' Kevin J. Shih',\n",
              "   ' Andrew Tao',\n",
              "   ' Jan Kautz',\n",
              "   ' and Bryan Catanzaro. '],\n",
              "  'title': 'Unsupervised video interpolation using cycle consistency. In ',\n",
              "  'date': '2019.'},\n",
              " {'authors': ['Jen-Hao Rick Chang and Yu-Chiang Frank Wang. '],\n",
              "  'title': 'Propagated image filtering. In ',\n",
              "  'date': '2015.'},\n",
              " {'authors': ['Olaf Ronneberger', ' Philipp Fischer', ' and Thomas Brox. '],\n",
              "  'title': 'U-net: Convolutional networks for biomedical image segmentation. In ',\n",
              "  'date': '2015.'},\n",
              " {'authors': ['Manuel Ruder', ' Alexey Dosovitskiy', ' and Thomas Brox. '],\n",
              "  'title': 'Artistic style transfer for videos. In ',\n",
              "  'date': '2016.'},\n",
              " {'authors': ['Mehdi SM Sajjadi',\n",
              "   ' Raviteja Vemulapalli',\n",
              "   ' and Matthew Brown. '],\n",
              "  'title': 'Frame-recurrent video super-resolution. In ',\n",
              "  'date': '2018.'},\n",
              " {'authors': ['Tamar Rott Shaham',\n",
              "   ' Tali Dekel',\n",
              "   ' and Tomer Michaeli. Singan: '],\n",
              "  'title': 'Learning a generative model from a single natural image. In ',\n",
              "  'date': '2019.'},\n",
              " {'authors': ['Assaf Shocher',\n",
              "   ' Shai Bagon',\n",
              "   ' Phillip Isola',\n",
              "   ' and Michal Irani. '],\n",
              "  'title': 'Ingan: Capturing and retargeting the ”dna” of a natural image. In ',\n",
              "  'date': ''},\n",
              " {'authors': ['Assaf Shocher', ' Nadav Cohen', ' and Michal Irani. '],\n",
              "  'title': '“zero-shot” superresolution using deep internal learning. ',\n",
              "  'date': '2018.'},\n",
              " {'authors': ['Deqing Sun',\n",
              "   ' Xiaodong Yang',\n",
              "   ' Ming-Yu Liu',\n",
              "   ' and Jan Kautz. '],\n",
              "  'title': 'Pwcnet: Cnns for optical flow using pyramid, warping, and cost volume. In ',\n",
              "  'date': '2018.'},\n",
              " {'authors': ['Yi-Hsuan Tsai', ' Ming-Hsuan Yang', ' and Michael J Black. '],\n",
              "  'title': 'Video segmentation via object flow. In ',\n",
              "  'date': '2016.'},\n",
              " {'authors': ['Dmitry Ulyanov', ' Andrea Vedaldi', ' and Victor Lempitsky. '],\n",
              "  'title': 'Deep image prior. In ',\n",
              "  'date': '2018.'},\n",
              " {'authors': ['Carl Vondrick',\n",
              "   ' Abhinav Shrivastava',\n",
              "   ' Alireza Fathi',\n",
              "   ' Sergio Guadarrama',\n",
              "   ' and Kevin Murphy. '],\n",
              "  'title': 'Tracking emerges by colorizing videos. In ',\n",
              "  'date': '2018.'},\n",
              " {'authors': ['Jiaxin Xie',\n",
              "   ' Chenyang Lei',\n",
              "   ' Zhuwen Li',\n",
              "   ' Li Erran Li',\n",
              "   ' and Qifeng Chen. '],\n",
              "  'title': 'Video depth estimation by fusing flow-to-depth proposals. ',\n",
              "  'date': '2020.'},\n",
              " {'authors': ['Zhicheng Yan',\n",
              "   ' Hao Zhang',\n",
              "   ' Baoyuan Wang',\n",
              "   ' Sylvain Paris',\n",
              "   ' and Yizhou Yu. '],\n",
              "  'title': 'Automatic photo adjustment using deep neural networks. ',\n",
              "  'date': '2016.'},\n",
              " {'authors': ['Chun-Han Yao', ' Chia-Yang Chang', ' and Shao-Yi Chien. '],\n",
              "  'title': 'Occlusionaware video temporal consistency. ',\n",
              "  'date': '2017.'},\n",
              " {'authors': ['Haotian Zhang',\n",
              "   ' Long Mai',\n",
              "   ' Ning Xu',\n",
              "   ' Zhaowen Wang',\n",
              "   ' John Collomosse',\n",
              "   ' and Hailin Jin. '],\n",
              "  'title': 'An internal learning approach to video inpainting. In ',\n",
              "  'date': '2019.'},\n",
              " {'authors': ['Richard Zhang', ' Phillip Isola', ' and Alexei '],\n",
              "  'title': 'A Efros. Colorful image colorization. In ',\n",
              "  'date': '2016.'},\n",
              " {'authors': ['Jun-Yan Zhu',\n",
              "   ' Taesung Park',\n",
              "   ' Phillip Isola',\n",
              "   ' and Alexei '],\n",
              "  'title': 'A Efros. Unpaired image-to-image translation using cycle-consistent adversarial networkss. In ',\n",
              "  'date': '2017.'}]"
            ]
          },
          "metadata": {},
          "execution_count": 174
        }
      ]
    },
    {
      "cell_type": "markdown",
      "source": [
        "## installations"
      ],
      "metadata": {
        "id": "In0U41naAHif"
      }
    },
    {
      "cell_type": "code",
      "source": [
        "!pip freeze > requirements.txt"
      ],
      "metadata": {
        "id": "I3-5JasB38Dd"
      },
      "execution_count": 175,
      "outputs": []
    },
    {
      "cell_type": "markdown",
      "source": [
        "## LAMBDA FUNCTION"
      ],
      "metadata": {
        "id": "Fc8IrMjd_v3f"
      }
    },
    {
      "cell_type": "code",
      "source": [
        ""
      ],
      "metadata": {
        "id": "aCeGHtU7Az1M"
      },
      "execution_count": null,
      "outputs": []
    },
    {
      "cell_type": "code",
      "source": [
        ""
      ],
      "metadata": {
        "id": "drq570meAzuz"
      },
      "execution_count": null,
      "outputs": []
    },
    {
      "cell_type": "code",
      "source": [
        ""
      ],
      "metadata": {
        "id": "MGgtlKsaAzrQ"
      },
      "execution_count": null,
      "outputs": []
    },
    {
      "cell_type": "code",
      "source": [
        ""
      ],
      "metadata": {
        "id": "GKUC9iVWAzWa"
      },
      "execution_count": null,
      "outputs": []
    }
  ],
  "metadata": {
    "colab": {
      "name": "sciwing_notebook.ipynb",
      "provenance": [],
      "collapsed_sections": []
    },
    "kernelspec": {
      "display_name": "Python 3",
      "name": "python3"
    },
    "language_info": {
      "name": "python",
      "version": "3.8.10"
    }
  },
  "nbformat": 4,
  "nbformat_minor": 0
}
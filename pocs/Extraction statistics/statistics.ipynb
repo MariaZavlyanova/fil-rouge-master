{
 "cells": [
  {
   "cell_type": "markdown",
   "metadata": {},
   "source": [
    "Create prediction and expectation json files"
   ]
  },
  {
   "cell_type": "code",
   "execution_count": 2,
   "metadata": {},
   "outputs": [],
   "source": [
    "import json"
   ]
  },
  {
   "cell_type": "code",
   "execution_count": 3,
   "metadata": {},
   "outputs": [],
   "source": [
    "def write_json(new_data, filename='pdf_metadata.json', category = 'Papers'):\n",
    "    with open(filename,'r+') as file:\n",
    "          # First we load existing data into a dict.\n",
    "        file_data = json.load(file)\n",
    "        # Join new_data with file_data inside emp_details\n",
    "        file_data[category].append(new_data)\n",
    "        # Sets file's current position at offset.\n",
    "        file.seek(0)\n",
    "        # convert back to json.\n",
    "        json.dump(file_data, file, indent = 4)"
   ]
  },
  {
   "cell_type": "code",
   "execution_count": 9,
   "metadata": {},
   "outputs": [
    {
     "name": "stdout",
     "output_type": "stream",
     "text": [
      "Type: <class 'dict'>\n",
      "3\n"
     ]
    }
   ],
   "source": [
    "file = 'prediction.json'\n",
    "with open(file) as json_file:\n",
    "    data = json.load(json_file)\n",
    " \n",
    "    # Print the type of data variable\n",
    "    print(\"Type:\", type(data))\n",
    " \n",
    "    # Print the data of dictionary\n",
    "    print(len(data['References']))"
   ]
  },
  {
   "cell_type": "code",
   "execution_count": 7,
   "metadata": {},
   "outputs": [
    {
     "name": "stdout",
     "output_type": "stream",
     "text": [
      "17\n",
      "56\n",
      "96\n"
     ]
    }
   ],
   "source": [
    "# for i in range(len(data['References'])):\n",
    "#     print(len(data['References'][i]))"
   ]
  },
  {
   "cell_type": "code",
   "execution_count": 8,
   "metadata": {},
   "outputs": [],
   "source": [
    "# predictions = data['References'][0]\n",
    "# write_json(predictions, filename='prediction.json', category='References')"
   ]
  },
  {
   "cell_type": "markdown",
   "metadata": {},
   "source": [
    "Compate predictions and exectations"
   ]
  },
  {
   "cell_type": "code",
   "execution_count": 10,
   "metadata": {},
   "outputs": [
    {
     "name": "stdout",
     "output_type": "stream",
     "text": [
      "Type: <class 'dict'>\n",
      "predictions : 3\n",
      "Type: <class 'dict'>\n",
      "expectations : 3\n"
     ]
    }
   ],
   "source": [
    "prediction_file = 'prediction.json'\n",
    "expectation_file = 'expectation.json'\n",
    "\n",
    "with open(prediction_file) as json_prediction:\n",
    "    prediction = json.load(json_prediction)\n",
    " \n",
    "    # Print the type of data variable\n",
    "    print(\"Type:\", type(prediction))\n",
    " \n",
    "    # Print the data of dictionary\n",
    "    print(\"predictions : \"+str(len(prediction['References'])))\n",
    "\n",
    "with open(expectation_file) as json_expectation:\n",
    "    expectation = json.load(json_expectation)\n",
    " \n",
    "    # Print the type of data variable\n",
    "    print(\"Type:\", type(expectation))\n",
    " \n",
    "    # Print the data of dictionary\n",
    "    print(\"expectations : \"+str(len(expectation['References'])))"
   ]
  },
  {
   "cell_type": "code",
   "execution_count": 11,
   "metadata": {},
   "outputs": [],
   "source": [
    "predictions = prediction['References']\n",
    "expectations = expectation['References']"
   ]
  },
  {
   "cell_type": "code",
   "execution_count": 12,
   "metadata": {},
   "outputs": [],
   "source": [
    "# lists to compare\n",
    "list_predictions = []\n",
    "list_expectations = []\n",
    "for num in [0,1,2]:\n",
    "    for pred in predictions[num]:\n",
    "        list_predictions.append(pred['list_authors'])\n",
    "    for exp in expectations[num]:\n",
    "        list_expectations.append(exp['list_authors'])"
   ]
  },
  {
   "cell_type": "code",
   "execution_count": 13,
   "metadata": {},
   "outputs": [
    {
     "data": {
      "text/plain": [
       "False"
      ]
     },
     "execution_count": 13,
     "metadata": {},
     "output_type": "execute_result"
    }
   ],
   "source": [
    "list_predictions == list_expectations"
   ]
  },
  {
   "cell_type": "code",
   "execution_count": 14,
   "metadata": {},
   "outputs": [
    {
     "data": {
      "text/plain": [
       "True"
      ]
     },
     "execution_count": 14,
     "metadata": {},
     "output_type": "execute_result"
    }
   ],
   "source": [
    "len(list_predictions) == len(list_expectations)"
   ]
  },
  {
   "cell_type": "code",
   "execution_count": 15,
   "metadata": {},
   "outputs": [
    {
     "data": {
      "text/plain": [
       "169"
      ]
     },
     "execution_count": 15,
     "metadata": {},
     "output_type": "execute_result"
    }
   ],
   "source": [
    "len(list_predictions)"
   ]
  },
  {
   "cell_type": "code",
   "execution_count": 16,
   "metadata": {},
   "outputs": [],
   "source": [
    "import numpy as np"
   ]
  },
  {
   "cell_type": "markdown",
   "metadata": {},
   "source": [
    "Comparer le nombre d'auteurs extraits"
   ]
  },
  {
   "cell_type": "code",
   "execution_count": null,
   "metadata": {},
   "outputs": [],
   "source": []
  },
  {
   "cell_type": "code",
   "execution_count": 36,
   "metadata": {},
   "outputs": [
    {
     "name": "stdout",
     "output_type": "stream",
     "text": [
      "la moeynne d'écart du nombre d'auteurs extraits est : 1.272189349112426\n",
      "MSE : 3.63905325443787\n",
      "RMSE :  1.9076302719441915\n"
     ]
    }
   ],
   "source": [
    "num_predictions = []\n",
    "for pred in list_predictions:\n",
    "    num_predictions.append(len(pred))\n",
    "prediction_array = np.array(num_predictions)\n",
    "\n",
    "num_expectations = []\n",
    "for pred in list_expectations:\n",
    "    num_expectations.append(len(pred))\n",
    "expectation_array = np.array(num_expectations)\n",
    "\n",
    "# metriques statistique\n",
    "diff_abs = np.absolute(prediction_array - expectation_array)\n",
    "diff = prediction_array - expectation_array\n",
    "\n",
    "\n",
    "mse = (np.square(diff)).mean(axis=None)\n",
    "rmse = np.sqrt(((diff) ** 2).mean())\n",
    "\n",
    "print(\"la moeynne d'écart du nombre d'auteurs extraits est :\", np.mean(diff_abs))\n",
    "print('MSE :', mse)\n",
    "print(\"RMSE : \", rmse)"
   ]
  },
  {
   "cell_type": "code",
   "execution_count": 39,
   "metadata": {},
   "outputs": [
    {
     "data": {
      "image/png": "[encoded data removed]",
      "text/plain": [
       "<Figure size 432x288 with 1 Axes>"
      ]
     },
     "metadata": {
      "needs_background": "light"
     },
     "output_type": "display_data"
    }
   ],
   "source": [
    "import matplotlib.pyplot as plt\n",
    "\n",
    "plt.boxplot(diff)\n",
    "\n",
    "# plt.ylim(0,10)\n",
    "\n",
    "plt.savefig('SimpleBoxPlot.png')\n",
    "plt.show()"
   ]
  },
  {
   "cell_type": "code",
   "execution_count": 19,
   "metadata": {},
   "outputs": [],
   "source": []
  },
  {
   "cell_type": "code",
   "execution_count": 20,
   "metadata": {},
   "outputs": [
    {
     "data": {
      "text/plain": [
       "-1.1538461538461537"
      ]
     },
     "execution_count": 20,
     "metadata": {},
     "output_type": "execute_result"
    }
   ],
   "source": []
  },
  {
   "cell_type": "code",
   "execution_count": null,
   "metadata": {},
   "outputs": [],
   "source": []
  },
  {
   "cell_type": "code",
   "execution_count": null,
   "metadata": {},
   "outputs": [],
   "source": []
  }
 ],
 "metadata": {
  "interpreter": {
   "hash": "672f00ec7bfe5cfaa33fad3415c0c0b4b00a6e6abd697d74b3f381a320750fa0"
  },
  "kernelspec": {
   "display_name": "Python 3.10.4 64-bit (windows store)",
   "language": "python",
   "name": "python3"
  },
  "language_info": {
   "codemirror_mode": {
    "name": "ipython",
    "version": 3
   },
   "file_extension": ".py",
   "mimetype": "text/x-python",
   "name": "python",
   "nbconvert_exporter": "python",
   "pygments_lexer": "ipython3",
   "version": "3.10.4"
  },
  "orig_nbformat": 4
 },
 "nbformat": 4,
 "nbformat_minor": 2
}

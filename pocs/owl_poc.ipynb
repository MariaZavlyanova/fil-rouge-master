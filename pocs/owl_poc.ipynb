{
 "cells": [
  {
   "cell_type": "markdown",
   "metadata": {},
   "source": [
    "Create Ontology"
   ]
  },
  {
   "cell_type": "code",
   "execution_count": 1,
   "metadata": {},
   "outputs": [
    {
     "name": "stderr",
     "output_type": "stream",
     "text": [
      "* Owlready2 * Warning: optimized Cython parser module 'owlready2_optimized' is not available, defaulting to slower Python implementation\n"
     ]
    }
   ],
   "source": [
    "from owlready2 import *"
   ]
  },
  {
   "cell_type": "code",
   "execution_count": 2,
   "metadata": {},
   "outputs": [],
   "source": [
    "from  common.cleaner import clean_char\n",
    "\n",
    "def _escape_value(text: str) -> str:\n",
    "    \"\"\"Escape the illegal characters for an ontology property\"\"\"\n",
    "    if text is None:\n",
    "        return None\n",
    "    # function to escape XML character data\n",
    "    text = escape(text)\n",
    "    text = text.replace('\\n', '')\n",
    "    text = text.replace('\\r', '')\n",
    "    text = text.replace('\\f', '')\n",
    "    text = text.replace('\\b', '')\n",
    "    text = text.replace('\"', '')\n",
    "    text = text.replace('[', '')\n",
    "    text = text.replace(']', '')\n",
    "    text = text.replace('{', '')\n",
    "    text = text.replace('}', '')\n",
    "    text = text.replace('#', '')\n",
    "    text = text.replace('|', '')\n",
    "    text = clean_char(text)\n",
    "    return text\n",
    "\n",
    "def _escape_iri(text: str) -> str:\n",
    "    \"\"\"For IRI, we replace space character by _\"\"\"\n",
    "    if text is None:\n",
    "        return None\n",
    "    text = _escape_value(text)\n",
    "    text = text.replace(' ', '_')\n",
    "    text = text.replace('.', '_')\n",
    "    return text\n"
   ]
  },
  {
   "cell_type": "code",
   "execution_count": 3,
   "metadata": {},
   "outputs": [],
   "source": [
    "onto = get_ontology(\"http://authors_relations.org/onto.owl\")"
   ]
  },
  {
   "cell_type": "code",
   "execution_count": 4,
   "metadata": {},
   "outputs": [],
   "source": [
    "# Create classes\n",
    "\n",
    "with onto :\n",
    "    class Author(Thing):\n",
    "        pass\n",
    "    class ConnectedAuthor(Author):\n",
    "        pass\n",
    "    class InterestingAuthor(ConnectedAuthor):\n",
    "        pass\n",
    "\n",
    "    class Article(Thing):\n",
    "        # name of an article is the pdf_id in arxiv\n",
    "        pass\n"
   ]
  },
  {
   "cell_type": "code",
   "execution_count": 5,
   "metadata": {},
   "outputs": [
    {
     "data": {
      "text/plain": [
       "[onto.Author, onto.ConnectedAuthor, onto.InterestingAuthor, onto.Article]"
      ]
     },
     "execution_count": 5,
     "metadata": {},
     "output_type": "execute_result"
    }
   ],
   "source": [
    "list(onto.classes())"
   ]
  },
  {
   "cell_type": "code",
   "execution_count": 6,
   "metadata": {},
   "outputs": [
    {
     "name": "stdout",
     "output_type": "stream",
     "text": [
      "<generator object EntityClass.subclasses at 0x0000027D59BF89E0>\n",
      "{onto.Author, owl.Thing, onto.ConnectedAuthor}\n"
     ]
    }
   ],
   "source": [
    "print(Author.subclasses())\n",
    "print(ConnectedAuthor.ancestors())"
   ]
  },
  {
   "cell_type": "code",
   "execution_count": 7,
   "metadata": {},
   "outputs": [
    {
     "data": {
      "text/plain": [
       "get_ontology(\"http://authors_relations.org/onto.owl#\")"
      ]
     },
     "execution_count": 7,
     "metadata": {},
     "output_type": "execute_result"
    }
   ],
   "source": [
    "onto"
   ]
  },
  {
   "cell_type": "code",
   "execution_count": 8,
   "metadata": {},
   "outputs": [],
   "source": [
    "# Save the ontology\n",
    "onto.save(file = \"authors_relations.owl\")"
   ]
  },
  {
   "cell_type": "code",
   "execution_count": 9,
   "metadata": {},
   "outputs": [],
   "source": [
    "# Create new class properties\n",
    "with onto:\n",
    "    class wrote_Article(Author >> Article):\n",
    "        pass\n",
    "    class quoted_Auteur(Author >> ConnectedAuthor):\n",
    "        pass\n",
    "    class quoted_by(ConnectedAuthor >> Author):\n",
    "        inverse_property = quoted_Auteur\n",
    "    class wrote_by(Article >> Author):\n",
    "        inverse_property = wrote_Article\n",
    "    class quoted_in(ConnectedAuthor >> Article):\n",
    "        pass\n",
    "    "
   ]
  },
  {
   "cell_type": "markdown",
   "metadata": {},
   "source": [
    "Import data"
   ]
  },
  {
   "cell_type": "code",
   "execution_count": 10,
   "metadata": {},
   "outputs": [
    {
     "name": "stdout",
     "output_type": "stream",
     "text": [
      "References : 217\n",
      "Authors : 216\n"
     ]
    }
   ],
   "source": [
    "# Import the Data to put in ontology\n",
    "# importing the module\n",
    "import json\n",
    " \n",
    "# Opening JSON file with references\n",
    "with open('pdf_references.json') as json_file:\n",
    "    prediction = json.load(json_file)\n",
    "prediction = prediction['References']\n",
    "\n",
    "# Opening JSON file with metadata\n",
    "with open('pdf_metadata.json') as json_file:\n",
    "    metadata = json.load(json_file)\n",
    "metadata = metadata['Papers']\n",
    "\n",
    "print(\"References : \"+str(len(prediction)))\n",
    "print(\"Authors : \"+str(len(metadata)))"
   ]
  },
  {
   "cell_type": "markdown",
   "metadata": {},
   "source": [
    "Nettoyage de données"
   ]
  },
  {
   "cell_type": "code",
   "execution_count": null,
   "metadata": {},
   "outputs": [],
   "source": [
    "# TODO : nettoyer la donnée"
   ]
  },
  {
   "cell_type": "code",
   "execution_count": 17,
   "metadata": {},
   "outputs": [
    {
     "name": "stdout",
     "output_type": "stream",
     "text": [
      "|T\n",
      "≤ |A(s)| ·'\n",
      "µh(ah|xh\n",
      "|Ch(xh−2\n",
      "µh(·|xh)||µt h(·|xh\n",
      "µh(·|xh)||µt h(·|xh\n",
      "µh(·|xh)||µt h(·|xh\n",
      "||µt h′\n",
      "||µt h′\n",
      "||µt h′\n",
      "||µt h′\n",
      "µh(·|xh)||µt h(·|xh\n",
      "∈ ∆(S1)}∪{ph(·|sh\n",
      "∈ ∆(S1)}∪{ph(·|sh\n"
     ]
    }
   ],
   "source": [
    " for reference in prediction:\n",
    "\n",
    "        for reference_line in reference:\n",
    "\n",
    "            for author_reference in reference_line['list_authors']:\n",
    "                if '|' in author_reference:\n",
    "                    print(author_reference)\n",
    "                "
   ]
  },
  {
   "cell_type": "code",
   "execution_count": null,
   "metadata": {},
   "outputs": [],
   "source": []
  },
  {
   "cell_type": "code",
   "execution_count": null,
   "metadata": {},
   "outputs": [],
   "source": []
  },
  {
   "cell_type": "code",
   "execution_count": 12,
   "metadata": {},
   "outputs": [],
   "source": [
    "# Créer les auteurs et les articles d'abord\n",
    "\n",
    "for article in metadata[:50]:\n",
    "    pdf_id = article['id']\n",
    "    article_name = pdf_id\n",
    "    article_name = Article(_escape_iri(pdf_id))\n",
    "    for author_qui_cite in article['authors']:   \n",
    "        # identifier les noms\n",
    "        author_qui_cite_name = _escape_value(author_qui_cite)\n",
    "        \n",
    "        # identifier les classes\n",
    "        author_qui_cite_name = Author(_escape_iri(author_qui_cite))\n",
    "        # identifier les relations\n",
    "        \n",
    "        author_qui_cite_name.wrote_Article=[article_name]\n",
    "        # print(str(author_qui_cite_name) + ' a écrit l\\'article ' + str(article_name))"
   ]
  },
  {
   "cell_type": "code",
   "execution_count": 34,
   "metadata": {},
   "outputs": [],
   "source": [
    "# References\n",
    "deja_cite = []\n",
    "for reference in prediction:\n",
    "            for reference_line in reference:\n",
    "                ref_id = _escape_iri(reference_line['id'])\n",
    "\n",
    "                for inst in onto.Article.instances():\n",
    "                    pdf_id = str(inst).split('.')[-1]\n",
    "\n",
    "                    \n",
    "                    if pdf_id == ref_id:\n",
    "                        for author_reference in reference_line['list_authors']:\n",
    " \n",
    "                            # identifier les noms\n",
    "                            author_reference_name = _escape_value(author_reference)\n",
    "                            article_name = inst\n",
    "\n",
    "                            # identifier les classes\n",
    "                            try :\n",
    "                                author_reference_name = ConnectedAuthor(_escape_iri(author_reference))\n",
    "                                author_reference_name.quoted_in=[article_name]\n",
    "                                # deja_cite.append(author_qui_cite_name)\n",
    "                            except onto.search(iri = \"*{}\".format(_escape_iri(author_reference))):\n",
    "                                print(\"hello\")\n",
    "                                author_reference_name = onto.search(iri = \"*{}\".format(_escape_iri(author_reference)))[0]\n",
    "                                author_reference_name.quoted_in=[article_name]\n",
    "                            else :\n",
    "                                author_reference_name = onto.search(iri = \"*{}\".format(_escape_iri(author_reference)))[0]\n",
    "                                author_reference_name.quoted_in=[article_name]\n",
    "                                # print(author_reference_name)\n",
    "                                author_reference_name.quoted_in=[article_name]\n",
    "\n",
    "# print(deja_cite)"
   ]
  },
  {
   "cell_type": "code",
   "execution_count": 32,
   "metadata": {},
   "outputs": [
    {
     "data": {
      "text/plain": [
       "onto.ConnectedAuthor"
      ]
     },
     "execution_count": 32,
     "metadata": {},
     "output_type": "execute_result"
    }
   ],
   "source": [
    "type(onto.search(iri = \"*{}\".format(_escape_iri(author_reference)))[0])"
   ]
  },
  {
   "cell_type": "code",
   "execution_count": 30,
   "metadata": {},
   "outputs": [
    {
     "data": {
      "text/plain": [
       "onto.F__Song"
      ]
     },
     "execution_count": 30,
     "metadata": {},
     "output_type": "execute_result"
    }
   ],
   "source": [
    "author_reference_name"
   ]
  },
  {
   "cell_type": "code",
   "execution_count": 35,
   "metadata": {},
   "outputs": [
    {
     "data": {
      "text/plain": [
       "4640"
      ]
     },
     "execution_count": 35,
     "metadata": {},
     "output_type": "execute_result"
    }
   ],
   "source": [
    "count = 0\n",
    "for rel in onto.quoted_in.get_relations():\n",
    "    count +=1\n",
    "count\n"
   ]
  },
  {
   "cell_type": "code",
   "execution_count": 36,
   "metadata": {},
   "outputs": [
    {
     "name": "stderr",
     "output_type": "stream",
     "text": [
      "* Owlready2 * Running HermiT...\n",
      "    java -Xmx2000M -cp c:\\Users\\Maria\\Documents\\00-projets\\fil-rouge-master\\fil-rouge-master\\.venv\\lib\\site-packages\\owlready2\\hermit;c:\\Users\\Maria\\Documents\\00-projets\\fil-rouge-master\\fil-rouge-master\\.venv\\lib\\site-packages\\owlready2\\hermit\\HermiT.jar org.semanticweb.HermiT.cli.CommandLine -c -O -D -I file:///C:/Users/Maria/AppData/Local/Temp/tmpowtec7wt\n",
      "* Owlready2 * HermiT took 1.0168304443359375 seconds\n",
      "* Owlready * Reparenting onto.Zhanhao_Hu: {onto.Author} => {onto.ConnectedAuthor}\n",
      "* Owlready * Reparenting onto.Yuanhao_Yu: {onto.Author} => {onto.ConnectedAuthor}\n",
      "* Owlready * Reparenting onto.Jia_Meng: {onto.Author} => {onto.ConnectedAuthor}\n",
      "* Owlready * Reparenting onto.Anqi_Li: {onto.Author} => {onto.ConnectedAuthor}\n",
      "* Owlready * Reparenting onto.Qiang_Fu: {onto.Author} => {onto.ConnectedAuthor}\n",
      "* Owlready * Reparenting onto.Fengrui_Cheng: {onto.Author} => {onto.ConnectedAuthor}\n",
      "* Owlready * Reparenting onto.Hongwei_Yi: {onto.Author} => {onto.ConnectedAuthor}\n",
      "* Owlready * Reparenting onto.Paul_H__J__Kelly: {onto.Author} => {onto.ConnectedAuthor}\n",
      "* Owlready * Reparenting onto.Dong-Ki_Kim: {onto.Author} => {onto.ConnectedAuthor}\n",
      "* Owlready * Reparenting onto.Zeqi_Lin: {onto.Author} => {onto.ConnectedAuthor}\n",
      "* Owlready * Reparenting onto.Anna_V__Kononova: {onto.Author} => {onto.ConnectedAuthor}\n",
      "* Owlready * Reparenting onto.Yifeng_Zeng: {onto.Author} => {onto.ConnectedAuthor}\n",
      "* Owlready * Reparenting onto.Donghan_Xie: {onto.Author} => {onto.ConnectedAuthor}\n",
      "* Owlready * Reparenting onto.Yukyung_Lee: {onto.Author} => {onto.ConnectedAuthor}\n",
      "* Owlready * Reparenting onto.Chenyang_Qiu: {onto.Author} => {onto.ConnectedAuthor}\n",
      "* Owlready * Reparenting onto.Tang_Jin: {onto.Author} => {onto.ConnectedAuthor}\n",
      "* Owlready * Reparenting onto.Jinzheng_Zhao: {onto.Author} => {onto.ConnectedAuthor}\n",
      "* Owlready * Reparenting onto.Ukrit_Wattanavaekin: {onto.Author} => {onto.ConnectedAuthor}\n",
      "* Owlready * Reparenting onto.Huajun_Chen: {onto.Author} => {onto.ConnectedAuthor}\n",
      "* Owlready * Reparenting onto.Björn_W__Schuller: {onto.Author} => {onto.ConnectedAuthor}\n",
      "* Owlready * Reparenting onto.Abduallah_Mohamed: {onto.Author} => {onto.ConnectedAuthor}\n",
      "* Owlready * Reparenting onto.Cong_Zhou: {onto.Author} => {onto.ConnectedAuthor}\n",
      "* Owlready * Reparenting onto.Yihan_Zuo: {onto.Author} => {onto.ConnectedAuthor}\n",
      "* Owlready * Reparenting onto.Tessa_van_der_Heiden: {onto.Author} => {onto.ConnectedAuthor}\n",
      "* Owlready * Reparenting onto.Shuangzhi_Wu: {onto.Author} => {onto.ConnectedAuthor}\n",
      "* Owlready * Reparenting onto.Herke_van_Hoof: {onto.Author} => {onto.ConnectedAuthor}\n",
      "* Owlready * Reparenting onto.Ruomai_Yang: {onto.Author} => {onto.ConnectedAuthor}\n",
      "* Owlready * (NB: only changes on entities loaded in Python are shown, other changes are done but not listed)\n"
     ]
    }
   ],
   "source": [
    "sync_reasoner()"
   ]
  },
  {
   "cell_type": "code",
   "execution_count": 37,
   "metadata": {},
   "outputs": [],
   "source": [
    "onto.save(file = \"authors_relations.owl\")"
   ]
  },
  {
   "cell_type": "code",
   "execution_count": null,
   "metadata": {},
   "outputs": [],
   "source": [
    "# TODO : ajouter pour personne cité, les auteurs qui l'ont cité, avec la relation quoted_Author ou bien quoted_by"
   ]
  },
  {
   "cell_type": "code",
   "execution_count": null,
   "metadata": {},
   "outputs": [],
   "source": []
  },
  {
   "cell_type": "code",
   "execution_count": null,
   "metadata": {},
   "outputs": [],
   "source": [
    "# TODO\n",
    "# Règle 1 : Connected Author qui est cité plus de 50 fois \n",
    "# (comptage de relations quoted_in pour ConnectedAuthor) \n",
    "# est une InterestingAuthor\n",
    "\n",
    "\n"
   ]
  },
  {
   "cell_type": "code",
   "execution_count": 21,
   "metadata": {},
   "outputs": [
    {
     "data": {
      "text/plain": [
       "onto.Siyu_Tang"
      ]
     },
     "execution_count": 21,
     "metadata": {},
     "output_type": "execute_result"
    }
   ],
   "source": [
    "onto.Siyu_Tang"
   ]
  },
  {
   "cell_type": "code",
   "execution_count": 32,
   "metadata": {},
   "outputs": [],
   "source": [
    "onto.save(file = \"authors_relations.owl\")"
   ]
  },
  {
   "cell_type": "code",
   "execution_count": 70,
   "metadata": {},
   "outputs": [],
   "source": [
    "# Case permet de réinitialiser les instances enregistrées\n",
    "for individual in Author.instances(): \n",
    "    destroy_entity(individual)\n",
    "\n",
    "for individual in ConnectedAuthor.instances(): \n",
    "    destroy_entity(individual)\n",
    "\n",
    "for individual in Article.instances(): \n",
    "    destroy_entity(individual)"
   ]
  },
  {
   "cell_type": "code",
   "execution_count": null,
   "metadata": {},
   "outputs": [],
   "source": []
  }
 ],
 "metadata": {
  "interpreter": {
   "hash": "b77770f66b54ee3b66e0336be670941170105acf4e3853567ca5709bd62588f7"
  },
  "kernelspec": {
   "display_name": "Python 3.10.4 ('.venv': venv)",
   "language": "python",
   "name": "python3"
  },
  "language_info": {
   "codemirror_mode": {
    "name": "ipython",
    "version": 3
   },
   "file_extension": ".py",
   "mimetype": "text/x-python",
   "name": "python",
   "nbconvert_exporter": "python",
   "pygments_lexer": "ipython3",
   "version": "3.10.4"
  },
  "orig_nbformat": 4
 },
 "nbformat": 4,
 "nbformat_minor": 2
}

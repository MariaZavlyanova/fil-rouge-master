{
 "cells": [
  {
   "cell_type": "markdown",
   "metadata": {},
   "source": [
    "Create Ontology"
   ]
  },
  {
   "cell_type": "code",
   "execution_count": 14,
   "metadata": {},
   "outputs": [],
   "source": [
    "from owlready2 import *"
   ]
  },
  {
   "cell_type": "code",
   "execution_count": 15,
   "metadata": {},
   "outputs": [],
   "source": [
    "from  common.cleaner import clean_char\n",
    "\n",
    "def _escape_value(text: str) -> str:\n",
    "    \"\"\"Escape the illegal characters for an ontology property\"\"\"\n",
    "    if text is None:\n",
    "        return None\n",
    "    # function to escape XML character data\n",
    "    text = escape(text)\n",
    "    text = text.replace('\\n', '')\n",
    "    text = text.replace('\\r', '')\n",
    "    text = text.replace('\\f', '')\n",
    "    text = text.replace('\\b', '')\n",
    "    text = text.replace('\"', '')\n",
    "    text = text.replace('[', '')\n",
    "    text = text.replace(']', '')\n",
    "    text = text.replace('{', '')\n",
    "    text = text.replace('}', '')\n",
    "    text = text.replace('#', '')\n",
    "    text = text.replace('|', '')\n",
    "    text = clean_char(text)\n",
    "    return text\n",
    "\n",
    "def _escape_iri(text: str) -> str:\n",
    "    \"\"\"For IRI, we replace space character by _\"\"\"\n",
    "    if text is None:\n",
    "        return None\n",
    "    text = _escape_value(text)\n",
    "    text = text.replace(' ', '_')\n",
    "    text = text.replace('.', '_')\n",
    "    return text\n"
   ]
  },
  {
   "cell_type": "code",
   "execution_count": 16,
   "metadata": {},
   "outputs": [],
   "source": [
    "onto = get_ontology(\"http://authors_relations.org/onto.owl\")"
   ]
  },
  {
   "cell_type": "code",
   "execution_count": 17,
   "metadata": {},
   "outputs": [],
   "source": [
    "# Create classes\n",
    "\n",
    "with onto :\n",
    "    class Author(Thing):\n",
    "        pass\n",
    "    class ConnectedAuthor(Author):\n",
    "        pass\n",
    "\n",
    "    class Article(Thing):\n",
    "        # name of an article is the pdf_id in arxiv\n",
    "        pass\n"
   ]
  },
  {
   "cell_type": "code",
   "execution_count": 20,
   "metadata": {},
   "outputs": [],
   "source": [
    "# Data property\n",
    "\n",
    "with onto :\n",
    "    class has_number_citations(DataProperty):\n",
    "        range = [int]"
   ]
  },
  {
   "cell_type": "code",
   "execution_count": 21,
   "metadata": {},
   "outputs": [
    {
     "data": {
      "text/plain": [
       "[onto.Author, onto.ConnectedAuthor, onto.InterestingAuthor, onto.Article]"
      ]
     },
     "execution_count": 21,
     "metadata": {},
     "output_type": "execute_result"
    }
   ],
   "source": [
    "list(onto.classes())"
   ]
  },
  {
   "cell_type": "code",
   "execution_count": 22,
   "metadata": {},
   "outputs": [
    {
     "name": "stdout",
     "output_type": "stream",
     "text": [
      "<generator object EntityClass.subclasses at 0x000001FF7F507AE0>\n",
      "{onto.Author, owl.Thing, onto.ConnectedAuthor}\n"
     ]
    }
   ],
   "source": [
    "print(Author.subclasses())\n",
    "print(ConnectedAuthor.ancestors())"
   ]
  },
  {
   "cell_type": "code",
   "execution_count": 24,
   "metadata": {},
   "outputs": [],
   "source": [
    "# Save the ontology\n",
    "onto.save(file = \"authors_relations.owl\")"
   ]
  },
  {
   "cell_type": "code",
   "execution_count": 25,
   "metadata": {},
   "outputs": [],
   "source": [
    "# Create new properties to create relations\n",
    "with onto:\n",
    "    class wrote_Article(ObjectProperty):\n",
    "        pass\n",
    "\n",
    "    class quoted_Auteur(ObjectProperty):\n",
    "        domain = [Author]\n",
    "        range = [ConnectedAuthor, Author]\n",
    "\n",
    "    class quoted_by(ConnectedAuthor >> Author):\n",
    "        inverse_property = quoted_Auteur\n",
    "\n",
    "    class wrote_by(Article >> Author):\n",
    "        inverse_property = wrote_Article\n",
    "\n",
    "    class quoted_in(ObjectProperty):\n",
    "        domain = [ConnectedAuthor, Author]\n",
    "        range = [Article]\n",
    "\n",
    "        \n",
    "    "
   ]
  },
  {
   "cell_type": "markdown",
   "metadata": {},
   "source": [
    "Import data"
   ]
  },
  {
   "cell_type": "code",
   "execution_count": 26,
   "metadata": {},
   "outputs": [
    {
     "name": "stdout",
     "output_type": "stream",
     "text": [
      "References : 217\n",
      "Authors : 216\n"
     ]
    }
   ],
   "source": [
    "# Import the Data to put in ontology\n",
    "# importing the module\n",
    "import json\n",
    " \n",
    "# Opening JSON file with references\n",
    "with open('pdf_references.json') as json_file:\n",
    "    prediction = json.load(json_file)\n",
    "prediction = prediction['References']\n",
    "\n",
    "# Opening JSON file with metadata\n",
    "with open('pdf_metadata.json') as json_file:\n",
    "    metadata = json.load(json_file)\n",
    "metadata = metadata['Papers']\n",
    "\n",
    "print(\"References : \"+str(len(prediction)))\n",
    "print(\"Authors : \"+str(len(metadata)))"
   ]
  },
  {
   "cell_type": "markdown",
   "metadata": {},
   "source": [
    "Créer les instances"
   ]
  },
  {
   "cell_type": "code",
   "execution_count": 72,
   "metadata": {},
   "outputs": [],
   "source": [
    "# Créer les auteurs et les articles d'abord\n",
    "\n",
    "for article in metadata:\n",
    "    pdf_id = article['id']\n",
    "    article_name = pdf_id\n",
    "    article_name = Article(_escape_iri(pdf_id))\n",
    "    for author_qui_cite in article['authors']:   \n",
    "        # identifier les noms\n",
    "        author_qui_cite_name = _escape_value(author_qui_cite)\n",
    "        \n",
    "        # identifier les classes\n",
    "        author_qui_cite_name = Author(_escape_iri(author_qui_cite))\n",
    "        # identifier les relations\n",
    "        \n",
    "        author_qui_cite_name.wrote_Article=[article_name]\n",
    "        # print(str(author_qui_cite_name) + ' a écrit l\\'article ' + str(article_name))"
   ]
  },
  {
   "cell_type": "code",
   "execution_count": 73,
   "metadata": {},
   "outputs": [],
   "source": [
    "# References\n",
    "\n",
    "for reference in prediction:\n",
    "            for reference_line in reference:\n",
    "                ref_id = _escape_iri(reference_line['id'])\n",
    "\n",
    "                for instance_article in onto.Article.instances():\n",
    "                    pdf_id = str(instance_article).split('.')[-1]\n",
    "\n",
    "                    \n",
    "                    if pdf_id == ref_id:\n",
    "                        for author_reference in reference_line['list_authors']:\n",
    " \n",
    "                            # identifier les noms\n",
    "                            author_reference_name = _escape_value(author_reference)\n",
    "\n",
    "                            if onto.search(iri = \"*{}\".format(_escape_iri(author_reference))) != []:\n",
    "                                author_reference_name = onto.search(iri = \"*{}\".format(_escape_iri(author_reference)))[0]\n",
    "                                author_reference_name.quoted_in.append(instance_article)\n",
    "                            else :\n",
    "                                author_reference_name = ConnectedAuthor(_escape_iri(author_reference))\n",
    "                                author_reference_name.quoted_in = [instance_article]\n",
    "\n"
   ]
  },
  {
   "cell_type": "code",
   "execution_count": 74,
   "metadata": {},
   "outputs": [
    {
     "data": {
      "text/plain": [
       "[onto.2203_02700v1, onto.2203_01205v1, onto.2203_00938v1, onto.2203_00872v1]"
      ]
     },
     "execution_count": 74,
     "metadata": {},
     "output_type": "execute_result"
    }
   ],
   "source": [
    "author_reference = \"J__Comput\"\n",
    "interesting_author = onto.search(iri = \"*{}\".format(_escape_iri(author_reference)))[0]\n",
    "interesting_author.quoted_in"
   ]
  },
  {
   "cell_type": "code",
   "execution_count": 84,
   "metadata": {},
   "outputs": [
    {
     "name": "stderr",
     "output_type": "stream",
     "text": [
      "* Owlready2 * Running HermiT...\n",
      "    java -Xmx2000M -cp c:\\Users\\Maria\\Documents\\00-projets\\fil-rouge-master\\fil-rouge-master\\.venv\\lib\\site-packages\\owlready2\\hermit;c:\\Users\\Maria\\Documents\\00-projets\\fil-rouge-master\\fil-rouge-master\\.venv\\lib\\site-packages\\owlready2\\hermit\\HermiT.jar org.semanticweb.HermiT.cli.CommandLine -c -O -D -I file:///C:/Users/Maria/AppData/Local/Temp/tmpmta45dli\n",
      "* Owlready2 * HermiT took 2.669063091278076 seconds\n",
      "* Owlready * (NB: only changes on entities loaded in Python are shown, other changes are done but not listed)\n"
     ]
    }
   ],
   "source": [
    "sync_reasoner()"
   ]
  },
  {
   "cell_type": "code",
   "execution_count": 86,
   "metadata": {},
   "outputs": [],
   "source": [
    "onto.save(file = \"authors_relations.owl\")"
   ]
  },
  {
   "cell_type": "markdown",
   "metadata": {},
   "source": [
    "Créer les règles"
   ]
  },
  {
   "cell_type": "code",
   "execution_count": 77,
   "metadata": {},
   "outputs": [],
   "source": [
    "# Première règle : si un auteur a écrit un article et qu’un auteur cité est cité dans cet article, alors l’auteur cite l’auteur cité\n",
    "with onto :\n",
    "    rule = Imp()\n",
    "    rule.set_as_rule(\"\"\"wrote_Article(?r,?a), quoted_in(?c, ?r) -> quoted_Auteur(?a, ?c) \"\"\")"
   ]
  },
  {
   "cell_type": "code",
   "execution_count": 80,
   "metadata": {},
   "outputs": [],
   "source": [
    "# Calcul nombre d'auteurs qui cites\n",
    "\n",
    "for MonAuteur in Author.instances():\n",
    "    nombre_de_citations = 0\n",
    "\n",
    "    for citation in MonAuteur.quoted_in:\n",
    "\n",
    "        nombre_de_citations +=1\n",
    "\n",
    "    MonAuteur.has_number_citations=[nombre_de_citations]\n"
   ]
  },
  {
   "cell_type": "code",
   "execution_count": 81,
   "metadata": {},
   "outputs": [],
   "source": [
    "# Calcul nombre d'auteurs qui cites\n",
    "\n",
    "for Connected in ConnectedAuthor.instances():\n",
    "    nombre_de_citations = 0\n",
    "\n",
    "    for citation in Connected.quoted_in:\n",
    "\n",
    "        nombre_de_citations +=1\n",
    "\n",
    "    Connected.has_number_citations=[nombre_de_citations]\n",
    "\n",
    "\n",
    "        \n",
    "    "
   ]
  },
  {
   "cell_type": "code",
   "execution_count": 89,
   "metadata": {},
   "outputs": [],
   "source": [
    "# un auteur qui a une relation quoted_in est un ConnectedAuthor\n",
    "\n",
    "with onto :\n",
    "    rule = Imp()\n",
    "    rule.set_as_rule(\"\"\"Author(?a) , quoted_in(?a, ?r) -> ConnectedAuthor(?a)\"\"\")"
   ]
  },
  {
   "cell_type": "code",
   "execution_count": 92,
   "metadata": {},
   "outputs": [],
   "source": [
    "# Règle 2 : Connected Author qui est cité plus de 50 fois \n",
    "# (comptage de relations quoted_in pour ConnectedAuthor) \n",
    "# est un InterestingAuthor\n",
    "with onto :\n",
    "    rule = Imp()\n",
    "    rule.set_as_rule(\"\"\"ConnectedAuthor(?c) , has_number_citations(?c, ?x) , greaterThan(?x, 5) -> InterestingAuthor(?c)\"\"\")\n",
    "\n"
   ]
  },
  {
   "cell_type": "code",
   "execution_count": 93,
   "metadata": {},
   "outputs": [],
   "source": [
    "onto.save(file = \"authors_relations.owl\")"
   ]
  },
  {
   "cell_type": "markdown",
   "metadata": {},
   "source": [
    "Réinitialisation de l'ontologie"
   ]
  },
  {
   "cell_type": "code",
   "execution_count": 70,
   "metadata": {},
   "outputs": [],
   "source": [
    "# Case permet de réinitialiser les instances enregistrées\n",
    "for individual in Author.instances(): \n",
    "    destroy_entity(individual)\n",
    "\n",
    "for individual in ConnectedAuthor.instances(): \n",
    "    destroy_entity(individual)\n",
    "\n",
    "for individual in Article.instances(): \n",
    "    destroy_entity(individual)"
   ]
  },
  {
   "cell_type": "code",
   "execution_count": null,
   "metadata": {},
   "outputs": [],
   "source": []
  }
 ],
 "metadata": {
  "interpreter": {
   "hash": "b77770f66b54ee3b66e0336be670941170105acf4e3853567ca5709bd62588f7"
  },
  "kernelspec": {
   "display_name": "Python 3.10.4 ('.venv': venv)",
   "language": "python",
   "name": "python3"
  },
  "language_info": {
   "codemirror_mode": {
    "name": "ipython",
    "version": 3
   },
   "file_extension": ".py",
   "mimetype": "text/x-python",
   "name": "python",
   "nbconvert_exporter": "python",
   "pygments_lexer": "ipython3",
   "version": "3.10.4"
  },
  "orig_nbformat": 4
 },
 "nbformat": 4,
 "nbformat_minor": 2
}
